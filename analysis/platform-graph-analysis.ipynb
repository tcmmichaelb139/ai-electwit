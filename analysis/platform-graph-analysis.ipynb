{
 "cells": [
  {
   "cell_type": "markdown",
   "id": "959f6e20",
   "metadata": {},
   "source": [
    "# Election Simulation Analysis\n",
    "\n",
    "This notebook analyzes the results of the election simulation.\n"
   ]
  },
  {
   "cell_type": "code",
   "execution_count": 50,
   "id": "cf6018c0",
   "metadata": {},
   "outputs": [],
   "source": [
    "from utils import get_data, calculate_similarity\n",
    "\n",
    "# data = get_data(\"all_data\")\n",
    "# data = get_data(\"same_seed\")\n",
    "data = get_data(\"different_seed\")"
   ]
  },
  {
   "cell_type": "code",
   "execution_count": 51,
   "id": "eeb944df",
   "metadata": {},
   "outputs": [],
   "source": [
    "sim_data = data[1]  # data used to analayze"
   ]
  },
  {
   "cell_type": "code",
   "execution_count": 52,
   "id": "37d03852",
   "metadata": {},
   "outputs": [],
   "source": [
    "def get_voter_agents(data):\n",
    "    people = {}\n",
    "    for person in data[\"people_agents\"]:\n",
    "        people[person[\"name\"]] = person\n",
    "\n",
    "    return people\n",
    "\n",
    "\n",
    "def get_voter_names(data):\n",
    "    people = get_voter_agents(data)\n",
    "    return [person[\"name\"] for person in people.values()]\n",
    "\n",
    "\n",
    "def get_candidate_agents(data):\n",
    "    candidates = {}\n",
    "    for candidate in data[\"candidate_agents\"]:\n",
    "        candidates[candidate[\"name\"]] = candidate\n",
    "\n",
    "    return candidates\n",
    "\n",
    "\n",
    "def get_candidate_names(data, include_abstain=False):\n",
    "    candidates = get_candidate_agents(data)\n",
    "    candidate_names = [candidate[\"name\"] for candidate in candidates.values()]\n",
    "    if include_abstain:\n",
    "        return candidate_names + [\"ABSTAIN\"]\n",
    "    else:\n",
    "        return candidate_names\n",
    "\n",
    "\n",
    "def get_all_agents(data):\n",
    "    people = get_voter_agents(data)\n",
    "    candidates = get_candidate_agents(data)\n",
    "\n",
    "    agents = {**people, **candidates}\n",
    "\n",
    "    return agents"
   ]
  },
  {
   "cell_type": "code",
   "execution_count": 53,
   "id": "3d16d956",
   "metadata": {},
   "outputs": [],
   "source": [
    "from typing import List\n",
    "import pandas as pd\n",
    "\n",
    "# all data is from one simulation\n",
    "\n",
    "id_searching_name = []\n",
    "\n",
    "\n",
    "def initialize_id_searching_name(data):\n",
    "    ids = {}\n",
    "\n",
    "    def _recursive_comments(item):\n",
    "        ids[item[\"id\"]] = item[\"name\"]\n",
    "        for replies in item.get(\"replies\", []):\n",
    "            _recursive_comments(replies)\n",
    "\n",
    "    for posts in data[\"platform\"][\"platform\"]:\n",
    "        ids[posts[\"id\"]] = posts[\"name\"]\n",
    "        _recursive_comments(posts)\n",
    "\n",
    "    return ids\n",
    "\n",
    "\n",
    "def id_get_name(id_, ids_search_pool):\n",
    "    if id_ in ids_search_pool:\n",
    "        return ids_search_pool[id_]\n",
    "    else:\n",
    "        return None\n",
    "\n",
    "\n",
    "def get_all_actions_by_model(\n",
    "    data,\n",
    "    ids_search_pool,\n",
    "    include: List[str] = [\"people\", \"candidate\"],\n",
    "):  # people is just voters\n",
    "    all_actions = []\n",
    "\n",
    "    missed_ids = set()\n",
    "\n",
    "    for type_ in include:\n",
    "        for agent in data[f\"{type_}_agents\"]:\n",
    "            for actions in agent[\"all_posting_actions\"]:\n",
    "                hour = actions[\"hour\"]\n",
    "                day = actions[\"day\"]\n",
    "                for action in actions[\"actions\"]:\n",
    "                    if action[\"action\"] == \"POST\":\n",
    "                        continue\n",
    "\n",
    "                    action_on_id = id_get_name(action[\"id\"], ids_search_pool)\n",
    "\n",
    "                    if None == action_on_id:\n",
    "                        missed_ids.add(action[\"id\"])\n",
    "                        continue\n",
    "\n",
    "                    all_actions.append(\n",
    "                        {\n",
    "                            \"from\": agent[\"name\"],\n",
    "                            \"to\": action_on_id,\n",
    "                            \"action\": action[\"action\"],\n",
    "                            \"hour\": hour,\n",
    "                            \"day\": day,\n",
    "                        }\n",
    "                    )\n",
    "\n",
    "    print(f\"Missed IDs: {missed_ids}\")  # normal as models sometimes produced wrong ids\n",
    "\n",
    "    return all_actions"
   ]
  },
  {
   "cell_type": "code",
   "execution_count": 54,
   "id": "b71a86d0",
   "metadata": {},
   "outputs": [
    {
     "name": "stdout",
     "output_type": "stream",
     "text": [
      "Missed IDs: {'d81e7a068', '6f11b9048b', '68ef5c46', '9a594d6c72', 'ac4f95e20d5', 'f891c48dad', '9c648f094', 'be76f66d', '67088dda0', '6a39154c95', '21c945f7d1', 'a3f11d8d9d', '21d945f7d1', '27f32eddce', '8e690331ba', 'b7a80c1995', '73e8b4fd5b'}\n",
      "            from             to action  hour  day\n",
      "0  Mark Campbell   Jason Morgan  REPLY    10    1\n",
      "1  Mark Campbell  Ashley Guzman  REPLY    10    1\n",
      "2  Mark Campbell   Jimmy Morris  REPLY    12    1\n",
      "3  Mark Campbell   Sean Ferrell  REPLY    12    1\n",
      "4  Mark Campbell   Jason Morgan  REPLY    12    1\n",
      "Missed IDs: {'Christine Riley', 'Annette Johnson', '91c1e8e850', 'cc83a8cd3a', '1d151bdeb', 'cab710faf', 'fb56b6cd4b', '04d095bf7f', '6b0667f035', 'd45d87be04', '42214dda57', 'b7e816f54d', '38d4de0228', 'David Graves', 'a95089b4e8', '6a37d76792', '8312a31a22', '9d36c9dde2', 'Gregory Richard', 'fd31c10d2c', '9d886b81af', '99c05a05f6', 'fecc6c2b9f1'}\n",
      "        from               to action  hour  day\n",
      "0  Terry Cox       Shawn Park  REPLY    14    1\n",
      "1  Terry Cox    Edward Moreno  REPLY    14    1\n",
      "2  Terry Cox   Michael Graham  REPLY    14    1\n",
      "3  Terry Cox       Shawn Park   LIKE    14    1\n",
      "4  Terry Cox  Mitchell Garner   LIKE    14    1\n",
      "Missed IDs: {'8c32ea385', '64772756', '047e24362e', '19a6937a28', 'f5a98331e', '179ddd069b', '6e2758cbde', 'eddaacf6479', 'dcb7155326', '43c53ec463', '8a266cca9b', '10a288081a', '0c7b9d6665', 'db9c02eb9d', '64772b756', 'e9d1d55af2', 'f9d527bb3e', '7807a9f076', 'da4b4fa821', '7e6f49bcf', 'a851c31d3f', 'bd6258a525', '2862d3cee5', '38c26009a', 'a2b18a2771c'}\n",
      "            from                 to action  hour  day\n",
      "0  Andrew Wilson       Ryan Mullins  REPLY    10    1\n",
      "1  Andrew Wilson       Eileen Smith  REPLY    10    1\n",
      "2  Andrew Wilson      Larry Johnson   LIKE    10    1\n",
      "3  Andrew Wilson      Joyce Simpson  REPLY    11    1\n",
      "4  Andrew Wilson  Jennifer Cummings  REPLY    11    1\n",
      "Missed IDs: {'2d78363f96', '9e20826bb6', 'd53077e190', 'c34e2182e9', '9932974d8', '382c4be97c', '76e63a18a5', '30c205c036', 'c54b220bba', '8a6b6b2a947', 'e0ccdc71cd', 'f1c323c41x', '7e51478a50', 'bbd51eb', '747b3b4210a', 'e75e625542', '9e9dd93075', 'ea2a667112', 'e71f7545e7', '7e920f931c', '4ab72bdc0', '222bad909'}\n",
      "           from               to action  hour  day\n",
      "0  Mandy Nguyen     David Miller   LIKE    12    1\n",
      "1  Mandy Nguyen     David Miller   LIKE    12    1\n",
      "2  Mandy Nguyen      Haley Reyes   LIKE    12    1\n",
      "3  Mandy Nguyen  Danielle Brewer   LIKE    15    1\n",
      "4  Mandy Nguyen  Melinda Simpson   LIKE    15    1\n",
      "Missed IDs: {'48a52f1085', 'd3788c4731', 'b984711ca3', '422f356b10', '2cc8ae4a6b', 'b4836e7e1e', '190a67b790', '3a91af2826', 'f1c323cbdb', 'f0573cac2d2', '6d40d7b9f', 'Frances Mcbride (ID: 42b8216a53)', 'f1980138db', '64370e8b32', 'd8b292f61c', '3d4bc7b92', 'eaad3b3452', 'f1c3157a', '043d04692d', 'fcf13304e1', 'Mary Chapman (ID: 62af6c0738)', 'c12b1b18fc', '99c783387e', 'acc502a0', 'f1c323c41x', 'e82f6a3efd'}\n",
      "            from              to action  hour  day\n",
      "0  Lauren Vaughn  Ariel Campbell   LIKE    11    1\n",
      "1  Lauren Vaughn  Ariel Campbell   LIKE    11    1\n",
      "2  Lauren Vaughn    Julie Horton   LIKE    11    1\n",
      "3  Lauren Vaughn    Zachary Hart  REPLY    12    1\n",
      "4  Lauren Vaughn  Ariel Campbell   LIKE    12    1\n",
      "Missed IDs: {'64cc605a0', '3e82e817e5', '29a227adfd', 'c8a4156299', '6a327e614d', '19c421c56c', 'c12b1b18fc', '150bb75a5a', '82e478af88', '01876cbd', 'ebbbe82c8a', 'f1c323c41x', 'ca00c33cde', '18f7f1dd5f', 'a559ec975', '5f966f566f', 'f1ed44aca9'}\n",
      "          from              to action  hour  day\n",
      "0  Eric Austin    George Brown  REPLY    11    1\n",
      "1  Eric Austin    Rebecca Hall  REPLY    11    1\n",
      "2  Eric Austin     Justin Love  REPLY    11    1\n",
      "3  Eric Austin     Eric Austin   LIKE    11    1\n",
      "4  Eric Austin  William Obrien   LIKE    11    1\n"
     ]
    }
   ],
   "source": [
    "for sim_data in data:\n",
    "    id_searching_name.append(initialize_id_searching_name(sim_data))\n",
    "\n",
    "    actions = get_all_actions_by_model(sim_data, id_searching_name[-1])\n",
    "\n",
    "    # Convert to DataFrame for easier manipulation\n",
    "    actions_df = pd.DataFrame(actions)\n",
    "\n",
    "    # Display the DataFrame\n",
    "    print(actions_df.head())"
   ]
  },
  {
   "cell_type": "code",
   "execution_count": 55,
   "id": "f0b81faf",
   "metadata": {},
   "outputs": [
    {
     "name": "stdout",
     "output_type": "stream",
     "text": [
      "Missed IDs: {'64cc605a0', '3e82e817e5', '29a227adfd', 'c8a4156299', '6a327e614d', '19c421c56c', 'c12b1b18fc', '150bb75a5a', '82e478af88', '01876cbd', 'ebbbe82c8a', 'f1c323c41x', 'ca00c33cde', '18f7f1dd5f', 'a559ec975', '5f966f566f', 'f1ed44aca9'}\n",
      "Graph created with 18 nodes and 299 edges\n",
      "Total interactions: 6287\n"
     ]
    }
   ],
   "source": [
    "import networkx as nx\n",
    "import plotly.graph_objects as go\n",
    "import plotly.express as px\n",
    "from collections import defaultdict, Counter\n",
    "import matplotlib.cm as cm\n",
    "import matplotlib.colors as mcolors\n",
    "\n",
    "\n",
    "def create_interaction_graph(sim_data, sim_index=0):\n",
    "    \"\"\"Create a network graph showing interactions between agents.\"\"\"\n",
    "\n",
    "    all_agents = get_all_agents(sim_data)\n",
    "    voters = get_voter_agents(sim_data)\n",
    "\n",
    "    ids_search_pool = initialize_id_searching_name(sim_data)\n",
    "\n",
    "    actions = get_all_actions_by_model(sim_data, ids_search_pool)\n",
    "\n",
    "    G = nx.DiGraph()\n",
    "\n",
    "    for agent_name, agent_data in all_agents.items():\n",
    "        agent_type = \"voter\" if agent_name in voters else \"candidate\"\n",
    "        G.add_node(agent_name, type=agent_type, data=agent_data)\n",
    "\n",
    "    interaction_counts = defaultdict(int)\n",
    "\n",
    "    for action in actions:\n",
    "        from_agent = action[\"from\"]\n",
    "        to_agent = action[\"to\"]\n",
    "\n",
    "        if from_agent in all_agents and to_agent in all_agents:\n",
    "            interaction_counts[(from_agent, to_agent)] += 1\n",
    "\n",
    "    # Add edges to graph with weights\n",
    "    for (from_agent, to_agent), count in interaction_counts.items():\n",
    "        if G.has_edge(from_agent, to_agent):\n",
    "            G[from_agent][to_agent][\"weight\"] += count\n",
    "        else:\n",
    "            G.add_edge(from_agent, to_agent, weight=count)\n",
    "\n",
    "    # Calculate node sizes based on incoming interactions\n",
    "    incoming_counts = defaultdict(int)\n",
    "    outgoing_counts = defaultdict(int)\n",
    "\n",
    "    for from_agent, to_agent in interaction_counts.keys():\n",
    "        incoming_counts[to_agent] += interaction_counts[(from_agent, to_agent)]\n",
    "        outgoing_counts[from_agent] += interaction_counts[(from_agent, to_agent)]\n",
    "\n",
    "    for node in G.nodes():\n",
    "        G.nodes[node][\"incoming_count\"] = incoming_counts.get(node, 0)\n",
    "        G.nodes[node][\"outgoing_count\"] = outgoing_counts.get(node, 0)\n",
    "\n",
    "    return G, interaction_counts\n",
    "\n",
    "\n",
    "G, interaction_counts = create_interaction_graph(sim_data)\n",
    "print(f\"Graph created with {G.number_of_nodes()} nodes and {G.number_of_edges()} edges\")\n",
    "print(f\"Total interactions: {sum(interaction_counts.values())}\")"
   ]
  },
  {
   "cell_type": "code",
   "execution_count": 56,
   "id": "da4d30c6",
   "metadata": {},
   "outputs": [
    {
     "name": "stdout",
     "output_type": "stream",
     "text": [
      "Creating three separate network visualizations:\n",
      "1. REPLY interactions only\n",
      "2. LIKE interactions only\n",
      "3. COMBINED interactions (both replies and likes)\n",
      "\n",
      "============================================================\n",
      "SIMULATION 1 - NETWORK ANALYSIS\n",
      "============================================================\n",
      "Using consistent layout for 18 agents\n",
      "\n",
      "Reply Network:\n",
      "Missed IDs: {'64cc605a0', '3e82e817e5', '29a227adfd', 'c8a4156299', '6a327e614d', '19c421c56c', 'c12b1b18fc', '150bb75a5a', '82e478af88', '01876cbd', 'ebbbe82c8a', 'f1c323c41x', 'ca00c33cde', '18f7f1dd5f', 'a559ec975', '5f966f566f', 'f1ed44aca9'}\n",
      "  Nodes: 18, Edges: 254\n",
      "  Total interactions: 3234\n",
      "  Network density: 0.830\n",
      "  Is connected: True\n"
     ]
    },
    {
     "data": {
      "application/vnd.plotly.v1+json": {
       "config": {
        "plotlyServerURL": "https://plot.ly"
       },
       "data": [
        {
         "hovertemplate": "<b>Eric Austin → George Brown</b><br>Interactions: 6<br>Similarity: 0.319<extra></extra>",
         "line": {
          "color": "rgba(209, 229, 240, 0.7)",
          "width": 2
         },
         "mode": "lines",
         "showlegend": false,
         "type": "scatter",
         "x": [
          0.0679339182236547,
          -0.29233083356523126,
          null
         ],
         "y": [
          0.9961658653082643,
          0.9677886068772861,
          null
         ]
        },
        {
         "hovertemplate": "<b>Eric Austin → Rebecca Hall</b><br>Interactions: 32<br>Similarity: -0.211<extra></extra>",
         "line": {
          "color": "rgba(244, 165, 130, 0.7)",
          "width": 10
         },
         "mode": "lines",
         "showlegend": false,
         "type": "scatter",
         "x": [
          0.0679339182236547,
          -0.09244796540966069,
          null
         ],
         "y": [
          0.9961658653082643,
          -0.9736932525652702,
          null
         ]
        },
        {
         "hovertemplate": "<b>Eric Austin → Justin Love</b><br>Interactions: 12<br>Similarity: -0.675<extra></extra>",
         "line": {
          "color": "rgba(103, 0, 31, 0.7)",
          "width": 4
         },
         "mode": "lines",
         "showlegend": false,
         "type": "scatter",
         "x": [
          0.0679339182236547,
          0.941297126675412,
          null
         ],
         "y": [
          0.9961658653082643,
          0.4488265431389019,
          null
         ]
        },
        {
         "hovertemplate": "<b>Eric Austin → Jacqueline Clark</b><br>Interactions: 2<br>Similarity: 0.145<extra></extra>",
         "line": {
          "color": "rgba(253, 219, 199, 0.7)",
          "width": 1
         },
         "mode": "lines",
         "showlegend": false,
         "type": "scatter",
         "x": [
          0.0679339182236547,
          0.5826003125569416,
          null
         ],
         "y": [
          0.9961658653082643,
          -0.8331632910226803,
          null
         ]
        },
        {
         "hovertemplate": "<b>Eric Austin → Mary Figueroa</b><br>Interactions: 16<br>Similarity: 0.286<extra></extra>",
         "line": {
          "color": "rgba(209, 229, 240, 0.7)",
          "width": 5.333333333333333
         },
         "mode": "lines",
         "showlegend": false,
         "type": "scatter",
         "x": [
          0.0679339182236547,
          -0.9638361606138051,
          null
         ],
         "y": [
          0.9961658653082643,
          -0.07324778549173401,
          null
         ]
        },
        {
         "hovertemplate": "<b>Eric Austin → Heather Ward</b><br>Interactions: 6<br>Similarity: 0.293<extra></extra>",
         "line": {
          "color": "rgba(209, 229, 240, 0.7)",
          "width": 2
         },
         "mode": "lines",
         "showlegend": false,
         "type": "scatter",
         "x": [
          0.0679339182236547,
          0.6859450045720663,
          null
         ],
         "y": [
          0.9961658653082643,
          0.6869475070736885,
          null
         ]
        },
        {
         "hovertemplate": "<b>Eric Austin → Andrew Vang</b><br>Interactions: 3<br>Similarity: -0.299<extra></extra>",
         "line": {
          "color": "rgba(214, 96, 77, 0.7)",
          "width": 1
         },
         "mode": "lines",
         "showlegend": false,
         "type": "scatter",
         "x": [
          0.0679339182236547,
          -0.44152715747871657,
          null
         ],
         "y": [
          0.9961658653082643,
          -0.9176520610391299,
          null
         ]
        },
        {
         "hovertemplate": "<b>Eric Austin → Matthew Odom</b><br>Interactions: 3<br>Similarity: 0.298<extra></extra>",
         "line": {
          "color": "rgba(209, 229, 240, 0.7)",
          "width": 1
         },
         "mode": "lines",
         "showlegend": false,
         "type": "scatter",
         "x": [
          0.0679339182236547,
          0.9317906794991804,
          null
         ],
         "y": [
          0.9961658653082643,
          -0.24878282567207277,
          null
         ]
        },
        {
         "hovertemplate": "<b>Eric Austin → William Murphy</b><br>Interactions: 12<br>Similarity: -0.039<extra></extra>",
         "line": {
          "color": "rgba(244, 165, 130, 0.7)",
          "width": 4
         },
         "mode": "lines",
         "showlegend": false,
         "type": "scatter",
         "x": [
          0.0679339182236547,
          0.3989395953966282,
          null
         ],
         "y": [
          0.9961658653082643,
          0.8806421641799811,
          null
         ]
        },
        {
         "hovertemplate": "<b>Eric Austin → Jennifer Thomas</b><br>Interactions: 12<br>Similarity: -0.256<extra></extra>",
         "line": {
          "color": "rgba(214, 96, 77, 0.7)",
          "width": 4
         },
         "mode": "lines",
         "showlegend": false,
         "type": "scatter",
         "x": [
          0.0679339182236547,
          -0.8998730555186966,
          null
         ],
         "y": [
          0.9961658653082643,
          -0.41342708840603015,
          null
         ]
        },
        {
         "hovertemplate": "<b>Eric Austin → William Obrien</b><br>Interactions: 4<br>Similarity: -0.432<extra></extra>",
         "line": {
          "color": "rgba(178, 24, 43, 0.7)",
          "width": 1.3333333333333333
         },
         "mode": "lines",
         "showlegend": false,
         "type": "scatter",
         "x": [
          0.0679339182236547,
          0.8501807977005968,
          null
         ],
         "y": [
          0.9961658653082643,
          -0.5807629751799296,
          null
         ]
        },
        {
         "hovertemplate": "<b>Eric Austin → Lynn Spencer</b><br>Interactions: 8<br>Similarity: -0.321<extra></extra>",
         "line": {
          "color": "rgba(214, 96, 77, 0.7)",
          "width": 2.6666666666666665
         },
         "mode": "lines",
         "showlegend": false,
         "type": "scatter",
         "x": [
          0.0679339182236547,
          0.9849319565143412,
          null
         ],
         "y": [
          0.9961658653082643,
          0.09213560621422415,
          null
         ]
        },
        {
         "hovertemplate": "<b>Eric Austin → Eric Austin</b><br>Interactions: 5<br>Similarity: 1.000<extra></extra>",
         "line": {
          "color": "rgba(5, 48, 97, 0.7)",
          "width": 1.6666666666666667
         },
         "mode": "lines",
         "showlegend": false,
         "type": "scatter",
         "x": [
          0.0679339182236547,
          0.0679339182236547,
          null
         ],
         "y": [
          0.9961658653082643,
          0.9961658653082643,
          null
         ]
        },
        {
         "hovertemplate": "<b>Eric Austin → Patrick Williams</b><br>Interactions: 4<br>Similarity: 0.352<extra></extra>",
         "line": {
          "color": "rgba(209, 229, 240, 0.7)",
          "width": 1.3333333333333333
         },
         "mode": "lines",
         "showlegend": false,
         "type": "scatter",
         "x": [
          0.0679339182236547,
          0.2561361615289968,
          null
         ],
         "y": [
          0.9961658653082643,
          -1,
          null
         ]
        },
        {
         "hovertemplate": "<b>Eric Austin → Julie Francis</b><br>Interactions: 12<br>Similarity: -0.155<extra></extra>",
         "line": {
          "color": "rgba(244, 165, 130, 0.7)",
          "width": 4
         },
         "mode": "lines",
         "showlegend": false,
         "type": "scatter",
         "x": [
          0.0679339182236547,
          -0.5361147761514105,
          null
         ],
         "y": [
          0.9961658653082643,
          0.7536928474138247,
          null
         ]
        },
        {
         "hovertemplate": "<b>Eric Austin → Cole Hunter</b><br>Interactions: 4<br>Similarity: -0.211<extra></extra>",
         "line": {
          "color": "rgba(244, 165, 130, 0.7)",
          "width": 1.3333333333333333
         },
         "mode": "lines",
         "showlegend": false,
         "type": "scatter",
         "x": [
          0.0679339182236547,
          -0.6854988190417277,
          null
         ],
         "y": [
          0.9961658653082643,
          -0.6797312320517651,
          null
         ]
        },
        {
         "hovertemplate": "<b>Eric Austin → Daniel Gordon</b><br>Interactions: 2<br>Similarity: 0.405<extra></extra>",
         "line": {
          "color": "rgba(146, 197, 222, 0.7)",
          "width": 1
         },
         "mode": "lines",
         "showlegend": false,
         "type": "scatter",
         "x": [
          0.0679339182236547,
          -0.9632478875329431,
          null
         ],
         "y": [
          0.9961658653082643,
          0.2760289180058474,
          null
         ]
        },
        {
         "hovertemplate": "<b>Lynn Spencer → Rebecca Hall</b><br>Interactions: 26<br>Similarity: 0.291<extra></extra>",
         "line": {
          "color": "rgba(209, 229, 240, 0.7)",
          "width": 8.666666666666666
         },
         "mode": "lines",
         "showlegend": false,
         "type": "scatter",
         "x": [
          0.9849319565143412,
          -0.09244796540966069,
          null
         ],
         "y": [
          0.09213560621422415,
          -0.9736932525652702,
          null
         ]
        },
        {
         "hovertemplate": "<b>Lynn Spencer → William Murphy</b><br>Interactions: 14<br>Similarity: 0.183<extra></extra>",
         "line": {
          "color": "rgba(253, 219, 199, 0.7)",
          "width": 4.666666666666667
         },
         "mode": "lines",
         "showlegend": false,
         "type": "scatter",
         "x": [
          0.9849319565143412,
          0.3989395953966282,
          null
         ],
         "y": [
          0.09213560621422415,
          0.8806421641799811,
          null
         ]
        },
        {
         "hovertemplate": "<b>Lynn Spencer → Justin Love</b><br>Interactions: 28<br>Similarity: -0.115<extra></extra>",
         "line": {
          "color": "rgba(244, 165, 130, 0.7)",
          "width": 9.333333333333334
         },
         "mode": "lines",
         "showlegend": false,
         "type": "scatter",
         "x": [
          0.9849319565143412,
          0.941297126675412,
          null
         ],
         "y": [
          0.09213560621422415,
          0.4488265431389019,
          null
         ]
        },
        {
         "hovertemplate": "<b>Lynn Spencer → Patrick Williams</b><br>Interactions: 1<br>Similarity: -0.066<extra></extra>",
         "line": {
          "color": "rgba(244, 165, 130, 0.7)",
          "width": 1
         },
         "mode": "lines",
         "showlegend": false,
         "type": "scatter",
         "x": [
          0.9849319565143412,
          0.2561361615289968,
          null
         ],
         "y": [
          0.09213560621422415,
          -1,
          null
         ]
        },
        {
         "hovertemplate": "<b>Lynn Spencer → George Brown</b><br>Interactions: 19<br>Similarity: 0.427<extra></extra>",
         "line": {
          "color": "rgba(146, 197, 222, 0.7)",
          "width": 6.333333333333333
         },
         "mode": "lines",
         "showlegend": false,
         "type": "scatter",
         "x": [
          0.9849319565143412,
          -0.29233083356523126,
          null
         ],
         "y": [
          0.09213560621422415,
          0.9677886068772861,
          null
         ]
        },
        {
         "hovertemplate": "<b>Lynn Spencer → Jacqueline Clark</b><br>Interactions: 4<br>Similarity: -0.102<extra></extra>",
         "line": {
          "color": "rgba(244, 165, 130, 0.7)",
          "width": 1.3333333333333333
         },
         "mode": "lines",
         "showlegend": false,
         "type": "scatter",
         "x": [
          0.9849319565143412,
          0.5826003125569416,
          null
         ],
         "y": [
          0.09213560621422415,
          -0.8331632910226803,
          null
         ]
        },
        {
         "hovertemplate": "<b>Lynn Spencer → Mary Figueroa</b><br>Interactions: 5<br>Similarity: -0.634<extra></extra>",
         "line": {
          "color": "rgba(103, 0, 31, 0.7)",
          "width": 1.6666666666666667
         },
         "mode": "lines",
         "showlegend": false,
         "type": "scatter",
         "x": [
          0.9849319565143412,
          -0.9638361606138051,
          null
         ],
         "y": [
          0.09213560621422415,
          -0.07324778549173401,
          null
         ]
        },
        {
         "hovertemplate": "<b>Lynn Spencer → Daniel Gordon</b><br>Interactions: 1<br>Similarity: -0.388<extra></extra>",
         "line": {
          "color": "rgba(214, 96, 77, 0.7)",
          "width": 1
         },
         "mode": "lines",
         "showlegend": false,
         "type": "scatter",
         "x": [
          0.9849319565143412,
          -0.9632478875329431,
          null
         ],
         "y": [
          0.09213560621422415,
          0.2760289180058474,
          null
         ]
        },
        {
         "hovertemplate": "<b>Lynn Spencer → Eric Austin</b><br>Interactions: 5<br>Similarity: -0.321<extra></extra>",
         "line": {
          "color": "rgba(214, 96, 77, 0.7)",
          "width": 1.6666666666666667
         },
         "mode": "lines",
         "showlegend": false,
         "type": "scatter",
         "x": [
          0.9849319565143412,
          0.0679339182236547,
          null
         ],
         "y": [
          0.09213560621422415,
          0.9961658653082643,
          null
         ]
        },
        {
         "hovertemplate": "<b>Lynn Spencer → Lynn Spencer</b><br>Interactions: 7<br>Similarity: 1.000<extra></extra>",
         "line": {
          "color": "rgba(33, 102, 172, 0.7)",
          "width": 2.3333333333333335
         },
         "mode": "lines",
         "showlegend": false,
         "type": "scatter",
         "x": [
          0.9849319565143412,
          0.9849319565143412,
          null
         ],
         "y": [
          0.09213560621422415,
          0.09213560621422415,
          null
         ]
        },
        {
         "hovertemplate": "<b>Lynn Spencer → William Obrien</b><br>Interactions: 3<br>Similarity: 0.032<extra></extra>",
         "line": {
          "color": "rgba(253, 219, 199, 0.7)",
          "width": 1
         },
         "mode": "lines",
         "showlegend": false,
         "type": "scatter",
         "x": [
          0.9849319565143412,
          0.8501807977005968,
          null
         ],
         "y": [
          0.09213560621422415,
          -0.5807629751799296,
          null
         ]
        },
        {
         "hovertemplate": "<b>Lynn Spencer → Jennifer Thomas</b><br>Interactions: 4<br>Similarity: -0.153<extra></extra>",
         "line": {
          "color": "rgba(244, 165, 130, 0.7)",
          "width": 1.3333333333333333
         },
         "mode": "lines",
         "showlegend": false,
         "type": "scatter",
         "x": [
          0.9849319565143412,
          -0.8998730555186966,
          null
         ],
         "y": [
          0.09213560621422415,
          -0.41342708840603015,
          null
         ]
        },
        {
         "hovertemplate": "<b>Lynn Spencer → Julie Francis</b><br>Interactions: 7<br>Similarity: 0.075<extra></extra>",
         "line": {
          "color": "rgba(253, 219, 199, 0.7)",
          "width": 2.3333333333333335
         },
         "mode": "lines",
         "showlegend": false,
         "type": "scatter",
         "x": [
          0.9849319565143412,
          -0.5361147761514105,
          null
         ],
         "y": [
          0.09213560621422415,
          0.7536928474138247,
          null
         ]
        },
        {
         "hovertemplate": "<b>Lynn Spencer → Andrew Vang</b><br>Interactions: 4<br>Similarity: -0.031<extra></extra>",
         "line": {
          "color": "rgba(244, 165, 130, 0.7)",
          "width": 1.3333333333333333
         },
         "mode": "lines",
         "showlegend": false,
         "type": "scatter",
         "x": [
          0.9849319565143412,
          -0.44152715747871657,
          null
         ],
         "y": [
          0.09213560621422415,
          -0.9176520610391299,
          null
         ]
        },
        {
         "hovertemplate": "<b>Lynn Spencer → Cole Hunter</b><br>Interactions: 1<br>Similarity: -0.059<extra></extra>",
         "line": {
          "color": "rgba(244, 165, 130, 0.7)",
          "width": 1
         },
         "mode": "lines",
         "showlegend": false,
         "type": "scatter",
         "x": [
          0.9849319565143412,
          -0.6854988190417277,
          null
         ],
         "y": [
          0.09213560621422415,
          -0.6797312320517651,
          null
         ]
        },
        {
         "hovertemplate": "<b>Andrew Vang → Andrew Vang</b><br>Interactions: 2<br>Similarity: 1.000<extra></extra>",
         "line": {
          "color": "rgba(33, 102, 172, 0.7)",
          "width": 1
         },
         "mode": "lines",
         "showlegend": false,
         "type": "scatter",
         "x": [
          -0.44152715747871657,
          -0.44152715747871657,
          null
         ],
         "y": [
          -0.9176520610391299,
          -0.9176520610391299,
          null
         ]
        },
        {
         "hovertemplate": "<b>Andrew Vang → William Obrien</b><br>Interactions: 19<br>Similarity: -0.124<extra></extra>",
         "line": {
          "color": "rgba(244, 165, 130, 0.7)",
          "width": 6.333333333333333
         },
         "mode": "lines",
         "showlegend": false,
         "type": "scatter",
         "x": [
          -0.44152715747871657,
          0.8501807977005968,
          null
         ],
         "y": [
          -0.9176520610391299,
          -0.5807629751799296,
          null
         ]
        },
        {
         "hovertemplate": "<b>Andrew Vang → George Brown</b><br>Interactions: 90<br>Similarity: 0.028<extra></extra>",
         "line": {
          "color": "rgba(253, 219, 199, 0.7)",
          "width": 10
         },
         "mode": "lines",
         "showlegend": false,
         "type": "scatter",
         "x": [
          -0.44152715747871657,
          -0.29233083356523126,
          null
         ],
         "y": [
          -0.9176520610391299,
          0.9677886068772861,
          null
         ]
        },
        {
         "hovertemplate": "<b>Andrew Vang → Justin Love</b><br>Interactions: 44<br>Similarity: 0.169<extra></extra>",
         "line": {
          "color": "rgba(253, 219, 199, 0.7)",
          "width": 10
         },
         "mode": "lines",
         "showlegend": false,
         "type": "scatter",
         "x": [
          -0.44152715747871657,
          0.941297126675412,
          null
         ],
         "y": [
          -0.9176520610391299,
          0.4488265431389019,
          null
         ]
        },
        {
         "hovertemplate": "<b>Andrew Vang → Mary Figueroa</b><br>Interactions: 11<br>Similarity: 0.063<extra></extra>",
         "line": {
          "color": "rgba(253, 219, 199, 0.7)",
          "width": 3.6666666666666665
         },
         "mode": "lines",
         "showlegend": false,
         "type": "scatter",
         "x": [
          -0.44152715747871657,
          -0.9638361606138051,
          null
         ],
         "y": [
          -0.9176520610391299,
          -0.07324778549173401,
          null
         ]
        },
        {
         "hovertemplate": "<b>Andrew Vang → Eric Austin</b><br>Interactions: 12<br>Similarity: -0.299<extra></extra>",
         "line": {
          "color": "rgba(214, 96, 77, 0.7)",
          "width": 4
         },
         "mode": "lines",
         "showlegend": false,
         "type": "scatter",
         "x": [
          -0.44152715747871657,
          0.0679339182236547,
          null
         ],
         "y": [
          -0.9176520610391299,
          0.9961658653082643,
          null
         ]
        },
        {
         "hovertemplate": "<b>Andrew Vang → Julie Francis</b><br>Interactions: 24<br>Similarity: -0.341<extra></extra>",
         "line": {
          "color": "rgba(214, 96, 77, 0.7)",
          "width": 8
         },
         "mode": "lines",
         "showlegend": false,
         "type": "scatter",
         "x": [
          -0.44152715747871657,
          -0.5361147761514105,
          null
         ],
         "y": [
          -0.9176520610391299,
          0.7536928474138247,
          null
         ]
        },
        {
         "hovertemplate": "<b>Andrew Vang → Daniel Gordon</b><br>Interactions: 5<br>Similarity: -0.132<extra></extra>",
         "line": {
          "color": "rgba(244, 165, 130, 0.7)",
          "width": 1.6666666666666667
         },
         "mode": "lines",
         "showlegend": false,
         "type": "scatter",
         "x": [
          -0.44152715747871657,
          -0.9632478875329431,
          null
         ],
         "y": [
          -0.9176520610391299,
          0.2760289180058474,
          null
         ]
        },
        {
         "hovertemplate": "<b>Andrew Vang → Rebecca Hall</b><br>Interactions: 18<br>Similarity: 0.211<extra></extra>",
         "line": {
          "color": "rgba(209, 229, 240, 0.7)",
          "width": 6
         },
         "mode": "lines",
         "showlegend": false,
         "type": "scatter",
         "x": [
          -0.44152715747871657,
          -0.09244796540966069,
          null
         ],
         "y": [
          -0.9176520610391299,
          -0.9736932525652702,
          null
         ]
        },
        {
         "hovertemplate": "<b>Andrew Vang → Jacqueline Clark</b><br>Interactions: 4<br>Similarity: 0.115<extra></extra>",
         "line": {
          "color": "rgba(253, 219, 199, 0.7)",
          "width": 1.3333333333333333
         },
         "mode": "lines",
         "showlegend": false,
         "type": "scatter",
         "x": [
          -0.44152715747871657,
          0.5826003125569416,
          null
         ],
         "y": [
          -0.9176520610391299,
          -0.8331632910226803,
          null
         ]
        },
        {
         "hovertemplate": "<b>Andrew Vang → Matthew Odom</b><br>Interactions: 17<br>Similarity: 0.008<extra></extra>",
         "line": {
          "color": "rgba(253, 219, 199, 0.7)",
          "width": 5.666666666666667
         },
         "mode": "lines",
         "showlegend": false,
         "type": "scatter",
         "x": [
          -0.44152715747871657,
          0.9317906794991804,
          null
         ],
         "y": [
          -0.9176520610391299,
          -0.24878282567207277,
          null
         ]
        },
        {
         "hovertemplate": "<b>Andrew Vang → Patrick Williams</b><br>Interactions: 6<br>Similarity: 0.126<extra></extra>",
         "line": {
          "color": "rgba(253, 219, 199, 0.7)",
          "width": 2
         },
         "mode": "lines",
         "showlegend": false,
         "type": "scatter",
         "x": [
          -0.44152715747871657,
          0.2561361615289968,
          null
         ],
         "y": [
          -0.9176520610391299,
          -1,
          null
         ]
        },
        {
         "hovertemplate": "<b>Andrew Vang → Jason Day</b><br>Interactions: 2<br>Similarity: -0.203<extra></extra>",
         "line": {
          "color": "rgba(244, 165, 130, 0.7)",
          "width": 1
         },
         "mode": "lines",
         "showlegend": false,
         "type": "scatter",
         "x": [
          -0.44152715747871657,
          -0.8248788973556259,
          null
         ],
         "y": [
          -0.9176520610391299,
          0.6182324532165933,
          null
         ]
        },
        {
         "hovertemplate": "<b>Andrew Vang → Cole Hunter</b><br>Interactions: 6<br>Similarity: 0.432<extra></extra>",
         "line": {
          "color": "rgba(146, 197, 222, 0.7)",
          "width": 2
         },
         "mode": "lines",
         "showlegend": false,
         "type": "scatter",
         "x": [
          -0.44152715747871657,
          -0.6854988190417277,
          null
         ],
         "y": [
          -0.9176520610391299,
          -0.6797312320517651,
          null
         ]
        },
        {
         "hovertemplate": "<b>Andrew Vang → Jennifer Thomas</b><br>Interactions: 5<br>Similarity: 0.181<extra></extra>",
         "line": {
          "color": "rgba(253, 219, 199, 0.7)",
          "width": 1.6666666666666667
         },
         "mode": "lines",
         "showlegend": false,
         "type": "scatter",
         "x": [
          -0.44152715747871657,
          -0.8998730555186966,
          null
         ],
         "y": [
          -0.9176520610391299,
          -0.41342708840603015,
          null
         ]
        },
        {
         "hovertemplate": "<b>Andrew Vang → William Murphy</b><br>Interactions: 7<br>Similarity: 0.104<extra></extra>",
         "line": {
          "color": "rgba(253, 219, 199, 0.7)",
          "width": 2.3333333333333335
         },
         "mode": "lines",
         "showlegend": false,
         "type": "scatter",
         "x": [
          -0.44152715747871657,
          0.3989395953966282,
          null
         ],
         "y": [
          -0.9176520610391299,
          0.8806421641799811,
          null
         ]
        },
        {
         "hovertemplate": "<b>Andrew Vang → Lynn Spencer</b><br>Interactions: 1<br>Similarity: -0.031<extra></extra>",
         "line": {
          "color": "rgba(244, 165, 130, 0.7)",
          "width": 1
         },
         "mode": "lines",
         "showlegend": false,
         "type": "scatter",
         "x": [
          -0.44152715747871657,
          0.9849319565143412,
          null
         ],
         "y": [
          -0.9176520610391299,
          0.09213560621422415,
          null
         ]
        },
        {
         "hovertemplate": "<b>Andrew Vang → Heather Ward</b><br>Interactions: 2<br>Similarity: -0.015<extra></extra>",
         "line": {
          "color": "rgba(244, 165, 130, 0.7)",
          "width": 1
         },
         "mode": "lines",
         "showlegend": false,
         "type": "scatter",
         "x": [
          -0.44152715747871657,
          0.6859450045720663,
          null
         ],
         "y": [
          -0.9176520610391299,
          0.6869475070736885,
          null
         ]
        },
        {
         "hovertemplate": "<b>Daniel Gordon → Andrew Vang</b><br>Interactions: 3<br>Similarity: -0.132<extra></extra>",
         "line": {
          "color": "rgba(244, 165, 130, 0.7)",
          "width": 1
         },
         "mode": "lines",
         "showlegend": false,
         "type": "scatter",
         "x": [
          -0.9632478875329431,
          -0.44152715747871657,
          null
         ],
         "y": [
          0.2760289180058474,
          -0.9176520610391299,
          null
         ]
        },
        {
         "hovertemplate": "<b>Daniel Gordon → Matthew Odom</b><br>Interactions: 14<br>Similarity: -0.523<extra></extra>",
         "line": {
          "color": "rgba(178, 24, 43, 0.7)",
          "width": 4.666666666666667
         },
         "mode": "lines",
         "showlegend": false,
         "type": "scatter",
         "x": [
          -0.9632478875329431,
          0.9317906794991804,
          null
         ],
         "y": [
          0.2760289180058474,
          -0.24878282567207277,
          null
         ]
        },
        {
         "hovertemplate": "<b>Daniel Gordon → Eric Austin</b><br>Interactions: 12<br>Similarity: 0.405<extra></extra>",
         "line": {
          "color": "rgba(146, 197, 222, 0.7)",
          "width": 4
         },
         "mode": "lines",
         "showlegend": false,
         "type": "scatter",
         "x": [
          -0.9632478875329431,
          0.0679339182236547,
          null
         ],
         "y": [
          0.2760289180058474,
          0.9961658653082643,
          null
         ]
        },
        {
         "hovertemplate": "<b>Daniel Gordon → William Murphy</b><br>Interactions: 4<br>Similarity: 0.010<extra></extra>",
         "line": {
          "color": "rgba(253, 219, 199, 0.7)",
          "width": 1.3333333333333333
         },
         "mode": "lines",
         "showlegend": false,
         "type": "scatter",
         "x": [
          -0.9632478875329431,
          0.3989395953966282,
          null
         ],
         "y": [
          0.2760289180058474,
          0.8806421641799811,
          null
         ]
        },
        {
         "hovertemplate": "<b>Daniel Gordon → Rebecca Hall</b><br>Interactions: 9<br>Similarity: 0.256<extra></extra>",
         "line": {
          "color": "rgba(209, 229, 240, 0.7)",
          "width": 3
         },
         "mode": "lines",
         "showlegend": false,
         "type": "scatter",
         "x": [
          -0.9632478875329431,
          -0.09244796540966069,
          null
         ],
         "y": [
          0.2760289180058474,
          -0.9736932525652702,
          null
         ]
        },
        {
         "hovertemplate": "<b>Daniel Gordon → Cole Hunter</b><br>Interactions: 3<br>Similarity: 0.225<extra></extra>",
         "line": {
          "color": "rgba(209, 229, 240, 0.7)",
          "width": 1
         },
         "mode": "lines",
         "showlegend": false,
         "type": "scatter",
         "x": [
          -0.9632478875329431,
          -0.6854988190417277,
          null
         ],
         "y": [
          0.2760289180058474,
          -0.6797312320517651,
          null
         ]
        },
        {
         "hovertemplate": "<b>Daniel Gordon → Mary Figueroa</b><br>Interactions: 4<br>Similarity: 0.536<extra></extra>",
         "line": {
          "color": "rgba(146, 197, 222, 0.7)",
          "width": 1.3333333333333333
         },
         "mode": "lines",
         "showlegend": false,
         "type": "scatter",
         "x": [
          -0.9632478875329431,
          -0.9638361606138051,
          null
         ],
         "y": [
          0.2760289180058474,
          -0.07324778549173401,
          null
         ]
        },
        {
         "hovertemplate": "<b>Daniel Gordon → Justin Love</b><br>Interactions: 46<br>Similarity: -0.026<extra></extra>",
         "line": {
          "color": "rgba(244, 165, 130, 0.7)",
          "width": 10
         },
         "mode": "lines",
         "showlegend": false,
         "type": "scatter",
         "x": [
          -0.9632478875329431,
          0.941297126675412,
          null
         ],
         "y": [
          0.2760289180058474,
          0.4488265431389019,
          null
         ]
        },
        {
         "hovertemplate": "<b>Daniel Gordon → George Brown</b><br>Interactions: 67<br>Similarity: -0.092<extra></extra>",
         "line": {
          "color": "rgba(244, 165, 130, 0.7)",
          "width": 10
         },
         "mode": "lines",
         "showlegend": false,
         "type": "scatter",
         "x": [
          -0.9632478875329431,
          -0.29233083356523126,
          null
         ],
         "y": [
          0.2760289180058474,
          0.9677886068772861,
          null
         ]
        },
        {
         "hovertemplate": "<b>Daniel Gordon → William Obrien</b><br>Interactions: 9<br>Similarity: -0.223<extra></extra>",
         "line": {
          "color": "rgba(214, 96, 77, 0.7)",
          "width": 3
         },
         "mode": "lines",
         "showlegend": false,
         "type": "scatter",
         "x": [
          -0.9632478875329431,
          0.8501807977005968,
          null
         ],
         "y": [
          0.2760289180058474,
          -0.5807629751799296,
          null
         ]
        },
        {
         "hovertemplate": "<b>Daniel Gordon → Jason Day</b><br>Interactions: 5<br>Similarity: 0.482<extra></extra>",
         "line": {
          "color": "rgba(146, 197, 222, 0.7)",
          "width": 1.6666666666666667
         },
         "mode": "lines",
         "showlegend": false,
         "type": "scatter",
         "x": [
          -0.9632478875329431,
          -0.8248788973556259,
          null
         ],
         "y": [
          0.2760289180058474,
          0.6182324532165933,
          null
         ]
        },
        {
         "hovertemplate": "<b>Daniel Gordon → Jacqueline Clark</b><br>Interactions: 4<br>Similarity: 0.088<extra></extra>",
         "line": {
          "color": "rgba(253, 219, 199, 0.7)",
          "width": 1.3333333333333333
         },
         "mode": "lines",
         "showlegend": false,
         "type": "scatter",
         "x": [
          -0.9632478875329431,
          0.5826003125569416,
          null
         ],
         "y": [
          0.2760289180058474,
          -0.8331632910226803,
          null
         ]
        },
        {
         "hovertemplate": "<b>Daniel Gordon → Patrick Williams</b><br>Interactions: 6<br>Similarity: -0.346<extra></extra>",
         "line": {
          "color": "rgba(214, 96, 77, 0.7)",
          "width": 2
         },
         "mode": "lines",
         "showlegend": false,
         "type": "scatter",
         "x": [
          -0.9632478875329431,
          0.2561361615289968,
          null
         ],
         "y": [
          0.2760289180058474,
          -1,
          null
         ]
        },
        {
         "hovertemplate": "<b>Daniel Gordon → Jennifer Thomas</b><br>Interactions: 2<br>Similarity: 0.087<extra></extra>",
         "line": {
          "color": "rgba(253, 219, 199, 0.7)",
          "width": 1
         },
         "mode": "lines",
         "showlegend": false,
         "type": "scatter",
         "x": [
          -0.9632478875329431,
          -0.8998730555186966,
          null
         ],
         "y": [
          0.2760289180058474,
          -0.41342708840603015,
          null
         ]
        },
        {
         "hovertemplate": "<b>Daniel Gordon → Lynn Spencer</b><br>Interactions: 5<br>Similarity: -0.388<extra></extra>",
         "line": {
          "color": "rgba(214, 96, 77, 0.7)",
          "width": 1.6666666666666667
         },
         "mode": "lines",
         "showlegend": false,
         "type": "scatter",
         "x": [
          -0.9632478875329431,
          0.9849319565143412,
          null
         ],
         "y": [
          0.2760289180058474,
          0.09213560621422415,
          null
         ]
        },
        {
         "hovertemplate": "<b>Daniel Gordon → Heather Ward</b><br>Interactions: 2<br>Similarity: -0.251<extra></extra>",
         "line": {
          "color": "rgba(214, 96, 77, 0.7)",
          "width": 1
         },
         "mode": "lines",
         "showlegend": false,
         "type": "scatter",
         "x": [
          -0.9632478875329431,
          0.6859450045720663,
          null
         ],
         "y": [
          0.2760289180058474,
          0.6869475070736885,
          null
         ]
        },
        {
         "hovertemplate": "<b>Daniel Gordon → Julie Francis</b><br>Interactions: 8<br>Similarity: 0.320<extra></extra>",
         "line": {
          "color": "rgba(209, 229, 240, 0.7)",
          "width": 2.6666666666666665
         },
         "mode": "lines",
         "showlegend": false,
         "type": "scatter",
         "x": [
          -0.9632478875329431,
          -0.5361147761514105,
          null
         ],
         "y": [
          0.2760289180058474,
          0.7536928474138247,
          null
         ]
        },
        {
         "hovertemplate": "<b>Heather Ward → Eric Austin</b><br>Interactions: 10<br>Similarity: 0.293<extra></extra>",
         "line": {
          "color": "rgba(209, 229, 240, 0.7)",
          "width": 3.3333333333333335
         },
         "mode": "lines",
         "showlegend": false,
         "type": "scatter",
         "x": [
          0.6859450045720663,
          0.0679339182236547,
          null
         ],
         "y": [
          0.6869475070736885,
          0.9961658653082643,
          null
         ]
        },
        {
         "hovertemplate": "<b>Heather Ward → Cole Hunter</b><br>Interactions: 4<br>Similarity: -0.390<extra></extra>",
         "line": {
          "color": "rgba(214, 96, 77, 0.7)",
          "width": 1.3333333333333333
         },
         "mode": "lines",
         "showlegend": false,
         "type": "scatter",
         "x": [
          0.6859450045720663,
          -0.6854988190417277,
          null
         ],
         "y": [
          0.6869475070736885,
          -0.6797312320517651,
          null
         ]
        },
        {
         "hovertemplate": "<b>Heather Ward → Jason Day</b><br>Interactions: 2<br>Similarity: -0.338<extra></extra>",
         "line": {
          "color": "rgba(214, 96, 77, 0.7)",
          "width": 1
         },
         "mode": "lines",
         "showlegend": false,
         "type": "scatter",
         "x": [
          0.6859450045720663,
          -0.8248788973556259,
          null
         ],
         "y": [
          0.6869475070736885,
          0.6182324532165933,
          null
         ]
        },
        {
         "hovertemplate": "<b>Heather Ward → Justin Love</b><br>Interactions: 38<br>Similarity: -0.271<extra></extra>",
         "line": {
          "color": "rgba(214, 96, 77, 0.7)",
          "width": 10
         },
         "mode": "lines",
         "showlegend": false,
         "type": "scatter",
         "x": [
          0.6859450045720663,
          0.941297126675412,
          null
         ],
         "y": [
          0.6869475070736885,
          0.4488265431389019,
          null
         ]
        },
        {
         "hovertemplate": "<b>Heather Ward → George Brown</b><br>Interactions: 6<br>Similarity: 0.362<extra></extra>",
         "line": {
          "color": "rgba(209, 229, 240, 0.7)",
          "width": 2
         },
         "mode": "lines",
         "showlegend": false,
         "type": "scatter",
         "x": [
          0.6859450045720663,
          -0.29233083356523126,
          null
         ],
         "y": [
          0.6869475070736885,
          0.9677886068772861,
          null
         ]
        },
        {
         "hovertemplate": "<b>Heather Ward → Jennifer Thomas</b><br>Interactions: 5<br>Similarity: -0.139<extra></extra>",
         "line": {
          "color": "rgba(244, 165, 130, 0.7)",
          "width": 1.6666666666666667
         },
         "mode": "lines",
         "showlegend": false,
         "type": "scatter",
         "x": [
          0.6859450045720663,
          -0.8998730555186966,
          null
         ],
         "y": [
          0.6869475070736885,
          -0.41342708840603015,
          null
         ]
        },
        {
         "hovertemplate": "<b>Heather Ward → Lynn Spencer</b><br>Interactions: 3<br>Similarity: 0.277<extra></extra>",
         "line": {
          "color": "rgba(209, 229, 240, 0.7)",
          "width": 1
         },
         "mode": "lines",
         "showlegend": false,
         "type": "scatter",
         "x": [
          0.6859450045720663,
          0.9849319565143412,
          null
         ],
         "y": [
          0.6869475070736885,
          0.09213560621422415,
          null
         ]
        },
        {
         "hovertemplate": "<b>Heather Ward → Rebecca Hall</b><br>Interactions: 16<br>Similarity: 0.188<extra></extra>",
         "line": {
          "color": "rgba(253, 219, 199, 0.7)",
          "width": 5.333333333333333
         },
         "mode": "lines",
         "showlegend": false,
         "type": "scatter",
         "x": [
          0.6859450045720663,
          -0.09244796540966069,
          null
         ],
         "y": [
          0.6869475070736885,
          -0.9736932525652702,
          null
         ]
        },
        {
         "hovertemplate": "<b>Heather Ward → Julie Francis</b><br>Interactions: 5<br>Similarity: 0.037<extra></extra>",
         "line": {
          "color": "rgba(253, 219, 199, 0.7)",
          "width": 1.6666666666666667
         },
         "mode": "lines",
         "showlegend": false,
         "type": "scatter",
         "x": [
          0.6859450045720663,
          -0.5361147761514105,
          null
         ],
         "y": [
          0.6869475070736885,
          0.7536928474138247,
          null
         ]
        },
        {
         "hovertemplate": "<b>Heather Ward → William Murphy</b><br>Interactions: 10<br>Similarity: 0.317<extra></extra>",
         "line": {
          "color": "rgba(209, 229, 240, 0.7)",
          "width": 3.3333333333333335
         },
         "mode": "lines",
         "showlegend": false,
         "type": "scatter",
         "x": [
          0.6859450045720663,
          0.3989395953966282,
          null
         ],
         "y": [
          0.6869475070736885,
          0.8806421641799811,
          null
         ]
        },
        {
         "hovertemplate": "<b>Heather Ward → Mary Figueroa</b><br>Interactions: 2<br>Similarity: -0.348<extra></extra>",
         "line": {
          "color": "rgba(214, 96, 77, 0.7)",
          "width": 1
         },
         "mode": "lines",
         "showlegend": false,
         "type": "scatter",
         "x": [
          0.6859450045720663,
          -0.9638361606138051,
          null
         ],
         "y": [
          0.6869475070736885,
          -0.07324778549173401,
          null
         ]
        },
        {
         "hovertemplate": "<b>Heather Ward → Matthew Odom</b><br>Interactions: 2<br>Similarity: 0.500<extra></extra>",
         "line": {
          "color": "rgba(146, 197, 222, 0.7)",
          "width": 1
         },
         "mode": "lines",
         "showlegend": false,
         "type": "scatter",
         "x": [
          0.6859450045720663,
          0.9317906794991804,
          null
         ],
         "y": [
          0.6869475070736885,
          -0.24878282567207277,
          null
         ]
        },
        {
         "hovertemplate": "<b>Jason Day → William Murphy</b><br>Interactions: 15<br>Similarity: -0.066<extra></extra>",
         "line": {
          "color": "rgba(244, 165, 130, 0.7)",
          "width": 5
         },
         "mode": "lines",
         "showlegend": false,
         "type": "scatter",
         "x": [
          -0.8248788973556259,
          0.3989395953966282,
          null
         ],
         "y": [
          0.6182324532165933,
          0.8806421641799811,
          null
         ]
        },
        {
         "hovertemplate": "<b>Jason Day → Eric Austin</b><br>Interactions: 4<br>Similarity: -0.112<extra></extra>",
         "line": {
          "color": "rgba(244, 165, 130, 0.7)",
          "width": 1.3333333333333333
         },
         "mode": "lines",
         "showlegend": false,
         "type": "scatter",
         "x": [
          -0.8248788973556259,
          0.0679339182236547,
          null
         ],
         "y": [
          0.6182324532165933,
          0.9961658653082643,
          null
         ]
        },
        {
         "hovertemplate": "<b>Jason Day → Rebecca Hall</b><br>Interactions: 16<br>Similarity: 0.121<extra></extra>",
         "line": {
          "color": "rgba(253, 219, 199, 0.7)",
          "width": 5.333333333333333
         },
         "mode": "lines",
         "showlegend": false,
         "type": "scatter",
         "x": [
          -0.8248788973556259,
          -0.09244796540966069,
          null
         ],
         "y": [
          0.6182324532165933,
          -0.9736932525652702,
          null
         ]
        },
        {
         "hovertemplate": "<b>Jason Day → Mary Figueroa</b><br>Interactions: 3<br>Similarity: 0.109<extra></extra>",
         "line": {
          "color": "rgba(253, 219, 199, 0.7)",
          "width": 1
         },
         "mode": "lines",
         "showlegend": false,
         "type": "scatter",
         "x": [
          -0.8248788973556259,
          -0.9638361606138051,
          null
         ],
         "y": [
          0.6182324532165933,
          -0.07324778549173401,
          null
         ]
        },
        {
         "hovertemplate": "<b>Jason Day → Matthew Odom</b><br>Interactions: 40<br>Similarity: -0.821<extra></extra>",
         "line": {
          "color": "rgba(103, 0, 31, 0.7)",
          "width": 10
         },
         "mode": "lines",
         "showlegend": false,
         "type": "scatter",
         "x": [
          -0.8248788973556259,
          0.9317906794991804,
          null
         ],
         "y": [
          0.6182324532165933,
          -0.24878282567207277,
          null
         ]
        },
        {
         "hovertemplate": "<b>Jason Day → Jennifer Thomas</b><br>Interactions: 7<br>Similarity: -0.037<extra></extra>",
         "line": {
          "color": "rgba(244, 165, 130, 0.7)",
          "width": 2.3333333333333335
         },
         "mode": "lines",
         "showlegend": false,
         "type": "scatter",
         "x": [
          -0.8248788973556259,
          -0.8998730555186966,
          null
         ],
         "y": [
          0.6182324532165933,
          -0.41342708840603015,
          null
         ]
        },
        {
         "hovertemplate": "<b>Jason Day → Lynn Spencer</b><br>Interactions: 2<br>Similarity: -0.035<extra></extra>",
         "line": {
          "color": "rgba(244, 165, 130, 0.7)",
          "width": 1
         },
         "mode": "lines",
         "showlegend": false,
         "type": "scatter",
         "x": [
          -0.8248788973556259,
          0.9849319565143412,
          null
         ],
         "y": [
          0.6182324532165933,
          0.09213560621422415,
          null
         ]
        },
        {
         "hovertemplate": "<b>Jason Day → Patrick Williams</b><br>Interactions: 4<br>Similarity: -0.471<extra></extra>",
         "line": {
          "color": "rgba(178, 24, 43, 0.7)",
          "width": 1.3333333333333333
         },
         "mode": "lines",
         "showlegend": false,
         "type": "scatter",
         "x": [
          -0.8248788973556259,
          0.2561361615289968,
          null
         ],
         "y": [
          0.6182324532165933,
          -1,
          null
         ]
        },
        {
         "hovertemplate": "<b>Jason Day → Justin Love</b><br>Interactions: 9<br>Similarity: 0.289<extra></extra>",
         "line": {
          "color": "rgba(209, 229, 240, 0.7)",
          "width": 3
         },
         "mode": "lines",
         "showlegend": false,
         "type": "scatter",
         "x": [
          -0.8248788973556259,
          0.941297126675412,
          null
         ],
         "y": [
          0.6182324532165933,
          0.4488265431389019,
          null
         ]
        },
        {
         "hovertemplate": "<b>Jason Day → George Brown</b><br>Interactions: 1<br>Similarity: -0.154<extra></extra>",
         "line": {
          "color": "rgba(244, 165, 130, 0.7)",
          "width": 1
         },
         "mode": "lines",
         "showlegend": false,
         "type": "scatter",
         "x": [
          -0.8248788973556259,
          -0.29233083356523126,
          null
         ],
         "y": [
          0.6182324532165933,
          0.9677886068772861,
          null
         ]
        },
        {
         "hovertemplate": "<b>Jason Day → Cole Hunter</b><br>Interactions: 16<br>Similarity: 0.373<extra></extra>",
         "line": {
          "color": "rgba(209, 229, 240, 0.7)",
          "width": 5.333333333333333
         },
         "mode": "lines",
         "showlegend": false,
         "type": "scatter",
         "x": [
          -0.8248788973556259,
          -0.6854988190417277,
          null
         ],
         "y": [
          0.6182324532165933,
          -0.6797312320517651,
          null
         ]
        },
        {
         "hovertemplate": "<b>Jason Day → Jacqueline Clark</b><br>Interactions: 2<br>Similarity: 0.049<extra></extra>",
         "line": {
          "color": "rgba(253, 219, 199, 0.7)",
          "width": 1
         },
         "mode": "lines",
         "showlegend": false,
         "type": "scatter",
         "x": [
          -0.8248788973556259,
          0.5826003125569416,
          null
         ],
         "y": [
          0.6182324532165933,
          -0.8331632910226803,
          null
         ]
        },
        {
         "hovertemplate": "<b>William Obrien → Andrew Vang</b><br>Interactions: 3<br>Similarity: -0.124<extra></extra>",
         "line": {
          "color": "rgba(244, 165, 130, 0.7)",
          "width": 1
         },
         "mode": "lines",
         "showlegend": false,
         "type": "scatter",
         "x": [
          0.8501807977005968,
          -0.44152715747871657,
          null
         ],
         "y": [
          -0.5807629751799296,
          -0.9176520610391299,
          null
         ]
        },
        {
         "hovertemplate": "<b>William Obrien → William Murphy</b><br>Interactions: 13<br>Similarity: 0.341<extra></extra>",
         "line": {
          "color": "rgba(209, 229, 240, 0.7)",
          "width": 4.333333333333333
         },
         "mode": "lines",
         "showlegend": false,
         "type": "scatter",
         "x": [
          0.8501807977005968,
          0.3989395953966282,
          null
         ],
         "y": [
          -0.5807629751799296,
          0.8806421641799811,
          null
         ]
        },
        {
         "hovertemplate": "<b>William Obrien → Rebecca Hall</b><br>Interactions: 34<br>Similarity: -0.322<extra></extra>",
         "line": {
          "color": "rgba(214, 96, 77, 0.7)",
          "width": 10
         },
         "mode": "lines",
         "showlegend": false,
         "type": "scatter",
         "x": [
          0.8501807977005968,
          -0.09244796540966069,
          null
         ],
         "y": [
          -0.5807629751799296,
          -0.9736932525652702,
          null
         ]
        },
        {
         "hovertemplate": "<b>William Obrien → Justin Love</b><br>Interactions: 13<br>Similarity: 0.034<extra></extra>",
         "line": {
          "color": "rgba(253, 219, 199, 0.7)",
          "width": 4.333333333333333
         },
         "mode": "lines",
         "showlegend": false,
         "type": "scatter",
         "x": [
          0.8501807977005968,
          0.941297126675412,
          null
         ],
         "y": [
          -0.5807629751799296,
          0.4488265431389019,
          null
         ]
        },
        {
         "hovertemplate": "<b>William Obrien → George Brown</b><br>Interactions: 2<br>Similarity: 0.016<extra></extra>",
         "line": {
          "color": "rgba(253, 219, 199, 0.7)",
          "width": 1
         },
         "mode": "lines",
         "showlegend": false,
         "type": "scatter",
         "x": [
          0.8501807977005968,
          -0.29233083356523126,
          null
         ],
         "y": [
          -0.5807629751799296,
          0.9677886068772861,
          null
         ]
        },
        {
         "hovertemplate": "<b>William Obrien → Lynn Spencer</b><br>Interactions: 8<br>Similarity: 0.032<extra></extra>",
         "line": {
          "color": "rgba(253, 219, 199, 0.7)",
          "width": 2.6666666666666665
         },
         "mode": "lines",
         "showlegend": false,
         "type": "scatter",
         "x": [
          0.8501807977005968,
          0.9849319565143412,
          null
         ],
         "y": [
          -0.5807629751799296,
          0.09213560621422415,
          null
         ]
        },
        {
         "hovertemplate": "<b>William Obrien → Julie Francis</b><br>Interactions: 1<br>Similarity: -0.177<extra></extra>",
         "line": {
          "color": "rgba(244, 165, 130, 0.7)",
          "width": 1
         },
         "mode": "lines",
         "showlegend": false,
         "type": "scatter",
         "x": [
          0.8501807977005968,
          -0.5361147761514105,
          null
         ],
         "y": [
          -0.5807629751799296,
          0.7536928474138247,
          null
         ]
        },
        {
         "hovertemplate": "<b>William Obrien → Jennifer Thomas</b><br>Interactions: 12<br>Similarity: -0.290<extra></extra>",
         "line": {
          "color": "rgba(214, 96, 77, 0.7)",
          "width": 4
         },
         "mode": "lines",
         "showlegend": false,
         "type": "scatter",
         "x": [
          0.8501807977005968,
          -0.8998730555186966,
          null
         ],
         "y": [
          -0.5807629751799296,
          -0.41342708840603015,
          null
         ]
        },
        {
         "hovertemplate": "<b>William Obrien → Cole Hunter</b><br>Interactions: 7<br>Similarity: 0.096<extra></extra>",
         "line": {
          "color": "rgba(253, 219, 199, 0.7)",
          "width": 2.3333333333333335
         },
         "mode": "lines",
         "showlegend": false,
         "type": "scatter",
         "x": [
          0.8501807977005968,
          -0.6854988190417277,
          null
         ],
         "y": [
          -0.5807629751799296,
          -0.6797312320517651,
          null
         ]
        },
        {
         "hovertemplate": "<b>William Obrien → Daniel Gordon</b><br>Interactions: 8<br>Similarity: -0.223<extra></extra>",
         "line": {
          "color": "rgba(214, 96, 77, 0.7)",
          "width": 2.6666666666666665
         },
         "mode": "lines",
         "showlegend": false,
         "type": "scatter",
         "x": [
          0.8501807977005968,
          -0.9632478875329431,
          null
         ],
         "y": [
          -0.5807629751799296,
          0.2760289180058474,
          null
         ]
        },
        {
         "hovertemplate": "<b>William Obrien → Jacqueline Clark</b><br>Interactions: 18<br>Similarity: -0.678<extra></extra>",
         "line": {
          "color": "rgba(103, 0, 31, 0.7)",
          "width": 6
         },
         "mode": "lines",
         "showlegend": false,
         "type": "scatter",
         "x": [
          0.8501807977005968,
          0.5826003125569416,
          null
         ],
         "y": [
          -0.5807629751799296,
          -0.8331632910226803,
          null
         ]
        },
        {
         "hovertemplate": "<b>William Obrien → Mary Figueroa</b><br>Interactions: 4<br>Similarity: -0.232<extra></extra>",
         "line": {
          "color": "rgba(214, 96, 77, 0.7)",
          "width": 1.3333333333333333
         },
         "mode": "lines",
         "showlegend": false,
         "type": "scatter",
         "x": [
          0.8501807977005968,
          -0.9638361606138051,
          null
         ],
         "y": [
          -0.5807629751799296,
          -0.07324778549173401,
          null
         ]
        },
        {
         "hovertemplate": "<b>William Obrien → Eric Austin</b><br>Interactions: 6<br>Similarity: -0.432<extra></extra>",
         "line": {
          "color": "rgba(178, 24, 43, 0.7)",
          "width": 2
         },
         "mode": "lines",
         "showlegend": false,
         "type": "scatter",
         "x": [
          0.8501807977005968,
          0.0679339182236547,
          null
         ],
         "y": [
          -0.5807629751799296,
          0.9961658653082643,
          null
         ]
        },
        {
         "hovertemplate": "<b>William Obrien → Patrick Williams</b><br>Interactions: 1<br>Similarity: -0.048<extra></extra>",
         "line": {
          "color": "rgba(244, 165, 130, 0.7)",
          "width": 1
         },
         "mode": "lines",
         "showlegend": false,
         "type": "scatter",
         "x": [
          0.8501807977005968,
          0.2561361615289968,
          null
         ],
         "y": [
          -0.5807629751799296,
          -1,
          null
         ]
        },
        {
         "hovertemplate": "<b>Jennifer Thomas → William Murphy</b><br>Interactions: 1<br>Similarity: 0.042<extra></extra>",
         "line": {
          "color": "rgba(253, 219, 199, 0.7)",
          "width": 1
         },
         "mode": "lines",
         "showlegend": false,
         "type": "scatter",
         "x": [
          -0.8998730555186966,
          0.3989395953966282,
          null
         ],
         "y": [
          -0.41342708840603015,
          0.8806421641799811,
          null
         ]
        },
        {
         "hovertemplate": "<b>Jennifer Thomas → Andrew Vang</b><br>Interactions: 1<br>Similarity: 0.181<extra></extra>",
         "line": {
          "color": "rgba(253, 219, 199, 0.7)",
          "width": 1
         },
         "mode": "lines",
         "showlegend": false,
         "type": "scatter",
         "x": [
          -0.8998730555186966,
          -0.44152715747871657,
          null
         ],
         "y": [
          -0.41342708840603015,
          -0.9176520610391299,
          null
         ]
        },
        {
         "hovertemplate": "<b>Jennifer Thomas → George Brown</b><br>Interactions: 28<br>Similarity: -0.790<extra></extra>",
         "line": {
          "color": "rgba(103, 0, 31, 0.7)",
          "width": 9.333333333333334
         },
         "mode": "lines",
         "showlegend": false,
         "type": "scatter",
         "x": [
          -0.8998730555186966,
          -0.29233083356523126,
          null
         ],
         "y": [
          -0.41342708840603015,
          0.9677886068772861,
          null
         ]
        },
        {
         "hovertemplate": "<b>Jennifer Thomas → Justin Love</b><br>Interactions: 31<br>Similarity: 0.593<extra></extra>",
         "line": {
          "color": "rgba(146, 197, 222, 0.7)",
          "width": 10
         },
         "mode": "lines",
         "showlegend": false,
         "type": "scatter",
         "x": [
          -0.8998730555186966,
          0.941297126675412,
          null
         ],
         "y": [
          -0.41342708840603015,
          0.4488265431389019,
          null
         ]
        },
        {
         "hovertemplate": "<b>Jennifer Thomas → Patrick Williams</b><br>Interactions: 1<br>Similarity: 0.197<extra></extra>",
         "line": {
          "color": "rgba(209, 229, 240, 0.7)",
          "width": 1
         },
         "mode": "lines",
         "showlegend": false,
         "type": "scatter",
         "x": [
          -0.8998730555186966,
          0.2561361615289968,
          null
         ],
         "y": [
          -0.41342708840603015,
          -1,
          null
         ]
        },
        {
         "hovertemplate": "<b>Jennifer Thomas → Julie Francis</b><br>Interactions: 2<br>Similarity: 0.485<extra></extra>",
         "line": {
          "color": "rgba(146, 197, 222, 0.7)",
          "width": 1
         },
         "mode": "lines",
         "showlegend": false,
         "type": "scatter",
         "x": [
          -0.8998730555186966,
          -0.5361147761514105,
          null
         ],
         "y": [
          -0.41342708840603015,
          0.7536928474138247,
          null
         ]
        },
        {
         "hovertemplate": "<b>Jennifer Thomas → Mary Figueroa</b><br>Interactions: 1<br>Similarity: 0.468<extra></extra>",
         "line": {
          "color": "rgba(146, 197, 222, 0.7)",
          "width": 1
         },
         "mode": "lines",
         "showlegend": false,
         "type": "scatter",
         "x": [
          -0.8998730555186966,
          -0.9638361606138051,
          null
         ],
         "y": [
          -0.41342708840603015,
          -0.07324778549173401,
          null
         ]
        },
        {
         "hovertemplate": "<b>Jennifer Thomas → Jacqueline Clark</b><br>Interactions: 4<br>Similarity: 0.213<extra></extra>",
         "line": {
          "color": "rgba(209, 229, 240, 0.7)",
          "width": 1.3333333333333333
         },
         "mode": "lines",
         "showlegend": false,
         "type": "scatter",
         "x": [
          -0.8998730555186966,
          0.5826003125569416,
          null
         ],
         "y": [
          -0.41342708840603015,
          -0.8331632910226803,
          null
         ]
        },
        {
         "hovertemplate": "<b>Jennifer Thomas → Eric Austin</b><br>Interactions: 5<br>Similarity: -0.256<extra></extra>",
         "line": {
          "color": "rgba(214, 96, 77, 0.7)",
          "width": 1.6666666666666667
         },
         "mode": "lines",
         "showlegend": false,
         "type": "scatter",
         "x": [
          -0.8998730555186966,
          0.0679339182236547,
          null
         ],
         "y": [
          -0.41342708840603015,
          0.9961658653082643,
          null
         ]
        },
        {
         "hovertemplate": "<b>Jennifer Thomas → William Obrien</b><br>Interactions: 1<br>Similarity: -0.290<extra></extra>",
         "line": {
          "color": "rgba(214, 96, 77, 0.7)",
          "width": 1
         },
         "mode": "lines",
         "showlegend": false,
         "type": "scatter",
         "x": [
          -0.8998730555186966,
          0.8501807977005968,
          null
         ],
         "y": [
          -0.41342708840603015,
          -0.5807629751799296,
          null
         ]
        },
        {
         "hovertemplate": "<b>Julie Francis → Matthew Odom</b><br>Interactions: 7<br>Similarity: -0.250<extra></extra>",
         "line": {
          "color": "rgba(214, 96, 77, 0.7)",
          "width": 2.3333333333333335
         },
         "mode": "lines",
         "showlegend": false,
         "type": "scatter",
         "x": [
          -0.5361147761514105,
          0.9317906794991804,
          null
         ],
         "y": [
          0.7536928474138247,
          -0.24878282567207277,
          null
         ]
        },
        {
         "hovertemplate": "<b>Julie Francis → William Murphy</b><br>Interactions: 21<br>Similarity: -0.088<extra></extra>",
         "line": {
          "color": "rgba(244, 165, 130, 0.7)",
          "width": 7
         },
         "mode": "lines",
         "showlegend": false,
         "type": "scatter",
         "x": [
          -0.5361147761514105,
          0.3989395953966282,
          null
         ],
         "y": [
          0.7536928474138247,
          0.8806421641799811,
          null
         ]
        },
        {
         "hovertemplate": "<b>Julie Francis → Heather Ward</b><br>Interactions: 6<br>Similarity: 0.037<extra></extra>",
         "line": {
          "color": "rgba(253, 219, 199, 0.7)",
          "width": 2
         },
         "mode": "lines",
         "showlegend": false,
         "type": "scatter",
         "x": [
          -0.5361147761514105,
          0.6859450045720663,
          null
         ],
         "y": [
          0.7536928474138247,
          0.6869475070736885,
          null
         ]
        },
        {
         "hovertemplate": "<b>Julie Francis → George Brown</b><br>Interactions: 6<br>Similarity: -0.324<extra></extra>",
         "line": {
          "color": "rgba(214, 96, 77, 0.7)",
          "width": 2
         },
         "mode": "lines",
         "showlegend": false,
         "type": "scatter",
         "x": [
          -0.5361147761514105,
          -0.29233083356523126,
          null
         ],
         "y": [
          0.7536928474138247,
          0.9677886068772861,
          null
         ]
        },
        {
         "hovertemplate": "<b>Julie Francis → Mary Figueroa</b><br>Interactions: 14<br>Similarity: 0.275<extra></extra>",
         "line": {
          "color": "rgba(209, 229, 240, 0.7)",
          "width": 4.666666666666667
         },
         "mode": "lines",
         "showlegend": false,
         "type": "scatter",
         "x": [
          -0.5361147761514105,
          -0.9638361606138051,
          null
         ],
         "y": [
          0.7536928474138247,
          -0.07324778549173401,
          null
         ]
        },
        {
         "hovertemplate": "<b>Julie Francis → Justin Love</b><br>Interactions: 15<br>Similarity: 0.300<extra></extra>",
         "line": {
          "color": "rgba(209, 229, 240, 0.7)",
          "width": 5
         },
         "mode": "lines",
         "showlegend": false,
         "type": "scatter",
         "x": [
          -0.5361147761514105,
          0.941297126675412,
          null
         ],
         "y": [
          0.7536928474138247,
          0.4488265431389019,
          null
         ]
        },
        {
         "hovertemplate": "<b>Julie Francis → Jacqueline Clark</b><br>Interactions: 6<br>Similarity: 0.177<extra></extra>",
         "line": {
          "color": "rgba(253, 219, 199, 0.7)",
          "width": 2
         },
         "mode": "lines",
         "showlegend": false,
         "type": "scatter",
         "x": [
          -0.5361147761514105,
          0.5826003125569416,
          null
         ],
         "y": [
          0.7536928474138247,
          -0.8331632910226803,
          null
         ]
        },
        {
         "hovertemplate": "<b>Julie Francis → Eric Austin</b><br>Interactions: 12<br>Similarity: -0.155<extra></extra>",
         "line": {
          "color": "rgba(244, 165, 130, 0.7)",
          "width": 4
         },
         "mode": "lines",
         "showlegend": false,
         "type": "scatter",
         "x": [
          -0.5361147761514105,
          0.0679339182236547,
          null
         ],
         "y": [
          0.7536928474138247,
          0.9961658653082643,
          null
         ]
        },
        {
         "hovertemplate": "<b>Julie Francis → Lynn Spencer</b><br>Interactions: 12<br>Similarity: 0.075<extra></extra>",
         "line": {
          "color": "rgba(253, 219, 199, 0.7)",
          "width": 4
         },
         "mode": "lines",
         "showlegend": false,
         "type": "scatter",
         "x": [
          -0.5361147761514105,
          0.9849319565143412,
          null
         ],
         "y": [
          0.7536928474138247,
          0.09213560621422415,
          null
         ]
        },
        {
         "hovertemplate": "<b>Julie Francis → Jennifer Thomas</b><br>Interactions: 17<br>Similarity: 0.485<extra></extra>",
         "line": {
          "color": "rgba(146, 197, 222, 0.7)",
          "width": 5.666666666666667
         },
         "mode": "lines",
         "showlegend": false,
         "type": "scatter",
         "x": [
          -0.5361147761514105,
          -0.8998730555186966,
          null
         ],
         "y": [
          0.7536928474138247,
          -0.41342708840603015,
          null
         ]
        },
        {
         "hovertemplate": "<b>Julie Francis → Daniel Gordon</b><br>Interactions: 4<br>Similarity: 0.320<extra></extra>",
         "line": {
          "color": "rgba(209, 229, 240, 0.7)",
          "width": 1.3333333333333333
         },
         "mode": "lines",
         "showlegend": false,
         "type": "scatter",
         "x": [
          -0.5361147761514105,
          -0.9632478875329431,
          null
         ],
         "y": [
          0.7536928474138247,
          0.2760289180058474,
          null
         ]
        },
        {
         "hovertemplate": "<b>Julie Francis → Rebecca Hall</b><br>Interactions: 21<br>Similarity: 0.619<extra></extra>",
         "line": {
          "color": "rgba(67, 147, 195, 0.7)",
          "width": 7
         },
         "mode": "lines",
         "showlegend": false,
         "type": "scatter",
         "x": [
          -0.5361147761514105,
          -0.09244796540966069,
          null
         ],
         "y": [
          0.7536928474138247,
          -0.9736932525652702,
          null
         ]
        },
        {
         "hovertemplate": "<b>Julie Francis → Cole Hunter</b><br>Interactions: 9<br>Similarity: -0.194<extra></extra>",
         "line": {
          "color": "rgba(244, 165, 130, 0.7)",
          "width": 3
         },
         "mode": "lines",
         "showlegend": false,
         "type": "scatter",
         "x": [
          -0.5361147761514105,
          -0.6854988190417277,
          null
         ],
         "y": [
          0.7536928474138247,
          -0.6797312320517651,
          null
         ]
        },
        {
         "hovertemplate": "<b>Julie Francis → Andrew Vang</b><br>Interactions: 2<br>Similarity: -0.341<extra></extra>",
         "line": {
          "color": "rgba(214, 96, 77, 0.7)",
          "width": 1
         },
         "mode": "lines",
         "showlegend": false,
         "type": "scatter",
         "x": [
          -0.5361147761514105,
          -0.44152715747871657,
          null
         ],
         "y": [
          0.7536928474138247,
          -0.9176520610391299,
          null
         ]
        },
        {
         "hovertemplate": "<b>Rebecca Hall → George Brown</b><br>Interactions: 41<br>Similarity: -0.295<extra></extra>",
         "line": {
          "color": "rgba(214, 96, 77, 0.7)",
          "width": 10
         },
         "mode": "lines",
         "showlegend": false,
         "type": "scatter",
         "x": [
          -0.09244796540966069,
          -0.29233083356523126,
          null
         ],
         "y": [
          -0.9736932525652702,
          0.9677886068772861,
          null
         ]
        },
        {
         "hovertemplate": "<b>Rebecca Hall → Justin Love</b><br>Interactions: 46<br>Similarity: 0.351<extra></extra>",
         "line": {
          "color": "rgba(209, 229, 240, 0.7)",
          "width": 10
         },
         "mode": "lines",
         "showlegend": false,
         "type": "scatter",
         "x": [
          -0.09244796540966069,
          0.941297126675412,
          null
         ],
         "y": [
          -0.9736932525652702,
          0.4488265431389019,
          null
         ]
        },
        {
         "hovertemplate": "<b>Rebecca Hall → Heather Ward</b><br>Interactions: 2<br>Similarity: 0.188<extra></extra>",
         "line": {
          "color": "rgba(253, 219, 199, 0.7)",
          "width": 1
         },
         "mode": "lines",
         "showlegend": false,
         "type": "scatter",
         "x": [
          -0.09244796540966069,
          0.6859450045720663,
          null
         ],
         "y": [
          -0.9736932525652702,
          0.6869475070736885,
          null
         ]
        },
        {
         "hovertemplate": "<b>Rebecca Hall → Eric Austin</b><br>Interactions: 25<br>Similarity: -0.211<extra></extra>",
         "line": {
          "color": "rgba(244, 165, 130, 0.7)",
          "width": 8.333333333333334
         },
         "mode": "lines",
         "showlegend": false,
         "type": "scatter",
         "x": [
          -0.09244796540966069,
          0.0679339182236547,
          null
         ],
         "y": [
          -0.9736932525652702,
          0.9961658653082643,
          null
         ]
        },
        {
         "hovertemplate": "<b>Rebecca Hall → Matthew Odom</b><br>Interactions: 9<br>Similarity: -0.014<extra></extra>",
         "line": {
          "color": "rgba(244, 165, 130, 0.7)",
          "width": 3
         },
         "mode": "lines",
         "showlegend": false,
         "type": "scatter",
         "x": [
          -0.09244796540966069,
          0.9317906794991804,
          null
         ],
         "y": [
          -0.9736932525652702,
          -0.24878282567207277,
          null
         ]
        },
        {
         "hovertemplate": "<b>Rebecca Hall → Patrick Williams</b><br>Interactions: 8<br>Similarity: 0.032<extra></extra>",
         "line": {
          "color": "rgba(253, 219, 199, 0.7)",
          "width": 2.6666666666666665
         },
         "mode": "lines",
         "showlegend": false,
         "type": "scatter",
         "x": [
          -0.09244796540966069,
          0.2561361615289968,
          null
         ],
         "y": [
          -0.9736932525652702,
          -1,
          null
         ]
        },
        {
         "hovertemplate": "<b>Rebecca Hall → Mary Figueroa</b><br>Interactions: 5<br>Similarity: 0.295<extra></extra>",
         "line": {
          "color": "rgba(209, 229, 240, 0.7)",
          "width": 1.6666666666666667
         },
         "mode": "lines",
         "showlegend": false,
         "type": "scatter",
         "x": [
          -0.09244796540966069,
          -0.9638361606138051,
          null
         ],
         "y": [
          -0.9736932525652702,
          -0.07324778549173401,
          null
         ]
        },
        {
         "hovertemplate": "<b>Rebecca Hall → Jason Day</b><br>Interactions: 8<br>Similarity: 0.121<extra></extra>",
         "line": {
          "color": "rgba(253, 219, 199, 0.7)",
          "width": 2.6666666666666665
         },
         "mode": "lines",
         "showlegend": false,
         "type": "scatter",
         "x": [
          -0.09244796540966069,
          -0.8248788973556259,
          null
         ],
         "y": [
          -0.9736932525652702,
          0.6182324532165933,
          null
         ]
        },
        {
         "hovertemplate": "<b>Rebecca Hall → Julie Francis</b><br>Interactions: 29<br>Similarity: 0.619<extra></extra>",
         "line": {
          "color": "rgba(67, 147, 195, 0.7)",
          "width": 9.666666666666666
         },
         "mode": "lines",
         "showlegend": false,
         "type": "scatter",
         "x": [
          -0.09244796540966069,
          -0.5361147761514105,
          null
         ],
         "y": [
          -0.9736932525652702,
          0.7536928474138247,
          null
         ]
        },
        {
         "hovertemplate": "<b>Rebecca Hall → William Obrien</b><br>Interactions: 8<br>Similarity: -0.322<extra></extra>",
         "line": {
          "color": "rgba(214, 96, 77, 0.7)",
          "width": 2.6666666666666665
         },
         "mode": "lines",
         "showlegend": false,
         "type": "scatter",
         "x": [
          -0.09244796540966069,
          0.8501807977005968,
          null
         ],
         "y": [
          -0.9736932525652702,
          -0.5807629751799296,
          null
         ]
        },
        {
         "hovertemplate": "<b>Rebecca Hall → William Murphy</b><br>Interactions: 4<br>Similarity: 0.274<extra></extra>",
         "line": {
          "color": "rgba(209, 229, 240, 0.7)",
          "width": 1.3333333333333333
         },
         "mode": "lines",
         "showlegend": false,
         "type": "scatter",
         "x": [
          -0.09244796540966069,
          0.3989395953966282,
          null
         ],
         "y": [
          -0.9736932525652702,
          0.8806421641799811,
          null
         ]
        },
        {
         "hovertemplate": "<b>Rebecca Hall → Andrew Vang</b><br>Interactions: 1<br>Similarity: 0.211<extra></extra>",
         "line": {
          "color": "rgba(209, 229, 240, 0.7)",
          "width": 1
         },
         "mode": "lines",
         "showlegend": false,
         "type": "scatter",
         "x": [
          -0.09244796540966069,
          -0.44152715747871657,
          null
         ],
         "y": [
          -0.9736932525652702,
          -0.9176520610391299,
          null
         ]
        },
        {
         "hovertemplate": "<b>Rebecca Hall → Jacqueline Clark</b><br>Interactions: 5<br>Similarity: 0.420<extra></extra>",
         "line": {
          "color": "rgba(146, 197, 222, 0.7)",
          "width": 1.6666666666666667
         },
         "mode": "lines",
         "showlegend": false,
         "type": "scatter",
         "x": [
          -0.09244796540966069,
          0.5826003125569416,
          null
         ],
         "y": [
          -0.9736932525652702,
          -0.8331632910226803,
          null
         ]
        },
        {
         "hovertemplate": "<b>Rebecca Hall → Rebecca Hall</b><br>Interactions: 1<br>Similarity: 1.000<extra></extra>",
         "line": {
          "color": "rgba(5, 48, 97, 0.7)",
          "width": 1
         },
         "mode": "lines",
         "showlegend": false,
         "type": "scatter",
         "x": [
          -0.09244796540966069,
          -0.09244796540966069,
          null
         ],
         "y": [
          -0.9736932525652702,
          -0.9736932525652702,
          null
         ]
        },
        {
         "hovertemplate": "<b>Rebecca Hall → Jennifer Thomas</b><br>Interactions: 1<br>Similarity: 0.677<extra></extra>",
         "line": {
          "color": "rgba(67, 147, 195, 0.7)",
          "width": 1
         },
         "mode": "lines",
         "showlegend": false,
         "type": "scatter",
         "x": [
          -0.09244796540966069,
          -0.8998730555186966,
          null
         ],
         "y": [
          -0.9736932525652702,
          -0.41342708840603015,
          null
         ]
        },
        {
         "hovertemplate": "<b>Rebecca Hall → Lynn Spencer</b><br>Interactions: 2<br>Similarity: 0.291<extra></extra>",
         "line": {
          "color": "rgba(209, 229, 240, 0.7)",
          "width": 1
         },
         "mode": "lines",
         "showlegend": false,
         "type": "scatter",
         "x": [
          -0.09244796540966069,
          0.9849319565143412,
          null
         ],
         "y": [
          -0.9736932525652702,
          0.09213560621422415,
          null
         ]
        },
        {
         "hovertemplate": "<b>Jacqueline Clark → Justin Love</b><br>Interactions: 1<br>Similarity: 0.265<extra></extra>",
         "line": {
          "color": "rgba(209, 229, 240, 0.7)",
          "width": 1
         },
         "mode": "lines",
         "showlegend": false,
         "type": "scatter",
         "x": [
          0.5826003125569416,
          0.941297126675412,
          null
         ],
         "y": [
          -0.8331632910226803,
          0.4488265431389019,
          null
         ]
        },
        {
         "hovertemplate": "<b>Jacqueline Clark → William Murphy</b><br>Interactions: 22<br>Similarity: -0.083<extra></extra>",
         "line": {
          "color": "rgba(244, 165, 130, 0.7)",
          "width": 7.333333333333333
         },
         "mode": "lines",
         "showlegend": false,
         "type": "scatter",
         "x": [
          0.5826003125569416,
          0.3989395953966282,
          null
         ],
         "y": [
          -0.8331632910226803,
          0.8806421641799811,
          null
         ]
        },
        {
         "hovertemplate": "<b>Jacqueline Clark → Cole Hunter</b><br>Interactions: 1<br>Similarity: -0.364<extra></extra>",
         "line": {
          "color": "rgba(214, 96, 77, 0.7)",
          "width": 1
         },
         "mode": "lines",
         "showlegend": false,
         "type": "scatter",
         "x": [
          0.5826003125569416,
          -0.6854988190417277,
          null
         ],
         "y": [
          -0.8331632910226803,
          -0.6797312320517651,
          null
         ]
        },
        {
         "hovertemplate": "<b>Jacqueline Clark → Andrew Vang</b><br>Interactions: 3<br>Similarity: 0.115<extra></extra>",
         "line": {
          "color": "rgba(253, 219, 199, 0.7)",
          "width": 1
         },
         "mode": "lines",
         "showlegend": false,
         "type": "scatter",
         "x": [
          0.5826003125569416,
          -0.44152715747871657,
          null
         ],
         "y": [
          -0.8331632910226803,
          -0.9176520610391299,
          null
         ]
        },
        {
         "hovertemplate": "<b>Jacqueline Clark → Daniel Gordon</b><br>Interactions: 3<br>Similarity: 0.088<extra></extra>",
         "line": {
          "color": "rgba(253, 219, 199, 0.7)",
          "width": 1
         },
         "mode": "lines",
         "showlegend": false,
         "type": "scatter",
         "x": [
          0.5826003125569416,
          -0.9632478875329431,
          null
         ],
         "y": [
          -0.8331632910226803,
          0.2760289180058474,
          null
         ]
        },
        {
         "hovertemplate": "<b>Jacqueline Clark → Patrick Williams</b><br>Interactions: 7<br>Similarity: 0.098<extra></extra>",
         "line": {
          "color": "rgba(253, 219, 199, 0.7)",
          "width": 2.3333333333333335
         },
         "mode": "lines",
         "showlegend": false,
         "type": "scatter",
         "x": [
          0.5826003125569416,
          0.2561361615289968,
          null
         ],
         "y": [
          -0.8331632910226803,
          -1,
          null
         ]
        },
        {
         "hovertemplate": "<b>Jacqueline Clark → Matthew Odom</b><br>Interactions: 32<br>Similarity: 0.211<extra></extra>",
         "line": {
          "color": "rgba(209, 229, 240, 0.7)",
          "width": 10
         },
         "mode": "lines",
         "showlegend": false,
         "type": "scatter",
         "x": [
          0.5826003125569416,
          0.9317906794991804,
          null
         ],
         "y": [
          -0.8331632910226803,
          -0.24878282567207277,
          null
         ]
        },
        {
         "hovertemplate": "<b>Jacqueline Clark → Rebecca Hall</b><br>Interactions: 36<br>Similarity: 0.420<extra></extra>",
         "line": {
          "color": "rgba(146, 197, 222, 0.7)",
          "width": 10
         },
         "mode": "lines",
         "showlegend": false,
         "type": "scatter",
         "x": [
          0.5826003125569416,
          -0.09244796540966069,
          null
         ],
         "y": [
          -0.8331632910226803,
          -0.9736932525652702,
          null
         ]
        },
        {
         "hovertemplate": "<b>Jacqueline Clark → Lynn Spencer</b><br>Interactions: 7<br>Similarity: -0.102<extra></extra>",
         "line": {
          "color": "rgba(244, 165, 130, 0.7)",
          "width": 2.3333333333333335
         },
         "mode": "lines",
         "showlegend": false,
         "type": "scatter",
         "x": [
          0.5826003125569416,
          0.9849319565143412,
          null
         ],
         "y": [
          -0.8331632910226803,
          0.09213560621422415,
          null
         ]
        },
        {
         "hovertemplate": "<b>Jacqueline Clark → Heather Ward</b><br>Interactions: 1<br>Similarity: 0.166<extra></extra>",
         "line": {
          "color": "rgba(253, 219, 199, 0.7)",
          "width": 1
         },
         "mode": "lines",
         "showlegend": false,
         "type": "scatter",
         "x": [
          0.5826003125569416,
          0.6859450045720663,
          null
         ],
         "y": [
          -0.8331632910226803,
          0.6869475070736885,
          null
         ]
        },
        {
         "hovertemplate": "<b>Jacqueline Clark → William Obrien</b><br>Interactions: 10<br>Similarity: -0.678<extra></extra>",
         "line": {
          "color": "rgba(103, 0, 31, 0.7)",
          "width": 3.3333333333333335
         },
         "mode": "lines",
         "showlegend": false,
         "type": "scatter",
         "x": [
          0.5826003125569416,
          0.8501807977005968,
          null
         ],
         "y": [
          -0.8331632910226803,
          -0.5807629751799296,
          null
         ]
        },
        {
         "hovertemplate": "<b>Jacqueline Clark → George Brown</b><br>Interactions: 1<br>Similarity: -0.074<extra></extra>",
         "line": {
          "color": "rgba(244, 165, 130, 0.7)",
          "width": 1
         },
         "mode": "lines",
         "showlegend": false,
         "type": "scatter",
         "x": [
          0.5826003125569416,
          -0.29233083356523126,
          null
         ],
         "y": [
          -0.8331632910226803,
          0.9677886068772861,
          null
         ]
        },
        {
         "hovertemplate": "<b>Jacqueline Clark → Mary Figueroa</b><br>Interactions: 8<br>Similarity: 0.133<extra></extra>",
         "line": {
          "color": "rgba(253, 219, 199, 0.7)",
          "width": 2.6666666666666665
         },
         "mode": "lines",
         "showlegend": false,
         "type": "scatter",
         "x": [
          0.5826003125569416,
          -0.9638361606138051,
          null
         ],
         "y": [
          -0.8331632910226803,
          -0.07324778549173401,
          null
         ]
        },
        {
         "hovertemplate": "<b>Jacqueline Clark → Jennifer Thomas</b><br>Interactions: 6<br>Similarity: 0.213<extra></extra>",
         "line": {
          "color": "rgba(209, 229, 240, 0.7)",
          "width": 2
         },
         "mode": "lines",
         "showlegend": false,
         "type": "scatter",
         "x": [
          0.5826003125569416,
          -0.8998730555186966,
          null
         ],
         "y": [
          -0.8331632910226803,
          -0.41342708840603015,
          null
         ]
        },
        {
         "hovertemplate": "<b>Jacqueline Clark → Julie Francis</b><br>Interactions: 17<br>Similarity: 0.177<extra></extra>",
         "line": {
          "color": "rgba(253, 219, 199, 0.7)",
          "width": 5.666666666666667
         },
         "mode": "lines",
         "showlegend": false,
         "type": "scatter",
         "x": [
          0.5826003125569416,
          -0.5361147761514105,
          null
         ],
         "y": [
          -0.8331632910226803,
          0.7536928474138247,
          null
         ]
        },
        {
         "hovertemplate": "<b>Cole Hunter → Justin Love</b><br>Interactions: 23<br>Similarity: 0.211<extra></extra>",
         "line": {
          "color": "rgba(209, 229, 240, 0.7)",
          "width": 7.666666666666667
         },
         "mode": "lines",
         "showlegend": false,
         "type": "scatter",
         "x": [
          -0.6854988190417277,
          0.941297126675412,
          null
         ],
         "y": [
          -0.6797312320517651,
          0.4488265431389019,
          null
         ]
        },
        {
         "hovertemplate": "<b>Cole Hunter → George Brown</b><br>Interactions: 24<br>Similarity: -0.313<extra></extra>",
         "line": {
          "color": "rgba(214, 96, 77, 0.7)",
          "width": 8
         },
         "mode": "lines",
         "showlegend": false,
         "type": "scatter",
         "x": [
          -0.6854988190417277,
          -0.29233083356523126,
          null
         ],
         "y": [
          -0.6797312320517651,
          0.9677886068772861,
          null
         ]
        },
        {
         "hovertemplate": "<b>Cole Hunter → Matthew Odom</b><br>Interactions: 17<br>Similarity: -0.639<extra></extra>",
         "line": {
          "color": "rgba(103, 0, 31, 0.7)",
          "width": 5.666666666666667
         },
         "mode": "lines",
         "showlegend": false,
         "type": "scatter",
         "x": [
          -0.6854988190417277,
          0.9317906794991804,
          null
         ],
         "y": [
          -0.6797312320517651,
          -0.24878282567207277,
          null
         ]
        },
        {
         "hovertemplate": "<b>Cole Hunter → William Obrien</b><br>Interactions: 10<br>Similarity: 0.096<extra></extra>",
         "line": {
          "color": "rgba(253, 219, 199, 0.7)",
          "width": 3.3333333333333335
         },
         "mode": "lines",
         "showlegend": false,
         "type": "scatter",
         "x": [
          -0.6854988190417277,
          0.8501807977005968,
          null
         ],
         "y": [
          -0.6797312320517651,
          -0.5807629751799296,
          null
         ]
        },
        {
         "hovertemplate": "<b>Cole Hunter → Eric Austin</b><br>Interactions: 7<br>Similarity: -0.211<extra></extra>",
         "line": {
          "color": "rgba(244, 165, 130, 0.7)",
          "width": 2.3333333333333335
         },
         "mode": "lines",
         "showlegend": false,
         "type": "scatter",
         "x": [
          -0.6854988190417277,
          0.0679339182236547,
          null
         ],
         "y": [
          -0.6797312320517651,
          0.9961658653082643,
          null
         ]
        },
        {
         "hovertemplate": "<b>Cole Hunter → Jacqueline Clark</b><br>Interactions: 1<br>Similarity: -0.364<extra></extra>",
         "line": {
          "color": "rgba(214, 96, 77, 0.7)",
          "width": 1
         },
         "mode": "lines",
         "showlegend": false,
         "type": "scatter",
         "x": [
          -0.6854988190417277,
          0.5826003125569416,
          null
         ],
         "y": [
          -0.6797312320517651,
          -0.8331632910226803,
          null
         ]
        },
        {
         "hovertemplate": "<b>Cole Hunter → Andrew Vang</b><br>Interactions: 1<br>Similarity: 0.432<extra></extra>",
         "line": {
          "color": "rgba(146, 197, 222, 0.7)",
          "width": 1
         },
         "mode": "lines",
         "showlegend": false,
         "type": "scatter",
         "x": [
          -0.6854988190417277,
          -0.44152715747871657,
          null
         ],
         "y": [
          -0.6797312320517651,
          -0.9176520610391299,
          null
         ]
        },
        {
         "hovertemplate": "<b>Cole Hunter → Jason Day</b><br>Interactions: 8<br>Similarity: 0.373<extra></extra>",
         "line": {
          "color": "rgba(209, 229, 240, 0.7)",
          "width": 2.6666666666666665
         },
         "mode": "lines",
         "showlegend": false,
         "type": "scatter",
         "x": [
          -0.6854988190417277,
          -0.8248788973556259,
          null
         ],
         "y": [
          -0.6797312320517651,
          0.6182324532165933,
          null
         ]
        },
        {
         "hovertemplate": "<b>Cole Hunter → Julie Francis</b><br>Interactions: 1<br>Similarity: -0.194<extra></extra>",
         "line": {
          "color": "rgba(244, 165, 130, 0.7)",
          "width": 1
         },
         "mode": "lines",
         "showlegend": false,
         "type": "scatter",
         "x": [
          -0.6854988190417277,
          -0.5361147761514105,
          null
         ],
         "y": [
          -0.6797312320517651,
          0.7536928474138247,
          null
         ]
        },
        {
         "hovertemplate": "<b>Cole Hunter → Patrick Williams</b><br>Interactions: 1<br>Similarity: -0.048<extra></extra>",
         "line": {
          "color": "rgba(244, 165, 130, 0.7)",
          "width": 1
         },
         "mode": "lines",
         "showlegend": false,
         "type": "scatter",
         "x": [
          -0.6854988190417277,
          0.2561361615289968,
          null
         ],
         "y": [
          -0.6797312320517651,
          -1,
          null
         ]
        },
        {
         "hovertemplate": "<b>William Murphy → George Brown</b><br>Interactions: 59<br>Similarity: 0.268<extra></extra>",
         "line": {
          "color": "rgba(209, 229, 240, 0.7)",
          "width": 10
         },
         "mode": "lines",
         "showlegend": false,
         "type": "scatter",
         "x": [
          0.3989395953966282,
          -0.29233083356523126,
          null
         ],
         "y": [
          0.8806421641799811,
          0.9677886068772861,
          null
         ]
        },
        {
         "hovertemplate": "<b>William Murphy → Justin Love</b><br>Interactions: 51<br>Similarity: -0.191<extra></extra>",
         "line": {
          "color": "rgba(244, 165, 130, 0.7)",
          "width": 10
         },
         "mode": "lines",
         "showlegend": false,
         "type": "scatter",
         "x": [
          0.3989395953966282,
          0.941297126675412,
          null
         ],
         "y": [
          0.8806421641799811,
          0.4488265431389019,
          null
         ]
        },
        {
         "hovertemplate": "<b>William Murphy → Eric Austin</b><br>Interactions: 5<br>Similarity: -0.039<extra></extra>",
         "line": {
          "color": "rgba(244, 165, 130, 0.7)",
          "width": 1.6666666666666667
         },
         "mode": "lines",
         "showlegend": false,
         "type": "scatter",
         "x": [
          0.3989395953966282,
          0.0679339182236547,
          null
         ],
         "y": [
          0.8806421641799811,
          0.9961658653082643,
          null
         ]
        },
        {
         "hovertemplate": "<b>William Murphy → William Obrien</b><br>Interactions: 2<br>Similarity: 0.341<extra></extra>",
         "line": {
          "color": "rgba(209, 229, 240, 0.7)",
          "width": 1
         },
         "mode": "lines",
         "showlegend": false,
         "type": "scatter",
         "x": [
          0.3989395953966282,
          0.8501807977005968,
          null
         ],
         "y": [
          0.8806421641799811,
          -0.5807629751799296,
          null
         ]
        },
        {
         "hovertemplate": "<b>William Murphy → Rebecca Hall</b><br>Interactions: 3<br>Similarity: 0.274<extra></extra>",
         "line": {
          "color": "rgba(209, 229, 240, 0.7)",
          "width": 1
         },
         "mode": "lines",
         "showlegend": false,
         "type": "scatter",
         "x": [
          0.3989395953966282,
          -0.09244796540966069,
          null
         ],
         "y": [
          0.8806421641799811,
          -0.9736932525652702,
          null
         ]
        },
        {
         "hovertemplate": "<b>William Murphy → Lynn Spencer</b><br>Interactions: 1<br>Similarity: 0.183<extra></extra>",
         "line": {
          "color": "rgba(253, 219, 199, 0.7)",
          "width": 1
         },
         "mode": "lines",
         "showlegend": false,
         "type": "scatter",
         "x": [
          0.3989395953966282,
          0.9849319565143412,
          null
         ],
         "y": [
          0.8806421641799811,
          0.09213560621422415,
          null
         ]
        },
        {
         "hovertemplate": "<b>William Murphy → Julie Francis</b><br>Interactions: 1<br>Similarity: -0.088<extra></extra>",
         "line": {
          "color": "rgba(244, 165, 130, 0.7)",
          "width": 1
         },
         "mode": "lines",
         "showlegend": false,
         "type": "scatter",
         "x": [
          0.3989395953966282,
          -0.5361147761514105,
          null
         ],
         "y": [
          0.8806421641799811,
          0.7536928474138247,
          null
         ]
        },
        {
         "hovertemplate": "<b>William Murphy → Jacqueline Clark</b><br>Interactions: 2<br>Similarity: -0.083<extra></extra>",
         "line": {
          "color": "rgba(244, 165, 130, 0.7)",
          "width": 1
         },
         "mode": "lines",
         "showlegend": false,
         "type": "scatter",
         "x": [
          0.3989395953966282,
          0.5826003125569416,
          null
         ],
         "y": [
          0.8806421641799811,
          -0.8331632910226803,
          null
         ]
        },
        {
         "hovertemplate": "<b>Mary Figueroa → George Brown</b><br>Interactions: 28<br>Similarity: -0.388<extra></extra>",
         "line": {
          "color": "rgba(214, 96, 77, 0.7)",
          "width": 9.333333333333334
         },
         "mode": "lines",
         "showlegend": false,
         "type": "scatter",
         "x": [
          -0.9638361606138051,
          -0.29233083356523126,
          null
         ],
         "y": [
          -0.07324778549173401,
          0.9677886068772861,
          null
         ]
        },
        {
         "hovertemplate": "<b>Mary Figueroa → Justin Love</b><br>Interactions: 39<br>Similarity: -0.064<extra></extra>",
         "line": {
          "color": "rgba(244, 165, 130, 0.7)",
          "width": 10
         },
         "mode": "lines",
         "showlegend": false,
         "type": "scatter",
         "x": [
          -0.9638361606138051,
          0.941297126675412,
          null
         ],
         "y": [
          -0.07324778549173401,
          0.4488265431389019,
          null
         ]
        },
        {
         "hovertemplate": "<b>Mary Figueroa → Jennifer Thomas</b><br>Interactions: 1<br>Similarity: 0.468<extra></extra>",
         "line": {
          "color": "rgba(146, 197, 222, 0.7)",
          "width": 1
         },
         "mode": "lines",
         "showlegend": false,
         "type": "scatter",
         "x": [
          -0.9638361606138051,
          -0.8998730555186966,
          null
         ],
         "y": [
          -0.07324778549173401,
          -0.41342708840603015,
          null
         ]
        },
        {
         "hovertemplate": "<b>Mary Figueroa → Patrick Williams</b><br>Interactions: 1<br>Similarity: -0.011<extra></extra>",
         "line": {
          "color": "rgba(253, 219, 199, 0.7)",
          "width": 1
         },
         "mode": "lines",
         "showlegend": false,
         "type": "scatter",
         "x": [
          -0.9638361606138051,
          0.2561361615289968,
          null
         ],
         "y": [
          -0.07324778549173401,
          -1,
          null
         ]
        },
        {
         "hovertemplate": "<b>Mary Figueroa → Rebecca Hall</b><br>Interactions: 1<br>Similarity: 0.295<extra></extra>",
         "line": {
          "color": "rgba(209, 229, 240, 0.7)",
          "width": 1
         },
         "mode": "lines",
         "showlegend": false,
         "type": "scatter",
         "x": [
          -0.9638361606138051,
          -0.09244796540966069,
          null
         ],
         "y": [
          -0.07324778549173401,
          -0.9736932525652702,
          null
         ]
        },
        {
         "hovertemplate": "<b>Mary Figueroa → Matthew Odom</b><br>Interactions: 1<br>Similarity: -0.011<extra></extra>",
         "line": {
          "color": "rgba(253, 219, 199, 0.7)",
          "width": 1
         },
         "mode": "lines",
         "showlegend": false,
         "type": "scatter",
         "x": [
          -0.9638361606138051,
          0.9317906794991804,
          null
         ],
         "y": [
          -0.07324778549173401,
          -0.24878282567207277,
          null
         ]
        },
        {
         "hovertemplate": "<b>Mary Figueroa → Jacqueline Clark</b><br>Interactions: 1<br>Similarity: 0.133<extra></extra>",
         "line": {
          "color": "rgba(253, 219, 199, 0.7)",
          "width": 1
         },
         "mode": "lines",
         "showlegend": false,
         "type": "scatter",
         "x": [
          -0.9638361606138051,
          0.5826003125569416,
          null
         ],
         "y": [
          -0.07324778549173401,
          -0.8331632910226803,
          null
         ]
        },
        {
         "hovertemplate": "<b>Mary Figueroa → Eric Austin</b><br>Interactions: 2<br>Similarity: 0.286<extra></extra>",
         "line": {
          "color": "rgba(209, 229, 240, 0.7)",
          "width": 1
         },
         "mode": "lines",
         "showlegend": false,
         "type": "scatter",
         "x": [
          -0.9638361606138051,
          0.0679339182236547,
          null
         ],
         "y": [
          -0.07324778549173401,
          0.9961658653082643,
          null
         ]
        },
        {
         "hovertemplate": "<b>Patrick Williams → Andrew Vang</b><br>Interactions: 2<br>Similarity: 0.126<extra></extra>",
         "line": {
          "color": "rgba(253, 219, 199, 0.7)",
          "width": 1
         },
         "mode": "lines",
         "showlegend": false,
         "type": "scatter",
         "x": [
          0.2561361615289968,
          -0.44152715747871657,
          null
         ],
         "y": [
          -1,
          -0.9176520610391299,
          null
         ]
        },
        {
         "hovertemplate": "<b>Patrick Williams → George Brown</b><br>Interactions: 12<br>Similarity: -0.125<extra></extra>",
         "line": {
          "color": "rgba(244, 165, 130, 0.7)",
          "width": 4
         },
         "mode": "lines",
         "showlegend": false,
         "type": "scatter",
         "x": [
          0.2561361615289968,
          -0.29233083356523126,
          null
         ],
         "y": [
          -1,
          0.9677886068772861,
          null
         ]
        },
        {
         "hovertemplate": "<b>Patrick Williams → William Murphy</b><br>Interactions: 14<br>Similarity: 0.256<extra></extra>",
         "line": {
          "color": "rgba(209, 229, 240, 0.7)",
          "width": 4.666666666666667
         },
         "mode": "lines",
         "showlegend": false,
         "type": "scatter",
         "x": [
          0.2561361615289968,
          0.3989395953966282,
          null
         ],
         "y": [
          -1,
          0.8806421641799811,
          null
         ]
        },
        {
         "hovertemplate": "<b>Patrick Williams → Heather Ward</b><br>Interactions: 2<br>Similarity: 0.567<extra></extra>",
         "line": {
          "color": "rgba(146, 197, 222, 0.7)",
          "width": 1
         },
         "mode": "lines",
         "showlegend": false,
         "type": "scatter",
         "x": [
          0.2561361615289968,
          0.6859450045720663,
          null
         ],
         "y": [
          -1,
          0.6869475070736885,
          null
         ]
        },
        {
         "hovertemplate": "<b>Patrick Williams → Matthew Odom</b><br>Interactions: 22<br>Similarity: 0.615<extra></extra>",
         "line": {
          "color": "rgba(67, 147, 195, 0.7)",
          "width": 7.333333333333333
         },
         "mode": "lines",
         "showlegend": false,
         "type": "scatter",
         "x": [
          0.2561361615289968,
          0.9317906794991804,
          null
         ],
         "y": [
          -1,
          -0.24878282567207277,
          null
         ]
        },
        {
         "hovertemplate": "<b>Patrick Williams → Justin Love</b><br>Interactions: 13<br>Similarity: -0.141<extra></extra>",
         "line": {
          "color": "rgba(244, 165, 130, 0.7)",
          "width": 4.333333333333333
         },
         "mode": "lines",
         "showlegend": false,
         "type": "scatter",
         "x": [
          0.2561361615289968,
          0.941297126675412,
          null
         ],
         "y": [
          -1,
          0.4488265431389019,
          null
         ]
        },
        {
         "hovertemplate": "<b>Patrick Williams → Cole Hunter</b><br>Interactions: 8<br>Similarity: -0.048<extra></extra>",
         "line": {
          "color": "rgba(244, 165, 130, 0.7)",
          "width": 2.6666666666666665
         },
         "mode": "lines",
         "showlegend": false,
         "type": "scatter",
         "x": [
          0.2561361615289968,
          -0.6854988190417277,
          null
         ],
         "y": [
          -1,
          -0.6797312320517651,
          null
         ]
        },
        {
         "hovertemplate": "<b>Patrick Williams → William Obrien</b><br>Interactions: 16<br>Similarity: -0.048<extra></extra>",
         "line": {
          "color": "rgba(244, 165, 130, 0.7)",
          "width": 5.333333333333333
         },
         "mode": "lines",
         "showlegend": false,
         "type": "scatter",
         "x": [
          0.2561361615289968,
          0.8501807977005968,
          null
         ],
         "y": [
          -1,
          -0.5807629751799296,
          null
         ]
        },
        {
         "hovertemplate": "<b>Patrick Williams → Rebecca Hall</b><br>Interactions: 18<br>Similarity: 0.032<extra></extra>",
         "line": {
          "color": "rgba(253, 219, 199, 0.7)",
          "width": 6
         },
         "mode": "lines",
         "showlegend": false,
         "type": "scatter",
         "x": [
          0.2561361615289968,
          -0.09244796540966069,
          null
         ],
         "y": [
          -1,
          -0.9736932525652702,
          null
         ]
        },
        {
         "hovertemplate": "<b>Patrick Williams → Eric Austin</b><br>Interactions: 12<br>Similarity: 0.352<extra></extra>",
         "line": {
          "color": "rgba(209, 229, 240, 0.7)",
          "width": 4
         },
         "mode": "lines",
         "showlegend": false,
         "type": "scatter",
         "x": [
          0.2561361615289968,
          0.0679339182236547,
          null
         ],
         "y": [
          -1,
          0.9961658653082643,
          null
         ]
        },
        {
         "hovertemplate": "<b>Patrick Williams → Daniel Gordon</b><br>Interactions: 5<br>Similarity: -0.346<extra></extra>",
         "line": {
          "color": "rgba(214, 96, 77, 0.7)",
          "width": 1.6666666666666667
         },
         "mode": "lines",
         "showlegend": false,
         "type": "scatter",
         "x": [
          0.2561361615289968,
          -0.9632478875329431,
          null
         ],
         "y": [
          -1,
          0.2760289180058474,
          null
         ]
        },
        {
         "hovertemplate": "<b>Patrick Williams → Jennifer Thomas</b><br>Interactions: 11<br>Similarity: 0.197<extra></extra>",
         "line": {
          "color": "rgba(209, 229, 240, 0.7)",
          "width": 3.6666666666666665
         },
         "mode": "lines",
         "showlegend": false,
         "type": "scatter",
         "x": [
          0.2561361615289968,
          -0.8998730555186966,
          null
         ],
         "y": [
          -1,
          -0.41342708840603015,
          null
         ]
        },
        {
         "hovertemplate": "<b>Patrick Williams → Lynn Spencer</b><br>Interactions: 7<br>Similarity: -0.066<extra></extra>",
         "line": {
          "color": "rgba(244, 165, 130, 0.7)",
          "width": 2.3333333333333335
         },
         "mode": "lines",
         "showlegend": false,
         "type": "scatter",
         "x": [
          0.2561361615289968,
          0.9849319565143412,
          null
         ],
         "y": [
          -1,
          0.09213560621422415,
          null
         ]
        },
        {
         "hovertemplate": "<b>Patrick Williams → Julie Francis</b><br>Interactions: 16<br>Similarity: -0.419<extra></extra>",
         "line": {
          "color": "rgba(178, 24, 43, 0.7)",
          "width": 5.333333333333333
         },
         "mode": "lines",
         "showlegend": false,
         "type": "scatter",
         "x": [
          0.2561361615289968,
          -0.5361147761514105,
          null
         ],
         "y": [
          -1,
          0.7536928474138247,
          null
         ]
        },
        {
         "hovertemplate": "<b>Patrick Williams → Mary Figueroa</b><br>Interactions: 15<br>Similarity: -0.011<extra></extra>",
         "line": {
          "color": "rgba(253, 219, 199, 0.7)",
          "width": 5
         },
         "mode": "lines",
         "showlegend": false,
         "type": "scatter",
         "x": [
          0.2561361615289968,
          -0.9638361606138051,
          null
         ],
         "y": [
          -1,
          -0.07324778549173401,
          null
         ]
        },
        {
         "hovertemplate": "<b>Patrick Williams → Jason Day</b><br>Interactions: 1<br>Similarity: -0.471<extra></extra>",
         "line": {
          "color": "rgba(178, 24, 43, 0.7)",
          "width": 1
         },
         "mode": "lines",
         "showlegend": false,
         "type": "scatter",
         "x": [
          0.2561361615289968,
          -0.8248788973556259,
          null
         ],
         "y": [
          -1,
          0.6182324532165933,
          null
         ]
        },
        {
         "hovertemplate": "<b>Patrick Williams → Jacqueline Clark</b><br>Interactions: 9<br>Similarity: 0.098<extra></extra>",
         "line": {
          "color": "rgba(253, 219, 199, 0.7)",
          "width": 3
         },
         "mode": "lines",
         "showlegend": false,
         "type": "scatter",
         "x": [
          0.2561361615289968,
          0.5826003125569416,
          null
         ],
         "y": [
          -1,
          -0.8331632910226803,
          null
         ]
        },
        {
         "hovertemplate": "<b>Matthew Odom → Patrick Williams</b><br>Interactions: 18<br>Similarity: 0.615<extra></extra>",
         "line": {
          "color": "rgba(67, 147, 195, 0.7)",
          "width": 6
         },
         "mode": "lines",
         "showlegend": false,
         "type": "scatter",
         "x": [
          0.9317906794991804,
          0.2561361615289968,
          null
         ],
         "y": [
          -0.24878282567207277,
          -1,
          null
         ]
        },
        {
         "hovertemplate": "<b>Matthew Odom → Mary Figueroa</b><br>Interactions: 24<br>Similarity: -0.011<extra></extra>",
         "line": {
          "color": "rgba(253, 219, 199, 0.7)",
          "width": 8
         },
         "mode": "lines",
         "showlegend": false,
         "type": "scatter",
         "x": [
          0.9317906794991804,
          -0.9638361606138051,
          null
         ],
         "y": [
          -0.24878282567207277,
          -0.07324778549173401,
          null
         ]
        },
        {
         "hovertemplate": "<b>Matthew Odom → Rebecca Hall</b><br>Interactions: 23<br>Similarity: -0.014<extra></extra>",
         "line": {
          "color": "rgba(244, 165, 130, 0.7)",
          "width": 7.666666666666667
         },
         "mode": "lines",
         "showlegend": false,
         "type": "scatter",
         "x": [
          0.9317906794991804,
          -0.09244796540966069,
          null
         ],
         "y": [
          -0.24878282567207277,
          -0.9736932525652702,
          null
         ]
        },
        {
         "hovertemplate": "<b>Matthew Odom → George Brown</b><br>Interactions: 12<br>Similarity: 0.269<extra></extra>",
         "line": {
          "color": "rgba(209, 229, 240, 0.7)",
          "width": 4
         },
         "mode": "lines",
         "showlegend": false,
         "type": "scatter",
         "x": [
          0.9317906794991804,
          -0.29233083356523126,
          null
         ],
         "y": [
          -0.24878282567207277,
          0.9677886068772861,
          null
         ]
        },
        {
         "hovertemplate": "<b>Matthew Odom → Justin Love</b><br>Interactions: 20<br>Similarity: -0.429<extra></extra>",
         "line": {
          "color": "rgba(178, 24, 43, 0.7)",
          "width": 6.666666666666667
         },
         "mode": "lines",
         "showlegend": false,
         "type": "scatter",
         "x": [
          0.9317906794991804,
          0.941297126675412,
          null
         ],
         "y": [
          -0.24878282567207277,
          0.4488265431389019,
          null
         ]
        },
        {
         "hovertemplate": "<b>Matthew Odom → Julie Francis</b><br>Interactions: 17<br>Similarity: -0.250<extra></extra>",
         "line": {
          "color": "rgba(214, 96, 77, 0.7)",
          "width": 5.666666666666667
         },
         "mode": "lines",
         "showlegend": false,
         "type": "scatter",
         "x": [
          0.9317906794991804,
          -0.5361147761514105,
          null
         ],
         "y": [
          -0.24878282567207277,
          0.7536928474138247,
          null
         ]
        },
        {
         "hovertemplate": "<b>Matthew Odom → William Murphy</b><br>Interactions: 21<br>Similarity: 0.320<extra></extra>",
         "line": {
          "color": "rgba(209, 229, 240, 0.7)",
          "width": 7
         },
         "mode": "lines",
         "showlegend": false,
         "type": "scatter",
         "x": [
          0.9317906794991804,
          0.3989395953966282,
          null
         ],
         "y": [
          -0.24878282567207277,
          0.8806421641799811,
          null
         ]
        },
        {
         "hovertemplate": "<b>Matthew Odom → Jennifer Thomas</b><br>Interactions: 13<br>Similarity: 0.025<extra></extra>",
         "line": {
          "color": "rgba(253, 219, 199, 0.7)",
          "width": 4.333333333333333
         },
         "mode": "lines",
         "showlegend": false,
         "type": "scatter",
         "x": [
          0.9317906794991804,
          -0.8998730555186966,
          null
         ],
         "y": [
          -0.24878282567207277,
          -0.41342708840603015,
          null
         ]
        },
        {
         "hovertemplate": "<b>Matthew Odom → Cole Hunter</b><br>Interactions: 14<br>Similarity: -0.639<extra></extra>",
         "line": {
          "color": "rgba(103, 0, 31, 0.7)",
          "width": 4.666666666666667
         },
         "mode": "lines",
         "showlegend": false,
         "type": "scatter",
         "x": [
          0.9317906794991804,
          -0.6854988190417277,
          null
         ],
         "y": [
          -0.24878282567207277,
          -0.6797312320517651,
          null
         ]
        },
        {
         "hovertemplate": "<b>Matthew Odom → Eric Austin</b><br>Interactions: 9<br>Similarity: 0.298<extra></extra>",
         "line": {
          "color": "rgba(209, 229, 240, 0.7)",
          "width": 3
         },
         "mode": "lines",
         "showlegend": false,
         "type": "scatter",
         "x": [
          0.9317906794991804,
          0.0679339182236547,
          null
         ],
         "y": [
          -0.24878282567207277,
          0.9961658653082643,
          null
         ]
        },
        {
         "hovertemplate": "<b>Matthew Odom → William Obrien</b><br>Interactions: 16<br>Similarity: -0.132<extra></extra>",
         "line": {
          "color": "rgba(244, 165, 130, 0.7)",
          "width": 5.333333333333333
         },
         "mode": "lines",
         "showlegend": false,
         "type": "scatter",
         "x": [
          0.9317906794991804,
          0.8501807977005968,
          null
         ],
         "y": [
          -0.24878282567207277,
          -0.5807629751799296,
          null
         ]
        },
        {
         "hovertemplate": "<b>Matthew Odom → Jacqueline Clark</b><br>Interactions: 23<br>Similarity: 0.211<extra></extra>",
         "line": {
          "color": "rgba(209, 229, 240, 0.7)",
          "width": 7.666666666666667
         },
         "mode": "lines",
         "showlegend": false,
         "type": "scatter",
         "x": [
          0.9317906794991804,
          0.5826003125569416,
          null
         ],
         "y": [
          -0.24878282567207277,
          -0.8331632910226803,
          null
         ]
        },
        {
         "hovertemplate": "<b>Matthew Odom → Lynn Spencer</b><br>Interactions: 8<br>Similarity: 0.114<extra></extra>",
         "line": {
          "color": "rgba(253, 219, 199, 0.7)",
          "width": 2.6666666666666665
         },
         "mode": "lines",
         "showlegend": false,
         "type": "scatter",
         "x": [
          0.9317906794991804,
          0.9849319565143412,
          null
         ],
         "y": [
          -0.24878282567207277,
          0.09213560621422415,
          null
         ]
        },
        {
         "hovertemplate": "<b>Matthew Odom → Matthew Odom</b><br>Interactions: 8<br>Similarity: 1.000<extra></extra>",
         "line": {
          "color": "rgba(33, 102, 172, 0.7)",
          "width": 2.6666666666666665
         },
         "mode": "lines",
         "showlegend": false,
         "type": "scatter",
         "x": [
          0.9317906794991804,
          0.9317906794991804,
          null
         ],
         "y": [
          -0.24878282567207277,
          -0.24878282567207277,
          null
         ]
        },
        {
         "hovertemplate": "<b>Matthew Odom → Jason Day</b><br>Interactions: 2<br>Similarity: -0.821<extra></extra>",
         "line": {
          "color": "rgba(103, 0, 31, 0.7)",
          "width": 1
         },
         "mode": "lines",
         "showlegend": false,
         "type": "scatter",
         "x": [
          0.9317906794991804,
          -0.8248788973556259,
          null
         ],
         "y": [
          -0.24878282567207277,
          0.6182324532165933,
          null
         ]
        },
        {
         "hovertemplate": "<b>Matthew Odom → Andrew Vang</b><br>Interactions: 4<br>Similarity: 0.008<extra></extra>",
         "line": {
          "color": "rgba(253, 219, 199, 0.7)",
          "width": 1.3333333333333333
         },
         "mode": "lines",
         "showlegend": false,
         "type": "scatter",
         "x": [
          0.9317906794991804,
          -0.44152715747871657,
          null
         ],
         "y": [
          -0.24878282567207277,
          -0.9176520610391299,
          null
         ]
        },
        {
         "hovertemplate": "<b>George Brown → Matthew Odom</b><br>Interactions: 25<br>Similarity: 0.269<extra></extra>",
         "line": {
          "color": "rgba(209, 229, 240, 0.7)",
          "width": 8.333333333333334
         },
         "mode": "lines",
         "showlegend": false,
         "type": "scatter",
         "x": [
          -0.29233083356523126,
          0.9317906794991804,
          null
         ],
         "y": [
          0.9677886068772861,
          -0.24878282567207277,
          null
         ]
        },
        {
         "hovertemplate": "<b>George Brown → Eric Austin</b><br>Interactions: 18<br>Similarity: 0.319<extra></extra>",
         "line": {
          "color": "rgba(209, 229, 240, 0.7)",
          "width": 6
         },
         "mode": "lines",
         "showlegend": false,
         "type": "scatter",
         "x": [
          -0.29233083356523126,
          0.0679339182236547,
          null
         ],
         "y": [
          0.9677886068772861,
          0.9961658653082643,
          null
         ]
        },
        {
         "hovertemplate": "<b>George Brown → William Murphy</b><br>Interactions: 71<br>Similarity: 0.268<extra></extra>",
         "line": {
          "color": "rgba(209, 229, 240, 0.7)",
          "width": 10
         },
         "mode": "lines",
         "showlegend": false,
         "type": "scatter",
         "x": [
          -0.29233083356523126,
          0.3989395953966282,
          null
         ],
         "y": [
          0.9677886068772861,
          0.8806421641799811,
          null
         ]
        },
        {
         "hovertemplate": "<b>George Brown → Rebecca Hall</b><br>Interactions: 110<br>Similarity: -0.295<extra></extra>",
         "line": {
          "color": "rgba(214, 96, 77, 0.7)",
          "width": 10
         },
         "mode": "lines",
         "showlegend": false,
         "type": "scatter",
         "x": [
          -0.29233083356523126,
          -0.09244796540966069,
          null
         ],
         "y": [
          0.9677886068772861,
          -0.9736932525652702,
          null
         ]
        },
        {
         "hovertemplate": "<b>George Brown → Andrew Vang</b><br>Interactions: 32<br>Similarity: 0.028<extra></extra>",
         "line": {
          "color": "rgba(253, 219, 199, 0.7)",
          "width": 10
         },
         "mode": "lines",
         "showlegend": false,
         "type": "scatter",
         "x": [
          -0.29233083356523126,
          -0.44152715747871657,
          null
         ],
         "y": [
          0.9677886068772861,
          -0.9176520610391299,
          null
         ]
        },
        {
         "hovertemplate": "<b>George Brown → Julie Francis</b><br>Interactions: 20<br>Similarity: -0.324<extra></extra>",
         "line": {
          "color": "rgba(214, 96, 77, 0.7)",
          "width": 6.666666666666667
         },
         "mode": "lines",
         "showlegend": false,
         "type": "scatter",
         "x": [
          -0.29233083356523126,
          -0.5361147761514105,
          null
         ],
         "y": [
          0.9677886068772861,
          0.7536928474138247,
          null
         ]
        },
        {
         "hovertemplate": "<b>George Brown → Cole Hunter</b><br>Interactions: 49<br>Similarity: -0.313<extra></extra>",
         "line": {
          "color": "rgba(214, 96, 77, 0.7)",
          "width": 10
         },
         "mode": "lines",
         "showlegend": false,
         "type": "scatter",
         "x": [
          -0.29233083356523126,
          -0.6854988190417277,
          null
         ],
         "y": [
          0.9677886068772861,
          -0.6797312320517651,
          null
         ]
        },
        {
         "hovertemplate": "<b>George Brown → Daniel Gordon</b><br>Interactions: 38<br>Similarity: -0.092<extra></extra>",
         "line": {
          "color": "rgba(244, 165, 130, 0.7)",
          "width": 10
         },
         "mode": "lines",
         "showlegend": false,
         "type": "scatter",
         "x": [
          -0.29233083356523126,
          -0.9632478875329431,
          null
         ],
         "y": [
          0.9677886068772861,
          0.2760289180058474,
          null
         ]
        },
        {
         "hovertemplate": "<b>George Brown → Mary Figueroa</b><br>Interactions: 46<br>Similarity: -0.388<extra></extra>",
         "line": {
          "color": "rgba(214, 96, 77, 0.7)",
          "width": 10
         },
         "mode": "lines",
         "showlegend": false,
         "type": "scatter",
         "x": [
          -0.29233083356523126,
          -0.9638361606138051,
          null
         ],
         "y": [
          0.9677886068772861,
          -0.07324778549173401,
          null
         ]
        },
        {
         "hovertemplate": "<b>George Brown → Patrick Williams</b><br>Interactions: 19<br>Similarity: -0.125<extra></extra>",
         "line": {
          "color": "rgba(244, 165, 130, 0.7)",
          "width": 6.333333333333333
         },
         "mode": "lines",
         "showlegend": false,
         "type": "scatter",
         "x": [
          -0.29233083356523126,
          0.2561361615289968,
          null
         ],
         "y": [
          0.9677886068772861,
          -1,
          null
         ]
        },
        {
         "hovertemplate": "<b>George Brown → Lynn Spencer</b><br>Interactions: 46<br>Similarity: 0.427<extra></extra>",
         "line": {
          "color": "rgba(146, 197, 222, 0.7)",
          "width": 10
         },
         "mode": "lines",
         "showlegend": false,
         "type": "scatter",
         "x": [
          -0.29233083356523126,
          0.9849319565143412,
          null
         ],
         "y": [
          0.9677886068772861,
          0.09213560621422415,
          null
         ]
        },
        {
         "hovertemplate": "<b>George Brown → Jennifer Thomas</b><br>Interactions: 40<br>Similarity: -0.790<extra></extra>",
         "line": {
          "color": "rgba(103, 0, 31, 0.7)",
          "width": 10
         },
         "mode": "lines",
         "showlegend": false,
         "type": "scatter",
         "x": [
          -0.29233083356523126,
          -0.8998730555186966,
          null
         ],
         "y": [
          0.9677886068772861,
          -0.41342708840603015,
          null
         ]
        },
        {
         "hovertemplate": "<b>George Brown → Jason Day</b><br>Interactions: 6<br>Similarity: -0.154<extra></extra>",
         "line": {
          "color": "rgba(244, 165, 130, 0.7)",
          "width": 2
         },
         "mode": "lines",
         "showlegend": false,
         "type": "scatter",
         "x": [
          -0.29233083356523126,
          -0.8248788973556259,
          null
         ],
         "y": [
          0.9677886068772861,
          0.6182324532165933,
          null
         ]
        },
        {
         "hovertemplate": "<b>George Brown → Justin Love</b><br>Interactions: 33<br>Similarity: -0.752<extra></extra>",
         "line": {
          "color": "rgba(103, 0, 31, 0.7)",
          "width": 10
         },
         "mode": "lines",
         "showlegend": false,
         "type": "scatter",
         "x": [
          -0.29233083356523126,
          0.941297126675412,
          null
         ],
         "y": [
          0.9677886068772861,
          0.4488265431389019,
          null
         ]
        },
        {
         "hovertemplate": "<b>George Brown → Heather Ward</b><br>Interactions: 24<br>Similarity: 0.362<extra></extra>",
         "line": {
          "color": "rgba(209, 229, 240, 0.7)",
          "width": 8
         },
         "mode": "lines",
         "showlegend": false,
         "type": "scatter",
         "x": [
          -0.29233083356523126,
          0.6859450045720663,
          null
         ],
         "y": [
          0.9677886068772861,
          0.6869475070736885,
          null
         ]
        },
        {
         "hovertemplate": "<b>George Brown → William Obrien</b><br>Interactions: 10<br>Similarity: 0.016<extra></extra>",
         "line": {
          "color": "rgba(253, 219, 199, 0.7)",
          "width": 3.3333333333333335
         },
         "mode": "lines",
         "showlegend": false,
         "type": "scatter",
         "x": [
          -0.29233083356523126,
          0.8501807977005968,
          null
         ],
         "y": [
          0.9677886068772861,
          -0.5807629751799296,
          null
         ]
        },
        {
         "hovertemplate": "<b>George Brown → George Brown</b><br>Interactions: 6<br>Similarity: 1.000<extra></extra>",
         "line": {
          "color": "rgba(33, 102, 172, 0.7)",
          "width": 2
         },
         "mode": "lines",
         "showlegend": false,
         "type": "scatter",
         "x": [
          -0.29233083356523126,
          -0.29233083356523126,
          null
         ],
         "y": [
          0.9677886068772861,
          0.9677886068772861,
          null
         ]
        },
        {
         "hovertemplate": "<b>George Brown → Jacqueline Clark</b><br>Interactions: 30<br>Similarity: -0.074<extra></extra>",
         "line": {
          "color": "rgba(244, 165, 130, 0.7)",
          "width": 10
         },
         "mode": "lines",
         "showlegend": false,
         "type": "scatter",
         "x": [
          -0.29233083356523126,
          0.5826003125569416,
          null
         ],
         "y": [
          0.9677886068772861,
          -0.8331632910226803,
          null
         ]
        },
        {
         "hovertemplate": "<b>Justin Love → Rebecca Hall</b><br>Interactions: 54<br>Similarity: 0.351<extra></extra>",
         "line": {
          "color": "rgba(209, 229, 240, 0.7)",
          "width": 10
         },
         "mode": "lines",
         "showlegend": false,
         "type": "scatter",
         "x": [
          0.941297126675412,
          -0.09244796540966069,
          null
         ],
         "y": [
          0.4488265431389019,
          -0.9736932525652702,
          null
         ]
        },
        {
         "hovertemplate": "<b>Justin Love → Andrew Vang</b><br>Interactions: 17<br>Similarity: 0.169<extra></extra>",
         "line": {
          "color": "rgba(253, 219, 199, 0.7)",
          "width": 5.666666666666667
         },
         "mode": "lines",
         "showlegend": false,
         "type": "scatter",
         "x": [
          0.941297126675412,
          -0.44152715747871657,
          null
         ],
         "y": [
          0.4488265431389019,
          -0.9176520610391299,
          null
         ]
        },
        {
         "hovertemplate": "<b>Justin Love → Matthew Odom</b><br>Interactions: 1<br>Similarity: -0.429<extra></extra>",
         "line": {
          "color": "rgba(178, 24, 43, 0.7)",
          "width": 1
         },
         "mode": "lines",
         "showlegend": false,
         "type": "scatter",
         "x": [
          0.941297126675412,
          0.9317906794991804,
          null
         ],
         "y": [
          0.4488265431389019,
          -0.24878282567207277,
          null
         ]
        },
        {
         "hovertemplate": "<b>Justin Love → William Murphy</b><br>Interactions: 36<br>Similarity: -0.191<extra></extra>",
         "line": {
          "color": "rgba(244, 165, 130, 0.7)",
          "width": 10
         },
         "mode": "lines",
         "showlegend": false,
         "type": "scatter",
         "x": [
          0.941297126675412,
          0.3989395953966282,
          null
         ],
         "y": [
          0.4488265431389019,
          0.8806421641799811,
          null
         ]
        },
        {
         "hovertemplate": "<b>Justin Love → Mary Figueroa</b><br>Interactions: 30<br>Similarity: -0.064<extra></extra>",
         "line": {
          "color": "rgba(244, 165, 130, 0.7)",
          "width": 10
         },
         "mode": "lines",
         "showlegend": false,
         "type": "scatter",
         "x": [
          0.941297126675412,
          -0.9638361606138051,
          null
         ],
         "y": [
          0.4488265431389019,
          -0.07324778549173401,
          null
         ]
        },
        {
         "hovertemplate": "<b>Justin Love → Daniel Gordon</b><br>Interactions: 12<br>Similarity: -0.026<extra></extra>",
         "line": {
          "color": "rgba(244, 165, 130, 0.7)",
          "width": 4
         },
         "mode": "lines",
         "showlegend": false,
         "type": "scatter",
         "x": [
          0.941297126675412,
          -0.9632478875329431,
          null
         ],
         "y": [
          0.4488265431389019,
          0.2760289180058474,
          null
         ]
        },
        {
         "hovertemplate": "<b>Justin Love → William Obrien</b><br>Interactions: 8<br>Similarity: 0.034<extra></extra>",
         "line": {
          "color": "rgba(253, 219, 199, 0.7)",
          "width": 2.6666666666666665
         },
         "mode": "lines",
         "showlegend": false,
         "type": "scatter",
         "x": [
          0.941297126675412,
          0.8501807977005968,
          null
         ],
         "y": [
          0.4488265431389019,
          -0.5807629751799296,
          null
         ]
        },
        {
         "hovertemplate": "<b>Justin Love → Julie Francis</b><br>Interactions: 10<br>Similarity: 0.300<extra></extra>",
         "line": {
          "color": "rgba(209, 229, 240, 0.7)",
          "width": 3.3333333333333335
         },
         "mode": "lines",
         "showlegend": false,
         "type": "scatter",
         "x": [
          0.941297126675412,
          -0.5361147761514105,
          null
         ],
         "y": [
          0.4488265431389019,
          0.7536928474138247,
          null
         ]
        },
        {
         "hovertemplate": "<b>Justin Love → Jennifer Thomas</b><br>Interactions: 21<br>Similarity: 0.593<extra></extra>",
         "line": {
          "color": "rgba(146, 197, 222, 0.7)",
          "width": 7
         },
         "mode": "lines",
         "showlegend": false,
         "type": "scatter",
         "x": [
          0.941297126675412,
          -0.8998730555186966,
          null
         ],
         "y": [
          0.4488265431389019,
          -0.41342708840603015,
          null
         ]
        },
        {
         "hovertemplate": "<b>Justin Love → Lynn Spencer</b><br>Interactions: 9<br>Similarity: -0.115<extra></extra>",
         "line": {
          "color": "rgba(244, 165, 130, 0.7)",
          "width": 3
         },
         "mode": "lines",
         "showlegend": false,
         "type": "scatter",
         "x": [
          0.941297126675412,
          0.9849319565143412,
          null
         ],
         "y": [
          0.4488265431389019,
          0.09213560621422415,
          null
         ]
        },
        {
         "hovertemplate": "<b>Justin Love → Heather Ward</b><br>Interactions: 3<br>Similarity: -0.271<extra></extra>",
         "line": {
          "color": "rgba(214, 96, 77, 0.7)",
          "width": 1
         },
         "mode": "lines",
         "showlegend": false,
         "type": "scatter",
         "x": [
          0.941297126675412,
          0.6859450045720663,
          null
         ],
         "y": [
          0.4488265431389019,
          0.6869475070736885,
          null
         ]
        },
        {
         "hovertemplate": "<b>Justin Love → Eric Austin</b><br>Interactions: 8<br>Similarity: -0.675<extra></extra>",
         "line": {
          "color": "rgba(103, 0, 31, 0.7)",
          "width": 2.6666666666666665
         },
         "mode": "lines",
         "showlegend": false,
         "type": "scatter",
         "x": [
          0.941297126675412,
          0.0679339182236547,
          null
         ],
         "y": [
          0.4488265431389019,
          0.9961658653082643,
          null
         ]
        },
        {
         "hovertemplate": "<b>Justin Love → George Brown</b><br>Interactions: 1<br>Similarity: -0.752<extra></extra>",
         "line": {
          "color": "rgba(103, 0, 31, 0.7)",
          "width": 1
         },
         "mode": "lines",
         "showlegend": false,
         "type": "scatter",
         "x": [
          0.941297126675412,
          -0.29233083356523126,
          null
         ],
         "y": [
          0.4488265431389019,
          0.9677886068772861,
          null
         ]
        },
        {
         "hovertemplate": "<b>Justin Love → Jacqueline Clark</b><br>Interactions: 4<br>Similarity: 0.265<extra></extra>",
         "line": {
          "color": "rgba(209, 229, 240, 0.7)",
          "width": 1.3333333333333333
         },
         "mode": "lines",
         "showlegend": false,
         "type": "scatter",
         "x": [
          0.941297126675412,
          0.5826003125569416,
          null
         ],
         "y": [
          0.4488265431389019,
          -0.8331632910226803,
          null
         ]
        },
        {
         "hovertemplate": "<b>Justin Love → Justin Love</b><br>Interactions: 6<br>Similarity: 1.000<extra></extra>",
         "line": {
          "color": "rgba(33, 102, 172, 0.7)",
          "width": 2
         },
         "mode": "lines",
         "showlegend": false,
         "type": "scatter",
         "x": [
          0.941297126675412,
          0.941297126675412,
          null
         ],
         "y": [
          0.4488265431389019,
          0.4488265431389019,
          null
         ]
        },
        {
         "hovertemplate": "<b>Justin Love → Cole Hunter</b><br>Interactions: 5<br>Similarity: 0.211<extra></extra>",
         "line": {
          "color": "rgba(209, 229, 240, 0.7)",
          "width": 1.6666666666666667
         },
         "mode": "lines",
         "showlegend": false,
         "type": "scatter",
         "x": [
          0.941297126675412,
          -0.6854988190417277,
          null
         ],
         "y": [
          0.4488265431389019,
          -0.6797312320517651,
          null
         ]
        },
        {
         "hovertemplate": "<b>Justin Love → Patrick Williams</b><br>Interactions: 1<br>Similarity: -0.141<extra></extra>",
         "line": {
          "color": "rgba(244, 165, 130, 0.7)",
          "width": 1
         },
         "mode": "lines",
         "showlegend": false,
         "type": "scatter",
         "x": [
          0.941297126675412,
          0.2561361615289968,
          null
         ],
         "y": [
          0.4488265431389019,
          -1,
          null
         ]
        },
        {
         "hovertemplate": "<b>Eric Austin</b><br>Type: voter<br>Incoming: 157<br>Outgoing: 143<extra></extra>",
         "marker": {
          "color": "#2166ac",
          "line": {
           "color": "white",
           "width": 2
          },
          "opacity": 0.25,
          "size": 33.42165898617512
         },
         "mode": "markers+text",
         "showlegend": false,
         "text": "Eric Austin",
         "textfont": {
          "color": "black",
          "family": "Arial Black",
          "size": 8
         },
         "textposition": "middle center",
         "type": "scatter",
         "x": [
          0.0679339182236547
         ],
         "y": [
          0.9961658653082643
         ]
        },
        {
         "hovertemplate": "<b>Lynn Spencer</b><br>Type: voter<br>Incoming: 126<br>Outgoing: 129<extra></extra>",
         "marker": {
          "color": "#2166ac",
          "line": {
           "color": "white",
           "width": 2
          },
          "opacity": 0.25,
          "size": 28.77880184331797
         },
         "mode": "markers+text",
         "showlegend": false,
         "text": "Lynn Spencer",
         "textfont": {
          "color": "black",
          "family": "Arial Black",
          "size": 8
         },
         "textposition": "middle center",
         "type": "scatter",
         "x": [
          0.9849319565143412
         ],
         "y": [
          0.09213560621422415
         ]
        },
        {
         "hovertemplate": "<b>Andrew Vang</b><br>Type: voter<br>Incoming: 78<br>Outgoing: 275<extra></extra>",
         "marker": {
          "color": "#2166ac",
          "line": {
           "color": "white",
           "width": 2
          },
          "opacity": 0.25,
          "size": 21.589861751152075
         },
         "mode": "markers+text",
         "showlegend": false,
         "text": "Andrew Vang",
         "textfont": {
          "color": "black",
          "family": "Arial Black",
          "size": 8
         },
         "textposition": "middle center",
         "type": "scatter",
         "x": [
          -0.44152715747871657
         ],
         "y": [
          -0.9176520610391299
         ]
        },
        {
         "hovertemplate": "<b>Daniel Gordon</b><br>Type: voter<br>Incoming: 78<br>Outgoing: 203<extra></extra>",
         "marker": {
          "color": "#2166ac",
          "line": {
           "color": "white",
           "width": 2
          },
          "opacity": 0.25,
          "size": 21.589861751152075
         },
         "mode": "markers+text",
         "showlegend": false,
         "text": "Daniel\nGordon",
         "textfont": {
          "color": "black",
          "family": "Arial Black",
          "size": 8
         },
         "textposition": "middle center",
         "type": "scatter",
         "x": [
          -0.9632478875329431
         ],
         "y": [
          0.2760289180058474
         ]
        },
        {
         "hovertemplate": "<b>Heather Ward</b><br>Type: voter<br>Incoming: 48<br>Outgoing: 103<extra></extra>",
         "marker": {
          "color": "#2166ac",
          "line": {
           "color": "white",
           "width": 2
          },
          "opacity": 0.25,
          "size": 17.096774193548388
         },
         "mode": "markers+text",
         "showlegend": false,
         "text": "Heather Ward",
         "textfont": {
          "color": "black",
          "family": "Arial Black",
          "size": 8
         },
         "textposition": "middle center",
         "type": "scatter",
         "x": [
          0.6859450045720663
         ],
         "y": [
          0.6869475070736885
         ]
        },
        {
         "hovertemplate": "<b>Jason Day</b><br>Type: voter<br>Incoming: 34<br>Outgoing: 119<extra></extra>",
         "marker": {
          "color": "#2166ac",
          "line": {
           "color": "white",
           "width": 2
          },
          "opacity": 0.25,
          "size": 15
         },
         "mode": "markers+text",
         "showlegend": false,
         "text": "Jason Day",
         "textfont": {
          "color": "black",
          "family": "Arial Black",
          "size": 8
         },
         "textposition": "middle center",
         "type": "scatter",
         "x": [
          -0.8248788973556259
         ],
         "y": [
          0.6182324532165933
         ]
        },
        {
         "hovertemplate": "<b>William Obrien</b><br>Type: voter<br>Incoming: 116<br>Outgoing: 130<extra></extra>",
         "marker": {
          "color": "#2166ac",
          "line": {
           "color": "white",
           "width": 2
          },
          "opacity": 0.25,
          "size": 27.28110599078341
         },
         "mode": "markers+text",
         "showlegend": false,
         "text": "William\nObrien",
         "textfont": {
          "color": "black",
          "family": "Arial Black",
          "size": 8
         },
         "textposition": "middle center",
         "type": "scatter",
         "x": [
          0.8501807977005968
         ],
         "y": [
          -0.5807629751799296
         ]
        },
        {
         "hovertemplate": "<b>Jennifer Thomas</b><br>Type: voter<br>Incoming: 157<br>Outgoing: 75<extra></extra>",
         "marker": {
          "color": "#2166ac",
          "line": {
           "color": "white",
           "width": 2
          },
          "opacity": 0.25,
          "size": 33.42165898617512
         },
         "mode": "markers+text",
         "showlegend": false,
         "text": "Jennifer\nThomas",
         "textfont": {
          "color": "black",
          "family": "Arial Black",
          "size": 8
         },
         "textposition": "middle center",
         "type": "scatter",
         "x": [
          -0.8998730555186966
         ],
         "y": [
          -0.41342708840603015
         ]
        },
        {
         "hovertemplate": "<b>Julie Francis</b><br>Type: voter<br>Incoming: 170<br>Outgoing: 152<extra></extra>",
         "marker": {
          "color": "#2166ac",
          "line": {
           "color": "white",
           "width": 2
          },
          "opacity": 0.25,
          "size": 35.36866359447004
         },
         "mode": "markers+text",
         "showlegend": false,
         "text": "Julie\nFrancis",
         "textfont": {
          "color": "black",
          "family": "Arial Black",
          "size": 8
         },
         "textposition": "middle center",
         "type": "scatter",
         "x": [
          -0.5361147761514105
         ],
         "y": [
          0.7536928474138247
         ]
        },
        {
         "hovertemplate": "<b>Rebecca Hall</b><br>Type: voter<br>Incoming: 418<br>Outgoing: 195<extra></extra>",
         "marker": {
          "color": "#2166ac",
          "line": {
           "color": "white",
           "width": 2
          },
          "opacity": 0.25,
          "size": 72.5115207373272
         },
         "mode": "markers+text",
         "showlegend": false,
         "text": "Rebecca Hall",
         "textfont": {
          "color": "black",
          "family": "Arial Black",
          "size": 8
         },
         "textposition": "middle center",
         "type": "scatter",
         "x": [
          -0.09244796540966069
         ],
         "y": [
          -0.9736932525652702
         ]
        },
        {
         "hovertemplate": "<b>Jacqueline Clark</b><br>Type: voter<br>Incoming: 119<br>Outgoing: 155<extra></extra>",
         "marker": {
          "color": "#2166ac",
          "line": {
           "color": "white",
           "width": 2
          },
          "opacity": 0.25,
          "size": 27.73041474654378
         },
         "mode": "markers+text",
         "showlegend": false,
         "text": "Jacqueline\nClark",
         "textfont": {
          "color": "black",
          "family": "Arial Black",
          "size": 8
         },
         "textposition": "middle center",
         "type": "scatter",
         "x": [
          0.5826003125569416
         ],
         "y": [
          -0.8331632910226803
         ]
        },
        {
         "hovertemplate": "<b>Cole Hunter</b><br>Type: voter<br>Incoming: 127<br>Outgoing: 93<extra></extra>",
         "marker": {
          "color": "#2166ac",
          "line": {
           "color": "white",
           "width": 2
          },
          "opacity": 0.25,
          "size": 28.928571428571427
         },
         "mode": "markers+text",
         "showlegend": false,
         "text": "Cole Hunter",
         "textfont": {
          "color": "black",
          "family": "Arial Black",
          "size": 8
         },
         "textposition": "middle center",
         "type": "scatter",
         "x": [
          -0.6854988190417277
         ],
         "y": [
          -0.6797312320517651
         ]
        },
        {
         "hovertemplate": "<b>William Murphy</b><br>Type: voter<br>Incoming: 265<br>Outgoing: 124<extra></extra>",
         "marker": {
          "color": "#2166ac",
          "line": {
           "color": "white",
           "width": 2
          },
          "opacity": 0.25,
          "size": 49.596774193548384
         },
         "mode": "markers+text",
         "showlegend": false,
         "text": "William\nMurphy",
         "textfont": {
          "color": "black",
          "family": "Arial Black",
          "size": 8
         },
         "textposition": "middle center",
         "type": "scatter",
         "x": [
          0.3989395953966282
         ],
         "y": [
          0.8806421641799811
         ]
        },
        {
         "hovertemplate": "<b>Mary Figueroa</b><br>Type: voter<br>Incoming: 188<br>Outgoing: 74<extra></extra>",
         "marker": {
          "color": "#2166ac",
          "line": {
           "color": "white",
           "width": 2
          },
          "opacity": 0.25,
          "size": 38.064516129032256
         },
         "mode": "markers+text",
         "showlegend": false,
         "text": "Mary\nFigueroa",
         "textfont": {
          "color": "black",
          "family": "Arial Black",
          "size": 8
         },
         "textposition": "middle center",
         "type": "scatter",
         "x": [
          -0.9638361606138051
         ],
         "y": [
          -0.07324778549173401
         ]
        },
        {
         "hovertemplate": "<b>Patrick Williams</b><br>Type: voter<br>Incoming: 78<br>Outgoing: 183<extra></extra>",
         "marker": {
          "color": "#2166ac",
          "line": {
           "color": "white",
           "width": 2
          },
          "opacity": 0.25,
          "size": 21.589861751152075
         },
         "mode": "markers+text",
         "showlegend": false,
         "text": "Patrick\nWilliams",
         "textfont": {
          "color": "black",
          "family": "Arial Black",
          "size": 8
         },
         "textposition": "middle center",
         "type": "scatter",
         "x": [
          0.2561361615289968
         ],
         "y": [
          -1
         ]
        },
        {
         "hovertemplate": "<b>Matthew Odom</b><br>Type: voter<br>Incoming: 198<br>Outgoing: 232<extra></extra>",
         "marker": {
          "color": "#2166ac",
          "line": {
           "color": "white",
           "width": 2
          },
          "opacity": 0.25,
          "size": 39.56221198156682
         },
         "mode": "markers+text",
         "showlegend": false,
         "text": "Matthew Odom",
         "textfont": {
          "color": "black",
          "family": "Arial Black",
          "size": 8
         },
         "textposition": "middle center",
         "type": "scatter",
         "x": [
          0.9317906794991804
         ],
         "y": [
          -0.24878282567207277
         ]
        },
        {
         "hovertemplate": "<b>George Brown</b><br>Type: candidate<br>Incoming: 409<br>Outgoing: 623<extra></extra>",
         "marker": {
          "color": "#b2182b",
          "line": {
           "color": "white",
           "width": 2
          },
          "opacity": 0.25,
          "size": 71.16359447004608
         },
         "mode": "markers+text",
         "showlegend": false,
         "text": "George Brown",
         "textfont": {
          "color": "black",
          "family": "Arial Black",
          "size": 8
         },
         "textposition": "middle center",
         "type": "scatter",
         "x": [
          -0.29233083356523126
         ],
         "y": [
          0.9677886068772861
         ]
        },
        {
         "hovertemplate": "<b>Justin Love</b><br>Type: candidate<br>Incoming: 468<br>Outgoing: 226<extra></extra>",
         "marker": {
          "color": "#b2182b",
          "line": {
           "color": "white",
           "width": 2
          },
          "opacity": 0.25,
          "size": 80
         },
         "mode": "markers+text",
         "showlegend": false,
         "text": "Justin Love",
         "textfont": {
          "color": "black",
          "family": "Arial Black",
          "size": 8
         },
         "textposition": "middle center",
         "type": "scatter",
         "x": [
          0.941297126675412
         ],
         "y": [
          0.4488265431389019
         ]
        },
        {
         "hoverinfo": "skip",
         "marker": {
          "color": [
           -0.8214865514055147,
           1.0000000000000002
          ],
          "colorbar": {
           "len": 0.7,
           "thickness": 15,
           "title": {
            "side": "right",
            "text": "Edge Similarity"
           },
           "x": 1.02
          },
          "colorscale": [
           [
            0,
            "#67001f"
           ],
           [
            0.1111111111111111,
            "#b2182b"
           ],
           [
            0.2222222222222222,
            "#d6604d"
           ],
           [
            0.3333333333333333,
            "#f4a582"
           ],
           [
            0.4444444444444444,
            "#fddbc7"
           ],
           [
            0.5555555555555556,
            "#d1e5f0"
           ],
           [
            0.6666666666666666,
            "#92c5de"
           ],
           [
            0.7777777777777778,
            "#4393c3"
           ],
           [
            0.8888888888888888,
            "#2166ac"
           ],
           [
            1,
            "#053061"
           ]
          ],
          "showscale": true,
          "size": 0
         },
         "mode": "markers",
         "showlegend": false,
         "type": "scatter",
         "x": [
          null
         ],
         "y": [
          null
         ]
        },
        {
         "marker": {
          "color": "#2166ac",
          "size": 14
         },
         "mode": "markers",
         "name": "Voters",
         "showlegend": true,
         "textfont": {
          "size": 18
         },
         "type": "scatter",
         "x": [
          null
         ],
         "y": [
          null
         ]
        },
        {
         "marker": {
          "color": "#b2182b",
          "size": 14
         },
         "mode": "markers",
         "name": "Candidates",
         "showlegend": true,
         "textfont": {
          "size": 18
         },
         "type": "scatter",
         "x": [
          null
         ],
         "y": [
          null
         ]
        }
       ],
       "layout": {
        "annotations": [
         {
          "font": {
           "size": 14
          },
          "showarrow": false,
          "text": "Node size = incoming interactions<br>Edge width = interaction count<br>Edge color = similarity (dark red=low, dark blue=high)<br>",
          "x": 0.005,
          "xanchor": "left",
          "xref": "paper",
          "y": -0.002,
          "yanchor": "bottom",
          "yref": "paper"
         }
        ],
        "height": 800,
        "hovermode": "closest",
        "margin": {
         "b": 20,
         "l": 5,
         "r": 50,
         "t": 40
        },
        "plot_bgcolor": "white",
        "showlegend": true,
        "template": {
         "data": {
          "bar": [
           {
            "error_x": {
             "color": "#2a3f5f"
            },
            "error_y": {
             "color": "#2a3f5f"
            },
            "marker": {
             "line": {
              "color": "#E5ECF6",
              "width": 0.5
             },
             "pattern": {
              "fillmode": "overlay",
              "size": 10,
              "solidity": 0.2
             }
            },
            "type": "bar"
           }
          ],
          "barpolar": [
           {
            "marker": {
             "line": {
              "color": "#E5ECF6",
              "width": 0.5
             },
             "pattern": {
              "fillmode": "overlay",
              "size": 10,
              "solidity": 0.2
             }
            },
            "type": "barpolar"
           }
          ],
          "carpet": [
           {
            "aaxis": {
             "endlinecolor": "#2a3f5f",
             "gridcolor": "white",
             "linecolor": "white",
             "minorgridcolor": "white",
             "startlinecolor": "#2a3f5f"
            },
            "baxis": {
             "endlinecolor": "#2a3f5f",
             "gridcolor": "white",
             "linecolor": "white",
             "minorgridcolor": "white",
             "startlinecolor": "#2a3f5f"
            },
            "type": "carpet"
           }
          ],
          "choropleth": [
           {
            "colorbar": {
             "outlinewidth": 0,
             "ticks": ""
            },
            "type": "choropleth"
           }
          ],
          "contour": [
           {
            "colorbar": {
             "outlinewidth": 0,
             "ticks": ""
            },
            "colorscale": [
             [
              0,
              "#0d0887"
             ],
             [
              0.1111111111111111,
              "#46039f"
             ],
             [
              0.2222222222222222,
              "#7201a8"
             ],
             [
              0.3333333333333333,
              "#9c179e"
             ],
             [
              0.4444444444444444,
              "#bd3786"
             ],
             [
              0.5555555555555556,
              "#d8576b"
             ],
             [
              0.6666666666666666,
              "#ed7953"
             ],
             [
              0.7777777777777778,
              "#fb9f3a"
             ],
             [
              0.8888888888888888,
              "#fdca26"
             ],
             [
              1,
              "#f0f921"
             ]
            ],
            "type": "contour"
           }
          ],
          "contourcarpet": [
           {
            "colorbar": {
             "outlinewidth": 0,
             "ticks": ""
            },
            "type": "contourcarpet"
           }
          ],
          "heatmap": [
           {
            "colorbar": {
             "outlinewidth": 0,
             "ticks": ""
            },
            "colorscale": [
             [
              0,
              "#0d0887"
             ],
             [
              0.1111111111111111,
              "#46039f"
             ],
             [
              0.2222222222222222,
              "#7201a8"
             ],
             [
              0.3333333333333333,
              "#9c179e"
             ],
             [
              0.4444444444444444,
              "#bd3786"
             ],
             [
              0.5555555555555556,
              "#d8576b"
             ],
             [
              0.6666666666666666,
              "#ed7953"
             ],
             [
              0.7777777777777778,
              "#fb9f3a"
             ],
             [
              0.8888888888888888,
              "#fdca26"
             ],
             [
              1,
              "#f0f921"
             ]
            ],
            "type": "heatmap"
           }
          ],
          "histogram": [
           {
            "marker": {
             "pattern": {
              "fillmode": "overlay",
              "size": 10,
              "solidity": 0.2
             }
            },
            "type": "histogram"
           }
          ],
          "histogram2d": [
           {
            "colorbar": {
             "outlinewidth": 0,
             "ticks": ""
            },
            "colorscale": [
             [
              0,
              "#0d0887"
             ],
             [
              0.1111111111111111,
              "#46039f"
             ],
             [
              0.2222222222222222,
              "#7201a8"
             ],
             [
              0.3333333333333333,
              "#9c179e"
             ],
             [
              0.4444444444444444,
              "#bd3786"
             ],
             [
              0.5555555555555556,
              "#d8576b"
             ],
             [
              0.6666666666666666,
              "#ed7953"
             ],
             [
              0.7777777777777778,
              "#fb9f3a"
             ],
             [
              0.8888888888888888,
              "#fdca26"
             ],
             [
              1,
              "#f0f921"
             ]
            ],
            "type": "histogram2d"
           }
          ],
          "histogram2dcontour": [
           {
            "colorbar": {
             "outlinewidth": 0,
             "ticks": ""
            },
            "colorscale": [
             [
              0,
              "#0d0887"
             ],
             [
              0.1111111111111111,
              "#46039f"
             ],
             [
              0.2222222222222222,
              "#7201a8"
             ],
             [
              0.3333333333333333,
              "#9c179e"
             ],
             [
              0.4444444444444444,
              "#bd3786"
             ],
             [
              0.5555555555555556,
              "#d8576b"
             ],
             [
              0.6666666666666666,
              "#ed7953"
             ],
             [
              0.7777777777777778,
              "#fb9f3a"
             ],
             [
              0.8888888888888888,
              "#fdca26"
             ],
             [
              1,
              "#f0f921"
             ]
            ],
            "type": "histogram2dcontour"
           }
          ],
          "mesh3d": [
           {
            "colorbar": {
             "outlinewidth": 0,
             "ticks": ""
            },
            "type": "mesh3d"
           }
          ],
          "parcoords": [
           {
            "line": {
             "colorbar": {
              "outlinewidth": 0,
              "ticks": ""
             }
            },
            "type": "parcoords"
           }
          ],
          "pie": [
           {
            "automargin": true,
            "type": "pie"
           }
          ],
          "scatter": [
           {
            "fillpattern": {
             "fillmode": "overlay",
             "size": 10,
             "solidity": 0.2
            },
            "type": "scatter"
           }
          ],
          "scatter3d": [
           {
            "line": {
             "colorbar": {
              "outlinewidth": 0,
              "ticks": ""
             }
            },
            "marker": {
             "colorbar": {
              "outlinewidth": 0,
              "ticks": ""
             }
            },
            "type": "scatter3d"
           }
          ],
          "scattercarpet": [
           {
            "marker": {
             "colorbar": {
              "outlinewidth": 0,
              "ticks": ""
             }
            },
            "type": "scattercarpet"
           }
          ],
          "scattergeo": [
           {
            "marker": {
             "colorbar": {
              "outlinewidth": 0,
              "ticks": ""
             }
            },
            "type": "scattergeo"
           }
          ],
          "scattergl": [
           {
            "marker": {
             "colorbar": {
              "outlinewidth": 0,
              "ticks": ""
             }
            },
            "type": "scattergl"
           }
          ],
          "scattermap": [
           {
            "marker": {
             "colorbar": {
              "outlinewidth": 0,
              "ticks": ""
             }
            },
            "type": "scattermap"
           }
          ],
          "scattermapbox": [
           {
            "marker": {
             "colorbar": {
              "outlinewidth": 0,
              "ticks": ""
             }
            },
            "type": "scattermapbox"
           }
          ],
          "scatterpolar": [
           {
            "marker": {
             "colorbar": {
              "outlinewidth": 0,
              "ticks": ""
             }
            },
            "type": "scatterpolar"
           }
          ],
          "scatterpolargl": [
           {
            "marker": {
             "colorbar": {
              "outlinewidth": 0,
              "ticks": ""
             }
            },
            "type": "scatterpolargl"
           }
          ],
          "scatterternary": [
           {
            "marker": {
             "colorbar": {
              "outlinewidth": 0,
              "ticks": ""
             }
            },
            "type": "scatterternary"
           }
          ],
          "surface": [
           {
            "colorbar": {
             "outlinewidth": 0,
             "ticks": ""
            },
            "colorscale": [
             [
              0,
              "#0d0887"
             ],
             [
              0.1111111111111111,
              "#46039f"
             ],
             [
              0.2222222222222222,
              "#7201a8"
             ],
             [
              0.3333333333333333,
              "#9c179e"
             ],
             [
              0.4444444444444444,
              "#bd3786"
             ],
             [
              0.5555555555555556,
              "#d8576b"
             ],
             [
              0.6666666666666666,
              "#ed7953"
             ],
             [
              0.7777777777777778,
              "#fb9f3a"
             ],
             [
              0.8888888888888888,
              "#fdca26"
             ],
             [
              1,
              "#f0f921"
             ]
            ],
            "type": "surface"
           }
          ],
          "table": [
           {
            "cells": {
             "fill": {
              "color": "#EBF0F8"
             },
             "line": {
              "color": "white"
             }
            },
            "header": {
             "fill": {
              "color": "#C8D4E3"
             },
             "line": {
              "color": "white"
             }
            },
            "type": "table"
           }
          ]
         },
         "layout": {
          "annotationdefaults": {
           "arrowcolor": "#2a3f5f",
           "arrowhead": 0,
           "arrowwidth": 1
          },
          "autotypenumbers": "strict",
          "coloraxis": {
           "colorbar": {
            "outlinewidth": 0,
            "ticks": ""
           }
          },
          "colorscale": {
           "diverging": [
            [
             0,
             "#8e0152"
            ],
            [
             0.1,
             "#c51b7d"
            ],
            [
             0.2,
             "#de77ae"
            ],
            [
             0.3,
             "#f1b6da"
            ],
            [
             0.4,
             "#fde0ef"
            ],
            [
             0.5,
             "#f7f7f7"
            ],
            [
             0.6,
             "#e6f5d0"
            ],
            [
             0.7,
             "#b8e186"
            ],
            [
             0.8,
             "#7fbc41"
            ],
            [
             0.9,
             "#4d9221"
            ],
            [
             1,
             "#276419"
            ]
           ],
           "sequential": [
            [
             0,
             "#0d0887"
            ],
            [
             0.1111111111111111,
             "#46039f"
            ],
            [
             0.2222222222222222,
             "#7201a8"
            ],
            [
             0.3333333333333333,
             "#9c179e"
            ],
            [
             0.4444444444444444,
             "#bd3786"
            ],
            [
             0.5555555555555556,
             "#d8576b"
            ],
            [
             0.6666666666666666,
             "#ed7953"
            ],
            [
             0.7777777777777778,
             "#fb9f3a"
            ],
            [
             0.8888888888888888,
             "#fdca26"
            ],
            [
             1,
             "#f0f921"
            ]
           ],
           "sequentialminus": [
            [
             0,
             "#0d0887"
            ],
            [
             0.1111111111111111,
             "#46039f"
            ],
            [
             0.2222222222222222,
             "#7201a8"
            ],
            [
             0.3333333333333333,
             "#9c179e"
            ],
            [
             0.4444444444444444,
             "#bd3786"
            ],
            [
             0.5555555555555556,
             "#d8576b"
            ],
            [
             0.6666666666666666,
             "#ed7953"
            ],
            [
             0.7777777777777778,
             "#fb9f3a"
            ],
            [
             0.8888888888888888,
             "#fdca26"
            ],
            [
             1,
             "#f0f921"
            ]
           ]
          },
          "colorway": [
           "#636efa",
           "#EF553B",
           "#00cc96",
           "#ab63fa",
           "#FFA15A",
           "#19d3f3",
           "#FF6692",
           "#B6E880",
           "#FF97FF",
           "#FECB52"
          ],
          "font": {
           "color": "#2a3f5f"
          },
          "geo": {
           "bgcolor": "white",
           "lakecolor": "white",
           "landcolor": "#E5ECF6",
           "showlakes": true,
           "showland": true,
           "subunitcolor": "white"
          },
          "hoverlabel": {
           "align": "left"
          },
          "hovermode": "closest",
          "mapbox": {
           "style": "light"
          },
          "paper_bgcolor": "white",
          "plot_bgcolor": "#E5ECF6",
          "polar": {
           "angularaxis": {
            "gridcolor": "white",
            "linecolor": "white",
            "ticks": ""
           },
           "bgcolor": "#E5ECF6",
           "radialaxis": {
            "gridcolor": "white",
            "linecolor": "white",
            "ticks": ""
           }
          },
          "scene": {
           "xaxis": {
            "backgroundcolor": "#E5ECF6",
            "gridcolor": "white",
            "gridwidth": 2,
            "linecolor": "white",
            "showbackground": true,
            "ticks": "",
            "zerolinecolor": "white"
           },
           "yaxis": {
            "backgroundcolor": "#E5ECF6",
            "gridcolor": "white",
            "gridwidth": 2,
            "linecolor": "white",
            "showbackground": true,
            "ticks": "",
            "zerolinecolor": "white"
           },
           "zaxis": {
            "backgroundcolor": "#E5ECF6",
            "gridcolor": "white",
            "gridwidth": 2,
            "linecolor": "white",
            "showbackground": true,
            "ticks": "",
            "zerolinecolor": "white"
           }
          },
          "shapedefaults": {
           "line": {
            "color": "#2a3f5f"
           }
          },
          "ternary": {
           "aaxis": {
            "gridcolor": "white",
            "linecolor": "white",
            "ticks": ""
           },
           "baxis": {
            "gridcolor": "white",
            "linecolor": "white",
            "ticks": ""
           },
           "bgcolor": "#E5ECF6",
           "caxis": {
            "gridcolor": "white",
            "linecolor": "white",
            "ticks": ""
           }
          },
          "title": {
           "x": 0.05
          },
          "xaxis": {
           "automargin": true,
           "gridcolor": "white",
           "linecolor": "white",
           "ticks": "",
           "title": {
            "standoff": 15
           },
           "zerolinecolor": "white",
           "zerolinewidth": 2
          },
          "yaxis": {
           "automargin": true,
           "gridcolor": "white",
           "linecolor": "white",
           "ticks": "",
           "title": {
            "standoff": 15
           },
           "zerolinecolor": "white",
           "zerolinewidth": 2
          }
         }
        },
        "title": {
         "font": {
          "size": 18
         },
         "text": "Simulation 1 - Reply Network (3234 interactions)",
         "x": 0.5
        },
        "width": 1600,
        "xaxis": {
         "showgrid": false,
         "showticklabels": false,
         "zeroline": false
        },
        "yaxis": {
         "showgrid": false,
         "showticklabels": false,
         "zeroline": false
        }
       }
      }
     },
     "metadata": {},
     "output_type": "display_data"
    },
    {
     "name": "stdout",
     "output_type": "stream",
     "text": [
      "\n",
      "Like Network:\n",
      "Missed IDs: {'64cc605a0', '3e82e817e5', '29a227adfd', 'c8a4156299', '6a327e614d', '19c421c56c', 'c12b1b18fc', '150bb75a5a', '82e478af88', '01876cbd', 'ebbbe82c8a', 'f1c323c41x', 'ca00c33cde', '18f7f1dd5f', 'a559ec975', '5f966f566f', 'f1ed44aca9'}\n",
      "  Nodes: 18, Edges: 204\n",
      "  Total interactions: 3053\n",
      "  Network density: 0.667\n",
      "  Is connected: True\n"
     ]
    },
    {
     "data": {
      "application/vnd.plotly.v1+json": {
       "config": {
        "plotlyServerURL": "https://plot.ly"
       },
       "data": [
        {
         "hovertemplate": "<b>Eric Austin → Eric Austin</b><br>Interactions: 36<br>Similarity: 1.000<extra></extra>",
         "line": {
          "color": "rgba(5, 48, 97, 0.7)",
          "width": 10
         },
         "mode": "lines",
         "showlegend": false,
         "type": "scatter",
         "x": [
          0.0679339182236547,
          0.0679339182236547,
          null
         ],
         "y": [
          0.9961658653082643,
          0.9961658653082643,
          null
         ]
        },
        {
         "hovertemplate": "<b>Eric Austin → William Obrien</b><br>Interactions: 1<br>Similarity: -0.432<extra></extra>",
         "line": {
          "color": "rgba(178, 24, 43, 0.7)",
          "width": 1
         },
         "mode": "lines",
         "showlegend": false,
         "type": "scatter",
         "x": [
          0.0679339182236547,
          0.8501807977005968,
          null
         ],
         "y": [
          0.9961658653082643,
          -0.5807629751799296,
          null
         ]
        },
        {
         "hovertemplate": "<b>Eric Austin → Heather Ward</b><br>Interactions: 6<br>Similarity: 0.293<extra></extra>",
         "line": {
          "color": "rgba(209, 229, 240, 0.7)",
          "width": 2
         },
         "mode": "lines",
         "showlegend": false,
         "type": "scatter",
         "x": [
          0.0679339182236547,
          0.6859450045720663,
          null
         ],
         "y": [
          0.9961658653082643,
          0.6869475070736885,
          null
         ]
        },
        {
         "hovertemplate": "<b>Eric Austin → Justin Love</b><br>Interactions: 43<br>Similarity: -0.675<extra></extra>",
         "line": {
          "color": "rgba(103, 0, 31, 0.7)",
          "width": 10
         },
         "mode": "lines",
         "showlegend": false,
         "type": "scatter",
         "x": [
          0.0679339182236547,
          0.941297126675412,
          null
         ],
         "y": [
          0.9961658653082643,
          0.4488265431389019,
          null
         ]
        },
        {
         "hovertemplate": "<b>Eric Austin → Jacqueline Clark</b><br>Interactions: 17<br>Similarity: 0.145<extra></extra>",
         "line": {
          "color": "rgba(253, 219, 199, 0.7)",
          "width": 5.666666666666667
         },
         "mode": "lines",
         "showlegend": false,
         "type": "scatter",
         "x": [
          0.0679339182236547,
          0.5826003125569416,
          null
         ],
         "y": [
          0.9961658653082643,
          -0.8331632910226803,
          null
         ]
        },
        {
         "hovertemplate": "<b>Eric Austin → Julie Francis</b><br>Interactions: 2<br>Similarity: -0.155<extra></extra>",
         "line": {
          "color": "rgba(244, 165, 130, 0.7)",
          "width": 1
         },
         "mode": "lines",
         "showlegend": false,
         "type": "scatter",
         "x": [
          0.0679339182236547,
          -0.5361147761514105,
          null
         ],
         "y": [
          0.9961658653082643,
          0.7536928474138247,
          null
         ]
        },
        {
         "hovertemplate": "<b>Eric Austin → Mary Figueroa</b><br>Interactions: 8<br>Similarity: 0.286<extra></extra>",
         "line": {
          "color": "rgba(209, 229, 240, 0.7)",
          "width": 2.6666666666666665
         },
         "mode": "lines",
         "showlegend": false,
         "type": "scatter",
         "x": [
          0.0679339182236547,
          -0.9638361606138051,
          null
         ],
         "y": [
          0.9961658653082643,
          -0.07324778549173401,
          null
         ]
        },
        {
         "hovertemplate": "<b>Eric Austin → Jennifer Thomas</b><br>Interactions: 9<br>Similarity: -0.256<extra></extra>",
         "line": {
          "color": "rgba(214, 96, 77, 0.7)",
          "width": 3
         },
         "mode": "lines",
         "showlegend": false,
         "type": "scatter",
         "x": [
          0.0679339182236547,
          -0.8998730555186966,
          null
         ],
         "y": [
          0.9961658653082643,
          -0.41342708840603015,
          null
         ]
        },
        {
         "hovertemplate": "<b>Eric Austin → Lynn Spencer</b><br>Interactions: 2<br>Similarity: -0.321<extra></extra>",
         "line": {
          "color": "rgba(214, 96, 77, 0.7)",
          "width": 1
         },
         "mode": "lines",
         "showlegend": false,
         "type": "scatter",
         "x": [
          0.0679339182236547,
          0.9849319565143412,
          null
         ],
         "y": [
          0.9961658653082643,
          0.09213560621422415,
          null
         ]
        },
        {
         "hovertemplate": "<b>Eric Austin → William Murphy</b><br>Interactions: 5<br>Similarity: -0.039<extra></extra>",
         "line": {
          "color": "rgba(244, 165, 130, 0.7)",
          "width": 1.6666666666666667
         },
         "mode": "lines",
         "showlegend": false,
         "type": "scatter",
         "x": [
          0.0679339182236547,
          0.3989395953966282,
          null
         ],
         "y": [
          0.9961658653082643,
          0.8806421641799811,
          null
         ]
        },
        {
         "hovertemplate": "<b>Eric Austin → Rebecca Hall</b><br>Interactions: 17<br>Similarity: -0.211<extra></extra>",
         "line": {
          "color": "rgba(244, 165, 130, 0.7)",
          "width": 5.666666666666667
         },
         "mode": "lines",
         "showlegend": false,
         "type": "scatter",
         "x": [
          0.0679339182236547,
          -0.09244796540966069,
          null
         ],
         "y": [
          0.9961658653082643,
          -0.9736932525652702,
          null
         ]
        },
        {
         "hovertemplate": "<b>Eric Austin → Cole Hunter</b><br>Interactions: 1<br>Similarity: -0.211<extra></extra>",
         "line": {
          "color": "rgba(244, 165, 130, 0.7)",
          "width": 1
         },
         "mode": "lines",
         "showlegend": false,
         "type": "scatter",
         "x": [
          0.0679339182236547,
          -0.6854988190417277,
          null
         ],
         "y": [
          0.9961658653082643,
          -0.6797312320517651,
          null
         ]
        },
        {
         "hovertemplate": "<b>Lynn Spencer → Cole Hunter</b><br>Interactions: 11<br>Similarity: -0.059<extra></extra>",
         "line": {
          "color": "rgba(244, 165, 130, 0.7)",
          "width": 3.6666666666666665
         },
         "mode": "lines",
         "showlegend": false,
         "type": "scatter",
         "x": [
          0.9849319565143412,
          -0.6854988190417277,
          null
         ],
         "y": [
          0.09213560621422415,
          -0.6797312320517651,
          null
         ]
        },
        {
         "hovertemplate": "<b>Lynn Spencer → Eric Austin</b><br>Interactions: 3<br>Similarity: -0.321<extra></extra>",
         "line": {
          "color": "rgba(214, 96, 77, 0.7)",
          "width": 1
         },
         "mode": "lines",
         "showlegend": false,
         "type": "scatter",
         "x": [
          0.9849319565143412,
          0.0679339182236547,
          null
         ],
         "y": [
          0.09213560621422415,
          0.9961658653082643,
          null
         ]
        },
        {
         "hovertemplate": "<b>Lynn Spencer → Mary Figueroa</b><br>Interactions: 23<br>Similarity: -0.634<extra></extra>",
         "line": {
          "color": "rgba(103, 0, 31, 0.7)",
          "width": 7.666666666666667
         },
         "mode": "lines",
         "showlegend": false,
         "type": "scatter",
         "x": [
          0.9849319565143412,
          -0.9638361606138051,
          null
         ],
         "y": [
          0.09213560621422415,
          -0.07324778549173401,
          null
         ]
        },
        {
         "hovertemplate": "<b>Lynn Spencer → Jennifer Thomas</b><br>Interactions: 24<br>Similarity: -0.153<extra></extra>",
         "line": {
          "color": "rgba(244, 165, 130, 0.7)",
          "width": 8
         },
         "mode": "lines",
         "showlegend": false,
         "type": "scatter",
         "x": [
          0.9849319565143412,
          -0.8998730555186966,
          null
         ],
         "y": [
          0.09213560621422415,
          -0.41342708840603015,
          null
         ]
        },
        {
         "hovertemplate": "<b>Lynn Spencer → Rebecca Hall</b><br>Interactions: 45<br>Similarity: 0.291<extra></extra>",
         "line": {
          "color": "rgba(209, 229, 240, 0.7)",
          "width": 10
         },
         "mode": "lines",
         "showlegend": false,
         "type": "scatter",
         "x": [
          0.9849319565143412,
          -0.09244796540966069,
          null
         ],
         "y": [
          0.09213560621422415,
          -0.9736932525652702,
          null
         ]
        },
        {
         "hovertemplate": "<b>Lynn Spencer → Julie Francis</b><br>Interactions: 3<br>Similarity: 0.075<extra></extra>",
         "line": {
          "color": "rgba(253, 219, 199, 0.7)",
          "width": 1
         },
         "mode": "lines",
         "showlegend": false,
         "type": "scatter",
         "x": [
          0.9849319565143412,
          -0.5361147761514105,
          null
         ],
         "y": [
          0.09213560621422415,
          0.7536928474138247,
          null
         ]
        },
        {
         "hovertemplate": "<b>Lynn Spencer → Lynn Spencer</b><br>Interactions: 19<br>Similarity: 1.000<extra></extra>",
         "line": {
          "color": "rgba(33, 102, 172, 0.7)",
          "width": 6.333333333333333
         },
         "mode": "lines",
         "showlegend": false,
         "type": "scatter",
         "x": [
          0.9849319565143412,
          0.9849319565143412,
          null
         ],
         "y": [
          0.09213560621422415,
          0.09213560621422415,
          null
         ]
        },
        {
         "hovertemplate": "<b>Lynn Spencer → William Murphy</b><br>Interactions: 39<br>Similarity: 0.183<extra></extra>",
         "line": {
          "color": "rgba(253, 219, 199, 0.7)",
          "width": 10
         },
         "mode": "lines",
         "showlegend": false,
         "type": "scatter",
         "x": [
          0.9849319565143412,
          0.3989395953966282,
          null
         ],
         "y": [
          0.09213560621422415,
          0.8806421641799811,
          null
         ]
        },
        {
         "hovertemplate": "<b>Lynn Spencer → Heather Ward</b><br>Interactions: 2<br>Similarity: 0.277<extra></extra>",
         "line": {
          "color": "rgba(209, 229, 240, 0.7)",
          "width": 1
         },
         "mode": "lines",
         "showlegend": false,
         "type": "scatter",
         "x": [
          0.9849319565143412,
          0.6859450045720663,
          null
         ],
         "y": [
          0.09213560621422415,
          0.6869475070736885,
          null
         ]
        },
        {
         "hovertemplate": "<b>Lynn Spencer → William Obrien</b><br>Interactions: 1<br>Similarity: 0.032<extra></extra>",
         "line": {
          "color": "rgba(253, 219, 199, 0.7)",
          "width": 1
         },
         "mode": "lines",
         "showlegend": false,
         "type": "scatter",
         "x": [
          0.9849319565143412,
          0.8501807977005968,
          null
         ],
         "y": [
          0.09213560621422415,
          -0.5807629751799296,
          null
         ]
        },
        {
         "hovertemplate": "<b>Andrew Vang → William Murphy</b><br>Interactions: 75<br>Similarity: 0.104<extra></extra>",
         "line": {
          "color": "rgba(253, 219, 199, 0.7)",
          "width": 10
         },
         "mode": "lines",
         "showlegend": false,
         "type": "scatter",
         "x": [
          -0.44152715747871657,
          0.3989395953966282,
          null
         ],
         "y": [
          -0.9176520610391299,
          0.8806421641799811,
          null
         ]
        },
        {
         "hovertemplate": "<b>Andrew Vang → Cole Hunter</b><br>Interactions: 36<br>Similarity: 0.432<extra></extra>",
         "line": {
          "color": "rgba(146, 197, 222, 0.7)",
          "width": 10
         },
         "mode": "lines",
         "showlegend": false,
         "type": "scatter",
         "x": [
          -0.44152715747871657,
          -0.6854988190417277,
          null
         ],
         "y": [
          -0.9176520610391299,
          -0.6797312320517651,
          null
         ]
        },
        {
         "hovertemplate": "<b>Andrew Vang → Jennifer Thomas</b><br>Interactions: 40<br>Similarity: 0.181<extra></extra>",
         "line": {
          "color": "rgba(253, 219, 199, 0.7)",
          "width": 10
         },
         "mode": "lines",
         "showlegend": false,
         "type": "scatter",
         "x": [
          -0.44152715747871657,
          -0.8998730555186966,
          null
         ],
         "y": [
          -0.9176520610391299,
          -0.41342708840603015,
          null
         ]
        },
        {
         "hovertemplate": "<b>Andrew Vang → Lynn Spencer</b><br>Interactions: 45<br>Similarity: -0.031<extra></extra>",
         "line": {
          "color": "rgba(244, 165, 130, 0.7)",
          "width": 10
         },
         "mode": "lines",
         "showlegend": false,
         "type": "scatter",
         "x": [
          -0.44152715747871657,
          0.9849319565143412,
          null
         ],
         "y": [
          -0.9176520610391299,
          0.09213560621422415,
          null
         ]
        },
        {
         "hovertemplate": "<b>Andrew Vang → Mary Figueroa</b><br>Interactions: 40<br>Similarity: 0.063<extra></extra>",
         "line": {
          "color": "rgba(253, 219, 199, 0.7)",
          "width": 10
         },
         "mode": "lines",
         "showlegend": false,
         "type": "scatter",
         "x": [
          -0.44152715747871657,
          -0.9638361606138051,
          null
         ],
         "y": [
          -0.9176520610391299,
          -0.07324778549173401,
          null
         ]
        },
        {
         "hovertemplate": "<b>Andrew Vang → Rebecca Hall</b><br>Interactions: 48<br>Similarity: 0.211<extra></extra>",
         "line": {
          "color": "rgba(209, 229, 240, 0.7)",
          "width": 10
         },
         "mode": "lines",
         "showlegend": false,
         "type": "scatter",
         "x": [
          -0.44152715747871657,
          -0.09244796540966069,
          null
         ],
         "y": [
          -0.9176520610391299,
          -0.9736932525652702,
          null
         ]
        },
        {
         "hovertemplate": "<b>Andrew Vang → Julie Francis</b><br>Interactions: 6<br>Similarity: -0.341<extra></extra>",
         "line": {
          "color": "rgba(214, 96, 77, 0.7)",
          "width": 2
         },
         "mode": "lines",
         "showlegend": false,
         "type": "scatter",
         "x": [
          -0.44152715747871657,
          -0.5361147761514105,
          null
         ],
         "y": [
          -0.9176520610391299,
          0.7536928474138247,
          null
         ]
        },
        {
         "hovertemplate": "<b>Andrew Vang → Jason Day</b><br>Interactions: 3<br>Similarity: -0.203<extra></extra>",
         "line": {
          "color": "rgba(244, 165, 130, 0.7)",
          "width": 1
         },
         "mode": "lines",
         "showlegend": false,
         "type": "scatter",
         "x": [
          -0.44152715747871657,
          -0.8248788973556259,
          null
         ],
         "y": [
          -0.9176520610391299,
          0.6182324532165933,
          null
         ]
        },
        {
         "hovertemplate": "<b>Andrew Vang → Matthew Odom</b><br>Interactions: 7<br>Similarity: 0.008<extra></extra>",
         "line": {
          "color": "rgba(253, 219, 199, 0.7)",
          "width": 2.3333333333333335
         },
         "mode": "lines",
         "showlegend": false,
         "type": "scatter",
         "x": [
          -0.44152715747871657,
          0.9317906794991804,
          null
         ],
         "y": [
          -0.9176520610391299,
          -0.24878282567207277,
          null
         ]
        },
        {
         "hovertemplate": "<b>Andrew Vang → Daniel Gordon</b><br>Interactions: 21<br>Similarity: -0.132<extra></extra>",
         "line": {
          "color": "rgba(244, 165, 130, 0.7)",
          "width": 7
         },
         "mode": "lines",
         "showlegend": false,
         "type": "scatter",
         "x": [
          -0.44152715747871657,
          -0.9632478875329431,
          null
         ],
         "y": [
          -0.9176520610391299,
          0.2760289180058474,
          null
         ]
        },
        {
         "hovertemplate": "<b>Andrew Vang → Patrick Williams</b><br>Interactions: 4<br>Similarity: 0.126<extra></extra>",
         "line": {
          "color": "rgba(253, 219, 199, 0.7)",
          "width": 1.3333333333333333
         },
         "mode": "lines",
         "showlegend": false,
         "type": "scatter",
         "x": [
          -0.44152715747871657,
          0.2561361615289968,
          null
         ],
         "y": [
          -0.9176520610391299,
          -1,
          null
         ]
        },
        {
         "hovertemplate": "<b>Andrew Vang → William Obrien</b><br>Interactions: 1<br>Similarity: -0.124<extra></extra>",
         "line": {
          "color": "rgba(244, 165, 130, 0.7)",
          "width": 1
         },
         "mode": "lines",
         "showlegend": false,
         "type": "scatter",
         "x": [
          -0.44152715747871657,
          0.8501807977005968,
          null
         ],
         "y": [
          -0.9176520610391299,
          -0.5807629751799296,
          null
         ]
        },
        {
         "hovertemplate": "<b>Andrew Vang → Heather Ward</b><br>Interactions: 18<br>Similarity: -0.015<extra></extra>",
         "line": {
          "color": "rgba(244, 165, 130, 0.7)",
          "width": 6
         },
         "mode": "lines",
         "showlegend": false,
         "type": "scatter",
         "x": [
          -0.44152715747871657,
          0.6859450045720663,
          null
         ],
         "y": [
          -0.9176520610391299,
          0.6869475070736885,
          null
         ]
        },
        {
         "hovertemplate": "<b>Andrew Vang → Justin Love</b><br>Interactions: 3<br>Similarity: 0.169<extra></extra>",
         "line": {
          "color": "rgba(253, 219, 199, 0.7)",
          "width": 1
         },
         "mode": "lines",
         "showlegend": false,
         "type": "scatter",
         "x": [
          -0.44152715747871657,
          0.941297126675412,
          null
         ],
         "y": [
          -0.9176520610391299,
          0.4488265431389019,
          null
         ]
        },
        {
         "hovertemplate": "<b>Andrew Vang → Eric Austin</b><br>Interactions: 4<br>Similarity: -0.299<extra></extra>",
         "line": {
          "color": "rgba(214, 96, 77, 0.7)",
          "width": 1.3333333333333333
         },
         "mode": "lines",
         "showlegend": false,
         "type": "scatter",
         "x": [
          -0.44152715747871657,
          0.0679339182236547,
          null
         ],
         "y": [
          -0.9176520610391299,
          0.9961658653082643,
          null
         ]
        },
        {
         "hovertemplate": "<b>Daniel Gordon → Cole Hunter</b><br>Interactions: 55<br>Similarity: 0.225<extra></extra>",
         "line": {
          "color": "rgba(209, 229, 240, 0.7)",
          "width": 10
         },
         "mode": "lines",
         "showlegend": false,
         "type": "scatter",
         "x": [
          -0.9632478875329431,
          -0.6854988190417277,
          null
         ],
         "y": [
          0.2760289180058474,
          -0.6797312320517651,
          null
         ]
        },
        {
         "hovertemplate": "<b>Daniel Gordon → Mary Figueroa</b><br>Interactions: 48<br>Similarity: 0.536<extra></extra>",
         "line": {
          "color": "rgba(146, 197, 222, 0.7)",
          "width": 10
         },
         "mode": "lines",
         "showlegend": false,
         "type": "scatter",
         "x": [
          -0.9632478875329431,
          -0.9638361606138051,
          null
         ],
         "y": [
          0.2760289180058474,
          -0.07324778549173401,
          null
         ]
        },
        {
         "hovertemplate": "<b>Daniel Gordon → Andrew Vang</b><br>Interactions: 34<br>Similarity: -0.132<extra></extra>",
         "line": {
          "color": "rgba(244, 165, 130, 0.7)",
          "width": 10
         },
         "mode": "lines",
         "showlegend": false,
         "type": "scatter",
         "x": [
          -0.9632478875329431,
          -0.44152715747871657,
          null
         ],
         "y": [
          0.2760289180058474,
          -0.9176520610391299,
          null
         ]
        },
        {
         "hovertemplate": "<b>Daniel Gordon → Julie Francis</b><br>Interactions: 6<br>Similarity: 0.320<extra></extra>",
         "line": {
          "color": "rgba(209, 229, 240, 0.7)",
          "width": 2
         },
         "mode": "lines",
         "showlegend": false,
         "type": "scatter",
         "x": [
          -0.9632478875329431,
          -0.5361147761514105,
          null
         ],
         "y": [
          0.2760289180058474,
          0.7536928474138247,
          null
         ]
        },
        {
         "hovertemplate": "<b>Daniel Gordon → William Murphy</b><br>Interactions: 85<br>Similarity: 0.010<extra></extra>",
         "line": {
          "color": "rgba(253, 219, 199, 0.7)",
          "width": 10
         },
         "mode": "lines",
         "showlegend": false,
         "type": "scatter",
         "x": [
          -0.9632478875329431,
          0.3989395953966282,
          null
         ],
         "y": [
          0.2760289180058474,
          0.8806421641799811,
          null
         ]
        },
        {
         "hovertemplate": "<b>Daniel Gordon → Rebecca Hall</b><br>Interactions: 94<br>Similarity: 0.256<extra></extra>",
         "line": {
          "color": "rgba(209, 229, 240, 0.7)",
          "width": 10
         },
         "mode": "lines",
         "showlegend": false,
         "type": "scatter",
         "x": [
          -0.9632478875329431,
          -0.09244796540966069,
          null
         ],
         "y": [
          0.2760289180058474,
          -0.9736932525652702,
          null
         ]
        },
        {
         "hovertemplate": "<b>Daniel Gordon → Jennifer Thomas</b><br>Interactions: 44<br>Similarity: 0.087<extra></extra>",
         "line": {
          "color": "rgba(253, 219, 199, 0.7)",
          "width": 10
         },
         "mode": "lines",
         "showlegend": false,
         "type": "scatter",
         "x": [
          -0.9632478875329431,
          -0.8998730555186966,
          null
         ],
         "y": [
          0.2760289180058474,
          -0.41342708840603015,
          null
         ]
        },
        {
         "hovertemplate": "<b>Daniel Gordon → Jason Day</b><br>Interactions: 1<br>Similarity: 0.482<extra></extra>",
         "line": {
          "color": "rgba(146, 197, 222, 0.7)",
          "width": 1
         },
         "mode": "lines",
         "showlegend": false,
         "type": "scatter",
         "x": [
          -0.9632478875329431,
          -0.8248788973556259,
          null
         ],
         "y": [
          0.2760289180058474,
          0.6182324532165933,
          null
         ]
        },
        {
         "hovertemplate": "<b>Daniel Gordon → Lynn Spencer</b><br>Interactions: 43<br>Similarity: -0.388<extra></extra>",
         "line": {
          "color": "rgba(214, 96, 77, 0.7)",
          "width": 10
         },
         "mode": "lines",
         "showlegend": false,
         "type": "scatter",
         "x": [
          -0.9632478875329431,
          0.9849319565143412,
          null
         ],
         "y": [
          0.2760289180058474,
          0.09213560621422415,
          null
         ]
        },
        {
         "hovertemplate": "<b>Daniel Gordon → William Obrien</b><br>Interactions: 4<br>Similarity: -0.223<extra></extra>",
         "line": {
          "color": "rgba(214, 96, 77, 0.7)",
          "width": 1.3333333333333333
         },
         "mode": "lines",
         "showlegend": false,
         "type": "scatter",
         "x": [
          -0.9632478875329431,
          0.8501807977005968,
          null
         ],
         "y": [
          0.2760289180058474,
          -0.5807629751799296,
          null
         ]
        },
        {
         "hovertemplate": "<b>Daniel Gordon → Heather Ward</b><br>Interactions: 13<br>Similarity: -0.251<extra></extra>",
         "line": {
          "color": "rgba(214, 96, 77, 0.7)",
          "width": 4.333333333333333
         },
         "mode": "lines",
         "showlegend": false,
         "type": "scatter",
         "x": [
          -0.9632478875329431,
          0.6859450045720663,
          null
         ],
         "y": [
          0.2760289180058474,
          0.6869475070736885,
          null
         ]
        },
        {
         "hovertemplate": "<b>Daniel Gordon → Eric Austin</b><br>Interactions: 3<br>Similarity: 0.405<extra></extra>",
         "line": {
          "color": "rgba(146, 197, 222, 0.7)",
          "width": 1
         },
         "mode": "lines",
         "showlegend": false,
         "type": "scatter",
         "x": [
          -0.9632478875329431,
          0.0679339182236547,
          null
         ],
         "y": [
          0.2760289180058474,
          0.9961658653082643,
          null
         ]
        },
        {
         "hovertemplate": "<b>Daniel Gordon → Daniel Gordon</b><br>Interactions: 2<br>Similarity: 1.000<extra></extra>",
         "line": {
          "color": "rgba(33, 102, 172, 0.7)",
          "width": 1
         },
         "mode": "lines",
         "showlegend": false,
         "type": "scatter",
         "x": [
          -0.9632478875329431,
          -0.9632478875329431,
          null
         ],
         "y": [
          0.2760289180058474,
          0.2760289180058474,
          null
         ]
        },
        {
         "hovertemplate": "<b>Daniel Gordon → Matthew Odom</b><br>Interactions: 21<br>Similarity: -0.523<extra></extra>",
         "line": {
          "color": "rgba(178, 24, 43, 0.7)",
          "width": 7
         },
         "mode": "lines",
         "showlegend": false,
         "type": "scatter",
         "x": [
          -0.9632478875329431,
          0.9317906794991804,
          null
         ],
         "y": [
          0.2760289180058474,
          -0.24878282567207277,
          null
         ]
        },
        {
         "hovertemplate": "<b>Daniel Gordon → Patrick Williams</b><br>Interactions: 7<br>Similarity: -0.346<extra></extra>",
         "line": {
          "color": "rgba(214, 96, 77, 0.7)",
          "width": 2.3333333333333335
         },
         "mode": "lines",
         "showlegend": false,
         "type": "scatter",
         "x": [
          -0.9632478875329431,
          0.2561361615289968,
          null
         ],
         "y": [
          0.2760289180058474,
          -1,
          null
         ]
        },
        {
         "hovertemplate": "<b>Heather Ward → William Murphy</b><br>Interactions: 21<br>Similarity: 0.317<extra></extra>",
         "line": {
          "color": "rgba(209, 229, 240, 0.7)",
          "width": 7
         },
         "mode": "lines",
         "showlegend": false,
         "type": "scatter",
         "x": [
          0.6859450045720663,
          0.3989395953966282,
          null
         ],
         "y": [
          0.6869475070736885,
          0.8806421641799811,
          null
         ]
        },
        {
         "hovertemplate": "<b>Heather Ward → Heather Ward</b><br>Interactions: 2<br>Similarity: 1.000<extra></extra>",
         "line": {
          "color": "rgba(33, 102, 172, 0.7)",
          "width": 1
         },
         "mode": "lines",
         "showlegend": false,
         "type": "scatter",
         "x": [
          0.6859450045720663,
          0.6859450045720663,
          null
         ],
         "y": [
          0.6869475070736885,
          0.6869475070736885,
          null
         ]
        },
        {
         "hovertemplate": "<b>Heather Ward → William Obrien</b><br>Interactions: 1<br>Similarity: 0.043<extra></extra>",
         "line": {
          "color": "rgba(253, 219, 199, 0.7)",
          "width": 1
         },
         "mode": "lines",
         "showlegend": false,
         "type": "scatter",
         "x": [
          0.6859450045720663,
          0.8501807977005968,
          null
         ],
         "y": [
          0.6869475070736885,
          -0.5807629751799296,
          null
         ]
        },
        {
         "hovertemplate": "<b>Heather Ward → Julie Francis</b><br>Interactions: 6<br>Similarity: 0.037<extra></extra>",
         "line": {
          "color": "rgba(253, 219, 199, 0.7)",
          "width": 2
         },
         "mode": "lines",
         "showlegend": false,
         "type": "scatter",
         "x": [
          0.6859450045720663,
          -0.5361147761514105,
          null
         ],
         "y": [
          0.6869475070736885,
          0.7536928474138247,
          null
         ]
        },
        {
         "hovertemplate": "<b>Heather Ward → Jennifer Thomas</b><br>Interactions: 16<br>Similarity: -0.139<extra></extra>",
         "line": {
          "color": "rgba(244, 165, 130, 0.7)",
          "width": 5.333333333333333
         },
         "mode": "lines",
         "showlegend": false,
         "type": "scatter",
         "x": [
          0.6859450045720663,
          -0.8998730555186966,
          null
         ],
         "y": [
          0.6869475070736885,
          -0.41342708840603015,
          null
         ]
        },
        {
         "hovertemplate": "<b>Heather Ward → Lynn Spencer</b><br>Interactions: 21<br>Similarity: 0.277<extra></extra>",
         "line": {
          "color": "rgba(209, 229, 240, 0.7)",
          "width": 7
         },
         "mode": "lines",
         "showlegend": false,
         "type": "scatter",
         "x": [
          0.6859450045720663,
          0.9849319565143412,
          null
         ],
         "y": [
          0.6869475070736885,
          0.09213560621422415,
          null
         ]
        },
        {
         "hovertemplate": "<b>Heather Ward → Mary Figueroa</b><br>Interactions: 20<br>Similarity: -0.348<extra></extra>",
         "line": {
          "color": "rgba(214, 96, 77, 0.7)",
          "width": 6.666666666666667
         },
         "mode": "lines",
         "showlegend": false,
         "type": "scatter",
         "x": [
          0.6859450045720663,
          -0.9638361606138051,
          null
         ],
         "y": [
          0.6869475070736885,
          -0.07324778549173401,
          null
         ]
        },
        {
         "hovertemplate": "<b>Heather Ward → Cole Hunter</b><br>Interactions: 20<br>Similarity: -0.390<extra></extra>",
         "line": {
          "color": "rgba(214, 96, 77, 0.7)",
          "width": 6.666666666666667
         },
         "mode": "lines",
         "showlegend": false,
         "type": "scatter",
         "x": [
          0.6859450045720663,
          -0.6854988190417277,
          null
         ],
         "y": [
          0.6869475070736885,
          -0.6797312320517651,
          null
         ]
        },
        {
         "hovertemplate": "<b>Heather Ward → Rebecca Hall</b><br>Interactions: 35<br>Similarity: 0.188<extra></extra>",
         "line": {
          "color": "rgba(253, 219, 199, 0.7)",
          "width": 10
         },
         "mode": "lines",
         "showlegend": false,
         "type": "scatter",
         "x": [
          0.6859450045720663,
          -0.09244796540966069,
          null
         ],
         "y": [
          0.6869475070736885,
          -0.9736932525652702,
          null
         ]
        },
        {
         "hovertemplate": "<b>Heather Ward → Patrick Williams</b><br>Interactions: 1<br>Similarity: 0.567<extra></extra>",
         "line": {
          "color": "rgba(146, 197, 222, 0.7)",
          "width": 1
         },
         "mode": "lines",
         "showlegend": false,
         "type": "scatter",
         "x": [
          0.6859450045720663,
          0.2561361615289968,
          null
         ],
         "y": [
          0.6869475070736885,
          -1,
          null
         ]
        },
        {
         "hovertemplate": "<b>Jason Day → Heather Ward</b><br>Interactions: 6<br>Similarity: -0.338<extra></extra>",
         "line": {
          "color": "rgba(214, 96, 77, 0.7)",
          "width": 2
         },
         "mode": "lines",
         "showlegend": false,
         "type": "scatter",
         "x": [
          -0.8248788973556259,
          0.6859450045720663,
          null
         ],
         "y": [
          0.6182324532165933,
          0.6869475070736885,
          null
         ]
        },
        {
         "hovertemplate": "<b>Jason Day → Eric Austin</b><br>Interactions: 3<br>Similarity: -0.112<extra></extra>",
         "line": {
          "color": "rgba(244, 165, 130, 0.7)",
          "width": 1
         },
         "mode": "lines",
         "showlegend": false,
         "type": "scatter",
         "x": [
          -0.8248788973556259,
          0.0679339182236547,
          null
         ],
         "y": [
          0.6182324532165933,
          0.9961658653082643,
          null
         ]
        },
        {
         "hovertemplate": "<b>Jason Day → Mary Figueroa</b><br>Interactions: 2<br>Similarity: 0.109<extra></extra>",
         "line": {
          "color": "rgba(253, 219, 199, 0.7)",
          "width": 1
         },
         "mode": "lines",
         "showlegend": false,
         "type": "scatter",
         "x": [
          -0.8248788973556259,
          -0.9638361606138051,
          null
         ],
         "y": [
          0.6182324532165933,
          -0.07324778549173401,
          null
         ]
        },
        {
         "hovertemplate": "<b>Jason Day → William Obrien</b><br>Interactions: 47<br>Similarity: -0.049<extra></extra>",
         "line": {
          "color": "rgba(244, 165, 130, 0.7)",
          "width": 10
         },
         "mode": "lines",
         "showlegend": false,
         "type": "scatter",
         "x": [
          -0.8248788973556259,
          0.8501807977005968,
          null
         ],
         "y": [
          0.6182324532165933,
          -0.5807629751799296,
          null
         ]
        },
        {
         "hovertemplate": "<b>Jason Day → Julie Francis</b><br>Interactions: 27<br>Similarity: 0.330<extra></extra>",
         "line": {
          "color": "rgba(209, 229, 240, 0.7)",
          "width": 9
         },
         "mode": "lines",
         "showlegend": false,
         "type": "scatter",
         "x": [
          -0.8248788973556259,
          -0.5361147761514105,
          null
         ],
         "y": [
          0.6182324532165933,
          0.7536928474138247,
          null
         ]
        },
        {
         "hovertemplate": "<b>Jason Day → Matthew Odom</b><br>Interactions: 1<br>Similarity: -0.821<extra></extra>",
         "line": {
          "color": "rgba(103, 0, 31, 0.7)",
          "width": 1
         },
         "mode": "lines",
         "showlegend": false,
         "type": "scatter",
         "x": [
          -0.8248788973556259,
          0.9317906794991804,
          null
         ],
         "y": [
          0.6182324532165933,
          -0.24878282567207277,
          null
         ]
        },
        {
         "hovertemplate": "<b>Jason Day → George Brown</b><br>Interactions: 1<br>Similarity: -0.154<extra></extra>",
         "line": {
          "color": "rgba(244, 165, 130, 0.7)",
          "width": 1
         },
         "mode": "lines",
         "showlegend": false,
         "type": "scatter",
         "x": [
          -0.8248788973556259,
          -0.29233083356523126,
          null
         ],
         "y": [
          0.6182324532165933,
          0.9677886068772861,
          null
         ]
        },
        {
         "hovertemplate": "<b>Jason Day → Patrick Williams</b><br>Interactions: 30<br>Similarity: -0.471<extra></extra>",
         "line": {
          "color": "rgba(178, 24, 43, 0.7)",
          "width": 10
         },
         "mode": "lines",
         "showlegend": false,
         "type": "scatter",
         "x": [
          -0.8248788973556259,
          0.2561361615289968,
          null
         ],
         "y": [
          0.6182324532165933,
          -1,
          null
         ]
        },
        {
         "hovertemplate": "<b>William Obrien → Heather Ward</b><br>Interactions: 2<br>Similarity: 0.043<extra></extra>",
         "line": {
          "color": "rgba(253, 219, 199, 0.7)",
          "width": 1
         },
         "mode": "lines",
         "showlegend": false,
         "type": "scatter",
         "x": [
          0.8501807977005968,
          0.6859450045720663,
          null
         ],
         "y": [
          -0.5807629751799296,
          0.6869475070736885,
          null
         ]
        },
        {
         "hovertemplate": "<b>William Obrien → Eric Austin</b><br>Interactions: 2<br>Similarity: -0.432<extra></extra>",
         "line": {
          "color": "rgba(178, 24, 43, 0.7)",
          "width": 1
         },
         "mode": "lines",
         "showlegend": false,
         "type": "scatter",
         "x": [
          0.8501807977005968,
          0.0679339182236547,
          null
         ],
         "y": [
          -0.5807629751799296,
          0.9961658653082643,
          null
         ]
        },
        {
         "hovertemplate": "<b>William Obrien → William Obrien</b><br>Interactions: 6<br>Similarity: 1.000<extra></extra>",
         "line": {
          "color": "rgba(5, 48, 97, 0.7)",
          "width": 2
         },
         "mode": "lines",
         "showlegend": false,
         "type": "scatter",
         "x": [
          0.8501807977005968,
          0.8501807977005968,
          null
         ],
         "y": [
          -0.5807629751799296,
          -0.5807629751799296,
          null
         ]
        },
        {
         "hovertemplate": "<b>William Obrien → George Brown</b><br>Interactions: 1<br>Similarity: 0.016<extra></extra>",
         "line": {
          "color": "rgba(253, 219, 199, 0.7)",
          "width": 1
         },
         "mode": "lines",
         "showlegend": false,
         "type": "scatter",
         "x": [
          0.8501807977005968,
          -0.29233083356523126,
          null
         ],
         "y": [
          -0.5807629751799296,
          0.9677886068772861,
          null
         ]
        },
        {
         "hovertemplate": "<b>William Obrien → Jason Day</b><br>Interactions: 2<br>Similarity: -0.049<extra></extra>",
         "line": {
          "color": "rgba(244, 165, 130, 0.7)",
          "width": 1
         },
         "mode": "lines",
         "showlegend": false,
         "type": "scatter",
         "x": [
          0.8501807977005968,
          -0.8248788973556259,
          null
         ],
         "y": [
          -0.5807629751799296,
          0.6182324532165933,
          null
         ]
        },
        {
         "hovertemplate": "<b>William Obrien → Mary Figueroa</b><br>Interactions: 1<br>Similarity: -0.232<extra></extra>",
         "line": {
          "color": "rgba(214, 96, 77, 0.7)",
          "width": 1
         },
         "mode": "lines",
         "showlegend": false,
         "type": "scatter",
         "x": [
          0.8501807977005968,
          -0.9638361606138051,
          null
         ],
         "y": [
          -0.5807629751799296,
          -0.07324778549173401,
          null
         ]
        },
        {
         "hovertemplate": "<b>William Obrien → Julie Francis</b><br>Interactions: 45<br>Similarity: -0.177<extra></extra>",
         "line": {
          "color": "rgba(244, 165, 130, 0.7)",
          "width": 10
         },
         "mode": "lines",
         "showlegend": false,
         "type": "scatter",
         "x": [
          0.8501807977005968,
          -0.5361147761514105,
          null
         ],
         "y": [
          -0.5807629751799296,
          0.7536928474138247,
          null
         ]
        },
        {
         "hovertemplate": "<b>William Obrien → Rebecca Hall</b><br>Interactions: 2<br>Similarity: -0.322<extra></extra>",
         "line": {
          "color": "rgba(214, 96, 77, 0.7)",
          "width": 1
         },
         "mode": "lines",
         "showlegend": false,
         "type": "scatter",
         "x": [
          0.8501807977005968,
          -0.09244796540966069,
          null
         ],
         "y": [
          -0.5807629751799296,
          -0.9736932525652702,
          null
         ]
        },
        {
         "hovertemplate": "<b>William Obrien → Matthew Odom</b><br>Interactions: 8<br>Similarity: -0.132<extra></extra>",
         "line": {
          "color": "rgba(244, 165, 130, 0.7)",
          "width": 2.6666666666666665
         },
         "mode": "lines",
         "showlegend": false,
         "type": "scatter",
         "x": [
          0.8501807977005968,
          0.9317906794991804,
          null
         ],
         "y": [
          -0.5807629751799296,
          -0.24878282567207277,
          null
         ]
        },
        {
         "hovertemplate": "<b>William Obrien → Patrick Williams</b><br>Interactions: 6<br>Similarity: -0.048<extra></extra>",
         "line": {
          "color": "rgba(244, 165, 130, 0.7)",
          "width": 2
         },
         "mode": "lines",
         "showlegend": false,
         "type": "scatter",
         "x": [
          0.8501807977005968,
          0.2561361615289968,
          null
         ],
         "y": [
          -0.5807629751799296,
          -1,
          null
         ]
        },
        {
         "hovertemplate": "<b>Jennifer Thomas → Cole Hunter</b><br>Interactions: 6<br>Similarity: 0.109<extra></extra>",
         "line": {
          "color": "rgba(253, 219, 199, 0.7)",
          "width": 2
         },
         "mode": "lines",
         "showlegend": false,
         "type": "scatter",
         "x": [
          -0.8998730555186966,
          -0.6854988190417277,
          null
         ],
         "y": [
          -0.41342708840603015,
          -0.6797312320517651,
          null
         ]
        },
        {
         "hovertemplate": "<b>Jennifer Thomas → William Murphy</b><br>Interactions: 14<br>Similarity: 0.042<extra></extra>",
         "line": {
          "color": "rgba(253, 219, 199, 0.7)",
          "width": 4.666666666666667
         },
         "mode": "lines",
         "showlegend": false,
         "type": "scatter",
         "x": [
          -0.8998730555186966,
          0.3989395953966282,
          null
         ],
         "y": [
          -0.41342708840603015,
          0.8806421641799811,
          null
         ]
        },
        {
         "hovertemplate": "<b>Jennifer Thomas → Rebecca Hall</b><br>Interactions: 21<br>Similarity: 0.677<extra></extra>",
         "line": {
          "color": "rgba(67, 147, 195, 0.7)",
          "width": 7
         },
         "mode": "lines",
         "showlegend": false,
         "type": "scatter",
         "x": [
          -0.8998730555186966,
          -0.09244796540966069,
          null
         ],
         "y": [
          -0.41342708840603015,
          -0.9736932525652702,
          null
         ]
        },
        {
         "hovertemplate": "<b>Jennifer Thomas → Julie Francis</b><br>Interactions: 1<br>Similarity: 0.485<extra></extra>",
         "line": {
          "color": "rgba(146, 197, 222, 0.7)",
          "width": 1
         },
         "mode": "lines",
         "showlegend": false,
         "type": "scatter",
         "x": [
          -0.8998730555186966,
          -0.5361147761514105,
          null
         ],
         "y": [
          -0.41342708840603015,
          0.7536928474138247,
          null
         ]
        },
        {
         "hovertemplate": "<b>Jennifer Thomas → Lynn Spencer</b><br>Interactions: 14<br>Similarity: -0.153<extra></extra>",
         "line": {
          "color": "rgba(244, 165, 130, 0.7)",
          "width": 4.666666666666667
         },
         "mode": "lines",
         "showlegend": false,
         "type": "scatter",
         "x": [
          -0.8998730555186966,
          0.9849319565143412,
          null
         ],
         "y": [
          -0.41342708840603015,
          0.09213560621422415,
          null
         ]
        },
        {
         "hovertemplate": "<b>Jennifer Thomas → Mary Figueroa</b><br>Interactions: 20<br>Similarity: 0.468<extra></extra>",
         "line": {
          "color": "rgba(146, 197, 222, 0.7)",
          "width": 6.666666666666667
         },
         "mode": "lines",
         "showlegend": false,
         "type": "scatter",
         "x": [
          -0.8998730555186966,
          -0.9638361606138051,
          null
         ],
         "y": [
          -0.41342708840603015,
          -0.07324778549173401,
          null
         ]
        },
        {
         "hovertemplate": "<b>Jennifer Thomas → Jennifer Thomas</b><br>Interactions: 2<br>Similarity: 1.000<extra></extra>",
         "line": {
          "color": "rgba(33, 102, 172, 0.7)",
          "width": 1
         },
         "mode": "lines",
         "showlegend": false,
         "type": "scatter",
         "x": [
          -0.8998730555186966,
          -0.8998730555186966,
          null
         ],
         "y": [
          -0.41342708840603015,
          -0.41342708840603015,
          null
         ]
        },
        {
         "hovertemplate": "<b>Jennifer Thomas → Heather Ward</b><br>Interactions: 1<br>Similarity: -0.139<extra></extra>",
         "line": {
          "color": "rgba(244, 165, 130, 0.7)",
          "width": 1
         },
         "mode": "lines",
         "showlegend": false,
         "type": "scatter",
         "x": [
          -0.8998730555186966,
          0.6859450045720663,
          null
         ],
         "y": [
          -0.41342708840603015,
          0.6869475070736885,
          null
         ]
        },
        {
         "hovertemplate": "<b>Julie Francis → Cole Hunter</b><br>Interactions: 4<br>Similarity: -0.194<extra></extra>",
         "line": {
          "color": "rgba(244, 165, 130, 0.7)",
          "width": 1.3333333333333333
         },
         "mode": "lines",
         "showlegend": false,
         "type": "scatter",
         "x": [
          -0.5361147761514105,
          -0.6854988190417277,
          null
         ],
         "y": [
          0.7536928474138247,
          -0.6797312320517651,
          null
         ]
        },
        {
         "hovertemplate": "<b>Julie Francis → William Murphy</b><br>Interactions: 3<br>Similarity: -0.088<extra></extra>",
         "line": {
          "color": "rgba(244, 165, 130, 0.7)",
          "width": 1
         },
         "mode": "lines",
         "showlegend": false,
         "type": "scatter",
         "x": [
          -0.5361147761514105,
          0.3989395953966282,
          null
         ],
         "y": [
          0.7536928474138247,
          0.8806421641799811,
          null
         ]
        },
        {
         "hovertemplate": "<b>Julie Francis → Jennifer Thomas</b><br>Interactions: 4<br>Similarity: 0.485<extra></extra>",
         "line": {
          "color": "rgba(146, 197, 222, 0.7)",
          "width": 1.3333333333333333
         },
         "mode": "lines",
         "showlegend": false,
         "type": "scatter",
         "x": [
          -0.5361147761514105,
          -0.8998730555186966,
          null
         ],
         "y": [
          0.7536928474138247,
          -0.41342708840603015,
          null
         ]
        },
        {
         "hovertemplate": "<b>Julie Francis → Lynn Spencer</b><br>Interactions: 5<br>Similarity: 0.075<extra></extra>",
         "line": {
          "color": "rgba(253, 219, 199, 0.7)",
          "width": 1.6666666666666667
         },
         "mode": "lines",
         "showlegend": false,
         "type": "scatter",
         "x": [
          -0.5361147761514105,
          0.9849319565143412,
          null
         ],
         "y": [
          0.7536928474138247,
          0.09213560621422415,
          null
         ]
        },
        {
         "hovertemplate": "<b>Julie Francis → Rebecca Hall</b><br>Interactions: 3<br>Similarity: 0.619<extra></extra>",
         "line": {
          "color": "rgba(67, 147, 195, 0.7)",
          "width": 1
         },
         "mode": "lines",
         "showlegend": false,
         "type": "scatter",
         "x": [
          -0.5361147761514105,
          -0.09244796540966069,
          null
         ],
         "y": [
          0.7536928474138247,
          -0.9736932525652702,
          null
         ]
        },
        {
         "hovertemplate": "<b>Julie Francis → Julie Francis</b><br>Interactions: 5<br>Similarity: 1.000<extra></extra>",
         "line": {
          "color": "rgba(33, 102, 172, 0.7)",
          "width": 1.6666666666666667
         },
         "mode": "lines",
         "showlegend": false,
         "type": "scatter",
         "x": [
          -0.5361147761514105,
          -0.5361147761514105,
          null
         ],
         "y": [
          0.7536928474138247,
          0.7536928474138247,
          null
         ]
        },
        {
         "hovertemplate": "<b>Julie Francis → Mary Figueroa</b><br>Interactions: 3<br>Similarity: 0.275<extra></extra>",
         "line": {
          "color": "rgba(209, 229, 240, 0.7)",
          "width": 1
         },
         "mode": "lines",
         "showlegend": false,
         "type": "scatter",
         "x": [
          -0.5361147761514105,
          -0.9638361606138051,
          null
         ],
         "y": [
          0.7536928474138247,
          -0.07324778549173401,
          null
         ]
        },
        {
         "hovertemplate": "<b>Julie Francis → George Brown</b><br>Interactions: 14<br>Similarity: -0.324<extra></extra>",
         "line": {
          "color": "rgba(214, 96, 77, 0.7)",
          "width": 4.666666666666667
         },
         "mode": "lines",
         "showlegend": false,
         "type": "scatter",
         "x": [
          -0.5361147761514105,
          -0.29233083356523126,
          null
         ],
         "y": [
          0.7536928474138247,
          0.9677886068772861,
          null
         ]
        },
        {
         "hovertemplate": "<b>Julie Francis → Heather Ward</b><br>Interactions: 1<br>Similarity: 0.037<extra></extra>",
         "line": {
          "color": "rgba(253, 219, 199, 0.7)",
          "width": 1
         },
         "mode": "lines",
         "showlegend": false,
         "type": "scatter",
         "x": [
          -0.5361147761514105,
          0.6859450045720663,
          null
         ],
         "y": [
          0.7536928474138247,
          0.6869475070736885,
          null
         ]
        },
        {
         "hovertemplate": "<b>Julie Francis → Matthew Odom</b><br>Interactions: 8<br>Similarity: -0.250<extra></extra>",
         "line": {
          "color": "rgba(214, 96, 77, 0.7)",
          "width": 2.6666666666666665
         },
         "mode": "lines",
         "showlegend": false,
         "type": "scatter",
         "x": [
          -0.5361147761514105,
          0.9317906794991804,
          null
         ],
         "y": [
          0.7536928474138247,
          -0.24878282567207277,
          null
         ]
        },
        {
         "hovertemplate": "<b>Julie Francis → Patrick Williams</b><br>Interactions: 20<br>Similarity: -0.419<extra></extra>",
         "line": {
          "color": "rgba(178, 24, 43, 0.7)",
          "width": 6.666666666666667
         },
         "mode": "lines",
         "showlegend": false,
         "type": "scatter",
         "x": [
          -0.5361147761514105,
          0.2561361615289968,
          null
         ],
         "y": [
          0.7536928474138247,
          -1,
          null
         ]
        },
        {
         "hovertemplate": "<b>Julie Francis → Jason Day</b><br>Interactions: 10<br>Similarity: 0.330<extra></extra>",
         "line": {
          "color": "rgba(209, 229, 240, 0.7)",
          "width": 3.3333333333333335
         },
         "mode": "lines",
         "showlegend": false,
         "type": "scatter",
         "x": [
          -0.5361147761514105,
          -0.8248788973556259,
          null
         ],
         "y": [
          0.7536928474138247,
          0.6182324532165933,
          null
         ]
        },
        {
         "hovertemplate": "<b>Julie Francis → William Obrien</b><br>Interactions: 24<br>Similarity: -0.177<extra></extra>",
         "line": {
          "color": "rgba(244, 165, 130, 0.7)",
          "width": 8
         },
         "mode": "lines",
         "showlegend": false,
         "type": "scatter",
         "x": [
          -0.5361147761514105,
          0.8501807977005968,
          null
         ],
         "y": [
          0.7536928474138247,
          -0.5807629751799296,
          null
         ]
        },
        {
         "hovertemplate": "<b>Julie Francis → Eric Austin</b><br>Interactions: 1<br>Similarity: -0.155<extra></extra>",
         "line": {
          "color": "rgba(244, 165, 130, 0.7)",
          "width": 1
         },
         "mode": "lines",
         "showlegend": false,
         "type": "scatter",
         "x": [
          -0.5361147761514105,
          0.0679339182236547,
          null
         ],
         "y": [
          0.7536928474138247,
          0.9961658653082643,
          null
         ]
        },
        {
         "hovertemplate": "<b>Rebecca Hall → Cole Hunter</b><br>Interactions: 11<br>Similarity: 0.043<extra></extra>",
         "line": {
          "color": "rgba(253, 219, 199, 0.7)",
          "width": 3.6666666666666665
         },
         "mode": "lines",
         "showlegend": false,
         "type": "scatter",
         "x": [
          -0.09244796540966069,
          -0.6854988190417277,
          null
         ],
         "y": [
          -0.9736932525652702,
          -0.6797312320517651,
          null
         ]
        },
        {
         "hovertemplate": "<b>Rebecca Hall → Andrew Vang</b><br>Interactions: 1<br>Similarity: 0.211<extra></extra>",
         "line": {
          "color": "rgba(209, 229, 240, 0.7)",
          "width": 1
         },
         "mode": "lines",
         "showlegend": false,
         "type": "scatter",
         "x": [
          -0.09244796540966069,
          -0.44152715747871657,
          null
         ],
         "y": [
          -0.9736932525652702,
          -0.9176520610391299,
          null
         ]
        },
        {
         "hovertemplate": "<b>Rebecca Hall → William Murphy</b><br>Interactions: 36<br>Similarity: 0.274<extra></extra>",
         "line": {
          "color": "rgba(209, 229, 240, 0.7)",
          "width": 10
         },
         "mode": "lines",
         "showlegend": false,
         "type": "scatter",
         "x": [
          -0.09244796540966069,
          0.3989395953966282,
          null
         ],
         "y": [
          -0.9736932525652702,
          0.8806421641799811,
          null
         ]
        },
        {
         "hovertemplate": "<b>Rebecca Hall → Matthew Odom</b><br>Interactions: 1<br>Similarity: -0.014<extra></extra>",
         "line": {
          "color": "rgba(244, 165, 130, 0.7)",
          "width": 1
         },
         "mode": "lines",
         "showlegend": false,
         "type": "scatter",
         "x": [
          -0.09244796540966069,
          0.9317906794991804,
          null
         ],
         "y": [
          -0.9736932525652702,
          -0.24878282567207277,
          null
         ]
        },
        {
         "hovertemplate": "<b>Rebecca Hall → Eric Austin</b><br>Interactions: 4<br>Similarity: -0.211<extra></extra>",
         "line": {
          "color": "rgba(244, 165, 130, 0.7)",
          "width": 1.3333333333333333
         },
         "mode": "lines",
         "showlegend": false,
         "type": "scatter",
         "x": [
          -0.09244796540966069,
          0.0679339182236547,
          null
         ],
         "y": [
          -0.9736932525652702,
          0.9961658653082643,
          null
         ]
        },
        {
         "hovertemplate": "<b>Rebecca Hall → Mary Figueroa</b><br>Interactions: 27<br>Similarity: 0.295<extra></extra>",
         "line": {
          "color": "rgba(209, 229, 240, 0.7)",
          "width": 9
         },
         "mode": "lines",
         "showlegend": false,
         "type": "scatter",
         "x": [
          -0.09244796540966069,
          -0.9638361606138051,
          null
         ],
         "y": [
          -0.9736932525652702,
          -0.07324778549173401,
          null
         ]
        },
        {
         "hovertemplate": "<b>Rebecca Hall → Jennifer Thomas</b><br>Interactions: 33<br>Similarity: 0.677<extra></extra>",
         "line": {
          "color": "rgba(67, 147, 195, 0.7)",
          "width": 10
         },
         "mode": "lines",
         "showlegend": false,
         "type": "scatter",
         "x": [
          -0.09244796540966069,
          -0.8998730555186966,
          null
         ],
         "y": [
          -0.9736932525652702,
          -0.41342708840603015,
          null
         ]
        },
        {
         "hovertemplate": "<b>Rebecca Hall → Lynn Spencer</b><br>Interactions: 36<br>Similarity: 0.291<extra></extra>",
         "line": {
          "color": "rgba(209, 229, 240, 0.7)",
          "width": 10
         },
         "mode": "lines",
         "showlegend": false,
         "type": "scatter",
         "x": [
          -0.09244796540966069,
          0.9849319565143412,
          null
         ],
         "y": [
          -0.9736932525652702,
          0.09213560621422415,
          null
         ]
        },
        {
         "hovertemplate": "<b>Rebecca Hall → Julie Francis</b><br>Interactions: 1<br>Similarity: 0.619<extra></extra>",
         "line": {
          "color": "rgba(67, 147, 195, 0.7)",
          "width": 1
         },
         "mode": "lines",
         "showlegend": false,
         "type": "scatter",
         "x": [
          -0.09244796540966069,
          -0.5361147761514105,
          null
         ],
         "y": [
          -0.9736932525652702,
          0.7536928474138247,
          null
         ]
        },
        {
         "hovertemplate": "<b>Rebecca Hall → Rebecca Hall</b><br>Interactions: 3<br>Similarity: 1.000<extra></extra>",
         "line": {
          "color": "rgba(5, 48, 97, 0.7)",
          "width": 1
         },
         "mode": "lines",
         "showlegend": false,
         "type": "scatter",
         "x": [
          -0.09244796540966069,
          -0.09244796540966069,
          null
         ],
         "y": [
          -0.9736932525652702,
          -0.9736932525652702,
          null
         ]
        },
        {
         "hovertemplate": "<b>Rebecca Hall → Heather Ward</b><br>Interactions: 1<br>Similarity: 0.188<extra></extra>",
         "line": {
          "color": "rgba(253, 219, 199, 0.7)",
          "width": 1
         },
         "mode": "lines",
         "showlegend": false,
         "type": "scatter",
         "x": [
          -0.09244796540966069,
          0.6859450045720663,
          null
         ],
         "y": [
          -0.9736932525652702,
          0.6869475070736885,
          null
         ]
        },
        {
         "hovertemplate": "<b>Rebecca Hall → Daniel Gordon</b><br>Interactions: 3<br>Similarity: 0.256<extra></extra>",
         "line": {
          "color": "rgba(209, 229, 240, 0.7)",
          "width": 1
         },
         "mode": "lines",
         "showlegend": false,
         "type": "scatter",
         "x": [
          -0.09244796540966069,
          -0.9632478875329431,
          null
         ],
         "y": [
          -0.9736932525652702,
          0.2760289180058474,
          null
         ]
        },
        {
         "hovertemplate": "<b>Rebecca Hall → Justin Love</b><br>Interactions: 3<br>Similarity: 0.351<extra></extra>",
         "line": {
          "color": "rgba(209, 229, 240, 0.7)",
          "width": 1
         },
         "mode": "lines",
         "showlegend": false,
         "type": "scatter",
         "x": [
          -0.09244796540966069,
          0.941297126675412,
          null
         ],
         "y": [
          -0.9736932525652702,
          0.4488265431389019,
          null
         ]
        },
        {
         "hovertemplate": "<b>Jacqueline Clark → Justin Love</b><br>Interactions: 56<br>Similarity: 0.265<extra></extra>",
         "line": {
          "color": "rgba(209, 229, 240, 0.7)",
          "width": 10
         },
         "mode": "lines",
         "showlegend": false,
         "type": "scatter",
         "x": [
          0.5826003125569416,
          0.941297126675412,
          null
         ],
         "y": [
          -0.8331632910226803,
          0.4488265431389019,
          null
         ]
        },
        {
         "hovertemplate": "<b>Jacqueline Clark → Eric Austin</b><br>Interactions: 39<br>Similarity: 0.145<extra></extra>",
         "line": {
          "color": "rgba(253, 219, 199, 0.7)",
          "width": 10
         },
         "mode": "lines",
         "showlegend": false,
         "type": "scatter",
         "x": [
          0.5826003125569416,
          0.0679339182236547,
          null
         ],
         "y": [
          -0.8331632910226803,
          0.9961658653082643,
          null
         ]
        },
        {
         "hovertemplate": "<b>Jacqueline Clark → William Murphy</b><br>Interactions: 1<br>Similarity: -0.083<extra></extra>",
         "line": {
          "color": "rgba(244, 165, 130, 0.7)",
          "width": 1
         },
         "mode": "lines",
         "showlegend": false,
         "type": "scatter",
         "x": [
          0.5826003125569416,
          0.3989395953966282,
          null
         ],
         "y": [
          -0.8331632910226803,
          0.8806421641799811,
          null
         ]
        },
        {
         "hovertemplate": "<b>Jacqueline Clark → Rebecca Hall</b><br>Interactions: 3<br>Similarity: 0.420<extra></extra>",
         "line": {
          "color": "rgba(146, 197, 222, 0.7)",
          "width": 1
         },
         "mode": "lines",
         "showlegend": false,
         "type": "scatter",
         "x": [
          0.5826003125569416,
          -0.09244796540966069,
          null
         ],
         "y": [
          -0.8331632910226803,
          -0.9736932525652702,
          null
         ]
        },
        {
         "hovertemplate": "<b>Cole Hunter → Mary Figueroa</b><br>Interactions: 28<br>Similarity: 0.100<extra></extra>",
         "line": {
          "color": "rgba(253, 219, 199, 0.7)",
          "width": 9.333333333333334
         },
         "mode": "lines",
         "showlegend": false,
         "type": "scatter",
         "x": [
          -0.6854988190417277,
          -0.9638361606138051,
          null
         ],
         "y": [
          -0.6797312320517651,
          -0.07324778549173401,
          null
         ]
        },
        {
         "hovertemplate": "<b>Cole Hunter → Lynn Spencer</b><br>Interactions: 29<br>Similarity: -0.059<extra></extra>",
         "line": {
          "color": "rgba(244, 165, 130, 0.7)",
          "width": 9.666666666666666
         },
         "mode": "lines",
         "showlegend": false,
         "type": "scatter",
         "x": [
          -0.6854988190417277,
          0.9849319565143412,
          null
         ],
         "y": [
          -0.6797312320517651,
          0.09213560621422415,
          null
         ]
        },
        {
         "hovertemplate": "<b>Cole Hunter → Julie Francis</b><br>Interactions: 1<br>Similarity: -0.194<extra></extra>",
         "line": {
          "color": "rgba(244, 165, 130, 0.7)",
          "width": 1
         },
         "mode": "lines",
         "showlegend": false,
         "type": "scatter",
         "x": [
          -0.6854988190417277,
          -0.5361147761514105,
          null
         ],
         "y": [
          -0.6797312320517651,
          0.7536928474138247,
          null
         ]
        },
        {
         "hovertemplate": "<b>Cole Hunter → William Murphy</b><br>Interactions: 36<br>Similarity: -0.290<extra></extra>",
         "line": {
          "color": "rgba(214, 96, 77, 0.7)",
          "width": 10
         },
         "mode": "lines",
         "showlegend": false,
         "type": "scatter",
         "x": [
          -0.6854988190417277,
          0.3989395953966282,
          null
         ],
         "y": [
          -0.6797312320517651,
          0.8806421641799811,
          null
         ]
        },
        {
         "hovertemplate": "<b>Cole Hunter → Jennifer Thomas</b><br>Interactions: 21<br>Similarity: 0.109<extra></extra>",
         "line": {
          "color": "rgba(253, 219, 199, 0.7)",
          "width": 7
         },
         "mode": "lines",
         "showlegend": false,
         "type": "scatter",
         "x": [
          -0.6854988190417277,
          -0.8998730555186966,
          null
         ],
         "y": [
          -0.6797312320517651,
          -0.41342708840603015,
          null
         ]
        },
        {
         "hovertemplate": "<b>Cole Hunter → Rebecca Hall</b><br>Interactions: 25<br>Similarity: 0.043<extra></extra>",
         "line": {
          "color": "rgba(253, 219, 199, 0.7)",
          "width": 8.333333333333334
         },
         "mode": "lines",
         "showlegend": false,
         "type": "scatter",
         "x": [
          -0.6854988190417277,
          -0.09244796540966069,
          null
         ],
         "y": [
          -0.6797312320517651,
          -0.9736932525652702,
          null
         ]
        },
        {
         "hovertemplate": "<b>Cole Hunter → Daniel Gordon</b><br>Interactions: 3<br>Similarity: 0.225<extra></extra>",
         "line": {
          "color": "rgba(209, 229, 240, 0.7)",
          "width": 1
         },
         "mode": "lines",
         "showlegend": false,
         "type": "scatter",
         "x": [
          -0.6854988190417277,
          -0.9632478875329431,
          null
         ],
         "y": [
          -0.6797312320517651,
          0.2760289180058474,
          null
         ]
        },
        {
         "hovertemplate": "<b>Cole Hunter → Heather Ward</b><br>Interactions: 2<br>Similarity: -0.390<extra></extra>",
         "line": {
          "color": "rgba(214, 96, 77, 0.7)",
          "width": 1
         },
         "mode": "lines",
         "showlegend": false,
         "type": "scatter",
         "x": [
          -0.6854988190417277,
          0.6859450045720663,
          null
         ],
         "y": [
          -0.6797312320517651,
          0.6869475070736885,
          null
         ]
        },
        {
         "hovertemplate": "<b>Cole Hunter → Andrew Vang</b><br>Interactions: 1<br>Similarity: 0.432<extra></extra>",
         "line": {
          "color": "rgba(146, 197, 222, 0.7)",
          "width": 1
         },
         "mode": "lines",
         "showlegend": false,
         "type": "scatter",
         "x": [
          -0.6854988190417277,
          -0.44152715747871657,
          null
         ],
         "y": [
          -0.6797312320517651,
          -0.9176520610391299,
          null
         ]
        },
        {
         "hovertemplate": "<b>William Murphy → William Murphy</b><br>Interactions: 2<br>Similarity: 1.000<extra></extra>",
         "line": {
          "color": "rgba(33, 102, 172, 0.7)",
          "width": 1
         },
         "mode": "lines",
         "showlegend": false,
         "type": "scatter",
         "x": [
          0.3989395953966282,
          0.3989395953966282,
          null
         ],
         "y": [
          0.8806421641799811,
          0.8806421641799811,
          null
         ]
        },
        {
         "hovertemplate": "<b>William Murphy → Julie Francis</b><br>Interactions: 4<br>Similarity: -0.088<extra></extra>",
         "line": {
          "color": "rgba(244, 165, 130, 0.7)",
          "width": 1.3333333333333333
         },
         "mode": "lines",
         "showlegend": false,
         "type": "scatter",
         "x": [
          0.3989395953966282,
          -0.5361147761514105,
          null
         ],
         "y": [
          0.8806421641799811,
          0.7536928474138247,
          null
         ]
        },
        {
         "hovertemplate": "<b>William Murphy → Eric Austin</b><br>Interactions: 1<br>Similarity: -0.039<extra></extra>",
         "line": {
          "color": "rgba(244, 165, 130, 0.7)",
          "width": 1
         },
         "mode": "lines",
         "showlegend": false,
         "type": "scatter",
         "x": [
          0.3989395953966282,
          0.0679339182236547,
          null
         ],
         "y": [
          0.8806421641799811,
          0.9961658653082643,
          null
         ]
        },
        {
         "hovertemplate": "<b>William Murphy → Cole Hunter</b><br>Interactions: 28<br>Similarity: -0.290<extra></extra>",
         "line": {
          "color": "rgba(214, 96, 77, 0.7)",
          "width": 9.333333333333334
         },
         "mode": "lines",
         "showlegend": false,
         "type": "scatter",
         "x": [
          0.3989395953966282,
          -0.6854988190417277,
          null
         ],
         "y": [
          0.8806421641799811,
          -0.6797312320517651,
          null
         ]
        },
        {
         "hovertemplate": "<b>William Murphy → Mary Figueroa</b><br>Interactions: 45<br>Similarity: 0.151<extra></extra>",
         "line": {
          "color": "rgba(253, 219, 199, 0.7)",
          "width": 10
         },
         "mode": "lines",
         "showlegend": false,
         "type": "scatter",
         "x": [
          0.3989395953966282,
          -0.9638361606138051,
          null
         ],
         "y": [
          0.8806421641799811,
          -0.07324778549173401,
          null
         ]
        },
        {
         "hovertemplate": "<b>William Murphy → Rebecca Hall</b><br>Interactions: 52<br>Similarity: 0.274<extra></extra>",
         "line": {
          "color": "rgba(209, 229, 240, 0.7)",
          "width": 10
         },
         "mode": "lines",
         "showlegend": false,
         "type": "scatter",
         "x": [
          0.3989395953966282,
          -0.09244796540966069,
          null
         ],
         "y": [
          0.8806421641799811,
          -0.9736932525652702,
          null
         ]
        },
        {
         "hovertemplate": "<b>William Murphy → Lynn Spencer</b><br>Interactions: 33<br>Similarity: 0.183<extra></extra>",
         "line": {
          "color": "rgba(253, 219, 199, 0.7)",
          "width": 10
         },
         "mode": "lines",
         "showlegend": false,
         "type": "scatter",
         "x": [
          0.3989395953966282,
          0.9849319565143412,
          null
         ],
         "y": [
          0.8806421641799811,
          0.09213560621422415,
          null
         ]
        },
        {
         "hovertemplate": "<b>William Murphy → Jacqueline Clark</b><br>Interactions: 1<br>Similarity: -0.083<extra></extra>",
         "line": {
          "color": "rgba(244, 165, 130, 0.7)",
          "width": 1
         },
         "mode": "lines",
         "showlegend": false,
         "type": "scatter",
         "x": [
          0.3989395953966282,
          0.5826003125569416,
          null
         ],
         "y": [
          0.8806421641799811,
          -0.8331632910226803,
          null
         ]
        },
        {
         "hovertemplate": "<b>William Murphy → Jennifer Thomas</b><br>Interactions: 36<br>Similarity: 0.042<extra></extra>",
         "line": {
          "color": "rgba(253, 219, 199, 0.7)",
          "width": 10
         },
         "mode": "lines",
         "showlegend": false,
         "type": "scatter",
         "x": [
          0.3989395953966282,
          -0.8998730555186966,
          null
         ],
         "y": [
          0.8806421641799811,
          -0.41342708840603015,
          null
         ]
        },
        {
         "hovertemplate": "<b>William Murphy → Heather Ward</b><br>Interactions: 4<br>Similarity: 0.317<extra></extra>",
         "line": {
          "color": "rgba(209, 229, 240, 0.7)",
          "width": 1.3333333333333333
         },
         "mode": "lines",
         "showlegend": false,
         "type": "scatter",
         "x": [
          0.3989395953966282,
          0.6859450045720663,
          null
         ],
         "y": [
          0.8806421641799811,
          0.6869475070736885,
          null
         ]
        },
        {
         "hovertemplate": "<b>Mary Figueroa → William Obrien</b><br>Interactions: 3<br>Similarity: -0.232<extra></extra>",
         "line": {
          "color": "rgba(214, 96, 77, 0.7)",
          "width": 1
         },
         "mode": "lines",
         "showlegend": false,
         "type": "scatter",
         "x": [
          -0.9638361606138051,
          0.8501807977005968,
          null
         ],
         "y": [
          -0.07324778549173401,
          -0.5807629751799296,
          null
         ]
        },
        {
         "hovertemplate": "<b>Mary Figueroa → William Murphy</b><br>Interactions: 35<br>Similarity: 0.151<extra></extra>",
         "line": {
          "color": "rgba(253, 219, 199, 0.7)",
          "width": 10
         },
         "mode": "lines",
         "showlegend": false,
         "type": "scatter",
         "x": [
          -0.9638361606138051,
          0.3989395953966282,
          null
         ],
         "y": [
          -0.07324778549173401,
          0.8806421641799811,
          null
         ]
        },
        {
         "hovertemplate": "<b>Mary Figueroa → Rebecca Hall</b><br>Interactions: 29<br>Similarity: 0.295<extra></extra>",
         "line": {
          "color": "rgba(209, 229, 240, 0.7)",
          "width": 9.666666666666666
         },
         "mode": "lines",
         "showlegend": false,
         "type": "scatter",
         "x": [
          -0.9638361606138051,
          -0.09244796540966069,
          null
         ],
         "y": [
          -0.07324778549173401,
          -0.9736932525652702,
          null
         ]
        },
        {
         "hovertemplate": "<b>Mary Figueroa → Jennifer Thomas</b><br>Interactions: 19<br>Similarity: 0.468<extra></extra>",
         "line": {
          "color": "rgba(146, 197, 222, 0.7)",
          "width": 6.333333333333333
         },
         "mode": "lines",
         "showlegend": false,
         "type": "scatter",
         "x": [
          -0.9638361606138051,
          -0.8998730555186966,
          null
         ],
         "y": [
          -0.07324778549173401,
          -0.41342708840603015,
          null
         ]
        },
        {
         "hovertemplate": "<b>Mary Figueroa → Lynn Spencer</b><br>Interactions: 12<br>Similarity: -0.634<extra></extra>",
         "line": {
          "color": "rgba(103, 0, 31, 0.7)",
          "width": 4
         },
         "mode": "lines",
         "showlegend": false,
         "type": "scatter",
         "x": [
          -0.9638361606138051,
          0.9849319565143412,
          null
         ],
         "y": [
          -0.07324778549173401,
          0.09213560621422415,
          null
         ]
        },
        {
         "hovertemplate": "<b>Mary Figueroa → Heather Ward</b><br>Interactions: 4<br>Similarity: -0.348<extra></extra>",
         "line": {
          "color": "rgba(214, 96, 77, 0.7)",
          "width": 1.3333333333333333
         },
         "mode": "lines",
         "showlegend": false,
         "type": "scatter",
         "x": [
          -0.9638361606138051,
          0.6859450045720663,
          null
         ],
         "y": [
          -0.07324778549173401,
          0.6869475070736885,
          null
         ]
        },
        {
         "hovertemplate": "<b>Mary Figueroa → Cole Hunter</b><br>Interactions: 5<br>Similarity: 0.100<extra></extra>",
         "line": {
          "color": "rgba(253, 219, 199, 0.7)",
          "width": 1.6666666666666667
         },
         "mode": "lines",
         "showlegend": false,
         "type": "scatter",
         "x": [
          -0.9638361606138051,
          -0.6854988190417277,
          null
         ],
         "y": [
          -0.07324778549173401,
          -0.6797312320517651,
          null
         ]
        },
        {
         "hovertemplate": "<b>Mary Figueroa → Mary Figueroa</b><br>Interactions: 1<br>Similarity: 1.000<extra></extra>",
         "line": {
          "color": "rgba(33, 102, 172, 0.7)",
          "width": 1
         },
         "mode": "lines",
         "showlegend": false,
         "type": "scatter",
         "x": [
          -0.9638361606138051,
          -0.9638361606138051,
          null
         ],
         "y": [
          -0.07324778549173401,
          -0.07324778549173401,
          null
         ]
        },
        {
         "hovertemplate": "<b>Patrick Williams → Eric Austin</b><br>Interactions: 6<br>Similarity: 0.352<extra></extra>",
         "line": {
          "color": "rgba(209, 229, 240, 0.7)",
          "width": 2
         },
         "mode": "lines",
         "showlegend": false,
         "type": "scatter",
         "x": [
          0.2561361615289968,
          0.0679339182236547,
          null
         ],
         "y": [
          -1,
          0.9961658653082643,
          null
         ]
        },
        {
         "hovertemplate": "<b>Patrick Williams → Jennifer Thomas</b><br>Interactions: 12<br>Similarity: 0.197<extra></extra>",
         "line": {
          "color": "rgba(209, 229, 240, 0.7)",
          "width": 4
         },
         "mode": "lines",
         "showlegend": false,
         "type": "scatter",
         "x": [
          0.2561361615289968,
          -0.8998730555186966,
          null
         ],
         "y": [
          -1,
          -0.41342708840603015,
          null
         ]
        },
        {
         "hovertemplate": "<b>Patrick Williams → Rebecca Hall</b><br>Interactions: 20<br>Similarity: 0.032<extra></extra>",
         "line": {
          "color": "rgba(253, 219, 199, 0.7)",
          "width": 6.666666666666667
         },
         "mode": "lines",
         "showlegend": false,
         "type": "scatter",
         "x": [
          0.2561361615289968,
          -0.09244796540966069,
          null
         ],
         "y": [
          -1,
          -0.9736932525652702,
          null
         ]
        },
        {
         "hovertemplate": "<b>Patrick Williams → George Brown</b><br>Interactions: 6<br>Similarity: -0.125<extra></extra>",
         "line": {
          "color": "rgba(244, 165, 130, 0.7)",
          "width": 2
         },
         "mode": "lines",
         "showlegend": false,
         "type": "scatter",
         "x": [
          0.2561361615289968,
          -0.29233083356523126,
          null
         ],
         "y": [
          -1,
          0.9677886068772861,
          null
         ]
        },
        {
         "hovertemplate": "<b>Patrick Williams → William Murphy</b><br>Interactions: 7<br>Similarity: 0.256<extra></extra>",
         "line": {
          "color": "rgba(209, 229, 240, 0.7)",
          "width": 2.3333333333333335
         },
         "mode": "lines",
         "showlegend": false,
         "type": "scatter",
         "x": [
          0.2561361615289968,
          0.3989395953966282,
          null
         ],
         "y": [
          -1,
          0.8806421641799811,
          null
         ]
        },
        {
         "hovertemplate": "<b>Patrick Williams → Mary Figueroa</b><br>Interactions: 10<br>Similarity: -0.011<extra></extra>",
         "line": {
          "color": "rgba(253, 219, 199, 0.7)",
          "width": 3.3333333333333335
         },
         "mode": "lines",
         "showlegend": false,
         "type": "scatter",
         "x": [
          0.2561361615289968,
          -0.9638361606138051,
          null
         ],
         "y": [
          -1,
          -0.07324778549173401,
          null
         ]
        },
        {
         "hovertemplate": "<b>Patrick Williams → Matthew Odom</b><br>Interactions: 24<br>Similarity: 0.615<extra></extra>",
         "line": {
          "color": "rgba(67, 147, 195, 0.7)",
          "width": 8
         },
         "mode": "lines",
         "showlegend": false,
         "type": "scatter",
         "x": [
          0.2561361615289968,
          0.9317906794991804,
          null
         ],
         "y": [
          -1,
          -0.24878282567207277,
          null
         ]
        },
        {
         "hovertemplate": "<b>Patrick Williams → Julie Francis</b><br>Interactions: 7<br>Similarity: -0.419<extra></extra>",
         "line": {
          "color": "rgba(178, 24, 43, 0.7)",
          "width": 2.3333333333333335
         },
         "mode": "lines",
         "showlegend": false,
         "type": "scatter",
         "x": [
          0.2561361615289968,
          -0.5361147761514105,
          null
         ],
         "y": [
          -1,
          0.7536928474138247,
          null
         ]
        },
        {
         "hovertemplate": "<b>Patrick Williams → Jacqueline Clark</b><br>Interactions: 5<br>Similarity: 0.098<extra></extra>",
         "line": {
          "color": "rgba(253, 219, 199, 0.7)",
          "width": 1.6666666666666667
         },
         "mode": "lines",
         "showlegend": false,
         "type": "scatter",
         "x": [
          0.2561361615289968,
          0.5826003125569416,
          null
         ],
         "y": [
          -1,
          -0.8331632910226803,
          null
         ]
        },
        {
         "hovertemplate": "<b>Patrick Williams → Heather Ward</b><br>Interactions: 3<br>Similarity: 0.567<extra></extra>",
         "line": {
          "color": "rgba(146, 197, 222, 0.7)",
          "width": 1
         },
         "mode": "lines",
         "showlegend": false,
         "type": "scatter",
         "x": [
          0.2561361615289968,
          0.6859450045720663,
          null
         ],
         "y": [
          -1,
          0.6869475070736885,
          null
         ]
        },
        {
         "hovertemplate": "<b>Patrick Williams → William Obrien</b><br>Interactions: 11<br>Similarity: -0.048<extra></extra>",
         "line": {
          "color": "rgba(244, 165, 130, 0.7)",
          "width": 3.6666666666666665
         },
         "mode": "lines",
         "showlegend": false,
         "type": "scatter",
         "x": [
          0.2561361615289968,
          0.8501807977005968,
          null
         ],
         "y": [
          -1,
          -0.5807629751799296,
          null
         ]
        },
        {
         "hovertemplate": "<b>Patrick Williams → Lynn Spencer</b><br>Interactions: 6<br>Similarity: -0.066<extra></extra>",
         "line": {
          "color": "rgba(244, 165, 130, 0.7)",
          "width": 2
         },
         "mode": "lines",
         "showlegend": false,
         "type": "scatter",
         "x": [
          0.2561361615289968,
          0.9849319565143412,
          null
         ],
         "y": [
          -1,
          0.09213560621422415,
          null
         ]
        },
        {
         "hovertemplate": "<b>Patrick Williams → Daniel Gordon</b><br>Interactions: 1<br>Similarity: -0.346<extra></extra>",
         "line": {
          "color": "rgba(214, 96, 77, 0.7)",
          "width": 1
         },
         "mode": "lines",
         "showlegend": false,
         "type": "scatter",
         "x": [
          0.2561361615289968,
          -0.9632478875329431,
          null
         ],
         "y": [
          -1,
          0.2760289180058474,
          null
         ]
        },
        {
         "hovertemplate": "<b>Patrick Williams → Patrick Williams</b><br>Interactions: 6<br>Similarity: 1.000<extra></extra>",
         "line": {
          "color": "rgba(33, 102, 172, 0.7)",
          "width": 2
         },
         "mode": "lines",
         "showlegend": false,
         "type": "scatter",
         "x": [
          0.2561361615289968,
          0.2561361615289968,
          null
         ],
         "y": [
          -1,
          -1,
          null
         ]
        },
        {
         "hovertemplate": "<b>Patrick Williams → Cole Hunter</b><br>Interactions: 3<br>Similarity: -0.048<extra></extra>",
         "line": {
          "color": "rgba(244, 165, 130, 0.7)",
          "width": 1
         },
         "mode": "lines",
         "showlegend": false,
         "type": "scatter",
         "x": [
          0.2561361615289968,
          -0.6854988190417277,
          null
         ],
         "y": [
          -1,
          -0.6797312320517651,
          null
         ]
        },
        {
         "hovertemplate": "<b>Patrick Williams → Justin Love</b><br>Interactions: 3<br>Similarity: -0.141<extra></extra>",
         "line": {
          "color": "rgba(244, 165, 130, 0.7)",
          "width": 1
         },
         "mode": "lines",
         "showlegend": false,
         "type": "scatter",
         "x": [
          0.2561361615289968,
          0.941297126675412,
          null
         ],
         "y": [
          -1,
          0.4488265431389019,
          null
         ]
        },
        {
         "hovertemplate": "<b>Matthew Odom → Patrick Williams</b><br>Interactions: 26<br>Similarity: 0.615<extra></extra>",
         "line": {
          "color": "rgba(67, 147, 195, 0.7)",
          "width": 8.666666666666666
         },
         "mode": "lines",
         "showlegend": false,
         "type": "scatter",
         "x": [
          0.9317906794991804,
          0.2561361615289968,
          null
         ],
         "y": [
          -0.24878282567207277,
          -1,
          null
         ]
        },
        {
         "hovertemplate": "<b>Matthew Odom → Mary Figueroa</b><br>Interactions: 23<br>Similarity: -0.011<extra></extra>",
         "line": {
          "color": "rgba(253, 219, 199, 0.7)",
          "width": 7.666666666666667
         },
         "mode": "lines",
         "showlegend": false,
         "type": "scatter",
         "x": [
          0.9317906794991804,
          -0.9638361606138051,
          null
         ],
         "y": [
          -0.24878282567207277,
          -0.07324778549173401,
          null
         ]
        },
        {
         "hovertemplate": "<b>Matthew Odom → Jennifer Thomas</b><br>Interactions: 23<br>Similarity: 0.025<extra></extra>",
         "line": {
          "color": "rgba(253, 219, 199, 0.7)",
          "width": 7.666666666666667
         },
         "mode": "lines",
         "showlegend": false,
         "type": "scatter",
         "x": [
          0.9317906794991804,
          -0.8998730555186966,
          null
         ],
         "y": [
          -0.24878282567207277,
          -0.41342708840603015,
          null
         ]
        },
        {
         "hovertemplate": "<b>Matthew Odom → George Brown</b><br>Interactions: 8<br>Similarity: 0.269<extra></extra>",
         "line": {
          "color": "rgba(209, 229, 240, 0.7)",
          "width": 2.6666666666666665
         },
         "mode": "lines",
         "showlegend": false,
         "type": "scatter",
         "x": [
          0.9317906794991804,
          -0.29233083356523126,
          null
         ],
         "y": [
          -0.24878282567207277,
          0.9677886068772861,
          null
         ]
        },
        {
         "hovertemplate": "<b>Matthew Odom → Heather Ward</b><br>Interactions: 2<br>Similarity: 0.500<extra></extra>",
         "line": {
          "color": "rgba(146, 197, 222, 0.7)",
          "width": 1
         },
         "mode": "lines",
         "showlegend": false,
         "type": "scatter",
         "x": [
          0.9317906794991804,
          0.6859450045720663,
          null
         ],
         "y": [
          -0.24878282567207277,
          0.6869475070736885,
          null
         ]
        },
        {
         "hovertemplate": "<b>Matthew Odom → William Obrien</b><br>Interactions: 21<br>Similarity: -0.132<extra></extra>",
         "line": {
          "color": "rgba(244, 165, 130, 0.7)",
          "width": 7
         },
         "mode": "lines",
         "showlegend": false,
         "type": "scatter",
         "x": [
          0.9317906794991804,
          0.8501807977005968,
          null
         ],
         "y": [
          -0.24878282567207277,
          -0.5807629751799296,
          null
         ]
        },
        {
         "hovertemplate": "<b>Matthew Odom → Julie Francis</b><br>Interactions: 20<br>Similarity: -0.250<extra></extra>",
         "line": {
          "color": "rgba(214, 96, 77, 0.7)",
          "width": 6.666666666666667
         },
         "mode": "lines",
         "showlegend": false,
         "type": "scatter",
         "x": [
          0.9317906794991804,
          -0.5361147761514105,
          null
         ],
         "y": [
          -0.24878282567207277,
          0.7536928474138247,
          null
         ]
        },
        {
         "hovertemplate": "<b>Matthew Odom → Cole Hunter</b><br>Interactions: 20<br>Similarity: -0.639<extra></extra>",
         "line": {
          "color": "rgba(103, 0, 31, 0.7)",
          "width": 6.666666666666667
         },
         "mode": "lines",
         "showlegend": false,
         "type": "scatter",
         "x": [
          0.9317906794991804,
          -0.6854988190417277,
          null
         ],
         "y": [
          -0.24878282567207277,
          -0.6797312320517651,
          null
         ]
        },
        {
         "hovertemplate": "<b>Matthew Odom → Eric Austin</b><br>Interactions: 10<br>Similarity: 0.298<extra></extra>",
         "line": {
          "color": "rgba(209, 229, 240, 0.7)",
          "width": 3.3333333333333335
         },
         "mode": "lines",
         "showlegend": false,
         "type": "scatter",
         "x": [
          0.9317906794991804,
          0.0679339182236547,
          null
         ],
         "y": [
          -0.24878282567207277,
          0.9961658653082643,
          null
         ]
        },
        {
         "hovertemplate": "<b>Matthew Odom → William Murphy</b><br>Interactions: 16<br>Similarity: 0.320<extra></extra>",
         "line": {
          "color": "rgba(209, 229, 240, 0.7)",
          "width": 5.333333333333333
         },
         "mode": "lines",
         "showlegend": false,
         "type": "scatter",
         "x": [
          0.9317906794991804,
          0.3989395953966282,
          null
         ],
         "y": [
          -0.24878282567207277,
          0.8806421641799811,
          null
         ]
        },
        {
         "hovertemplate": "<b>Matthew Odom → Lynn Spencer</b><br>Interactions: 12<br>Similarity: 0.114<extra></extra>",
         "line": {
          "color": "rgba(253, 219, 199, 0.7)",
          "width": 4
         },
         "mode": "lines",
         "showlegend": false,
         "type": "scatter",
         "x": [
          0.9317906794991804,
          0.9849319565143412,
          null
         ],
         "y": [
          -0.24878282567207277,
          0.09213560621422415,
          null
         ]
        },
        {
         "hovertemplate": "<b>Matthew Odom → Rebecca Hall</b><br>Interactions: 23<br>Similarity: -0.014<extra></extra>",
         "line": {
          "color": "rgba(244, 165, 130, 0.7)",
          "width": 7.666666666666667
         },
         "mode": "lines",
         "showlegend": false,
         "type": "scatter",
         "x": [
          0.9317906794991804,
          -0.09244796540966069,
          null
         ],
         "y": [
          -0.24878282567207277,
          -0.9736932525652702,
          null
         ]
        },
        {
         "hovertemplate": "<b>Matthew Odom → Justin Love</b><br>Interactions: 8<br>Similarity: -0.429<extra></extra>",
         "line": {
          "color": "rgba(178, 24, 43, 0.7)",
          "width": 2.6666666666666665
         },
         "mode": "lines",
         "showlegend": false,
         "type": "scatter",
         "x": [
          0.9317906794991804,
          0.941297126675412,
          null
         ],
         "y": [
          -0.24878282567207277,
          0.4488265431389019,
          null
         ]
        },
        {
         "hovertemplate": "<b>Matthew Odom → Jacqueline Clark</b><br>Interactions: 9<br>Similarity: 0.211<extra></extra>",
         "line": {
          "color": "rgba(209, 229, 240, 0.7)",
          "width": 3
         },
         "mode": "lines",
         "showlegend": false,
         "type": "scatter",
         "x": [
          0.9317906794991804,
          0.5826003125569416,
          null
         ],
         "y": [
          -0.24878282567207277,
          -0.8331632910226803,
          null
         ]
        },
        {
         "hovertemplate": "<b>Matthew Odom → Daniel Gordon</b><br>Interactions: 3<br>Similarity: -0.523<extra></extra>",
         "line": {
          "color": "rgba(178, 24, 43, 0.7)",
          "width": 1
         },
         "mode": "lines",
         "showlegend": false,
         "type": "scatter",
         "x": [
          0.9317906794991804,
          -0.9632478875329431,
          null
         ],
         "y": [
          -0.24878282567207277,
          0.2760289180058474,
          null
         ]
        },
        {
         "hovertemplate": "<b>Matthew Odom → Matthew Odom</b><br>Interactions: 7<br>Similarity: 1.000<extra></extra>",
         "line": {
          "color": "rgba(33, 102, 172, 0.7)",
          "width": 2.3333333333333335
         },
         "mode": "lines",
         "showlegend": false,
         "type": "scatter",
         "x": [
          0.9317906794991804,
          0.9317906794991804,
          null
         ],
         "y": [
          -0.24878282567207277,
          -0.24878282567207277,
          null
         ]
        },
        {
         "hovertemplate": "<b>Matthew Odom → Andrew Vang</b><br>Interactions: 4<br>Similarity: 0.008<extra></extra>",
         "line": {
          "color": "rgba(253, 219, 199, 0.7)",
          "width": 1.3333333333333333
         },
         "mode": "lines",
         "showlegend": false,
         "type": "scatter",
         "x": [
          0.9317906794991804,
          -0.44152715747871657,
          null
         ],
         "y": [
          -0.24878282567207277,
          -0.9176520610391299,
          null
         ]
        },
        {
         "hovertemplate": "<b>George Brown → William Obrien</b><br>Interactions: 31<br>Similarity: 0.016<extra></extra>",
         "line": {
          "color": "rgba(253, 219, 199, 0.7)",
          "width": 10
         },
         "mode": "lines",
         "showlegend": false,
         "type": "scatter",
         "x": [
          -0.29233083356523126,
          0.8501807977005968,
          null
         ],
         "y": [
          0.9677886068772861,
          -0.5807629751799296,
          null
         ]
        },
        {
         "hovertemplate": "<b>George Brown → Heather Ward</b><br>Interactions: 7<br>Similarity: 0.362<extra></extra>",
         "line": {
          "color": "rgba(209, 229, 240, 0.7)",
          "width": 2.3333333333333335
         },
         "mode": "lines",
         "showlegend": false,
         "type": "scatter",
         "x": [
          -0.29233083356523126,
          0.6859450045720663,
          null
         ],
         "y": [
          0.9677886068772861,
          0.6869475070736885,
          null
         ]
        },
        {
         "hovertemplate": "<b>George Brown → Matthew Odom</b><br>Interactions: 27<br>Similarity: 0.269<extra></extra>",
         "line": {
          "color": "rgba(209, 229, 240, 0.7)",
          "width": 9
         },
         "mode": "lines",
         "showlegend": false,
         "type": "scatter",
         "x": [
          -0.29233083356523126,
          0.9317906794991804,
          null
         ],
         "y": [
          0.9677886068772861,
          -0.24878282567207277,
          null
         ]
        },
        {
         "hovertemplate": "<b>George Brown → Jason Day</b><br>Interactions: 12<br>Similarity: -0.154<extra></extra>",
         "line": {
          "color": "rgba(244, 165, 130, 0.7)",
          "width": 4
         },
         "mode": "lines",
         "showlegend": false,
         "type": "scatter",
         "x": [
          -0.29233083356523126,
          -0.8248788973556259,
          null
         ],
         "y": [
          0.9677886068772861,
          0.6182324532165933,
          null
         ]
        },
        {
         "hovertemplate": "<b>George Brown → Julie Francis</b><br>Interactions: 27<br>Similarity: -0.324<extra></extra>",
         "line": {
          "color": "rgba(214, 96, 77, 0.7)",
          "width": 9
         },
         "mode": "lines",
         "showlegend": false,
         "type": "scatter",
         "x": [
          -0.29233083356523126,
          -0.5361147761514105,
          null
         ],
         "y": [
          0.9677886068772861,
          0.7536928474138247,
          null
         ]
        },
        {
         "hovertemplate": "<b>George Brown → Patrick Williams</b><br>Interactions: 16<br>Similarity: -0.125<extra></extra>",
         "line": {
          "color": "rgba(244, 165, 130, 0.7)",
          "width": 5.333333333333333
         },
         "mode": "lines",
         "showlegend": false,
         "type": "scatter",
         "x": [
          -0.29233083356523126,
          0.2561361615289968,
          null
         ],
         "y": [
          0.9677886068772861,
          -1,
          null
         ]
        },
        {
         "hovertemplate": "<b>George Brown → Eric Austin</b><br>Interactions: 1<br>Similarity: 0.319<extra></extra>",
         "line": {
          "color": "rgba(209, 229, 240, 0.7)",
          "width": 1
         },
         "mode": "lines",
         "showlegend": false,
         "type": "scatter",
         "x": [
          -0.29233083356523126,
          0.0679339182236547,
          null
         ],
         "y": [
          0.9677886068772861,
          0.9961658653082643,
          null
         ]
        },
        {
         "hovertemplate": "<b>George Brown → Jacqueline Clark</b><br>Interactions: 2<br>Similarity: -0.074<extra></extra>",
         "line": {
          "color": "rgba(244, 165, 130, 0.7)",
          "width": 1
         },
         "mode": "lines",
         "showlegend": false,
         "type": "scatter",
         "x": [
          -0.29233083356523126,
          0.5826003125569416,
          null
         ],
         "y": [
          0.9677886068772861,
          -0.8331632910226803,
          null
         ]
        },
        {
         "hovertemplate": "<b>George Brown → Lynn Spencer</b><br>Interactions: 1<br>Similarity: 0.427<extra></extra>",
         "line": {
          "color": "rgba(146, 197, 222, 0.7)",
          "width": 1
         },
         "mode": "lines",
         "showlegend": false,
         "type": "scatter",
         "x": [
          -0.29233083356523126,
          0.9849319565143412,
          null
         ],
         "y": [
          0.9677886068772861,
          0.09213560621422415,
          null
         ]
        },
        {
         "hovertemplate": "<b>Justin Love → Jacqueline Clark</b><br>Interactions: 43<br>Similarity: 0.265<extra></extra>",
         "line": {
          "color": "rgba(209, 229, 240, 0.7)",
          "width": 10
         },
         "mode": "lines",
         "showlegend": false,
         "type": "scatter",
         "x": [
          0.941297126675412,
          0.5826003125569416,
          null
         ],
         "y": [
          0.4488265431389019,
          -0.8331632910226803,
          null
         ]
        },
        {
         "hovertemplate": "<b>Justin Love → Justin Love</b><br>Interactions: 25<br>Similarity: 1.000<extra></extra>",
         "line": {
          "color": "rgba(33, 102, 172, 0.7)",
          "width": 8.333333333333334
         },
         "mode": "lines",
         "showlegend": false,
         "type": "scatter",
         "x": [
          0.941297126675412,
          0.941297126675412,
          null
         ],
         "y": [
          0.4488265431389019,
          0.4488265431389019,
          null
         ]
        },
        {
         "hovertemplate": "<b>Justin Love → Mary Figueroa</b><br>Interactions: 9<br>Similarity: -0.064<extra></extra>",
         "line": {
          "color": "rgba(244, 165, 130, 0.7)",
          "width": 3
         },
         "mode": "lines",
         "showlegend": false,
         "type": "scatter",
         "x": [
          0.941297126675412,
          -0.9638361606138051,
          null
         ],
         "y": [
          0.4488265431389019,
          -0.07324778549173401,
          null
         ]
        },
        {
         "hovertemplate": "<b>Justin Love → Heather Ward</b><br>Interactions: 1<br>Similarity: -0.271<extra></extra>",
         "line": {
          "color": "rgba(214, 96, 77, 0.7)",
          "width": 1
         },
         "mode": "lines",
         "showlegend": false,
         "type": "scatter",
         "x": [
          0.941297126675412,
          0.6859450045720663,
          null
         ],
         "y": [
          0.4488265431389019,
          0.6869475070736885,
          null
         ]
        },
        {
         "hovertemplate": "<b>Justin Love → Eric Austin</b><br>Interactions: 53<br>Similarity: -0.675<extra></extra>",
         "line": {
          "color": "rgba(103, 0, 31, 0.7)",
          "width": 10
         },
         "mode": "lines",
         "showlegend": false,
         "type": "scatter",
         "x": [
          0.941297126675412,
          0.0679339182236547,
          null
         ],
         "y": [
          0.4488265431389019,
          0.9961658653082643,
          null
         ]
        },
        {
         "hovertemplate": "<b>Justin Love → Patrick Williams</b><br>Interactions: 3<br>Similarity: -0.141<extra></extra>",
         "line": {
          "color": "rgba(244, 165, 130, 0.7)",
          "width": 1
         },
         "mode": "lines",
         "showlegend": false,
         "type": "scatter",
         "x": [
          0.941297126675412,
          0.2561361615289968,
          null
         ],
         "y": [
          0.4488265431389019,
          -1,
          null
         ]
        },
        {
         "hovertemplate": "<b>Justin Love → Lynn Spencer</b><br>Interactions: 3<br>Similarity: -0.115<extra></extra>",
         "line": {
          "color": "rgba(244, 165, 130, 0.7)",
          "width": 1
         },
         "mode": "lines",
         "showlegend": false,
         "type": "scatter",
         "x": [
          0.941297126675412,
          0.9849319565143412,
          null
         ],
         "y": [
          0.4488265431389019,
          0.09213560621422415,
          null
         ]
        },
        {
         "hovertemplate": "<b>Justin Love → William Murphy</b><br>Interactions: 11<br>Similarity: -0.191<extra></extra>",
         "line": {
          "color": "rgba(244, 165, 130, 0.7)",
          "width": 3.6666666666666665
         },
         "mode": "lines",
         "showlegend": false,
         "type": "scatter",
         "x": [
          0.941297126675412,
          0.3989395953966282,
          null
         ],
         "y": [
          0.4488265431389019,
          0.8806421641799811,
          null
         ]
        },
        {
         "hovertemplate": "<b>Justin Love → William Obrien</b><br>Interactions: 3<br>Similarity: 0.034<extra></extra>",
         "line": {
          "color": "rgba(253, 219, 199, 0.7)",
          "width": 1
         },
         "mode": "lines",
         "showlegend": false,
         "type": "scatter",
         "x": [
          0.941297126675412,
          0.8501807977005968,
          null
         ],
         "y": [
          0.4488265431389019,
          -0.5807629751799296,
          null
         ]
        },
        {
         "hovertemplate": "<b>Justin Love → Jennifer Thomas</b><br>Interactions: 4<br>Similarity: 0.593<extra></extra>",
         "line": {
          "color": "rgba(146, 197, 222, 0.7)",
          "width": 1.3333333333333333
         },
         "mode": "lines",
         "showlegend": false,
         "type": "scatter",
         "x": [
          0.941297126675412,
          -0.8998730555186966,
          null
         ],
         "y": [
          0.4488265431389019,
          -0.41342708840603015,
          null
         ]
        },
        {
         "hovertemplate": "<b>Justin Love → Matthew Odom</b><br>Interactions: 1<br>Similarity: -0.429<extra></extra>",
         "line": {
          "color": "rgba(178, 24, 43, 0.7)",
          "width": 1
         },
         "mode": "lines",
         "showlegend": false,
         "type": "scatter",
         "x": [
          0.941297126675412,
          0.9317906794991804,
          null
         ],
         "y": [
          0.4488265431389019,
          -0.24878282567207277,
          null
         ]
        },
        {
         "hovertemplate": "<b>Justin Love → Andrew Vang</b><br>Interactions: 8<br>Similarity: 0.169<extra></extra>",
         "line": {
          "color": "rgba(253, 219, 199, 0.7)",
          "width": 2.6666666666666665
         },
         "mode": "lines",
         "showlegend": false,
         "type": "scatter",
         "x": [
          0.941297126675412,
          -0.44152715747871657,
          null
         ],
         "y": [
          0.4488265431389019,
          -0.9176520610391299,
          null
         ]
        },
        {
         "hovertemplate": "<b>Justin Love → Rebecca Hall</b><br>Interactions: 26<br>Similarity: 0.351<extra></extra>",
         "line": {
          "color": "rgba(209, 229, 240, 0.7)",
          "width": 8.666666666666666
         },
         "mode": "lines",
         "showlegend": false,
         "type": "scatter",
         "x": [
          0.941297126675412,
          -0.09244796540966069,
          null
         ],
         "y": [
          0.4488265431389019,
          -0.9736932525652702,
          null
         ]
        },
        {
         "hovertemplate": "<b>Justin Love → Daniel Gordon</b><br>Interactions: 2<br>Similarity: -0.026<extra></extra>",
         "line": {
          "color": "rgba(244, 165, 130, 0.7)",
          "width": 1
         },
         "mode": "lines",
         "showlegend": false,
         "type": "scatter",
         "x": [
          0.941297126675412,
          -0.9632478875329431,
          null
         ],
         "y": [
          0.4488265431389019,
          0.2760289180058474,
          null
         ]
        },
        {
         "hovertemplate": "<b>Justin Love → Julie Francis</b><br>Interactions: 3<br>Similarity: 0.300<extra></extra>",
         "line": {
          "color": "rgba(209, 229, 240, 0.7)",
          "width": 1
         },
         "mode": "lines",
         "showlegend": false,
         "type": "scatter",
         "x": [
          0.941297126675412,
          -0.5361147761514105,
          null
         ],
         "y": [
          0.4488265431389019,
          0.7536928474138247,
          null
         ]
        },
        {
         "hovertemplate": "<b>Justin Love → Cole Hunter</b><br>Interactions: 3<br>Similarity: 0.211<extra></extra>",
         "line": {
          "color": "rgba(209, 229, 240, 0.7)",
          "width": 1
         },
         "mode": "lines",
         "showlegend": false,
         "type": "scatter",
         "x": [
          0.941297126675412,
          -0.6854988190417277,
          null
         ],
         "y": [
          0.4488265431389019,
          -0.6797312320517651,
          null
         ]
        },
        {
         "hovertemplate": "<b>Eric Austin</b><br>Type: voter<br>Incoming: 166<br>Outgoing: 147<extra></extra>",
         "marker": {
          "color": "#2166ac",
          "line": {
           "color": "white",
           "width": 2
          },
          "opacity": 0.25,
          "size": 36.45933014354067
         },
         "mode": "markers+text",
         "showlegend": false,
         "text": "Eric Austin",
         "textfont": {
          "color": "black",
          "family": "Arial Black",
          "size": 8
         },
         "textposition": "middle center",
         "type": "scatter",
         "x": [
          0.0679339182236547
         ],
         "y": [
          0.9961658653082643
         ]
        },
        {
         "hovertemplate": "<b>Lynn Spencer</b><br>Type: voter<br>Incoming: 281<br>Outgoing: 170<extra></extra>",
         "marker": {
          "color": "#2166ac",
          "line": {
           "color": "white",
           "width": 2
          },
          "opacity": 0.25,
          "size": 54.3421052631579
         },
         "mode": "markers+text",
         "showlegend": false,
         "text": "Lynn Spencer",
         "textfont": {
          "color": "black",
          "family": "Arial Black",
          "size": 8
         },
         "textposition": "middle center",
         "type": "scatter",
         "x": [
          0.9849319565143412
         ],
         "y": [
          0.09213560621422415
         ]
        },
        {
         "hovertemplate": "<b>Andrew Vang</b><br>Type: voter<br>Incoming: 48<br>Outgoing: 351<extra></extra>",
         "marker": {
          "color": "#2166ac",
          "line": {
           "color": "white",
           "width": 2
          },
          "opacity": 0.25,
          "size": 18.11004784688995
         },
         "mode": "markers+text",
         "showlegend": false,
         "text": "Andrew Vang",
         "textfont": {
          "color": "black",
          "family": "Arial Black",
          "size": 8
         },
         "textposition": "middle center",
         "type": "scatter",
         "x": [
          -0.44152715747871657
         ],
         "y": [
          -0.9176520610391299
         ]
        },
        {
         "hovertemplate": "<b>Daniel Gordon</b><br>Type: voter<br>Incoming: 35<br>Outgoing: 460<extra></extra>",
         "marker": {
          "color": "#2166ac",
          "line": {
           "color": "white",
           "width": 2
          },
          "opacity": 0.25,
          "size": 16.088516746411482
         },
         "mode": "markers+text",
         "showlegend": false,
         "text": "Daniel\nGordon",
         "textfont": {
          "color": "black",
          "family": "Arial Black",
          "size": 8
         },
         "textposition": "middle center",
         "type": "scatter",
         "x": [
          -0.9632478875329431
         ],
         "y": [
          0.2760289180058474
         ]
        },
        {
         "hovertemplate": "<b>Heather Ward</b><br>Type: voter<br>Incoming: 75<br>Outgoing: 143<extra></extra>",
         "marker": {
          "color": "#2166ac",
          "line": {
           "color": "white",
           "width": 2
          },
          "opacity": 0.25,
          "size": 22.30861244019139
         },
         "mode": "markers+text",
         "showlegend": false,
         "text": "Heather Ward",
         "textfont": {
          "color": "black",
          "family": "Arial Black",
          "size": 8
         },
         "textposition": "middle center",
         "type": "scatter",
         "x": [
          0.6859450045720663
         ],
         "y": [
          0.6869475070736885
         ]
        },
        {
         "hovertemplate": "<b>Jason Day</b><br>Type: voter<br>Incoming: 28<br>Outgoing: 117<extra></extra>",
         "marker": {
          "color": "#2166ac",
          "line": {
           "color": "white",
           "width": 2
          },
          "opacity": 0.25,
          "size": 15
         },
         "mode": "markers+text",
         "showlegend": false,
         "text": "Jason Day",
         "textfont": {
          "color": "black",
          "family": "Arial Black",
          "size": 8
         },
         "textposition": "middle center",
         "type": "scatter",
         "x": [
          -0.8248788973556259
         ],
         "y": [
          0.6182324532165933
         ]
        },
        {
         "hovertemplate": "<b>William Obrien</b><br>Type: voter<br>Incoming: 154<br>Outgoing: 75<extra></extra>",
         "marker": {
          "color": "#2166ac",
          "line": {
           "color": "white",
           "width": 2
          },
          "opacity": 0.25,
          "size": 34.5933014354067
         },
         "mode": "markers+text",
         "showlegend": false,
         "text": "William\nObrien",
         "textfont": {
          "color": "black",
          "family": "Arial Black",
          "size": 8
         },
         "textposition": "middle center",
         "type": "scatter",
         "x": [
          0.8501807977005968
         ],
         "y": [
          -0.5807629751799296
         ]
        },
        {
         "hovertemplate": "<b>Jennifer Thomas</b><br>Type: voter<br>Incoming: 287<br>Outgoing: 79<extra></extra>",
         "marker": {
          "color": "#2166ac",
          "line": {
           "color": "white",
           "width": 2
          },
          "opacity": 0.25,
          "size": 55.27511961722488
         },
         "mode": "markers+text",
         "showlegend": false,
         "text": "Jennifer\nThomas",
         "textfont": {
          "color": "black",
          "family": "Arial Black",
          "size": 8
         },
         "textposition": "middle center",
         "type": "scatter",
         "x": [
          -0.8998730555186966
         ],
         "y": [
          -0.41342708840603015
         ]
        },
        {
         "hovertemplate": "<b>Julie Francis</b><br>Type: voter<br>Incoming: 164<br>Outgoing: 105<extra></extra>",
         "marker": {
          "color": "#2166ac",
          "line": {
           "color": "white",
           "width": 2
          },
          "opacity": 0.25,
          "size": 36.14832535885167
         },
         "mode": "markers+text",
         "showlegend": false,
         "text": "Julie\nFrancis",
         "textfont": {
          "color": "black",
          "family": "Arial Black",
          "size": 8
         },
         "textposition": "middle center",
         "type": "scatter",
         "x": [
          -0.5361147761514105
         ],
         "y": [
          0.7536928474138247
         ]
        },
        {
         "hovertemplate": "<b>Rebecca Hall</b><br>Type: voter<br>Incoming: 446<br>Outgoing: 160<extra></extra>",
         "marker": {
          "color": "#2166ac",
          "line": {
           "color": "white",
           "width": 2
          },
          "opacity": 0.25,
          "size": 80
         },
         "mode": "markers+text",
         "showlegend": false,
         "text": "Rebecca Hall",
         "textfont": {
          "color": "black",
          "family": "Arial Black",
          "size": 8
         },
         "textposition": "middle center",
         "type": "scatter",
         "x": [
          -0.09244796540966069
         ],
         "y": [
          -0.9736932525652702
         ]
        },
        {
         "hovertemplate": "<b>Jacqueline Clark</b><br>Type: voter<br>Incoming: 77<br>Outgoing: 99<extra></extra>",
         "marker": {
          "color": "#2166ac",
          "line": {
           "color": "white",
           "width": 2
          },
          "opacity": 0.25,
          "size": 22.619617224880383
         },
         "mode": "markers+text",
         "showlegend": false,
         "text": "Jacqueline\nClark",
         "textfont": {
          "color": "black",
          "family": "Arial Black",
          "size": 8
         },
         "textposition": "middle center",
         "type": "scatter",
         "x": [
          0.5826003125569416
         ],
         "y": [
          -0.8331632910226803
         ]
        },
        {
         "hovertemplate": "<b>Cole Hunter</b><br>Type: voter<br>Incoming: 203<br>Outgoing: 146<extra></extra>",
         "marker": {
          "color": "#2166ac",
          "line": {
           "color": "white",
           "width": 2
          },
          "opacity": 0.25,
          "size": 42.21291866028709
         },
         "mode": "markers+text",
         "showlegend": false,
         "text": "Cole Hunter",
         "textfont": {
          "color": "black",
          "family": "Arial Black",
          "size": 8
         },
         "textposition": "middle center",
         "type": "scatter",
         "x": [
          -0.6854988190417277
         ],
         "y": [
          -0.6797312320517651
         ]
        },
        {
         "hovertemplate": "<b>William Murphy</b><br>Type: voter<br>Incoming: 386<br>Outgoing: 206<extra></extra>",
         "marker": {
          "color": "#2166ac",
          "line": {
           "color": "white",
           "width": 2
          },
          "opacity": 0.25,
          "size": 70.66985645933015
         },
         "mode": "markers+text",
         "showlegend": false,
         "text": "William\nMurphy",
         "textfont": {
          "color": "black",
          "family": "Arial Black",
          "size": 8
         },
         "textposition": "middle center",
         "type": "scatter",
         "x": [
          0.3989395953966282
         ],
         "y": [
          0.8806421641799811
         ]
        },
        {
         "hovertemplate": "<b>Mary Figueroa</b><br>Type: voter<br>Incoming: 308<br>Outgoing: 108<extra></extra>",
         "marker": {
          "color": "#2166ac",
          "line": {
           "color": "white",
           "width": 2
          },
          "opacity": 0.25,
          "size": 58.54066985645933
         },
         "mode": "markers+text",
         "showlegend": false,
         "text": "Mary\nFigueroa",
         "textfont": {
          "color": "black",
          "family": "Arial Black",
          "size": 8
         },
         "textposition": "middle center",
         "type": "scatter",
         "x": [
          -0.9638361606138051
         ],
         "y": [
          -0.07324778549173401
         ]
        },
        {
         "hovertemplate": "<b>Patrick Williams</b><br>Type: voter<br>Incoming: 119<br>Outgoing: 130<extra></extra>",
         "marker": {
          "color": "#2166ac",
          "line": {
           "color": "white",
           "width": 2
          },
          "opacity": 0.25,
          "size": 29.150717703349283
         },
         "mode": "markers+text",
         "showlegend": false,
         "text": "Patrick\nWilliams",
         "textfont": {
          "color": "black",
          "family": "Arial Black",
          "size": 8
         },
         "textposition": "middle center",
         "type": "scatter",
         "x": [
          0.2561361615289968
         ],
         "y": [
          -1
         ]
        },
        {
         "hovertemplate": "<b>Matthew Odom</b><br>Type: voter<br>Incoming: 105<br>Outgoing: 235<extra></extra>",
         "marker": {
          "color": "#2166ac",
          "line": {
           "color": "white",
           "width": 2
          },
          "opacity": 0.25,
          "size": 26.973684210526315
         },
         "mode": "markers+text",
         "showlegend": false,
         "text": "Matthew Odom",
         "textfont": {
          "color": "black",
          "family": "Arial Black",
          "size": 8
         },
         "textposition": "middle center",
         "type": "scatter",
         "x": [
          0.9317906794991804
         ],
         "y": [
          -0.24878282567207277
         ]
        },
        {
         "hovertemplate": "<b>George Brown</b><br>Type: candidate<br>Incoming: 30<br>Outgoing: 124<extra></extra>",
         "marker": {
          "color": "#b2182b",
          "line": {
           "color": "white",
           "width": 2
          },
          "opacity": 0.25,
          "size": 15.311004784688995
         },
         "mode": "markers+text",
         "showlegend": false,
         "text": "George Brown",
         "textfont": {
          "color": "black",
          "family": "Arial Black",
          "size": 8
         },
         "textposition": "middle center",
         "type": "scatter",
         "x": [
          -0.29233083356523126
         ],
         "y": [
          0.9677886068772861
         ]
        },
        {
         "hovertemplate": "<b>Justin Love</b><br>Type: candidate<br>Incoming: 141<br>Outgoing: 198<extra></extra>",
         "marker": {
          "color": "#b2182b",
          "line": {
           "color": "white",
           "width": 2
          },
          "opacity": 0.25,
          "size": 32.57177033492823
         },
         "mode": "markers+text",
         "showlegend": false,
         "text": "Justin Love",
         "textfont": {
          "color": "black",
          "family": "Arial Black",
          "size": 8
         },
         "textposition": "middle center",
         "type": "scatter",
         "x": [
          0.941297126675412
         ],
         "y": [
          0.4488265431389019
         ]
        },
        {
         "hoverinfo": "skip",
         "marker": {
          "color": [
           -0.8214865514055147,
           1.0000000000000002
          ],
          "colorbar": {
           "len": 0.7,
           "thickness": 15,
           "title": {
            "side": "right",
            "text": "Edge Similarity"
           },
           "x": 1.02
          },
          "colorscale": [
           [
            0,
            "#67001f"
           ],
           [
            0.1111111111111111,
            "#b2182b"
           ],
           [
            0.2222222222222222,
            "#d6604d"
           ],
           [
            0.3333333333333333,
            "#f4a582"
           ],
           [
            0.4444444444444444,
            "#fddbc7"
           ],
           [
            0.5555555555555556,
            "#d1e5f0"
           ],
           [
            0.6666666666666666,
            "#92c5de"
           ],
           [
            0.7777777777777778,
            "#4393c3"
           ],
           [
            0.8888888888888888,
            "#2166ac"
           ],
           [
            1,
            "#053061"
           ]
          ],
          "showscale": true,
          "size": 0
         },
         "mode": "markers",
         "showlegend": false,
         "type": "scatter",
         "x": [
          null
         ],
         "y": [
          null
         ]
        },
        {
         "marker": {
          "color": "#2166ac",
          "size": 14
         },
         "mode": "markers",
         "name": "Voters",
         "showlegend": true,
         "textfont": {
          "size": 18
         },
         "type": "scatter",
         "x": [
          null
         ],
         "y": [
          null
         ]
        },
        {
         "marker": {
          "color": "#b2182b",
          "size": 14
         },
         "mode": "markers",
         "name": "Candidates",
         "showlegend": true,
         "textfont": {
          "size": 18
         },
         "type": "scatter",
         "x": [
          null
         ],
         "y": [
          null
         ]
        }
       ],
       "layout": {
        "annotations": [
         {
          "font": {
           "size": 14
          },
          "showarrow": false,
          "text": "Node size = incoming interactions<br>Edge width = interaction count<br>Edge color = similarity (dark red=low, dark blue=high)<br>",
          "x": 0.005,
          "xanchor": "left",
          "xref": "paper",
          "y": -0.002,
          "yanchor": "bottom",
          "yref": "paper"
         }
        ],
        "height": 800,
        "hovermode": "closest",
        "margin": {
         "b": 20,
         "l": 5,
         "r": 50,
         "t": 40
        },
        "plot_bgcolor": "white",
        "showlegend": true,
        "template": {
         "data": {
          "bar": [
           {
            "error_x": {
             "color": "#2a3f5f"
            },
            "error_y": {
             "color": "#2a3f5f"
            },
            "marker": {
             "line": {
              "color": "#E5ECF6",
              "width": 0.5
             },
             "pattern": {
              "fillmode": "overlay",
              "size": 10,
              "solidity": 0.2
             }
            },
            "type": "bar"
           }
          ],
          "barpolar": [
           {
            "marker": {
             "line": {
              "color": "#E5ECF6",
              "width": 0.5
             },
             "pattern": {
              "fillmode": "overlay",
              "size": 10,
              "solidity": 0.2
             }
            },
            "type": "barpolar"
           }
          ],
          "carpet": [
           {
            "aaxis": {
             "endlinecolor": "#2a3f5f",
             "gridcolor": "white",
             "linecolor": "white",
             "minorgridcolor": "white",
             "startlinecolor": "#2a3f5f"
            },
            "baxis": {
             "endlinecolor": "#2a3f5f",
             "gridcolor": "white",
             "linecolor": "white",
             "minorgridcolor": "white",
             "startlinecolor": "#2a3f5f"
            },
            "type": "carpet"
           }
          ],
          "choropleth": [
           {
            "colorbar": {
             "outlinewidth": 0,
             "ticks": ""
            },
            "type": "choropleth"
           }
          ],
          "contour": [
           {
            "colorbar": {
             "outlinewidth": 0,
             "ticks": ""
            },
            "colorscale": [
             [
              0,
              "#0d0887"
             ],
             [
              0.1111111111111111,
              "#46039f"
             ],
             [
              0.2222222222222222,
              "#7201a8"
             ],
             [
              0.3333333333333333,
              "#9c179e"
             ],
             [
              0.4444444444444444,
              "#bd3786"
             ],
             [
              0.5555555555555556,
              "#d8576b"
             ],
             [
              0.6666666666666666,
              "#ed7953"
             ],
             [
              0.7777777777777778,
              "#fb9f3a"
             ],
             [
              0.8888888888888888,
              "#fdca26"
             ],
             [
              1,
              "#f0f921"
             ]
            ],
            "type": "contour"
           }
          ],
          "contourcarpet": [
           {
            "colorbar": {
             "outlinewidth": 0,
             "ticks": ""
            },
            "type": "contourcarpet"
           }
          ],
          "heatmap": [
           {
            "colorbar": {
             "outlinewidth": 0,
             "ticks": ""
            },
            "colorscale": [
             [
              0,
              "#0d0887"
             ],
             [
              0.1111111111111111,
              "#46039f"
             ],
             [
              0.2222222222222222,
              "#7201a8"
             ],
             [
              0.3333333333333333,
              "#9c179e"
             ],
             [
              0.4444444444444444,
              "#bd3786"
             ],
             [
              0.5555555555555556,
              "#d8576b"
             ],
             [
              0.6666666666666666,
              "#ed7953"
             ],
             [
              0.7777777777777778,
              "#fb9f3a"
             ],
             [
              0.8888888888888888,
              "#fdca26"
             ],
             [
              1,
              "#f0f921"
             ]
            ],
            "type": "heatmap"
           }
          ],
          "histogram": [
           {
            "marker": {
             "pattern": {
              "fillmode": "overlay",
              "size": 10,
              "solidity": 0.2
             }
            },
            "type": "histogram"
           }
          ],
          "histogram2d": [
           {
            "colorbar": {
             "outlinewidth": 0,
             "ticks": ""
            },
            "colorscale": [
             [
              0,
              "#0d0887"
             ],
             [
              0.1111111111111111,
              "#46039f"
             ],
             [
              0.2222222222222222,
              "#7201a8"
             ],
             [
              0.3333333333333333,
              "#9c179e"
             ],
             [
              0.4444444444444444,
              "#bd3786"
             ],
             [
              0.5555555555555556,
              "#d8576b"
             ],
             [
              0.6666666666666666,
              "#ed7953"
             ],
             [
              0.7777777777777778,
              "#fb9f3a"
             ],
             [
              0.8888888888888888,
              "#fdca26"
             ],
             [
              1,
              "#f0f921"
             ]
            ],
            "type": "histogram2d"
           }
          ],
          "histogram2dcontour": [
           {
            "colorbar": {
             "outlinewidth": 0,
             "ticks": ""
            },
            "colorscale": [
             [
              0,
              "#0d0887"
             ],
             [
              0.1111111111111111,
              "#46039f"
             ],
             [
              0.2222222222222222,
              "#7201a8"
             ],
             [
              0.3333333333333333,
              "#9c179e"
             ],
             [
              0.4444444444444444,
              "#bd3786"
             ],
             [
              0.5555555555555556,
              "#d8576b"
             ],
             [
              0.6666666666666666,
              "#ed7953"
             ],
             [
              0.7777777777777778,
              "#fb9f3a"
             ],
             [
              0.8888888888888888,
              "#fdca26"
             ],
             [
              1,
              "#f0f921"
             ]
            ],
            "type": "histogram2dcontour"
           }
          ],
          "mesh3d": [
           {
            "colorbar": {
             "outlinewidth": 0,
             "ticks": ""
            },
            "type": "mesh3d"
           }
          ],
          "parcoords": [
           {
            "line": {
             "colorbar": {
              "outlinewidth": 0,
              "ticks": ""
             }
            },
            "type": "parcoords"
           }
          ],
          "pie": [
           {
            "automargin": true,
            "type": "pie"
           }
          ],
          "scatter": [
           {
            "fillpattern": {
             "fillmode": "overlay",
             "size": 10,
             "solidity": 0.2
            },
            "type": "scatter"
           }
          ],
          "scatter3d": [
           {
            "line": {
             "colorbar": {
              "outlinewidth": 0,
              "ticks": ""
             }
            },
            "marker": {
             "colorbar": {
              "outlinewidth": 0,
              "ticks": ""
             }
            },
            "type": "scatter3d"
           }
          ],
          "scattercarpet": [
           {
            "marker": {
             "colorbar": {
              "outlinewidth": 0,
              "ticks": ""
             }
            },
            "type": "scattercarpet"
           }
          ],
          "scattergeo": [
           {
            "marker": {
             "colorbar": {
              "outlinewidth": 0,
              "ticks": ""
             }
            },
            "type": "scattergeo"
           }
          ],
          "scattergl": [
           {
            "marker": {
             "colorbar": {
              "outlinewidth": 0,
              "ticks": ""
             }
            },
            "type": "scattergl"
           }
          ],
          "scattermap": [
           {
            "marker": {
             "colorbar": {
              "outlinewidth": 0,
              "ticks": ""
             }
            },
            "type": "scattermap"
           }
          ],
          "scattermapbox": [
           {
            "marker": {
             "colorbar": {
              "outlinewidth": 0,
              "ticks": ""
             }
            },
            "type": "scattermapbox"
           }
          ],
          "scatterpolar": [
           {
            "marker": {
             "colorbar": {
              "outlinewidth": 0,
              "ticks": ""
             }
            },
            "type": "scatterpolar"
           }
          ],
          "scatterpolargl": [
           {
            "marker": {
             "colorbar": {
              "outlinewidth": 0,
              "ticks": ""
             }
            },
            "type": "scatterpolargl"
           }
          ],
          "scatterternary": [
           {
            "marker": {
             "colorbar": {
              "outlinewidth": 0,
              "ticks": ""
             }
            },
            "type": "scatterternary"
           }
          ],
          "surface": [
           {
            "colorbar": {
             "outlinewidth": 0,
             "ticks": ""
            },
            "colorscale": [
             [
              0,
              "#0d0887"
             ],
             [
              0.1111111111111111,
              "#46039f"
             ],
             [
              0.2222222222222222,
              "#7201a8"
             ],
             [
              0.3333333333333333,
              "#9c179e"
             ],
             [
              0.4444444444444444,
              "#bd3786"
             ],
             [
              0.5555555555555556,
              "#d8576b"
             ],
             [
              0.6666666666666666,
              "#ed7953"
             ],
             [
              0.7777777777777778,
              "#fb9f3a"
             ],
             [
              0.8888888888888888,
              "#fdca26"
             ],
             [
              1,
              "#f0f921"
             ]
            ],
            "type": "surface"
           }
          ],
          "table": [
           {
            "cells": {
             "fill": {
              "color": "#EBF0F8"
             },
             "line": {
              "color": "white"
             }
            },
            "header": {
             "fill": {
              "color": "#C8D4E3"
             },
             "line": {
              "color": "white"
             }
            },
            "type": "table"
           }
          ]
         },
         "layout": {
          "annotationdefaults": {
           "arrowcolor": "#2a3f5f",
           "arrowhead": 0,
           "arrowwidth": 1
          },
          "autotypenumbers": "strict",
          "coloraxis": {
           "colorbar": {
            "outlinewidth": 0,
            "ticks": ""
           }
          },
          "colorscale": {
           "diverging": [
            [
             0,
             "#8e0152"
            ],
            [
             0.1,
             "#c51b7d"
            ],
            [
             0.2,
             "#de77ae"
            ],
            [
             0.3,
             "#f1b6da"
            ],
            [
             0.4,
             "#fde0ef"
            ],
            [
             0.5,
             "#f7f7f7"
            ],
            [
             0.6,
             "#e6f5d0"
            ],
            [
             0.7,
             "#b8e186"
            ],
            [
             0.8,
             "#7fbc41"
            ],
            [
             0.9,
             "#4d9221"
            ],
            [
             1,
             "#276419"
            ]
           ],
           "sequential": [
            [
             0,
             "#0d0887"
            ],
            [
             0.1111111111111111,
             "#46039f"
            ],
            [
             0.2222222222222222,
             "#7201a8"
            ],
            [
             0.3333333333333333,
             "#9c179e"
            ],
            [
             0.4444444444444444,
             "#bd3786"
            ],
            [
             0.5555555555555556,
             "#d8576b"
            ],
            [
             0.6666666666666666,
             "#ed7953"
            ],
            [
             0.7777777777777778,
             "#fb9f3a"
            ],
            [
             0.8888888888888888,
             "#fdca26"
            ],
            [
             1,
             "#f0f921"
            ]
           ],
           "sequentialminus": [
            [
             0,
             "#0d0887"
            ],
            [
             0.1111111111111111,
             "#46039f"
            ],
            [
             0.2222222222222222,
             "#7201a8"
            ],
            [
             0.3333333333333333,
             "#9c179e"
            ],
            [
             0.4444444444444444,
             "#bd3786"
            ],
            [
             0.5555555555555556,
             "#d8576b"
            ],
            [
             0.6666666666666666,
             "#ed7953"
            ],
            [
             0.7777777777777778,
             "#fb9f3a"
            ],
            [
             0.8888888888888888,
             "#fdca26"
            ],
            [
             1,
             "#f0f921"
            ]
           ]
          },
          "colorway": [
           "#636efa",
           "#EF553B",
           "#00cc96",
           "#ab63fa",
           "#FFA15A",
           "#19d3f3",
           "#FF6692",
           "#B6E880",
           "#FF97FF",
           "#FECB52"
          ],
          "font": {
           "color": "#2a3f5f"
          },
          "geo": {
           "bgcolor": "white",
           "lakecolor": "white",
           "landcolor": "#E5ECF6",
           "showlakes": true,
           "showland": true,
           "subunitcolor": "white"
          },
          "hoverlabel": {
           "align": "left"
          },
          "hovermode": "closest",
          "mapbox": {
           "style": "light"
          },
          "paper_bgcolor": "white",
          "plot_bgcolor": "#E5ECF6",
          "polar": {
           "angularaxis": {
            "gridcolor": "white",
            "linecolor": "white",
            "ticks": ""
           },
           "bgcolor": "#E5ECF6",
           "radialaxis": {
            "gridcolor": "white",
            "linecolor": "white",
            "ticks": ""
           }
          },
          "scene": {
           "xaxis": {
            "backgroundcolor": "#E5ECF6",
            "gridcolor": "white",
            "gridwidth": 2,
            "linecolor": "white",
            "showbackground": true,
            "ticks": "",
            "zerolinecolor": "white"
           },
           "yaxis": {
            "backgroundcolor": "#E5ECF6",
            "gridcolor": "white",
            "gridwidth": 2,
            "linecolor": "white",
            "showbackground": true,
            "ticks": "",
            "zerolinecolor": "white"
           },
           "zaxis": {
            "backgroundcolor": "#E5ECF6",
            "gridcolor": "white",
            "gridwidth": 2,
            "linecolor": "white",
            "showbackground": true,
            "ticks": "",
            "zerolinecolor": "white"
           }
          },
          "shapedefaults": {
           "line": {
            "color": "#2a3f5f"
           }
          },
          "ternary": {
           "aaxis": {
            "gridcolor": "white",
            "linecolor": "white",
            "ticks": ""
           },
           "baxis": {
            "gridcolor": "white",
            "linecolor": "white",
            "ticks": ""
           },
           "bgcolor": "#E5ECF6",
           "caxis": {
            "gridcolor": "white",
            "linecolor": "white",
            "ticks": ""
           }
          },
          "title": {
           "x": 0.05
          },
          "xaxis": {
           "automargin": true,
           "gridcolor": "white",
           "linecolor": "white",
           "ticks": "",
           "title": {
            "standoff": 15
           },
           "zerolinecolor": "white",
           "zerolinewidth": 2
          },
          "yaxis": {
           "automargin": true,
           "gridcolor": "white",
           "linecolor": "white",
           "ticks": "",
           "title": {
            "standoff": 15
           },
           "zerolinecolor": "white",
           "zerolinewidth": 2
          }
         }
        },
        "title": {
         "font": {
          "size": 18
         },
         "text": "Simulation 1 - Like Network (3053 interactions)",
         "x": 0.5
        },
        "width": 1600,
        "xaxis": {
         "showgrid": false,
         "showticklabels": false,
         "zeroline": false
        },
        "yaxis": {
         "showgrid": false,
         "showticklabels": false,
         "zeroline": false
        }
       }
      }
     },
     "metadata": {},
     "output_type": "display_data"
    },
    {
     "name": "stdout",
     "output_type": "stream",
     "text": [
      "\n",
      "Combined Network:\n",
      "Missed IDs: {'64cc605a0', '3e82e817e5', '29a227adfd', 'c8a4156299', '6a327e614d', '19c421c56c', 'c12b1b18fc', '150bb75a5a', '82e478af88', '01876cbd', 'ebbbe82c8a', 'f1c323c41x', 'ca00c33cde', '18f7f1dd5f', 'a559ec975', '5f966f566f', 'f1ed44aca9'}\n",
      "  Nodes: 18, Edges: 299\n",
      "  Total interactions: 6287\n",
      "  Network density: 0.977\n",
      "  Is connected: True\n"
     ]
    },
    {
     "data": {
      "application/vnd.plotly.v1+json": {
       "config": {
        "plotlyServerURL": "https://plot.ly"
       },
       "data": [
        {
         "hovertemplate": "<b>Eric Austin → George Brown</b><br>Interactions: 6<br>Similarity: 0.319<extra></extra>",
         "line": {
          "color": "rgba(209, 229, 240, 0.7)",
          "width": 2
         },
         "mode": "lines",
         "showlegend": false,
         "type": "scatter",
         "x": [
          0.0679339182236547,
          -0.29233083356523126,
          null
         ],
         "y": [
          0.9961658653082643,
          0.9677886068772861,
          null
         ]
        },
        {
         "hovertemplate": "<b>Eric Austin → Rebecca Hall</b><br>Interactions: 49<br>Similarity: -0.211<extra></extra>",
         "line": {
          "color": "rgba(244, 165, 130, 0.7)",
          "width": 10
         },
         "mode": "lines",
         "showlegend": false,
         "type": "scatter",
         "x": [
          0.0679339182236547,
          -0.09244796540966069,
          null
         ],
         "y": [
          0.9961658653082643,
          -0.9736932525652702,
          null
         ]
        },
        {
         "hovertemplate": "<b>Eric Austin → Justin Love</b><br>Interactions: 55<br>Similarity: -0.675<extra></extra>",
         "line": {
          "color": "rgba(103, 0, 31, 0.7)",
          "width": 10
         },
         "mode": "lines",
         "showlegend": false,
         "type": "scatter",
         "x": [
          0.0679339182236547,
          0.941297126675412,
          null
         ],
         "y": [
          0.9961658653082643,
          0.4488265431389019,
          null
         ]
        },
        {
         "hovertemplate": "<b>Eric Austin → Eric Austin</b><br>Interactions: 41<br>Similarity: 1.000<extra></extra>",
         "line": {
          "color": "rgba(5, 48, 97, 0.7)",
          "width": 10
         },
         "mode": "lines",
         "showlegend": false,
         "type": "scatter",
         "x": [
          0.0679339182236547,
          0.0679339182236547,
          null
         ],
         "y": [
          0.9961658653082643,
          0.9961658653082643,
          null
         ]
        },
        {
         "hovertemplate": "<b>Eric Austin → William Obrien</b><br>Interactions: 5<br>Similarity: -0.432<extra></extra>",
         "line": {
          "color": "rgba(178, 24, 43, 0.7)",
          "width": 1.6666666666666667
         },
         "mode": "lines",
         "showlegend": false,
         "type": "scatter",
         "x": [
          0.0679339182236547,
          0.8501807977005968,
          null
         ],
         "y": [
          0.9961658653082643,
          -0.5807629751799296,
          null
         ]
        },
        {
         "hovertemplate": "<b>Eric Austin → Heather Ward</b><br>Interactions: 12<br>Similarity: 0.293<extra></extra>",
         "line": {
          "color": "rgba(209, 229, 240, 0.7)",
          "width": 4
         },
         "mode": "lines",
         "showlegend": false,
         "type": "scatter",
         "x": [
          0.0679339182236547,
          0.6859450045720663,
          null
         ],
         "y": [
          0.9961658653082643,
          0.6869475070736885,
          null
         ]
        },
        {
         "hovertemplate": "<b>Eric Austin → Jacqueline Clark</b><br>Interactions: 19<br>Similarity: 0.145<extra></extra>",
         "line": {
          "color": "rgba(253, 219, 199, 0.7)",
          "width": 6.333333333333333
         },
         "mode": "lines",
         "showlegend": false,
         "type": "scatter",
         "x": [
          0.0679339182236547,
          0.5826003125569416,
          null
         ],
         "y": [
          0.9961658653082643,
          -0.8331632910226803,
          null
         ]
        },
        {
         "hovertemplate": "<b>Eric Austin → Mary Figueroa</b><br>Interactions: 24<br>Similarity: 0.286<extra></extra>",
         "line": {
          "color": "rgba(209, 229, 240, 0.7)",
          "width": 8
         },
         "mode": "lines",
         "showlegend": false,
         "type": "scatter",
         "x": [
          0.0679339182236547,
          -0.9638361606138051,
          null
         ],
         "y": [
          0.9961658653082643,
          -0.07324778549173401,
          null
         ]
        },
        {
         "hovertemplate": "<b>Eric Austin → Julie Francis</b><br>Interactions: 14<br>Similarity: -0.155<extra></extra>",
         "line": {
          "color": "rgba(244, 165, 130, 0.7)",
          "width": 4.666666666666667
         },
         "mode": "lines",
         "showlegend": false,
         "type": "scatter",
         "x": [
          0.0679339182236547,
          -0.5361147761514105,
          null
         ],
         "y": [
          0.9961658653082643,
          0.7536928474138247,
          null
         ]
        },
        {
         "hovertemplate": "<b>Eric Austin → Andrew Vang</b><br>Interactions: 3<br>Similarity: -0.299<extra></extra>",
         "line": {
          "color": "rgba(214, 96, 77, 0.7)",
          "width": 1
         },
         "mode": "lines",
         "showlegend": false,
         "type": "scatter",
         "x": [
          0.0679339182236547,
          -0.44152715747871657,
          null
         ],
         "y": [
          0.9961658653082643,
          -0.9176520610391299,
          null
         ]
        },
        {
         "hovertemplate": "<b>Eric Austin → Jennifer Thomas</b><br>Interactions: 21<br>Similarity: -0.256<extra></extra>",
         "line": {
          "color": "rgba(214, 96, 77, 0.7)",
          "width": 7
         },
         "mode": "lines",
         "showlegend": false,
         "type": "scatter",
         "x": [
          0.0679339182236547,
          -0.8998730555186966,
          null
         ],
         "y": [
          0.9961658653082643,
          -0.41342708840603015,
          null
         ]
        },
        {
         "hovertemplate": "<b>Eric Austin → Matthew Odom</b><br>Interactions: 3<br>Similarity: 0.298<extra></extra>",
         "line": {
          "color": "rgba(209, 229, 240, 0.7)",
          "width": 1
         },
         "mode": "lines",
         "showlegend": false,
         "type": "scatter",
         "x": [
          0.0679339182236547,
          0.9317906794991804,
          null
         ],
         "y": [
          0.9961658653082643,
          -0.24878282567207277,
          null
         ]
        },
        {
         "hovertemplate": "<b>Eric Austin → William Murphy</b><br>Interactions: 17<br>Similarity: -0.039<extra></extra>",
         "line": {
          "color": "rgba(244, 165, 130, 0.7)",
          "width": 5.666666666666667
         },
         "mode": "lines",
         "showlegend": false,
         "type": "scatter",
         "x": [
          0.0679339182236547,
          0.3989395953966282,
          null
         ],
         "y": [
          0.9961658653082643,
          0.8806421641799811,
          null
         ]
        },
        {
         "hovertemplate": "<b>Eric Austin → Lynn Spencer</b><br>Interactions: 10<br>Similarity: -0.321<extra></extra>",
         "line": {
          "color": "rgba(214, 96, 77, 0.7)",
          "width": 3.3333333333333335
         },
         "mode": "lines",
         "showlegend": false,
         "type": "scatter",
         "x": [
          0.0679339182236547,
          0.9849319565143412,
          null
         ],
         "y": [
          0.9961658653082643,
          0.09213560621422415,
          null
         ]
        },
        {
         "hovertemplate": "<b>Eric Austin → Patrick Williams</b><br>Interactions: 4<br>Similarity: 0.352<extra></extra>",
         "line": {
          "color": "rgba(209, 229, 240, 0.7)",
          "width": 1.3333333333333333
         },
         "mode": "lines",
         "showlegend": false,
         "type": "scatter",
         "x": [
          0.0679339182236547,
          0.2561361615289968,
          null
         ],
         "y": [
          0.9961658653082643,
          -1,
          null
         ]
        },
        {
         "hovertemplate": "<b>Eric Austin → Cole Hunter</b><br>Interactions: 5<br>Similarity: -0.211<extra></extra>",
         "line": {
          "color": "rgba(244, 165, 130, 0.7)",
          "width": 1.6666666666666667
         },
         "mode": "lines",
         "showlegend": false,
         "type": "scatter",
         "x": [
          0.0679339182236547,
          -0.6854988190417277,
          null
         ],
         "y": [
          0.9961658653082643,
          -0.6797312320517651,
          null
         ]
        },
        {
         "hovertemplate": "<b>Eric Austin → Daniel Gordon</b><br>Interactions: 2<br>Similarity: 0.405<extra></extra>",
         "line": {
          "color": "rgba(146, 197, 222, 0.7)",
          "width": 1
         },
         "mode": "lines",
         "showlegend": false,
         "type": "scatter",
         "x": [
          0.0679339182236547,
          -0.9632478875329431,
          null
         ],
         "y": [
          0.9961658653082643,
          0.2760289180058474,
          null
         ]
        },
        {
         "hovertemplate": "<b>Lynn Spencer → Rebecca Hall</b><br>Interactions: 71<br>Similarity: 0.291<extra></extra>",
         "line": {
          "color": "rgba(209, 229, 240, 0.7)",
          "width": 10
         },
         "mode": "lines",
         "showlegend": false,
         "type": "scatter",
         "x": [
          0.9849319565143412,
          -0.09244796540966069,
          null
         ],
         "y": [
          0.09213560621422415,
          -0.9736932525652702,
          null
         ]
        },
        {
         "hovertemplate": "<b>Lynn Spencer → William Murphy</b><br>Interactions: 53<br>Similarity: 0.183<extra></extra>",
         "line": {
          "color": "rgba(253, 219, 199, 0.7)",
          "width": 10
         },
         "mode": "lines",
         "showlegend": false,
         "type": "scatter",
         "x": [
          0.9849319565143412,
          0.3989395953966282,
          null
         ],
         "y": [
          0.09213560621422415,
          0.8806421641799811,
          null
         ]
        },
        {
         "hovertemplate": "<b>Lynn Spencer → Cole Hunter</b><br>Interactions: 12<br>Similarity: -0.059<extra></extra>",
         "line": {
          "color": "rgba(244, 165, 130, 0.7)",
          "width": 4
         },
         "mode": "lines",
         "showlegend": false,
         "type": "scatter",
         "x": [
          0.9849319565143412,
          -0.6854988190417277,
          null
         ],
         "y": [
          0.09213560621422415,
          -0.6797312320517651,
          null
         ]
        },
        {
         "hovertemplate": "<b>Lynn Spencer → Eric Austin</b><br>Interactions: 8<br>Similarity: -0.321<extra></extra>",
         "line": {
          "color": "rgba(214, 96, 77, 0.7)",
          "width": 2.6666666666666665
         },
         "mode": "lines",
         "showlegend": false,
         "type": "scatter",
         "x": [
          0.9849319565143412,
          0.0679339182236547,
          null
         ],
         "y": [
          0.09213560621422415,
          0.9961658653082643,
          null
         ]
        },
        {
         "hovertemplate": "<b>Lynn Spencer → Justin Love</b><br>Interactions: 28<br>Similarity: -0.115<extra></extra>",
         "line": {
          "color": "rgba(244, 165, 130, 0.7)",
          "width": 9.333333333333334
         },
         "mode": "lines",
         "showlegend": false,
         "type": "scatter",
         "x": [
          0.9849319565143412,
          0.941297126675412,
          null
         ],
         "y": [
          0.09213560621422415,
          0.4488265431389019,
          null
         ]
        },
        {
         "hovertemplate": "<b>Lynn Spencer → Mary Figueroa</b><br>Interactions: 28<br>Similarity: -0.634<extra></extra>",
         "line": {
          "color": "rgba(103, 0, 31, 0.7)",
          "width": 9.333333333333334
         },
         "mode": "lines",
         "showlegend": false,
         "type": "scatter",
         "x": [
          0.9849319565143412,
          -0.9638361606138051,
          null
         ],
         "y": [
          0.09213560621422415,
          -0.07324778549173401,
          null
         ]
        },
        {
         "hovertemplate": "<b>Lynn Spencer → Patrick Williams</b><br>Interactions: 1<br>Similarity: -0.066<extra></extra>",
         "line": {
          "color": "rgba(244, 165, 130, 0.7)",
          "width": 1
         },
         "mode": "lines",
         "showlegend": false,
         "type": "scatter",
         "x": [
          0.9849319565143412,
          0.2561361615289968,
          null
         ],
         "y": [
          0.09213560621422415,
          -1,
          null
         ]
        },
        {
         "hovertemplate": "<b>Lynn Spencer → Jennifer Thomas</b><br>Interactions: 28<br>Similarity: -0.153<extra></extra>",
         "line": {
          "color": "rgba(244, 165, 130, 0.7)",
          "width": 9.333333333333334
         },
         "mode": "lines",
         "showlegend": false,
         "type": "scatter",
         "x": [
          0.9849319565143412,
          -0.8998730555186966,
          null
         ],
         "y": [
          0.09213560621422415,
          -0.41342708840603015,
          null
         ]
        },
        {
         "hovertemplate": "<b>Lynn Spencer → George Brown</b><br>Interactions: 19<br>Similarity: 0.427<extra></extra>",
         "line": {
          "color": "rgba(146, 197, 222, 0.7)",
          "width": 6.333333333333333
         },
         "mode": "lines",
         "showlegend": false,
         "type": "scatter",
         "x": [
          0.9849319565143412,
          -0.29233083356523126,
          null
         ],
         "y": [
          0.09213560621422415,
          0.9677886068772861,
          null
         ]
        },
        {
         "hovertemplate": "<b>Lynn Spencer → Julie Francis</b><br>Interactions: 10<br>Similarity: 0.075<extra></extra>",
         "line": {
          "color": "rgba(253, 219, 199, 0.7)",
          "width": 3.3333333333333335
         },
         "mode": "lines",
         "showlegend": false,
         "type": "scatter",
         "x": [
          0.9849319565143412,
          -0.5361147761514105,
          null
         ],
         "y": [
          0.09213560621422415,
          0.7536928474138247,
          null
         ]
        },
        {
         "hovertemplate": "<b>Lynn Spencer → Lynn Spencer</b><br>Interactions: 26<br>Similarity: 1.000<extra></extra>",
         "line": {
          "color": "rgba(33, 102, 172, 0.7)",
          "width": 8.666666666666666
         },
         "mode": "lines",
         "showlegend": false,
         "type": "scatter",
         "x": [
          0.9849319565143412,
          0.9849319565143412,
          null
         ],
         "y": [
          0.09213560621422415,
          0.09213560621422415,
          null
         ]
        },
        {
         "hovertemplate": "<b>Lynn Spencer → Jacqueline Clark</b><br>Interactions: 4<br>Similarity: -0.102<extra></extra>",
         "line": {
          "color": "rgba(244, 165, 130, 0.7)",
          "width": 1.3333333333333333
         },
         "mode": "lines",
         "showlegend": false,
         "type": "scatter",
         "x": [
          0.9849319565143412,
          0.5826003125569416,
          null
         ],
         "y": [
          0.09213560621422415,
          -0.8331632910226803,
          null
         ]
        },
        {
         "hovertemplate": "<b>Lynn Spencer → Daniel Gordon</b><br>Interactions: 1<br>Similarity: -0.388<extra></extra>",
         "line": {
          "color": "rgba(214, 96, 77, 0.7)",
          "width": 1
         },
         "mode": "lines",
         "showlegend": false,
         "type": "scatter",
         "x": [
          0.9849319565143412,
          -0.9632478875329431,
          null
         ],
         "y": [
          0.09213560621422415,
          0.2760289180058474,
          null
         ]
        },
        {
         "hovertemplate": "<b>Lynn Spencer → Heather Ward</b><br>Interactions: 2<br>Similarity: 0.277<extra></extra>",
         "line": {
          "color": "rgba(209, 229, 240, 0.7)",
          "width": 1
         },
         "mode": "lines",
         "showlegend": false,
         "type": "scatter",
         "x": [
          0.9849319565143412,
          0.6859450045720663,
          null
         ],
         "y": [
          0.09213560621422415,
          0.6869475070736885,
          null
         ]
        },
        {
         "hovertemplate": "<b>Lynn Spencer → William Obrien</b><br>Interactions: 4<br>Similarity: 0.032<extra></extra>",
         "line": {
          "color": "rgba(253, 219, 199, 0.7)",
          "width": 1.3333333333333333
         },
         "mode": "lines",
         "showlegend": false,
         "type": "scatter",
         "x": [
          0.9849319565143412,
          0.8501807977005968,
          null
         ],
         "y": [
          0.09213560621422415,
          -0.5807629751799296,
          null
         ]
        },
        {
         "hovertemplate": "<b>Lynn Spencer → Andrew Vang</b><br>Interactions: 4<br>Similarity: -0.031<extra></extra>",
         "line": {
          "color": "rgba(244, 165, 130, 0.7)",
          "width": 1.3333333333333333
         },
         "mode": "lines",
         "showlegend": false,
         "type": "scatter",
         "x": [
          0.9849319565143412,
          -0.44152715747871657,
          null
         ],
         "y": [
          0.09213560621422415,
          -0.9176520610391299,
          null
         ]
        },
        {
         "hovertemplate": "<b>Andrew Vang → Andrew Vang</b><br>Interactions: 2<br>Similarity: 1.000<extra></extra>",
         "line": {
          "color": "rgba(33, 102, 172, 0.7)",
          "width": 1
         },
         "mode": "lines",
         "showlegend": false,
         "type": "scatter",
         "x": [
          -0.44152715747871657,
          -0.44152715747871657,
          null
         ],
         "y": [
          -0.9176520610391299,
          -0.9176520610391299,
          null
         ]
        },
        {
         "hovertemplate": "<b>Andrew Vang → William Murphy</b><br>Interactions: 82<br>Similarity: 0.104<extra></extra>",
         "line": {
          "color": "rgba(253, 219, 199, 0.7)",
          "width": 10
         },
         "mode": "lines",
         "showlegend": false,
         "type": "scatter",
         "x": [
          -0.44152715747871657,
          0.3989395953966282,
          null
         ],
         "y": [
          -0.9176520610391299,
          0.8806421641799811,
          null
         ]
        },
        {
         "hovertemplate": "<b>Andrew Vang → Cole Hunter</b><br>Interactions: 42<br>Similarity: 0.432<extra></extra>",
         "line": {
          "color": "rgba(146, 197, 222, 0.7)",
          "width": 10
         },
         "mode": "lines",
         "showlegend": false,
         "type": "scatter",
         "x": [
          -0.44152715747871657,
          -0.6854988190417277,
          null
         ],
         "y": [
          -0.9176520610391299,
          -0.6797312320517651,
          null
         ]
        },
        {
         "hovertemplate": "<b>Andrew Vang → William Obrien</b><br>Interactions: 20<br>Similarity: -0.124<extra></extra>",
         "line": {
          "color": "rgba(244, 165, 130, 0.7)",
          "width": 6.666666666666667
         },
         "mode": "lines",
         "showlegend": false,
         "type": "scatter",
         "x": [
          -0.44152715747871657,
          0.8501807977005968,
          null
         ],
         "y": [
          -0.9176520610391299,
          -0.5807629751799296,
          null
         ]
        },
        {
         "hovertemplate": "<b>Andrew Vang → George Brown</b><br>Interactions: 90<br>Similarity: 0.028<extra></extra>",
         "line": {
          "color": "rgba(253, 219, 199, 0.7)",
          "width": 10
         },
         "mode": "lines",
         "showlegend": false,
         "type": "scatter",
         "x": [
          -0.44152715747871657,
          -0.29233083356523126,
          null
         ],
         "y": [
          -0.9176520610391299,
          0.9677886068772861,
          null
         ]
        },
        {
         "hovertemplate": "<b>Andrew Vang → Justin Love</b><br>Interactions: 47<br>Similarity: 0.169<extra></extra>",
         "line": {
          "color": "rgba(253, 219, 199, 0.7)",
          "width": 10
         },
         "mode": "lines",
         "showlegend": false,
         "type": "scatter",
         "x": [
          -0.44152715747871657,
          0.941297126675412,
          null
         ],
         "y": [
          -0.9176520610391299,
          0.4488265431389019,
          null
         ]
        },
        {
         "hovertemplate": "<b>Andrew Vang → Jennifer Thomas</b><br>Interactions: 45<br>Similarity: 0.181<extra></extra>",
         "line": {
          "color": "rgba(253, 219, 199, 0.7)",
          "width": 10
         },
         "mode": "lines",
         "showlegend": false,
         "type": "scatter",
         "x": [
          -0.44152715747871657,
          -0.8998730555186966,
          null
         ],
         "y": [
          -0.9176520610391299,
          -0.41342708840603015,
          null
         ]
        },
        {
         "hovertemplate": "<b>Andrew Vang → Lynn Spencer</b><br>Interactions: 46<br>Similarity: -0.031<extra></extra>",
         "line": {
          "color": "rgba(244, 165, 130, 0.7)",
          "width": 10
         },
         "mode": "lines",
         "showlegend": false,
         "type": "scatter",
         "x": [
          -0.44152715747871657,
          0.9849319565143412,
          null
         ],
         "y": [
          -0.9176520610391299,
          0.09213560621422415,
          null
         ]
        },
        {
         "hovertemplate": "<b>Andrew Vang → Mary Figueroa</b><br>Interactions: 51<br>Similarity: 0.063<extra></extra>",
         "line": {
          "color": "rgba(253, 219, 199, 0.7)",
          "width": 10
         },
         "mode": "lines",
         "showlegend": false,
         "type": "scatter",
         "x": [
          -0.44152715747871657,
          -0.9638361606138051,
          null
         ],
         "y": [
          -0.9176520610391299,
          -0.07324778549173401,
          null
         ]
        },
        {
         "hovertemplate": "<b>Andrew Vang → Rebecca Hall</b><br>Interactions: 66<br>Similarity: 0.211<extra></extra>",
         "line": {
          "color": "rgba(209, 229, 240, 0.7)",
          "width": 10
         },
         "mode": "lines",
         "showlegend": false,
         "type": "scatter",
         "x": [
          -0.44152715747871657,
          -0.09244796540966069,
          null
         ],
         "y": [
          -0.9176520610391299,
          -0.9736932525652702,
          null
         ]
        },
        {
         "hovertemplate": "<b>Andrew Vang → Julie Francis</b><br>Interactions: 30<br>Similarity: -0.341<extra></extra>",
         "line": {
          "color": "rgba(214, 96, 77, 0.7)",
          "width": 10
         },
         "mode": "lines",
         "showlegend": false,
         "type": "scatter",
         "x": [
          -0.44152715747871657,
          -0.5361147761514105,
          null
         ],
         "y": [
          -0.9176520610391299,
          0.7536928474138247,
          null
         ]
        },
        {
         "hovertemplate": "<b>Andrew Vang → Jason Day</b><br>Interactions: 5<br>Similarity: -0.203<extra></extra>",
         "line": {
          "color": "rgba(244, 165, 130, 0.7)",
          "width": 1.6666666666666667
         },
         "mode": "lines",
         "showlegend": false,
         "type": "scatter",
         "x": [
          -0.44152715747871657,
          -0.8248788973556259,
          null
         ],
         "y": [
          -0.9176520610391299,
          0.6182324532165933,
          null
         ]
        },
        {
         "hovertemplate": "<b>Andrew Vang → Eric Austin</b><br>Interactions: 16<br>Similarity: -0.299<extra></extra>",
         "line": {
          "color": "rgba(214, 96, 77, 0.7)",
          "width": 5.333333333333333
         },
         "mode": "lines",
         "showlegend": false,
         "type": "scatter",
         "x": [
          -0.44152715747871657,
          0.0679339182236547,
          null
         ],
         "y": [
          -0.9176520610391299,
          0.9961658653082643,
          null
         ]
        },
        {
         "hovertemplate": "<b>Andrew Vang → Matthew Odom</b><br>Interactions: 24<br>Similarity: 0.008<extra></extra>",
         "line": {
          "color": "rgba(253, 219, 199, 0.7)",
          "width": 8
         },
         "mode": "lines",
         "showlegend": false,
         "type": "scatter",
         "x": [
          -0.44152715747871657,
          0.9317906794991804,
          null
         ],
         "y": [
          -0.9176520610391299,
          -0.24878282567207277,
          null
         ]
        },
        {
         "hovertemplate": "<b>Andrew Vang → Daniel Gordon</b><br>Interactions: 26<br>Similarity: -0.132<extra></extra>",
         "line": {
          "color": "rgba(244, 165, 130, 0.7)",
          "width": 8.666666666666666
         },
         "mode": "lines",
         "showlegend": false,
         "type": "scatter",
         "x": [
          -0.44152715747871657,
          -0.9632478875329431,
          null
         ],
         "y": [
          -0.9176520610391299,
          0.2760289180058474,
          null
         ]
        },
        {
         "hovertemplate": "<b>Andrew Vang → Patrick Williams</b><br>Interactions: 10<br>Similarity: 0.126<extra></extra>",
         "line": {
          "color": "rgba(253, 219, 199, 0.7)",
          "width": 3.3333333333333335
         },
         "mode": "lines",
         "showlegend": false,
         "type": "scatter",
         "x": [
          -0.44152715747871657,
          0.2561361615289968,
          null
         ],
         "y": [
          -0.9176520610391299,
          -1,
          null
         ]
        },
        {
         "hovertemplate": "<b>Andrew Vang → Heather Ward</b><br>Interactions: 20<br>Similarity: -0.015<extra></extra>",
         "line": {
          "color": "rgba(244, 165, 130, 0.7)",
          "width": 6.666666666666667
         },
         "mode": "lines",
         "showlegend": false,
         "type": "scatter",
         "x": [
          -0.44152715747871657,
          0.6859450045720663,
          null
         ],
         "y": [
          -0.9176520610391299,
          0.6869475070736885,
          null
         ]
        },
        {
         "hovertemplate": "<b>Andrew Vang → Jacqueline Clark</b><br>Interactions: 4<br>Similarity: 0.115<extra></extra>",
         "line": {
          "color": "rgba(253, 219, 199, 0.7)",
          "width": 1.3333333333333333
         },
         "mode": "lines",
         "showlegend": false,
         "type": "scatter",
         "x": [
          -0.44152715747871657,
          0.5826003125569416,
          null
         ],
         "y": [
          -0.9176520610391299,
          -0.8331632910226803,
          null
         ]
        },
        {
         "hovertemplate": "<b>Daniel Gordon → Andrew Vang</b><br>Interactions: 37<br>Similarity: -0.132<extra></extra>",
         "line": {
          "color": "rgba(244, 165, 130, 0.7)",
          "width": 10
         },
         "mode": "lines",
         "showlegend": false,
         "type": "scatter",
         "x": [
          -0.9632478875329431,
          -0.44152715747871657,
          null
         ],
         "y": [
          0.2760289180058474,
          -0.9176520610391299,
          null
         ]
        },
        {
         "hovertemplate": "<b>Daniel Gordon → Matthew Odom</b><br>Interactions: 35<br>Similarity: -0.523<extra></extra>",
         "line": {
          "color": "rgba(178, 24, 43, 0.7)",
          "width": 10
         },
         "mode": "lines",
         "showlegend": false,
         "type": "scatter",
         "x": [
          -0.9632478875329431,
          0.9317906794991804,
          null
         ],
         "y": [
          0.2760289180058474,
          -0.24878282567207277,
          null
         ]
        },
        {
         "hovertemplate": "<b>Daniel Gordon → Eric Austin</b><br>Interactions: 15<br>Similarity: 0.405<extra></extra>",
         "line": {
          "color": "rgba(146, 197, 222, 0.7)",
          "width": 5
         },
         "mode": "lines",
         "showlegend": false,
         "type": "scatter",
         "x": [
          -0.9632478875329431,
          0.0679339182236547,
          null
         ],
         "y": [
          0.2760289180058474,
          0.9961658653082643,
          null
         ]
        },
        {
         "hovertemplate": "<b>Daniel Gordon → William Murphy</b><br>Interactions: 89<br>Similarity: 0.010<extra></extra>",
         "line": {
          "color": "rgba(253, 219, 199, 0.7)",
          "width": 10
         },
         "mode": "lines",
         "showlegend": false,
         "type": "scatter",
         "x": [
          -0.9632478875329431,
          0.3989395953966282,
          null
         ],
         "y": [
          0.2760289180058474,
          0.8806421641799811,
          null
         ]
        },
        {
         "hovertemplate": "<b>Daniel Gordon → Rebecca Hall</b><br>Interactions: 103<br>Similarity: 0.256<extra></extra>",
         "line": {
          "color": "rgba(209, 229, 240, 0.7)",
          "width": 10
         },
         "mode": "lines",
         "showlegend": false,
         "type": "scatter",
         "x": [
          -0.9632478875329431,
          -0.09244796540966069,
          null
         ],
         "y": [
          0.2760289180058474,
          -0.9736932525652702,
          null
         ]
        },
        {
         "hovertemplate": "<b>Daniel Gordon → Cole Hunter</b><br>Interactions: 58<br>Similarity: 0.225<extra></extra>",
         "line": {
          "color": "rgba(209, 229, 240, 0.7)",
          "width": 10
         },
         "mode": "lines",
         "showlegend": false,
         "type": "scatter",
         "x": [
          -0.9632478875329431,
          -0.6854988190417277,
          null
         ],
         "y": [
          0.2760289180058474,
          -0.6797312320517651,
          null
         ]
        },
        {
         "hovertemplate": "<b>Daniel Gordon → Mary Figueroa</b><br>Interactions: 52<br>Similarity: 0.536<extra></extra>",
         "line": {
          "color": "rgba(146, 197, 222, 0.7)",
          "width": 10
         },
         "mode": "lines",
         "showlegend": false,
         "type": "scatter",
         "x": [
          -0.9632478875329431,
          -0.9638361606138051,
          null
         ],
         "y": [
          0.2760289180058474,
          -0.07324778549173401,
          null
         ]
        },
        {
         "hovertemplate": "<b>Daniel Gordon → Justin Love</b><br>Interactions: 46<br>Similarity: -0.026<extra></extra>",
         "line": {
          "color": "rgba(244, 165, 130, 0.7)",
          "width": 10
         },
         "mode": "lines",
         "showlegend": false,
         "type": "scatter",
         "x": [
          -0.9632478875329431,
          0.941297126675412,
          null
         ],
         "y": [
          0.2760289180058474,
          0.4488265431389019,
          null
         ]
        },
        {
         "hovertemplate": "<b>Daniel Gordon → George Brown</b><br>Interactions: 67<br>Similarity: -0.092<extra></extra>",
         "line": {
          "color": "rgba(244, 165, 130, 0.7)",
          "width": 10
         },
         "mode": "lines",
         "showlegend": false,
         "type": "scatter",
         "x": [
          -0.9632478875329431,
          -0.29233083356523126,
          null
         ],
         "y": [
          0.2760289180058474,
          0.9677886068772861,
          null
         ]
        },
        {
         "hovertemplate": "<b>Daniel Gordon → Julie Francis</b><br>Interactions: 14<br>Similarity: 0.320<extra></extra>",
         "line": {
          "color": "rgba(209, 229, 240, 0.7)",
          "width": 4.666666666666667
         },
         "mode": "lines",
         "showlegend": false,
         "type": "scatter",
         "x": [
          -0.9632478875329431,
          -0.5361147761514105,
          null
         ],
         "y": [
          0.2760289180058474,
          0.7536928474138247,
          null
         ]
        },
        {
         "hovertemplate": "<b>Daniel Gordon → William Obrien</b><br>Interactions: 13<br>Similarity: -0.223<extra></extra>",
         "line": {
          "color": "rgba(214, 96, 77, 0.7)",
          "width": 4.333333333333333
         },
         "mode": "lines",
         "showlegend": false,
         "type": "scatter",
         "x": [
          -0.9632478875329431,
          0.8501807977005968,
          null
         ],
         "y": [
          0.2760289180058474,
          -0.5807629751799296,
          null
         ]
        },
        {
         "hovertemplate": "<b>Daniel Gordon → Jason Day</b><br>Interactions: 6<br>Similarity: 0.482<extra></extra>",
         "line": {
          "color": "rgba(146, 197, 222, 0.7)",
          "width": 2
         },
         "mode": "lines",
         "showlegend": false,
         "type": "scatter",
         "x": [
          -0.9632478875329431,
          -0.8248788973556259,
          null
         ],
         "y": [
          0.2760289180058474,
          0.6182324532165933,
          null
         ]
        },
        {
         "hovertemplate": "<b>Daniel Gordon → Jennifer Thomas</b><br>Interactions: 46<br>Similarity: 0.087<extra></extra>",
         "line": {
          "color": "rgba(253, 219, 199, 0.7)",
          "width": 10
         },
         "mode": "lines",
         "showlegend": false,
         "type": "scatter",
         "x": [
          -0.9632478875329431,
          -0.8998730555186966,
          null
         ],
         "y": [
          0.2760289180058474,
          -0.41342708840603015,
          null
         ]
        },
        {
         "hovertemplate": "<b>Daniel Gordon → Jacqueline Clark</b><br>Interactions: 4<br>Similarity: 0.088<extra></extra>",
         "line": {
          "color": "rgba(253, 219, 199, 0.7)",
          "width": 1.3333333333333333
         },
         "mode": "lines",
         "showlegend": false,
         "type": "scatter",
         "x": [
          -0.9632478875329431,
          0.5826003125569416,
          null
         ],
         "y": [
          0.2760289180058474,
          -0.8331632910226803,
          null
         ]
        },
        {
         "hovertemplate": "<b>Daniel Gordon → Patrick Williams</b><br>Interactions: 13<br>Similarity: -0.346<extra></extra>",
         "line": {
          "color": "rgba(214, 96, 77, 0.7)",
          "width": 4.333333333333333
         },
         "mode": "lines",
         "showlegend": false,
         "type": "scatter",
         "x": [
          -0.9632478875329431,
          0.2561361615289968,
          null
         ],
         "y": [
          0.2760289180058474,
          -1,
          null
         ]
        },
        {
         "hovertemplate": "<b>Daniel Gordon → Lynn Spencer</b><br>Interactions: 48<br>Similarity: -0.388<extra></extra>",
         "line": {
          "color": "rgba(214, 96, 77, 0.7)",
          "width": 10
         },
         "mode": "lines",
         "showlegend": false,
         "type": "scatter",
         "x": [
          -0.9632478875329431,
          0.9849319565143412,
          null
         ],
         "y": [
          0.2760289180058474,
          0.09213560621422415,
          null
         ]
        },
        {
         "hovertemplate": "<b>Daniel Gordon → Heather Ward</b><br>Interactions: 15<br>Similarity: -0.251<extra></extra>",
         "line": {
          "color": "rgba(214, 96, 77, 0.7)",
          "width": 5
         },
         "mode": "lines",
         "showlegend": false,
         "type": "scatter",
         "x": [
          -0.9632478875329431,
          0.6859450045720663,
          null
         ],
         "y": [
          0.2760289180058474,
          0.6869475070736885,
          null
         ]
        },
        {
         "hovertemplate": "<b>Daniel Gordon → Daniel Gordon</b><br>Interactions: 2<br>Similarity: 1.000<extra></extra>",
         "line": {
          "color": "rgba(33, 102, 172, 0.7)",
          "width": 1
         },
         "mode": "lines",
         "showlegend": false,
         "type": "scatter",
         "x": [
          -0.9632478875329431,
          -0.9632478875329431,
          null
         ],
         "y": [
          0.2760289180058474,
          0.2760289180058474,
          null
         ]
        },
        {
         "hovertemplate": "<b>Heather Ward → Eric Austin</b><br>Interactions: 10<br>Similarity: 0.293<extra></extra>",
         "line": {
          "color": "rgba(209, 229, 240, 0.7)",
          "width": 3.3333333333333335
         },
         "mode": "lines",
         "showlegend": false,
         "type": "scatter",
         "x": [
          0.6859450045720663,
          0.0679339182236547,
          null
         ],
         "y": [
          0.6869475070736885,
          0.9961658653082643,
          null
         ]
        },
        {
         "hovertemplate": "<b>Heather Ward → William Murphy</b><br>Interactions: 31<br>Similarity: 0.317<extra></extra>",
         "line": {
          "color": "rgba(209, 229, 240, 0.7)",
          "width": 10
         },
         "mode": "lines",
         "showlegend": false,
         "type": "scatter",
         "x": [
          0.6859450045720663,
          0.3989395953966282,
          null
         ],
         "y": [
          0.6869475070736885,
          0.8806421641799811,
          null
         ]
        },
        {
         "hovertemplate": "<b>Heather Ward → Cole Hunter</b><br>Interactions: 24<br>Similarity: -0.390<extra></extra>",
         "line": {
          "color": "rgba(214, 96, 77, 0.7)",
          "width": 8
         },
         "mode": "lines",
         "showlegend": false,
         "type": "scatter",
         "x": [
          0.6859450045720663,
          -0.6854988190417277,
          null
         ],
         "y": [
          0.6869475070736885,
          -0.6797312320517651,
          null
         ]
        },
        {
         "hovertemplate": "<b>Heather Ward → Heather Ward</b><br>Interactions: 2<br>Similarity: 1.000<extra></extra>",
         "line": {
          "color": "rgba(33, 102, 172, 0.7)",
          "width": 1
         },
         "mode": "lines",
         "showlegend": false,
         "type": "scatter",
         "x": [
          0.6859450045720663,
          0.6859450045720663,
          null
         ],
         "y": [
          0.6869475070736885,
          0.6869475070736885,
          null
         ]
        },
        {
         "hovertemplate": "<b>Heather Ward → William Obrien</b><br>Interactions: 1<br>Similarity: 0.043<extra></extra>",
         "line": {
          "color": "rgba(253, 219, 199, 0.7)",
          "width": 1
         },
         "mode": "lines",
         "showlegend": false,
         "type": "scatter",
         "x": [
          0.6859450045720663,
          0.8501807977005968,
          null
         ],
         "y": [
          0.6869475070736885,
          -0.5807629751799296,
          null
         ]
        },
        {
         "hovertemplate": "<b>Heather Ward → Julie Francis</b><br>Interactions: 11<br>Similarity: 0.037<extra></extra>",
         "line": {
          "color": "rgba(253, 219, 199, 0.7)",
          "width": 3.6666666666666665
         },
         "mode": "lines",
         "showlegend": false,
         "type": "scatter",
         "x": [
          0.6859450045720663,
          -0.5361147761514105,
          null
         ],
         "y": [
          0.6869475070736885,
          0.7536928474138247,
          null
         ]
        },
        {
         "hovertemplate": "<b>Heather Ward → Jennifer Thomas</b><br>Interactions: 21<br>Similarity: -0.139<extra></extra>",
         "line": {
          "color": "rgba(244, 165, 130, 0.7)",
          "width": 7
         },
         "mode": "lines",
         "showlegend": false,
         "type": "scatter",
         "x": [
          0.6859450045720663,
          -0.8998730555186966,
          null
         ],
         "y": [
          0.6869475070736885,
          -0.41342708840603015,
          null
         ]
        },
        {
         "hovertemplate": "<b>Heather Ward → Lynn Spencer</b><br>Interactions: 24<br>Similarity: 0.277<extra></extra>",
         "line": {
          "color": "rgba(209, 229, 240, 0.7)",
          "width": 8
         },
         "mode": "lines",
         "showlegend": false,
         "type": "scatter",
         "x": [
          0.6859450045720663,
          0.9849319565143412,
          null
         ],
         "y": [
          0.6869475070736885,
          0.09213560621422415,
          null
         ]
        },
        {
         "hovertemplate": "<b>Heather Ward → Jason Day</b><br>Interactions: 2<br>Similarity: -0.338<extra></extra>",
         "line": {
          "color": "rgba(214, 96, 77, 0.7)",
          "width": 1
         },
         "mode": "lines",
         "showlegend": false,
         "type": "scatter",
         "x": [
          0.6859450045720663,
          -0.8248788973556259,
          null
         ],
         "y": [
          0.6869475070736885,
          0.6182324532165933,
          null
         ]
        },
        {
         "hovertemplate": "<b>Heather Ward → Justin Love</b><br>Interactions: 38<br>Similarity: -0.271<extra></extra>",
         "line": {
          "color": "rgba(214, 96, 77, 0.7)",
          "width": 10
         },
         "mode": "lines",
         "showlegend": false,
         "type": "scatter",
         "x": [
          0.6859450045720663,
          0.941297126675412,
          null
         ],
         "y": [
          0.6869475070736885,
          0.4488265431389019,
          null
         ]
        },
        {
         "hovertemplate": "<b>Heather Ward → George Brown</b><br>Interactions: 6<br>Similarity: 0.362<extra></extra>",
         "line": {
          "color": "rgba(209, 229, 240, 0.7)",
          "width": 2
         },
         "mode": "lines",
         "showlegend": false,
         "type": "scatter",
         "x": [
          0.6859450045720663,
          -0.29233083356523126,
          null
         ],
         "y": [
          0.6869475070736885,
          0.9677886068772861,
          null
         ]
        },
        {
         "hovertemplate": "<b>Heather Ward → Mary Figueroa</b><br>Interactions: 22<br>Similarity: -0.348<extra></extra>",
         "line": {
          "color": "rgba(214, 96, 77, 0.7)",
          "width": 7.333333333333333
         },
         "mode": "lines",
         "showlegend": false,
         "type": "scatter",
         "x": [
          0.6859450045720663,
          -0.9638361606138051,
          null
         ],
         "y": [
          0.6869475070736885,
          -0.07324778549173401,
          null
         ]
        },
        {
         "hovertemplate": "<b>Heather Ward → Rebecca Hall</b><br>Interactions: 51<br>Similarity: 0.188<extra></extra>",
         "line": {
          "color": "rgba(253, 219, 199, 0.7)",
          "width": 10
         },
         "mode": "lines",
         "showlegend": false,
         "type": "scatter",
         "x": [
          0.6859450045720663,
          -0.09244796540966069,
          null
         ],
         "y": [
          0.6869475070736885,
          -0.9736932525652702,
          null
         ]
        },
        {
         "hovertemplate": "<b>Heather Ward → Matthew Odom</b><br>Interactions: 2<br>Similarity: 0.500<extra></extra>",
         "line": {
          "color": "rgba(146, 197, 222, 0.7)",
          "width": 1
         },
         "mode": "lines",
         "showlegend": false,
         "type": "scatter",
         "x": [
          0.6859450045720663,
          0.9317906794991804,
          null
         ],
         "y": [
          0.6869475070736885,
          -0.24878282567207277,
          null
         ]
        },
        {
         "hovertemplate": "<b>Heather Ward → Patrick Williams</b><br>Interactions: 1<br>Similarity: 0.567<extra></extra>",
         "line": {
          "color": "rgba(146, 197, 222, 0.7)",
          "width": 1
         },
         "mode": "lines",
         "showlegend": false,
         "type": "scatter",
         "x": [
          0.6859450045720663,
          0.2561361615289968,
          null
         ],
         "y": [
          0.6869475070736885,
          -1,
          null
         ]
        },
        {
         "hovertemplate": "<b>Jason Day → William Murphy</b><br>Interactions: 15<br>Similarity: -0.066<extra></extra>",
         "line": {
          "color": "rgba(244, 165, 130, 0.7)",
          "width": 5
         },
         "mode": "lines",
         "showlegend": false,
         "type": "scatter",
         "x": [
          -0.8248788973556259,
          0.3989395953966282,
          null
         ],
         "y": [
          0.6182324532165933,
          0.8806421641799811,
          null
         ]
        },
        {
         "hovertemplate": "<b>Jason Day → Eric Austin</b><br>Interactions: 7<br>Similarity: -0.112<extra></extra>",
         "line": {
          "color": "rgba(244, 165, 130, 0.7)",
          "width": 2.3333333333333335
         },
         "mode": "lines",
         "showlegend": false,
         "type": "scatter",
         "x": [
          -0.8248788973556259,
          0.0679339182236547,
          null
         ],
         "y": [
          0.6182324532165933,
          0.9961658653082643,
          null
         ]
        },
        {
         "hovertemplate": "<b>Jason Day → Heather Ward</b><br>Interactions: 6<br>Similarity: -0.338<extra></extra>",
         "line": {
          "color": "rgba(214, 96, 77, 0.7)",
          "width": 2
         },
         "mode": "lines",
         "showlegend": false,
         "type": "scatter",
         "x": [
          -0.8248788973556259,
          0.6859450045720663,
          null
         ],
         "y": [
          0.6182324532165933,
          0.6869475070736885,
          null
         ]
        },
        {
         "hovertemplate": "<b>Jason Day → Mary Figueroa</b><br>Interactions: 5<br>Similarity: 0.109<extra></extra>",
         "line": {
          "color": "rgba(253, 219, 199, 0.7)",
          "width": 1.6666666666666667
         },
         "mode": "lines",
         "showlegend": false,
         "type": "scatter",
         "x": [
          -0.8248788973556259,
          -0.9638361606138051,
          null
         ],
         "y": [
          0.6182324532165933,
          -0.07324778549173401,
          null
         ]
        },
        {
         "hovertemplate": "<b>Jason Day → William Obrien</b><br>Interactions: 47<br>Similarity: -0.049<extra></extra>",
         "line": {
          "color": "rgba(244, 165, 130, 0.7)",
          "width": 10
         },
         "mode": "lines",
         "showlegend": false,
         "type": "scatter",
         "x": [
          -0.8248788973556259,
          0.8501807977005968,
          null
         ],
         "y": [
          0.6182324532165933,
          -0.5807629751799296,
          null
         ]
        },
        {
         "hovertemplate": "<b>Jason Day → Rebecca Hall</b><br>Interactions: 16<br>Similarity: 0.121<extra></extra>",
         "line": {
          "color": "rgba(253, 219, 199, 0.7)",
          "width": 5.333333333333333
         },
         "mode": "lines",
         "showlegend": false,
         "type": "scatter",
         "x": [
          -0.8248788973556259,
          -0.09244796540966069,
          null
         ],
         "y": [
          0.6182324532165933,
          -0.9736932525652702,
          null
         ]
        },
        {
         "hovertemplate": "<b>Jason Day → Julie Francis</b><br>Interactions: 27<br>Similarity: 0.330<extra></extra>",
         "line": {
          "color": "rgba(209, 229, 240, 0.7)",
          "width": 9
         },
         "mode": "lines",
         "showlegend": false,
         "type": "scatter",
         "x": [
          -0.8248788973556259,
          -0.5361147761514105,
          null
         ],
         "y": [
          0.6182324532165933,
          0.7536928474138247,
          null
         ]
        },
        {
         "hovertemplate": "<b>Jason Day → Matthew Odom</b><br>Interactions: 41<br>Similarity: -0.821<extra></extra>",
         "line": {
          "color": "rgba(103, 0, 31, 0.7)",
          "width": 10
         },
         "mode": "lines",
         "showlegend": false,
         "type": "scatter",
         "x": [
          -0.8248788973556259,
          0.9317906794991804,
          null
         ],
         "y": [
          0.6182324532165933,
          -0.24878282567207277,
          null
         ]
        },
        {
         "hovertemplate": "<b>Jason Day → Jennifer Thomas</b><br>Interactions: 7<br>Similarity: -0.037<extra></extra>",
         "line": {
          "color": "rgba(244, 165, 130, 0.7)",
          "width": 2.3333333333333335
         },
         "mode": "lines",
         "showlegend": false,
         "type": "scatter",
         "x": [
          -0.8248788973556259,
          -0.8998730555186966,
          null
         ],
         "y": [
          0.6182324532165933,
          -0.41342708840603015,
          null
         ]
        },
        {
         "hovertemplate": "<b>Jason Day → George Brown</b><br>Interactions: 2<br>Similarity: -0.154<extra></extra>",
         "line": {
          "color": "rgba(244, 165, 130, 0.7)",
          "width": 1
         },
         "mode": "lines",
         "showlegend": false,
         "type": "scatter",
         "x": [
          -0.8248788973556259,
          -0.29233083356523126,
          null
         ],
         "y": [
          0.6182324532165933,
          0.9677886068772861,
          null
         ]
        },
        {
         "hovertemplate": "<b>Jason Day → Lynn Spencer</b><br>Interactions: 2<br>Similarity: -0.035<extra></extra>",
         "line": {
          "color": "rgba(244, 165, 130, 0.7)",
          "width": 1
         },
         "mode": "lines",
         "showlegend": false,
         "type": "scatter",
         "x": [
          -0.8248788973556259,
          0.9849319565143412,
          null
         ],
         "y": [
          0.6182324532165933,
          0.09213560621422415,
          null
         ]
        },
        {
         "hovertemplate": "<b>Jason Day → Patrick Williams</b><br>Interactions: 34<br>Similarity: -0.471<extra></extra>",
         "line": {
          "color": "rgba(178, 24, 43, 0.7)",
          "width": 10
         },
         "mode": "lines",
         "showlegend": false,
         "type": "scatter",
         "x": [
          -0.8248788973556259,
          0.2561361615289968,
          null
         ],
         "y": [
          0.6182324532165933,
          -1,
          null
         ]
        },
        {
         "hovertemplate": "<b>Jason Day → Justin Love</b><br>Interactions: 9<br>Similarity: 0.289<extra></extra>",
         "line": {
          "color": "rgba(209, 229, 240, 0.7)",
          "width": 3
         },
         "mode": "lines",
         "showlegend": false,
         "type": "scatter",
         "x": [
          -0.8248788973556259,
          0.941297126675412,
          null
         ],
         "y": [
          0.6182324532165933,
          0.4488265431389019,
          null
         ]
        },
        {
         "hovertemplate": "<b>Jason Day → Cole Hunter</b><br>Interactions: 16<br>Similarity: 0.373<extra></extra>",
         "line": {
          "color": "rgba(209, 229, 240, 0.7)",
          "width": 5.333333333333333
         },
         "mode": "lines",
         "showlegend": false,
         "type": "scatter",
         "x": [
          -0.8248788973556259,
          -0.6854988190417277,
          null
         ],
         "y": [
          0.6182324532165933,
          -0.6797312320517651,
          null
         ]
        },
        {
         "hovertemplate": "<b>Jason Day → Jacqueline Clark</b><br>Interactions: 2<br>Similarity: 0.049<extra></extra>",
         "line": {
          "color": "rgba(253, 219, 199, 0.7)",
          "width": 1
         },
         "mode": "lines",
         "showlegend": false,
         "type": "scatter",
         "x": [
          -0.8248788973556259,
          0.5826003125569416,
          null
         ],
         "y": [
          0.6182324532165933,
          -0.8331632910226803,
          null
         ]
        },
        {
         "hovertemplate": "<b>William Obrien → Andrew Vang</b><br>Interactions: 3<br>Similarity: -0.124<extra></extra>",
         "line": {
          "color": "rgba(244, 165, 130, 0.7)",
          "width": 1
         },
         "mode": "lines",
         "showlegend": false,
         "type": "scatter",
         "x": [
          0.8501807977005968,
          -0.44152715747871657,
          null
         ],
         "y": [
          -0.5807629751799296,
          -0.9176520610391299,
          null
         ]
        },
        {
         "hovertemplate": "<b>William Obrien → William Murphy</b><br>Interactions: 13<br>Similarity: 0.341<extra></extra>",
         "line": {
          "color": "rgba(209, 229, 240, 0.7)",
          "width": 4.333333333333333
         },
         "mode": "lines",
         "showlegend": false,
         "type": "scatter",
         "x": [
          0.8501807977005968,
          0.3989395953966282,
          null
         ],
         "y": [
          -0.5807629751799296,
          0.8806421641799811,
          null
         ]
        },
        {
         "hovertemplate": "<b>William Obrien → Heather Ward</b><br>Interactions: 2<br>Similarity: 0.043<extra></extra>",
         "line": {
          "color": "rgba(253, 219, 199, 0.7)",
          "width": 1
         },
         "mode": "lines",
         "showlegend": false,
         "type": "scatter",
         "x": [
          0.8501807977005968,
          0.6859450045720663,
          null
         ],
         "y": [
          -0.5807629751799296,
          0.6869475070736885,
          null
         ]
        },
        {
         "hovertemplate": "<b>William Obrien → Eric Austin</b><br>Interactions: 8<br>Similarity: -0.432<extra></extra>",
         "line": {
          "color": "rgba(178, 24, 43, 0.7)",
          "width": 2.6666666666666665
         },
         "mode": "lines",
         "showlegend": false,
         "type": "scatter",
         "x": [
          0.8501807977005968,
          0.0679339182236547,
          null
         ],
         "y": [
          -0.5807629751799296,
          0.9961658653082643,
          null
         ]
        },
        {
         "hovertemplate": "<b>William Obrien → Rebecca Hall</b><br>Interactions: 36<br>Similarity: -0.322<extra></extra>",
         "line": {
          "color": "rgba(214, 96, 77, 0.7)",
          "width": 10
         },
         "mode": "lines",
         "showlegend": false,
         "type": "scatter",
         "x": [
          0.8501807977005968,
          -0.09244796540966069,
          null
         ],
         "y": [
          -0.5807629751799296,
          -0.9736932525652702,
          null
         ]
        },
        {
         "hovertemplate": "<b>William Obrien → Justin Love</b><br>Interactions: 13<br>Similarity: 0.034<extra></extra>",
         "line": {
          "color": "rgba(253, 219, 199, 0.7)",
          "width": 4.333333333333333
         },
         "mode": "lines",
         "showlegend": false,
         "type": "scatter",
         "x": [
          0.8501807977005968,
          0.941297126675412,
          null
         ],
         "y": [
          -0.5807629751799296,
          0.4488265431389019,
          null
         ]
        },
        {
         "hovertemplate": "<b>William Obrien → William Obrien</b><br>Interactions: 6<br>Similarity: 1.000<extra></extra>",
         "line": {
          "color": "rgba(5, 48, 97, 0.7)",
          "width": 2
         },
         "mode": "lines",
         "showlegend": false,
         "type": "scatter",
         "x": [
          0.8501807977005968,
          0.8501807977005968,
          null
         ],
         "y": [
          -0.5807629751799296,
          -0.5807629751799296,
          null
         ]
        },
        {
         "hovertemplate": "<b>William Obrien → George Brown</b><br>Interactions: 3<br>Similarity: 0.016<extra></extra>",
         "line": {
          "color": "rgba(253, 219, 199, 0.7)",
          "width": 1
         },
         "mode": "lines",
         "showlegend": false,
         "type": "scatter",
         "x": [
          0.8501807977005968,
          -0.29233083356523126,
          null
         ],
         "y": [
          -0.5807629751799296,
          0.9677886068772861,
          null
         ]
        },
        {
         "hovertemplate": "<b>William Obrien → Jason Day</b><br>Interactions: 2<br>Similarity: -0.049<extra></extra>",
         "line": {
          "color": "rgba(244, 165, 130, 0.7)",
          "width": 1
         },
         "mode": "lines",
         "showlegend": false,
         "type": "scatter",
         "x": [
          0.8501807977005968,
          -0.8248788973556259,
          null
         ],
         "y": [
          -0.5807629751799296,
          0.6182324532165933,
          null
         ]
        },
        {
         "hovertemplate": "<b>William Obrien → Mary Figueroa</b><br>Interactions: 5<br>Similarity: -0.232<extra></extra>",
         "line": {
          "color": "rgba(214, 96, 77, 0.7)",
          "width": 1.6666666666666667
         },
         "mode": "lines",
         "showlegend": false,
         "type": "scatter",
         "x": [
          0.8501807977005968,
          -0.9638361606138051,
          null
         ],
         "y": [
          -0.5807629751799296,
          -0.07324778549173401,
          null
         ]
        },
        {
         "hovertemplate": "<b>William Obrien → Lynn Spencer</b><br>Interactions: 8<br>Similarity: 0.032<extra></extra>",
         "line": {
          "color": "rgba(253, 219, 199, 0.7)",
          "width": 2.6666666666666665
         },
         "mode": "lines",
         "showlegend": false,
         "type": "scatter",
         "x": [
          0.8501807977005968,
          0.9849319565143412,
          null
         ],
         "y": [
          -0.5807629751799296,
          0.09213560621422415,
          null
         ]
        },
        {
         "hovertemplate": "<b>William Obrien → Julie Francis</b><br>Interactions: 46<br>Similarity: -0.177<extra></extra>",
         "line": {
          "color": "rgba(244, 165, 130, 0.7)",
          "width": 10
         },
         "mode": "lines",
         "showlegend": false,
         "type": "scatter",
         "x": [
          0.8501807977005968,
          -0.5361147761514105,
          null
         ],
         "y": [
          -0.5807629751799296,
          0.7536928474138247,
          null
         ]
        },
        {
         "hovertemplate": "<b>William Obrien → Jennifer Thomas</b><br>Interactions: 12<br>Similarity: -0.290<extra></extra>",
         "line": {
          "color": "rgba(214, 96, 77, 0.7)",
          "width": 4
         },
         "mode": "lines",
         "showlegend": false,
         "type": "scatter",
         "x": [
          0.8501807977005968,
          -0.8998730555186966,
          null
         ],
         "y": [
          -0.5807629751799296,
          -0.41342708840603015,
          null
         ]
        },
        {
         "hovertemplate": "<b>William Obrien → Cole Hunter</b><br>Interactions: 7<br>Similarity: 0.096<extra></extra>",
         "line": {
          "color": "rgba(253, 219, 199, 0.7)",
          "width": 2.3333333333333335
         },
         "mode": "lines",
         "showlegend": false,
         "type": "scatter",
         "x": [
          0.8501807977005968,
          -0.6854988190417277,
          null
         ],
         "y": [
          -0.5807629751799296,
          -0.6797312320517651,
          null
         ]
        },
        {
         "hovertemplate": "<b>William Obrien → Matthew Odom</b><br>Interactions: 8<br>Similarity: -0.132<extra></extra>",
         "line": {
          "color": "rgba(244, 165, 130, 0.7)",
          "width": 2.6666666666666665
         },
         "mode": "lines",
         "showlegend": false,
         "type": "scatter",
         "x": [
          0.8501807977005968,
          0.9317906794991804,
          null
         ],
         "y": [
          -0.5807629751799296,
          -0.24878282567207277,
          null
         ]
        },
        {
         "hovertemplate": "<b>William Obrien → Daniel Gordon</b><br>Interactions: 8<br>Similarity: -0.223<extra></extra>",
         "line": {
          "color": "rgba(214, 96, 77, 0.7)",
          "width": 2.6666666666666665
         },
         "mode": "lines",
         "showlegend": false,
         "type": "scatter",
         "x": [
          0.8501807977005968,
          -0.9632478875329431,
          null
         ],
         "y": [
          -0.5807629751799296,
          0.2760289180058474,
          null
         ]
        },
        {
         "hovertemplate": "<b>William Obrien → Jacqueline Clark</b><br>Interactions: 18<br>Similarity: -0.678<extra></extra>",
         "line": {
          "color": "rgba(103, 0, 31, 0.7)",
          "width": 6
         },
         "mode": "lines",
         "showlegend": false,
         "type": "scatter",
         "x": [
          0.8501807977005968,
          0.5826003125569416,
          null
         ],
         "y": [
          -0.5807629751799296,
          -0.8331632910226803,
          null
         ]
        },
        {
         "hovertemplate": "<b>William Obrien → Patrick Williams</b><br>Interactions: 7<br>Similarity: -0.048<extra></extra>",
         "line": {
          "color": "rgba(244, 165, 130, 0.7)",
          "width": 2.3333333333333335
         },
         "mode": "lines",
         "showlegend": false,
         "type": "scatter",
         "x": [
          0.8501807977005968,
          0.2561361615289968,
          null
         ],
         "y": [
          -0.5807629751799296,
          -1,
          null
         ]
        },
        {
         "hovertemplate": "<b>Jennifer Thomas → William Murphy</b><br>Interactions: 15<br>Similarity: 0.042<extra></extra>",
         "line": {
          "color": "rgba(253, 219, 199, 0.7)",
          "width": 5
         },
         "mode": "lines",
         "showlegend": false,
         "type": "scatter",
         "x": [
          -0.8998730555186966,
          0.3989395953966282,
          null
         ],
         "y": [
          -0.41342708840603015,
          0.8806421641799811,
          null
         ]
        },
        {
         "hovertemplate": "<b>Jennifer Thomas → Andrew Vang</b><br>Interactions: 1<br>Similarity: 0.181<extra></extra>",
         "line": {
          "color": "rgba(253, 219, 199, 0.7)",
          "width": 1
         },
         "mode": "lines",
         "showlegend": false,
         "type": "scatter",
         "x": [
          -0.8998730555186966,
          -0.44152715747871657,
          null
         ],
         "y": [
          -0.41342708840603015,
          -0.9176520610391299,
          null
         ]
        },
        {
         "hovertemplate": "<b>Jennifer Thomas → Cole Hunter</b><br>Interactions: 6<br>Similarity: 0.109<extra></extra>",
         "line": {
          "color": "rgba(253, 219, 199, 0.7)",
          "width": 2
         },
         "mode": "lines",
         "showlegend": false,
         "type": "scatter",
         "x": [
          -0.8998730555186966,
          -0.6854988190417277,
          null
         ],
         "y": [
          -0.41342708840603015,
          -0.6797312320517651,
          null
         ]
        },
        {
         "hovertemplate": "<b>Jennifer Thomas → George Brown</b><br>Interactions: 28<br>Similarity: -0.790<extra></extra>",
         "line": {
          "color": "rgba(103, 0, 31, 0.7)",
          "width": 9.333333333333334
         },
         "mode": "lines",
         "showlegend": false,
         "type": "scatter",
         "x": [
          -0.8998730555186966,
          -0.29233083356523126,
          null
         ],
         "y": [
          -0.41342708840603015,
          0.9677886068772861,
          null
         ]
        },
        {
         "hovertemplate": "<b>Jennifer Thomas → Justin Love</b><br>Interactions: 31<br>Similarity: 0.593<extra></extra>",
         "line": {
          "color": "rgba(146, 197, 222, 0.7)",
          "width": 10
         },
         "mode": "lines",
         "showlegend": false,
         "type": "scatter",
         "x": [
          -0.8998730555186966,
          0.941297126675412,
          null
         ],
         "y": [
          -0.41342708840603015,
          0.4488265431389019,
          null
         ]
        },
        {
         "hovertemplate": "<b>Jennifer Thomas → Rebecca Hall</b><br>Interactions: 21<br>Similarity: 0.677<extra></extra>",
         "line": {
          "color": "rgba(67, 147, 195, 0.7)",
          "width": 7
         },
         "mode": "lines",
         "showlegend": false,
         "type": "scatter",
         "x": [
          -0.8998730555186966,
          -0.09244796540966069,
          null
         ],
         "y": [
          -0.41342708840603015,
          -0.9736932525652702,
          null
         ]
        },
        {
         "hovertemplate": "<b>Jennifer Thomas → Julie Francis</b><br>Interactions: 3<br>Similarity: 0.485<extra></extra>",
         "line": {
          "color": "rgba(146, 197, 222, 0.7)",
          "width": 1
         },
         "mode": "lines",
         "showlegend": false,
         "type": "scatter",
         "x": [
          -0.8998730555186966,
          -0.5361147761514105,
          null
         ],
         "y": [
          -0.41342708840603015,
          0.7536928474138247,
          null
         ]
        },
        {
         "hovertemplate": "<b>Jennifer Thomas → Patrick Williams</b><br>Interactions: 1<br>Similarity: 0.197<extra></extra>",
         "line": {
          "color": "rgba(209, 229, 240, 0.7)",
          "width": 1
         },
         "mode": "lines",
         "showlegend": false,
         "type": "scatter",
         "x": [
          -0.8998730555186966,
          0.2561361615289968,
          null
         ],
         "y": [
          -0.41342708840603015,
          -1,
          null
         ]
        },
        {
         "hovertemplate": "<b>Jennifer Thomas → Lynn Spencer</b><br>Interactions: 14<br>Similarity: -0.153<extra></extra>",
         "line": {
          "color": "rgba(244, 165, 130, 0.7)",
          "width": 4.666666666666667
         },
         "mode": "lines",
         "showlegend": false,
         "type": "scatter",
         "x": [
          -0.8998730555186966,
          0.9849319565143412,
          null
         ],
         "y": [
          -0.41342708840603015,
          0.09213560621422415,
          null
         ]
        },
        {
         "hovertemplate": "<b>Jennifer Thomas → Mary Figueroa</b><br>Interactions: 21<br>Similarity: 0.468<extra></extra>",
         "line": {
          "color": "rgba(146, 197, 222, 0.7)",
          "width": 7
         },
         "mode": "lines",
         "showlegend": false,
         "type": "scatter",
         "x": [
          -0.8998730555186966,
          -0.9638361606138051,
          null
         ],
         "y": [
          -0.41342708840603015,
          -0.07324778549173401,
          null
         ]
        },
        {
         "hovertemplate": "<b>Jennifer Thomas → Jennifer Thomas</b><br>Interactions: 2<br>Similarity: 1.000<extra></extra>",
         "line": {
          "color": "rgba(33, 102, 172, 0.7)",
          "width": 1
         },
         "mode": "lines",
         "showlegend": false,
         "type": "scatter",
         "x": [
          -0.8998730555186966,
          -0.8998730555186966,
          null
         ],
         "y": [
          -0.41342708840603015,
          -0.41342708840603015,
          null
         ]
        },
        {
         "hovertemplate": "<b>Jennifer Thomas → Heather Ward</b><br>Interactions: 1<br>Similarity: -0.139<extra></extra>",
         "line": {
          "color": "rgba(244, 165, 130, 0.7)",
          "width": 1
         },
         "mode": "lines",
         "showlegend": false,
         "type": "scatter",
         "x": [
          -0.8998730555186966,
          0.6859450045720663,
          null
         ],
         "y": [
          -0.41342708840603015,
          0.6869475070736885,
          null
         ]
        },
        {
         "hovertemplate": "<b>Jennifer Thomas → Jacqueline Clark</b><br>Interactions: 4<br>Similarity: 0.213<extra></extra>",
         "line": {
          "color": "rgba(209, 229, 240, 0.7)",
          "width": 1.3333333333333333
         },
         "mode": "lines",
         "showlegend": false,
         "type": "scatter",
         "x": [
          -0.8998730555186966,
          0.5826003125569416,
          null
         ],
         "y": [
          -0.41342708840603015,
          -0.8331632910226803,
          null
         ]
        },
        {
         "hovertemplate": "<b>Jennifer Thomas → Eric Austin</b><br>Interactions: 5<br>Similarity: -0.256<extra></extra>",
         "line": {
          "color": "rgba(214, 96, 77, 0.7)",
          "width": 1.6666666666666667
         },
         "mode": "lines",
         "showlegend": false,
         "type": "scatter",
         "x": [
          -0.8998730555186966,
          0.0679339182236547,
          null
         ],
         "y": [
          -0.41342708840603015,
          0.9961658653082643,
          null
         ]
        },
        {
         "hovertemplate": "<b>Jennifer Thomas → William Obrien</b><br>Interactions: 1<br>Similarity: -0.290<extra></extra>",
         "line": {
          "color": "rgba(214, 96, 77, 0.7)",
          "width": 1
         },
         "mode": "lines",
         "showlegend": false,
         "type": "scatter",
         "x": [
          -0.8998730555186966,
          0.8501807977005968,
          null
         ],
         "y": [
          -0.41342708840603015,
          -0.5807629751799296,
          null
         ]
        },
        {
         "hovertemplate": "<b>Julie Francis → Matthew Odom</b><br>Interactions: 15<br>Similarity: -0.250<extra></extra>",
         "line": {
          "color": "rgba(214, 96, 77, 0.7)",
          "width": 5
         },
         "mode": "lines",
         "showlegend": false,
         "type": "scatter",
         "x": [
          -0.5361147761514105,
          0.9317906794991804,
          null
         ],
         "y": [
          0.7536928474138247,
          -0.24878282567207277,
          null
         ]
        },
        {
         "hovertemplate": "<b>Julie Francis → Cole Hunter</b><br>Interactions: 13<br>Similarity: -0.194<extra></extra>",
         "line": {
          "color": "rgba(244, 165, 130, 0.7)",
          "width": 4.333333333333333
         },
         "mode": "lines",
         "showlegend": false,
         "type": "scatter",
         "x": [
          -0.5361147761514105,
          -0.6854988190417277,
          null
         ],
         "y": [
          0.7536928474138247,
          -0.6797312320517651,
          null
         ]
        },
        {
         "hovertemplate": "<b>Julie Francis → William Murphy</b><br>Interactions: 24<br>Similarity: -0.088<extra></extra>",
         "line": {
          "color": "rgba(244, 165, 130, 0.7)",
          "width": 8
         },
         "mode": "lines",
         "showlegend": false,
         "type": "scatter",
         "x": [
          -0.5361147761514105,
          0.3989395953966282,
          null
         ],
         "y": [
          0.7536928474138247,
          0.8806421641799811,
          null
         ]
        },
        {
         "hovertemplate": "<b>Julie Francis → Heather Ward</b><br>Interactions: 7<br>Similarity: 0.037<extra></extra>",
         "line": {
          "color": "rgba(253, 219, 199, 0.7)",
          "width": 2.3333333333333335
         },
         "mode": "lines",
         "showlegend": false,
         "type": "scatter",
         "x": [
          -0.5361147761514105,
          0.6859450045720663,
          null
         ],
         "y": [
          0.7536928474138247,
          0.6869475070736885,
          null
         ]
        },
        {
         "hovertemplate": "<b>Julie Francis → George Brown</b><br>Interactions: 20<br>Similarity: -0.324<extra></extra>",
         "line": {
          "color": "rgba(214, 96, 77, 0.7)",
          "width": 6.666666666666667
         },
         "mode": "lines",
         "showlegend": false,
         "type": "scatter",
         "x": [
          -0.5361147761514105,
          -0.29233083356523126,
          null
         ],
         "y": [
          0.7536928474138247,
          0.9677886068772861,
          null
         ]
        },
        {
         "hovertemplate": "<b>Julie Francis → Mary Figueroa</b><br>Interactions: 17<br>Similarity: 0.275<extra></extra>",
         "line": {
          "color": "rgba(209, 229, 240, 0.7)",
          "width": 5.666666666666667
         },
         "mode": "lines",
         "showlegend": false,
         "type": "scatter",
         "x": [
          -0.5361147761514105,
          -0.9638361606138051,
          null
         ],
         "y": [
          0.7536928474138247,
          -0.07324778549173401,
          null
         ]
        },
        {
         "hovertemplate": "<b>Julie Francis → Justin Love</b><br>Interactions: 15<br>Similarity: 0.300<extra></extra>",
         "line": {
          "color": "rgba(209, 229, 240, 0.7)",
          "width": 5
         },
         "mode": "lines",
         "showlegend": false,
         "type": "scatter",
         "x": [
          -0.5361147761514105,
          0.941297126675412,
          null
         ],
         "y": [
          0.7536928474138247,
          0.4488265431389019,
          null
         ]
        },
        {
         "hovertemplate": "<b>Julie Francis → Jennifer Thomas</b><br>Interactions: 21<br>Similarity: 0.485<extra></extra>",
         "line": {
          "color": "rgba(146, 197, 222, 0.7)",
          "width": 7
         },
         "mode": "lines",
         "showlegend": false,
         "type": "scatter",
         "x": [
          -0.5361147761514105,
          -0.8998730555186966,
          null
         ],
         "y": [
          0.7536928474138247,
          -0.41342708840603015,
          null
         ]
        },
        {
         "hovertemplate": "<b>Julie Francis → Lynn Spencer</b><br>Interactions: 17<br>Similarity: 0.075<extra></extra>",
         "line": {
          "color": "rgba(253, 219, 199, 0.7)",
          "width": 5.666666666666667
         },
         "mode": "lines",
         "showlegend": false,
         "type": "scatter",
         "x": [
          -0.5361147761514105,
          0.9849319565143412,
          null
         ],
         "y": [
          0.7536928474138247,
          0.09213560621422415,
          null
         ]
        },
        {
         "hovertemplate": "<b>Julie Francis → Rebecca Hall</b><br>Interactions: 24<br>Similarity: 0.619<extra></extra>",
         "line": {
          "color": "rgba(67, 147, 195, 0.7)",
          "width": 8
         },
         "mode": "lines",
         "showlegend": false,
         "type": "scatter",
         "x": [
          -0.5361147761514105,
          -0.09244796540966069,
          null
         ],
         "y": [
          0.7536928474138247,
          -0.9736932525652702,
          null
         ]
        },
        {
         "hovertemplate": "<b>Julie Francis → Jacqueline Clark</b><br>Interactions: 6<br>Similarity: 0.177<extra></extra>",
         "line": {
          "color": "rgba(253, 219, 199, 0.7)",
          "width": 2
         },
         "mode": "lines",
         "showlegend": false,
         "type": "scatter",
         "x": [
          -0.5361147761514105,
          0.5826003125569416,
          null
         ],
         "y": [
          0.7536928474138247,
          -0.8331632910226803,
          null
         ]
        },
        {
         "hovertemplate": "<b>Julie Francis → Eric Austin</b><br>Interactions: 13<br>Similarity: -0.155<extra></extra>",
         "line": {
          "color": "rgba(244, 165, 130, 0.7)",
          "width": 4.333333333333333
         },
         "mode": "lines",
         "showlegend": false,
         "type": "scatter",
         "x": [
          -0.5361147761514105,
          0.0679339182236547,
          null
         ],
         "y": [
          0.7536928474138247,
          0.9961658653082643,
          null
         ]
        },
        {
         "hovertemplate": "<b>Julie Francis → Julie Francis</b><br>Interactions: 5<br>Similarity: 1.000<extra></extra>",
         "line": {
          "color": "rgba(33, 102, 172, 0.7)",
          "width": 1.6666666666666667
         },
         "mode": "lines",
         "showlegend": false,
         "type": "scatter",
         "x": [
          -0.5361147761514105,
          -0.5361147761514105,
          null
         ],
         "y": [
          0.7536928474138247,
          0.7536928474138247,
          null
         ]
        },
        {
         "hovertemplate": "<b>Julie Francis → Patrick Williams</b><br>Interactions: 20<br>Similarity: -0.419<extra></extra>",
         "line": {
          "color": "rgba(178, 24, 43, 0.7)",
          "width": 6.666666666666667
         },
         "mode": "lines",
         "showlegend": false,
         "type": "scatter",
         "x": [
          -0.5361147761514105,
          0.2561361615289968,
          null
         ],
         "y": [
          0.7536928474138247,
          -1,
          null
         ]
        },
        {
         "hovertemplate": "<b>Julie Francis → Daniel Gordon</b><br>Interactions: 4<br>Similarity: 0.320<extra></extra>",
         "line": {
          "color": "rgba(209, 229, 240, 0.7)",
          "width": 1.3333333333333333
         },
         "mode": "lines",
         "showlegend": false,
         "type": "scatter",
         "x": [
          -0.5361147761514105,
          -0.9632478875329431,
          null
         ],
         "y": [
          0.7536928474138247,
          0.2760289180058474,
          null
         ]
        },
        {
         "hovertemplate": "<b>Julie Francis → Jason Day</b><br>Interactions: 10<br>Similarity: 0.330<extra></extra>",
         "line": {
          "color": "rgba(209, 229, 240, 0.7)",
          "width": 3.3333333333333335
         },
         "mode": "lines",
         "showlegend": false,
         "type": "scatter",
         "x": [
          -0.5361147761514105,
          -0.8248788973556259,
          null
         ],
         "y": [
          0.7536928474138247,
          0.6182324532165933,
          null
         ]
        },
        {
         "hovertemplate": "<b>Julie Francis → Andrew Vang</b><br>Interactions: 2<br>Similarity: -0.341<extra></extra>",
         "line": {
          "color": "rgba(214, 96, 77, 0.7)",
          "width": 1
         },
         "mode": "lines",
         "showlegend": false,
         "type": "scatter",
         "x": [
          -0.5361147761514105,
          -0.44152715747871657,
          null
         ],
         "y": [
          0.7536928474138247,
          -0.9176520610391299,
          null
         ]
        },
        {
         "hovertemplate": "<b>Julie Francis → William Obrien</b><br>Interactions: 24<br>Similarity: -0.177<extra></extra>",
         "line": {
          "color": "rgba(244, 165, 130, 0.7)",
          "width": 8
         },
         "mode": "lines",
         "showlegend": false,
         "type": "scatter",
         "x": [
          -0.5361147761514105,
          0.8501807977005968,
          null
         ],
         "y": [
          0.7536928474138247,
          -0.5807629751799296,
          null
         ]
        },
        {
         "hovertemplate": "<b>Rebecca Hall → George Brown</b><br>Interactions: 41<br>Similarity: -0.295<extra></extra>",
         "line": {
          "color": "rgba(214, 96, 77, 0.7)",
          "width": 10
         },
         "mode": "lines",
         "showlegend": false,
         "type": "scatter",
         "x": [
          -0.09244796540966069,
          -0.29233083356523126,
          null
         ],
         "y": [
          -0.9736932525652702,
          0.9677886068772861,
          null
         ]
        },
        {
         "hovertemplate": "<b>Rebecca Hall → Justin Love</b><br>Interactions: 49<br>Similarity: 0.351<extra></extra>",
         "line": {
          "color": "rgba(209, 229, 240, 0.7)",
          "width": 10
         },
         "mode": "lines",
         "showlegend": false,
         "type": "scatter",
         "x": [
          -0.09244796540966069,
          0.941297126675412,
          null
         ],
         "y": [
          -0.9736932525652702,
          0.4488265431389019,
          null
         ]
        },
        {
         "hovertemplate": "<b>Rebecca Hall → Heather Ward</b><br>Interactions: 3<br>Similarity: 0.188<extra></extra>",
         "line": {
          "color": "rgba(253, 219, 199, 0.7)",
          "width": 1
         },
         "mode": "lines",
         "showlegend": false,
         "type": "scatter",
         "x": [
          -0.09244796540966069,
          0.6859450045720663,
          null
         ],
         "y": [
          -0.9736932525652702,
          0.6869475070736885,
          null
         ]
        },
        {
         "hovertemplate": "<b>Rebecca Hall → Cole Hunter</b><br>Interactions: 11<br>Similarity: 0.043<extra></extra>",
         "line": {
          "color": "rgba(253, 219, 199, 0.7)",
          "width": 3.6666666666666665
         },
         "mode": "lines",
         "showlegend": false,
         "type": "scatter",
         "x": [
          -0.09244796540966069,
          -0.6854988190417277,
          null
         ],
         "y": [
          -0.9736932525652702,
          -0.6797312320517651,
          null
         ]
        },
        {
         "hovertemplate": "<b>Rebecca Hall → Andrew Vang</b><br>Interactions: 2<br>Similarity: 0.211<extra></extra>",
         "line": {
          "color": "rgba(209, 229, 240, 0.7)",
          "width": 1
         },
         "mode": "lines",
         "showlegend": false,
         "type": "scatter",
         "x": [
          -0.09244796540966069,
          -0.44152715747871657,
          null
         ],
         "y": [
          -0.9736932525652702,
          -0.9176520610391299,
          null
         ]
        },
        {
         "hovertemplate": "<b>Rebecca Hall → William Murphy</b><br>Interactions: 40<br>Similarity: 0.274<extra></extra>",
         "line": {
          "color": "rgba(209, 229, 240, 0.7)",
          "width": 10
         },
         "mode": "lines",
         "showlegend": false,
         "type": "scatter",
         "x": [
          -0.09244796540966069,
          0.3989395953966282,
          null
         ],
         "y": [
          -0.9736932525652702,
          0.8806421641799811,
          null
         ]
        },
        {
         "hovertemplate": "<b>Rebecca Hall → Matthew Odom</b><br>Interactions: 10<br>Similarity: -0.014<extra></extra>",
         "line": {
          "color": "rgba(244, 165, 130, 0.7)",
          "width": 3.3333333333333335
         },
         "mode": "lines",
         "showlegend": false,
         "type": "scatter",
         "x": [
          -0.09244796540966069,
          0.9317906794991804,
          null
         ],
         "y": [
          -0.9736932525652702,
          -0.24878282567207277,
          null
         ]
        },
        {
         "hovertemplate": "<b>Rebecca Hall → Eric Austin</b><br>Interactions: 29<br>Similarity: -0.211<extra></extra>",
         "line": {
          "color": "rgba(244, 165, 130, 0.7)",
          "width": 9.666666666666666
         },
         "mode": "lines",
         "showlegend": false,
         "type": "scatter",
         "x": [
          -0.09244796540966069,
          0.0679339182236547,
          null
         ],
         "y": [
          -0.9736932525652702,
          0.9961658653082643,
          null
         ]
        },
        {
         "hovertemplate": "<b>Rebecca Hall → Mary Figueroa</b><br>Interactions: 32<br>Similarity: 0.295<extra></extra>",
         "line": {
          "color": "rgba(209, 229, 240, 0.7)",
          "width": 10
         },
         "mode": "lines",
         "showlegend": false,
         "type": "scatter",
         "x": [
          -0.09244796540966069,
          -0.9638361606138051,
          null
         ],
         "y": [
          -0.9736932525652702,
          -0.07324778549173401,
          null
         ]
        },
        {
         "hovertemplate": "<b>Rebecca Hall → Jennifer Thomas</b><br>Interactions: 34<br>Similarity: 0.677<extra></extra>",
         "line": {
          "color": "rgba(67, 147, 195, 0.7)",
          "width": 10
         },
         "mode": "lines",
         "showlegend": false,
         "type": "scatter",
         "x": [
          -0.09244796540966069,
          -0.8998730555186966,
          null
         ],
         "y": [
          -0.9736932525652702,
          -0.41342708840603015,
          null
         ]
        },
        {
         "hovertemplate": "<b>Rebecca Hall → Lynn Spencer</b><br>Interactions: 38<br>Similarity: 0.291<extra></extra>",
         "line": {
          "color": "rgba(209, 229, 240, 0.7)",
          "width": 10
         },
         "mode": "lines",
         "showlegend": false,
         "type": "scatter",
         "x": [
          -0.09244796540966069,
          0.9849319565143412,
          null
         ],
         "y": [
          -0.9736932525652702,
          0.09213560621422415,
          null
         ]
        },
        {
         "hovertemplate": "<b>Rebecca Hall → Patrick Williams</b><br>Interactions: 8<br>Similarity: 0.032<extra></extra>",
         "line": {
          "color": "rgba(253, 219, 199, 0.7)",
          "width": 2.6666666666666665
         },
         "mode": "lines",
         "showlegend": false,
         "type": "scatter",
         "x": [
          -0.09244796540966069,
          0.2561361615289968,
          null
         ],
         "y": [
          -0.9736932525652702,
          -1,
          null
         ]
        },
        {
         "hovertemplate": "<b>Rebecca Hall → Julie Francis</b><br>Interactions: 30<br>Similarity: 0.619<extra></extra>",
         "line": {
          "color": "rgba(67, 147, 195, 0.7)",
          "width": 10
         },
         "mode": "lines",
         "showlegend": false,
         "type": "scatter",
         "x": [
          -0.09244796540966069,
          -0.5361147761514105,
          null
         ],
         "y": [
          -0.9736932525652702,
          0.7536928474138247,
          null
         ]
        },
        {
         "hovertemplate": "<b>Rebecca Hall → Jason Day</b><br>Interactions: 8<br>Similarity: 0.121<extra></extra>",
         "line": {
          "color": "rgba(253, 219, 199, 0.7)",
          "width": 2.6666666666666665
         },
         "mode": "lines",
         "showlegend": false,
         "type": "scatter",
         "x": [
          -0.09244796540966069,
          -0.8248788973556259,
          null
         ],
         "y": [
          -0.9736932525652702,
          0.6182324532165933,
          null
         ]
        },
        {
         "hovertemplate": "<b>Rebecca Hall → William Obrien</b><br>Interactions: 8<br>Similarity: -0.322<extra></extra>",
         "line": {
          "color": "rgba(214, 96, 77, 0.7)",
          "width": 2.6666666666666665
         },
         "mode": "lines",
         "showlegend": false,
         "type": "scatter",
         "x": [
          -0.09244796540966069,
          0.8501807977005968,
          null
         ],
         "y": [
          -0.9736932525652702,
          -0.5807629751799296,
          null
         ]
        },
        {
         "hovertemplate": "<b>Rebecca Hall → Rebecca Hall</b><br>Interactions: 4<br>Similarity: 1.000<extra></extra>",
         "line": {
          "color": "rgba(5, 48, 97, 0.7)",
          "width": 1.3333333333333333
         },
         "mode": "lines",
         "showlegend": false,
         "type": "scatter",
         "x": [
          -0.09244796540966069,
          -0.09244796540966069,
          null
         ],
         "y": [
          -0.9736932525652702,
          -0.9736932525652702,
          null
         ]
        },
        {
         "hovertemplate": "<b>Rebecca Hall → Jacqueline Clark</b><br>Interactions: 5<br>Similarity: 0.420<extra></extra>",
         "line": {
          "color": "rgba(146, 197, 222, 0.7)",
          "width": 1.6666666666666667
         },
         "mode": "lines",
         "showlegend": false,
         "type": "scatter",
         "x": [
          -0.09244796540966069,
          0.5826003125569416,
          null
         ],
         "y": [
          -0.9736932525652702,
          -0.8331632910226803,
          null
         ]
        },
        {
         "hovertemplate": "<b>Rebecca Hall → Daniel Gordon</b><br>Interactions: 3<br>Similarity: 0.256<extra></extra>",
         "line": {
          "color": "rgba(209, 229, 240, 0.7)",
          "width": 1
         },
         "mode": "lines",
         "showlegend": false,
         "type": "scatter",
         "x": [
          -0.09244796540966069,
          -0.9632478875329431,
          null
         ],
         "y": [
          -0.9736932525652702,
          0.2760289180058474,
          null
         ]
        },
        {
         "hovertemplate": "<b>Jacqueline Clark → Justin Love</b><br>Interactions: 57<br>Similarity: 0.265<extra></extra>",
         "line": {
          "color": "rgba(209, 229, 240, 0.7)",
          "width": 10
         },
         "mode": "lines",
         "showlegend": false,
         "type": "scatter",
         "x": [
          0.5826003125569416,
          0.941297126675412,
          null
         ],
         "y": [
          -0.8331632910226803,
          0.4488265431389019,
          null
         ]
        },
        {
         "hovertemplate": "<b>Jacqueline Clark → William Murphy</b><br>Interactions: 23<br>Similarity: -0.083<extra></extra>",
         "line": {
          "color": "rgba(244, 165, 130, 0.7)",
          "width": 7.666666666666667
         },
         "mode": "lines",
         "showlegend": false,
         "type": "scatter",
         "x": [
          0.5826003125569416,
          0.3989395953966282,
          null
         ],
         "y": [
          -0.8331632910226803,
          0.8806421641799811,
          null
         ]
        },
        {
         "hovertemplate": "<b>Jacqueline Clark → Eric Austin</b><br>Interactions: 39<br>Similarity: 0.145<extra></extra>",
         "line": {
          "color": "rgba(253, 219, 199, 0.7)",
          "width": 10
         },
         "mode": "lines",
         "showlegend": false,
         "type": "scatter",
         "x": [
          0.5826003125569416,
          0.0679339182236547,
          null
         ],
         "y": [
          -0.8331632910226803,
          0.9961658653082643,
          null
         ]
        },
        {
         "hovertemplate": "<b>Jacqueline Clark → Cole Hunter</b><br>Interactions: 1<br>Similarity: -0.364<extra></extra>",
         "line": {
          "color": "rgba(214, 96, 77, 0.7)",
          "width": 1
         },
         "mode": "lines",
         "showlegend": false,
         "type": "scatter",
         "x": [
          0.5826003125569416,
          -0.6854988190417277,
          null
         ],
         "y": [
          -0.8331632910226803,
          -0.6797312320517651,
          null
         ]
        },
        {
         "hovertemplate": "<b>Jacqueline Clark → Andrew Vang</b><br>Interactions: 3<br>Similarity: 0.115<extra></extra>",
         "line": {
          "color": "rgba(253, 219, 199, 0.7)",
          "width": 1
         },
         "mode": "lines",
         "showlegend": false,
         "type": "scatter",
         "x": [
          0.5826003125569416,
          -0.44152715747871657,
          null
         ],
         "y": [
          -0.8331632910226803,
          -0.9176520610391299,
          null
         ]
        },
        {
         "hovertemplate": "<b>Jacqueline Clark → Daniel Gordon</b><br>Interactions: 3<br>Similarity: 0.088<extra></extra>",
         "line": {
          "color": "rgba(253, 219, 199, 0.7)",
          "width": 1
         },
         "mode": "lines",
         "showlegend": false,
         "type": "scatter",
         "x": [
          0.5826003125569416,
          -0.9632478875329431,
          null
         ],
         "y": [
          -0.8331632910226803,
          0.2760289180058474,
          null
         ]
        },
        {
         "hovertemplate": "<b>Jacqueline Clark → Patrick Williams</b><br>Interactions: 7<br>Similarity: 0.098<extra></extra>",
         "line": {
          "color": "rgba(253, 219, 199, 0.7)",
          "width": 2.3333333333333335
         },
         "mode": "lines",
         "showlegend": false,
         "type": "scatter",
         "x": [
          0.5826003125569416,
          0.2561361615289968,
          null
         ],
         "y": [
          -0.8331632910226803,
          -1,
          null
         ]
        },
        {
         "hovertemplate": "<b>Jacqueline Clark → Matthew Odom</b><br>Interactions: 32<br>Similarity: 0.211<extra></extra>",
         "line": {
          "color": "rgba(209, 229, 240, 0.7)",
          "width": 10
         },
         "mode": "lines",
         "showlegend": false,
         "type": "scatter",
         "x": [
          0.5826003125569416,
          0.9317906794991804,
          null
         ],
         "y": [
          -0.8331632910226803,
          -0.24878282567207277,
          null
         ]
        },
        {
         "hovertemplate": "<b>Jacqueline Clark → Rebecca Hall</b><br>Interactions: 39<br>Similarity: 0.420<extra></extra>",
         "line": {
          "color": "rgba(146, 197, 222, 0.7)",
          "width": 10
         },
         "mode": "lines",
         "showlegend": false,
         "type": "scatter",
         "x": [
          0.5826003125569416,
          -0.09244796540966069,
          null
         ],
         "y": [
          -0.8331632910226803,
          -0.9736932525652702,
          null
         ]
        },
        {
         "hovertemplate": "<b>Jacqueline Clark → Lynn Spencer</b><br>Interactions: 7<br>Similarity: -0.102<extra></extra>",
         "line": {
          "color": "rgba(244, 165, 130, 0.7)",
          "width": 2.3333333333333335
         },
         "mode": "lines",
         "showlegend": false,
         "type": "scatter",
         "x": [
          0.5826003125569416,
          0.9849319565143412,
          null
         ],
         "y": [
          -0.8331632910226803,
          0.09213560621422415,
          null
         ]
        },
        {
         "hovertemplate": "<b>Jacqueline Clark → Heather Ward</b><br>Interactions: 1<br>Similarity: 0.166<extra></extra>",
         "line": {
          "color": "rgba(253, 219, 199, 0.7)",
          "width": 1
         },
         "mode": "lines",
         "showlegend": false,
         "type": "scatter",
         "x": [
          0.5826003125569416,
          0.6859450045720663,
          null
         ],
         "y": [
          -0.8331632910226803,
          0.6869475070736885,
          null
         ]
        },
        {
         "hovertemplate": "<b>Jacqueline Clark → William Obrien</b><br>Interactions: 10<br>Similarity: -0.678<extra></extra>",
         "line": {
          "color": "rgba(103, 0, 31, 0.7)",
          "width": 3.3333333333333335
         },
         "mode": "lines",
         "showlegend": false,
         "type": "scatter",
         "x": [
          0.5826003125569416,
          0.8501807977005968,
          null
         ],
         "y": [
          -0.8331632910226803,
          -0.5807629751799296,
          null
         ]
        },
        {
         "hovertemplate": "<b>Jacqueline Clark → George Brown</b><br>Interactions: 1<br>Similarity: -0.074<extra></extra>",
         "line": {
          "color": "rgba(244, 165, 130, 0.7)",
          "width": 1
         },
         "mode": "lines",
         "showlegend": false,
         "type": "scatter",
         "x": [
          0.5826003125569416,
          -0.29233083356523126,
          null
         ],
         "y": [
          -0.8331632910226803,
          0.9677886068772861,
          null
         ]
        },
        {
         "hovertemplate": "<b>Jacqueline Clark → Mary Figueroa</b><br>Interactions: 8<br>Similarity: 0.133<extra></extra>",
         "line": {
          "color": "rgba(253, 219, 199, 0.7)",
          "width": 2.6666666666666665
         },
         "mode": "lines",
         "showlegend": false,
         "type": "scatter",
         "x": [
          0.5826003125569416,
          -0.9638361606138051,
          null
         ],
         "y": [
          -0.8331632910226803,
          -0.07324778549173401,
          null
         ]
        },
        {
         "hovertemplate": "<b>Jacqueline Clark → Jennifer Thomas</b><br>Interactions: 6<br>Similarity: 0.213<extra></extra>",
         "line": {
          "color": "rgba(209, 229, 240, 0.7)",
          "width": 2
         },
         "mode": "lines",
         "showlegend": false,
         "type": "scatter",
         "x": [
          0.5826003125569416,
          -0.8998730555186966,
          null
         ],
         "y": [
          -0.8331632910226803,
          -0.41342708840603015,
          null
         ]
        },
        {
         "hovertemplate": "<b>Jacqueline Clark → Julie Francis</b><br>Interactions: 17<br>Similarity: 0.177<extra></extra>",
         "line": {
          "color": "rgba(253, 219, 199, 0.7)",
          "width": 5.666666666666667
         },
         "mode": "lines",
         "showlegend": false,
         "type": "scatter",
         "x": [
          0.5826003125569416,
          -0.5361147761514105,
          null
         ],
         "y": [
          -0.8331632910226803,
          0.7536928474138247,
          null
         ]
        },
        {
         "hovertemplate": "<b>Cole Hunter → Justin Love</b><br>Interactions: 23<br>Similarity: 0.211<extra></extra>",
         "line": {
          "color": "rgba(209, 229, 240, 0.7)",
          "width": 7.666666666666667
         },
         "mode": "lines",
         "showlegend": false,
         "type": "scatter",
         "x": [
          -0.6854988190417277,
          0.941297126675412,
          null
         ],
         "y": [
          -0.6797312320517651,
          0.4488265431389019,
          null
         ]
        },
        {
         "hovertemplate": "<b>Cole Hunter → Mary Figueroa</b><br>Interactions: 28<br>Similarity: 0.100<extra></extra>",
         "line": {
          "color": "rgba(253, 219, 199, 0.7)",
          "width": 9.333333333333334
         },
         "mode": "lines",
         "showlegend": false,
         "type": "scatter",
         "x": [
          -0.6854988190417277,
          -0.9638361606138051,
          null
         ],
         "y": [
          -0.6797312320517651,
          -0.07324778549173401,
          null
         ]
        },
        {
         "hovertemplate": "<b>Cole Hunter → George Brown</b><br>Interactions: 24<br>Similarity: -0.313<extra></extra>",
         "line": {
          "color": "rgba(214, 96, 77, 0.7)",
          "width": 8
         },
         "mode": "lines",
         "showlegend": false,
         "type": "scatter",
         "x": [
          -0.6854988190417277,
          -0.29233083356523126,
          null
         ],
         "y": [
          -0.6797312320517651,
          0.9677886068772861,
          null
         ]
        },
        {
         "hovertemplate": "<b>Cole Hunter → Lynn Spencer</b><br>Interactions: 29<br>Similarity: -0.059<extra></extra>",
         "line": {
          "color": "rgba(244, 165, 130, 0.7)",
          "width": 9.666666666666666
         },
         "mode": "lines",
         "showlegend": false,
         "type": "scatter",
         "x": [
          -0.6854988190417277,
          0.9849319565143412,
          null
         ],
         "y": [
          -0.6797312320517651,
          0.09213560621422415,
          null
         ]
        },
        {
         "hovertemplate": "<b>Cole Hunter → Julie Francis</b><br>Interactions: 2<br>Similarity: -0.194<extra></extra>",
         "line": {
          "color": "rgba(244, 165, 130, 0.7)",
          "width": 1
         },
         "mode": "lines",
         "showlegend": false,
         "type": "scatter",
         "x": [
          -0.6854988190417277,
          -0.5361147761514105,
          null
         ],
         "y": [
          -0.6797312320517651,
          0.7536928474138247,
          null
         ]
        },
        {
         "hovertemplate": "<b>Cole Hunter → William Murphy</b><br>Interactions: 36<br>Similarity: -0.290<extra></extra>",
         "line": {
          "color": "rgba(214, 96, 77, 0.7)",
          "width": 10
         },
         "mode": "lines",
         "showlegend": false,
         "type": "scatter",
         "x": [
          -0.6854988190417277,
          0.3989395953966282,
          null
         ],
         "y": [
          -0.6797312320517651,
          0.8806421641799811,
          null
         ]
        },
        {
         "hovertemplate": "<b>Cole Hunter → Matthew Odom</b><br>Interactions: 17<br>Similarity: -0.639<extra></extra>",
         "line": {
          "color": "rgba(103, 0, 31, 0.7)",
          "width": 5.666666666666667
         },
         "mode": "lines",
         "showlegend": false,
         "type": "scatter",
         "x": [
          -0.6854988190417277,
          0.9317906794991804,
          null
         ],
         "y": [
          -0.6797312320517651,
          -0.24878282567207277,
          null
         ]
        },
        {
         "hovertemplate": "<b>Cole Hunter → Jennifer Thomas</b><br>Interactions: 21<br>Similarity: 0.109<extra></extra>",
         "line": {
          "color": "rgba(253, 219, 199, 0.7)",
          "width": 7
         },
         "mode": "lines",
         "showlegend": false,
         "type": "scatter",
         "x": [
          -0.6854988190417277,
          -0.8998730555186966,
          null
         ],
         "y": [
          -0.6797312320517651,
          -0.41342708840603015,
          null
         ]
        },
        {
         "hovertemplate": "<b>Cole Hunter → Rebecca Hall</b><br>Interactions: 25<br>Similarity: 0.043<extra></extra>",
         "line": {
          "color": "rgba(253, 219, 199, 0.7)",
          "width": 8.333333333333334
         },
         "mode": "lines",
         "showlegend": false,
         "type": "scatter",
         "x": [
          -0.6854988190417277,
          -0.09244796540966069,
          null
         ],
         "y": [
          -0.6797312320517651,
          -0.9736932525652702,
          null
         ]
        },
        {
         "hovertemplate": "<b>Cole Hunter → William Obrien</b><br>Interactions: 10<br>Similarity: 0.096<extra></extra>",
         "line": {
          "color": "rgba(253, 219, 199, 0.7)",
          "width": 3.3333333333333335
         },
         "mode": "lines",
         "showlegend": false,
         "type": "scatter",
         "x": [
          -0.6854988190417277,
          0.8501807977005968,
          null
         ],
         "y": [
          -0.6797312320517651,
          -0.5807629751799296,
          null
         ]
        },
        {
         "hovertemplate": "<b>Cole Hunter → Eric Austin</b><br>Interactions: 7<br>Similarity: -0.211<extra></extra>",
         "line": {
          "color": "rgba(244, 165, 130, 0.7)",
          "width": 2.3333333333333335
         },
         "mode": "lines",
         "showlegend": false,
         "type": "scatter",
         "x": [
          -0.6854988190417277,
          0.0679339182236547,
          null
         ],
         "y": [
          -0.6797312320517651,
          0.9961658653082643,
          null
         ]
        },
        {
         "hovertemplate": "<b>Cole Hunter → Jacqueline Clark</b><br>Interactions: 1<br>Similarity: -0.364<extra></extra>",
         "line": {
          "color": "rgba(214, 96, 77, 0.7)",
          "width": 1
         },
         "mode": "lines",
         "showlegend": false,
         "type": "scatter",
         "x": [
          -0.6854988190417277,
          0.5826003125569416,
          null
         ],
         "y": [
          -0.6797312320517651,
          -0.8331632910226803,
          null
         ]
        },
        {
         "hovertemplate": "<b>Cole Hunter → Andrew Vang</b><br>Interactions: 2<br>Similarity: 0.432<extra></extra>",
         "line": {
          "color": "rgba(146, 197, 222, 0.7)",
          "width": 1
         },
         "mode": "lines",
         "showlegend": false,
         "type": "scatter",
         "x": [
          -0.6854988190417277,
          -0.44152715747871657,
          null
         ],
         "y": [
          -0.6797312320517651,
          -0.9176520610391299,
          null
         ]
        },
        {
         "hovertemplate": "<b>Cole Hunter → Daniel Gordon</b><br>Interactions: 3<br>Similarity: 0.225<extra></extra>",
         "line": {
          "color": "rgba(209, 229, 240, 0.7)",
          "width": 1
         },
         "mode": "lines",
         "showlegend": false,
         "type": "scatter",
         "x": [
          -0.6854988190417277,
          -0.9632478875329431,
          null
         ],
         "y": [
          -0.6797312320517651,
          0.2760289180058474,
          null
         ]
        },
        {
         "hovertemplate": "<b>Cole Hunter → Jason Day</b><br>Interactions: 8<br>Similarity: 0.373<extra></extra>",
         "line": {
          "color": "rgba(209, 229, 240, 0.7)",
          "width": 2.6666666666666665
         },
         "mode": "lines",
         "showlegend": false,
         "type": "scatter",
         "x": [
          -0.6854988190417277,
          -0.8248788973556259,
          null
         ],
         "y": [
          -0.6797312320517651,
          0.6182324532165933,
          null
         ]
        },
        {
         "hovertemplate": "<b>Cole Hunter → Heather Ward</b><br>Interactions: 2<br>Similarity: -0.390<extra></extra>",
         "line": {
          "color": "rgba(214, 96, 77, 0.7)",
          "width": 1
         },
         "mode": "lines",
         "showlegend": false,
         "type": "scatter",
         "x": [
          -0.6854988190417277,
          0.6859450045720663,
          null
         ],
         "y": [
          -0.6797312320517651,
          0.6869475070736885,
          null
         ]
        },
        {
         "hovertemplate": "<b>Cole Hunter → Patrick Williams</b><br>Interactions: 1<br>Similarity: -0.048<extra></extra>",
         "line": {
          "color": "rgba(244, 165, 130, 0.7)",
          "width": 1
         },
         "mode": "lines",
         "showlegend": false,
         "type": "scatter",
         "x": [
          -0.6854988190417277,
          0.2561361615289968,
          null
         ],
         "y": [
          -0.6797312320517651,
          -1,
          null
         ]
        },
        {
         "hovertemplate": "<b>William Murphy → George Brown</b><br>Interactions: 59<br>Similarity: 0.268<extra></extra>",
         "line": {
          "color": "rgba(209, 229, 240, 0.7)",
          "width": 10
         },
         "mode": "lines",
         "showlegend": false,
         "type": "scatter",
         "x": [
          0.3989395953966282,
          -0.29233083356523126,
          null
         ],
         "y": [
          0.8806421641799811,
          0.9677886068772861,
          null
         ]
        },
        {
         "hovertemplate": "<b>William Murphy → Justin Love</b><br>Interactions: 51<br>Similarity: -0.191<extra></extra>",
         "line": {
          "color": "rgba(244, 165, 130, 0.7)",
          "width": 10
         },
         "mode": "lines",
         "showlegend": false,
         "type": "scatter",
         "x": [
          0.3989395953966282,
          0.941297126675412,
          null
         ],
         "y": [
          0.8806421641799811,
          0.4488265431389019,
          null
         ]
        },
        {
         "hovertemplate": "<b>William Murphy → William Murphy</b><br>Interactions: 2<br>Similarity: 1.000<extra></extra>",
         "line": {
          "color": "rgba(33, 102, 172, 0.7)",
          "width": 1
         },
         "mode": "lines",
         "showlegend": false,
         "type": "scatter",
         "x": [
          0.3989395953966282,
          0.3989395953966282,
          null
         ],
         "y": [
          0.8806421641799811,
          0.8806421641799811,
          null
         ]
        },
        {
         "hovertemplate": "<b>William Murphy → Julie Francis</b><br>Interactions: 5<br>Similarity: -0.088<extra></extra>",
         "line": {
          "color": "rgba(244, 165, 130, 0.7)",
          "width": 1.6666666666666667
         },
         "mode": "lines",
         "showlegend": false,
         "type": "scatter",
         "x": [
          0.3989395953966282,
          -0.5361147761514105,
          null
         ],
         "y": [
          0.8806421641799811,
          0.7536928474138247,
          null
         ]
        },
        {
         "hovertemplate": "<b>William Murphy → Eric Austin</b><br>Interactions: 6<br>Similarity: -0.039<extra></extra>",
         "line": {
          "color": "rgba(244, 165, 130, 0.7)",
          "width": 2
         },
         "mode": "lines",
         "showlegend": false,
         "type": "scatter",
         "x": [
          0.3989395953966282,
          0.0679339182236547,
          null
         ],
         "y": [
          0.8806421641799811,
          0.9961658653082643,
          null
         ]
        },
        {
         "hovertemplate": "<b>William Murphy → Cole Hunter</b><br>Interactions: 28<br>Similarity: -0.290<extra></extra>",
         "line": {
          "color": "rgba(214, 96, 77, 0.7)",
          "width": 9.333333333333334
         },
         "mode": "lines",
         "showlegend": false,
         "type": "scatter",
         "x": [
          0.3989395953966282,
          -0.6854988190417277,
          null
         ],
         "y": [
          0.8806421641799811,
          -0.6797312320517651,
          null
         ]
        },
        {
         "hovertemplate": "<b>William Murphy → Mary Figueroa</b><br>Interactions: 45<br>Similarity: 0.151<extra></extra>",
         "line": {
          "color": "rgba(253, 219, 199, 0.7)",
          "width": 10
         },
         "mode": "lines",
         "showlegend": false,
         "type": "scatter",
         "x": [
          0.3989395953966282,
          -0.9638361606138051,
          null
         ],
         "y": [
          0.8806421641799811,
          -0.07324778549173401,
          null
         ]
        },
        {
         "hovertemplate": "<b>William Murphy → Rebecca Hall</b><br>Interactions: 55<br>Similarity: 0.274<extra></extra>",
         "line": {
          "color": "rgba(209, 229, 240, 0.7)",
          "width": 10
         },
         "mode": "lines",
         "showlegend": false,
         "type": "scatter",
         "x": [
          0.3989395953966282,
          -0.09244796540966069,
          null
         ],
         "y": [
          0.8806421641799811,
          -0.9736932525652702,
          null
         ]
        },
        {
         "hovertemplate": "<b>William Murphy → Lynn Spencer</b><br>Interactions: 34<br>Similarity: 0.183<extra></extra>",
         "line": {
          "color": "rgba(253, 219, 199, 0.7)",
          "width": 10
         },
         "mode": "lines",
         "showlegend": false,
         "type": "scatter",
         "x": [
          0.3989395953966282,
          0.9849319565143412,
          null
         ],
         "y": [
          0.8806421641799811,
          0.09213560621422415,
          null
         ]
        },
        {
         "hovertemplate": "<b>William Murphy → Jacqueline Clark</b><br>Interactions: 3<br>Similarity: -0.083<extra></extra>",
         "line": {
          "color": "rgba(244, 165, 130, 0.7)",
          "width": 1
         },
         "mode": "lines",
         "showlegend": false,
         "type": "scatter",
         "x": [
          0.3989395953966282,
          0.5826003125569416,
          null
         ],
         "y": [
          0.8806421641799811,
          -0.8331632910226803,
          null
         ]
        },
        {
         "hovertemplate": "<b>William Murphy → Jennifer Thomas</b><br>Interactions: 36<br>Similarity: 0.042<extra></extra>",
         "line": {
          "color": "rgba(253, 219, 199, 0.7)",
          "width": 10
         },
         "mode": "lines",
         "showlegend": false,
         "type": "scatter",
         "x": [
          0.3989395953966282,
          -0.8998730555186966,
          null
         ],
         "y": [
          0.8806421641799811,
          -0.41342708840603015,
          null
         ]
        },
        {
         "hovertemplate": "<b>William Murphy → William Obrien</b><br>Interactions: 2<br>Similarity: 0.341<extra></extra>",
         "line": {
          "color": "rgba(209, 229, 240, 0.7)",
          "width": 1
         },
         "mode": "lines",
         "showlegend": false,
         "type": "scatter",
         "x": [
          0.3989395953966282,
          0.8501807977005968,
          null
         ],
         "y": [
          0.8806421641799811,
          -0.5807629751799296,
          null
         ]
        },
        {
         "hovertemplate": "<b>William Murphy → Heather Ward</b><br>Interactions: 4<br>Similarity: 0.317<extra></extra>",
         "line": {
          "color": "rgba(209, 229, 240, 0.7)",
          "width": 1.3333333333333333
         },
         "mode": "lines",
         "showlegend": false,
         "type": "scatter",
         "x": [
          0.3989395953966282,
          0.6859450045720663,
          null
         ],
         "y": [
          0.8806421641799811,
          0.6869475070736885,
          null
         ]
        },
        {
         "hovertemplate": "<b>Mary Figueroa → George Brown</b><br>Interactions: 28<br>Similarity: -0.388<extra></extra>",
         "line": {
          "color": "rgba(214, 96, 77, 0.7)",
          "width": 9.333333333333334
         },
         "mode": "lines",
         "showlegend": false,
         "type": "scatter",
         "x": [
          -0.9638361606138051,
          -0.29233083356523126,
          null
         ],
         "y": [
          -0.07324778549173401,
          0.9677886068772861,
          null
         ]
        },
        {
         "hovertemplate": "<b>Mary Figueroa → Justin Love</b><br>Interactions: 39<br>Similarity: -0.064<extra></extra>",
         "line": {
          "color": "rgba(244, 165, 130, 0.7)",
          "width": 10
         },
         "mode": "lines",
         "showlegend": false,
         "type": "scatter",
         "x": [
          -0.9638361606138051,
          0.941297126675412,
          null
         ],
         "y": [
          -0.07324778549173401,
          0.4488265431389019,
          null
         ]
        },
        {
         "hovertemplate": "<b>Mary Figueroa → William Obrien</b><br>Interactions: 3<br>Similarity: -0.232<extra></extra>",
         "line": {
          "color": "rgba(214, 96, 77, 0.7)",
          "width": 1
         },
         "mode": "lines",
         "showlegend": false,
         "type": "scatter",
         "x": [
          -0.9638361606138051,
          0.8501807977005968,
          null
         ],
         "y": [
          -0.07324778549173401,
          -0.5807629751799296,
          null
         ]
        },
        {
         "hovertemplate": "<b>Mary Figueroa → William Murphy</b><br>Interactions: 35<br>Similarity: 0.151<extra></extra>",
         "line": {
          "color": "rgba(253, 219, 199, 0.7)",
          "width": 10
         },
         "mode": "lines",
         "showlegend": false,
         "type": "scatter",
         "x": [
          -0.9638361606138051,
          0.3989395953966282,
          null
         ],
         "y": [
          -0.07324778549173401,
          0.8806421641799811,
          null
         ]
        },
        {
         "hovertemplate": "<b>Mary Figueroa → Jennifer Thomas</b><br>Interactions: 20<br>Similarity: 0.468<extra></extra>",
         "line": {
          "color": "rgba(146, 197, 222, 0.7)",
          "width": 6.666666666666667
         },
         "mode": "lines",
         "showlegend": false,
         "type": "scatter",
         "x": [
          -0.9638361606138051,
          -0.8998730555186966,
          null
         ],
         "y": [
          -0.07324778549173401,
          -0.41342708840603015,
          null
         ]
        },
        {
         "hovertemplate": "<b>Mary Figueroa → Rebecca Hall</b><br>Interactions: 30<br>Similarity: 0.295<extra></extra>",
         "line": {
          "color": "rgba(209, 229, 240, 0.7)",
          "width": 10
         },
         "mode": "lines",
         "showlegend": false,
         "type": "scatter",
         "x": [
          -0.9638361606138051,
          -0.09244796540966069,
          null
         ],
         "y": [
          -0.07324778549173401,
          -0.9736932525652702,
          null
         ]
        },
        {
         "hovertemplate": "<b>Mary Figueroa → Lynn Spencer</b><br>Interactions: 12<br>Similarity: -0.634<extra></extra>",
         "line": {
          "color": "rgba(103, 0, 31, 0.7)",
          "width": 4
         },
         "mode": "lines",
         "showlegend": false,
         "type": "scatter",
         "x": [
          -0.9638361606138051,
          0.9849319565143412,
          null
         ],
         "y": [
          -0.07324778549173401,
          0.09213560621422415,
          null
         ]
        },
        {
         "hovertemplate": "<b>Mary Figueroa → Heather Ward</b><br>Interactions: 4<br>Similarity: -0.348<extra></extra>",
         "line": {
          "color": "rgba(214, 96, 77, 0.7)",
          "width": 1.3333333333333333
         },
         "mode": "lines",
         "showlegend": false,
         "type": "scatter",
         "x": [
          -0.9638361606138051,
          0.6859450045720663,
          null
         ],
         "y": [
          -0.07324778549173401,
          0.6869475070736885,
          null
         ]
        },
        {
         "hovertemplate": "<b>Mary Figueroa → Cole Hunter</b><br>Interactions: 5<br>Similarity: 0.100<extra></extra>",
         "line": {
          "color": "rgba(253, 219, 199, 0.7)",
          "width": 1.6666666666666667
         },
         "mode": "lines",
         "showlegend": false,
         "type": "scatter",
         "x": [
          -0.9638361606138051,
          -0.6854988190417277,
          null
         ],
         "y": [
          -0.07324778549173401,
          -0.6797312320517651,
          null
         ]
        },
        {
         "hovertemplate": "<b>Mary Figueroa → Patrick Williams</b><br>Interactions: 1<br>Similarity: -0.011<extra></extra>",
         "line": {
          "color": "rgba(253, 219, 199, 0.7)",
          "width": 1
         },
         "mode": "lines",
         "showlegend": false,
         "type": "scatter",
         "x": [
          -0.9638361606138051,
          0.2561361615289968,
          null
         ],
         "y": [
          -0.07324778549173401,
          -1,
          null
         ]
        },
        {
         "hovertemplate": "<b>Mary Figueroa → Matthew Odom</b><br>Interactions: 1<br>Similarity: -0.011<extra></extra>",
         "line": {
          "color": "rgba(253, 219, 199, 0.7)",
          "width": 1
         },
         "mode": "lines",
         "showlegend": false,
         "type": "scatter",
         "x": [
          -0.9638361606138051,
          0.9317906794991804,
          null
         ],
         "y": [
          -0.07324778549173401,
          -0.24878282567207277,
          null
         ]
        },
        {
         "hovertemplate": "<b>Mary Figueroa → Jacqueline Clark</b><br>Interactions: 1<br>Similarity: 0.133<extra></extra>",
         "line": {
          "color": "rgba(253, 219, 199, 0.7)",
          "width": 1
         },
         "mode": "lines",
         "showlegend": false,
         "type": "scatter",
         "x": [
          -0.9638361606138051,
          0.5826003125569416,
          null
         ],
         "y": [
          -0.07324778549173401,
          -0.8331632910226803,
          null
         ]
        },
        {
         "hovertemplate": "<b>Mary Figueroa → Eric Austin</b><br>Interactions: 2<br>Similarity: 0.286<extra></extra>",
         "line": {
          "color": "rgba(209, 229, 240, 0.7)",
          "width": 1
         },
         "mode": "lines",
         "showlegend": false,
         "type": "scatter",
         "x": [
          -0.9638361606138051,
          0.0679339182236547,
          null
         ],
         "y": [
          -0.07324778549173401,
          0.9961658653082643,
          null
         ]
        },
        {
         "hovertemplate": "<b>Mary Figueroa → Mary Figueroa</b><br>Interactions: 1<br>Similarity: 1.000<extra></extra>",
         "line": {
          "color": "rgba(33, 102, 172, 0.7)",
          "width": 1
         },
         "mode": "lines",
         "showlegend": false,
         "type": "scatter",
         "x": [
          -0.9638361606138051,
          -0.9638361606138051,
          null
         ],
         "y": [
          -0.07324778549173401,
          -0.07324778549173401,
          null
         ]
        },
        {
         "hovertemplate": "<b>Patrick Williams → Andrew Vang</b><br>Interactions: 2<br>Similarity: 0.126<extra></extra>",
         "line": {
          "color": "rgba(253, 219, 199, 0.7)",
          "width": 1
         },
         "mode": "lines",
         "showlegend": false,
         "type": "scatter",
         "x": [
          0.2561361615289968,
          -0.44152715747871657,
          null
         ],
         "y": [
          -1,
          -0.9176520610391299,
          null
         ]
        },
        {
         "hovertemplate": "<b>Patrick Williams → George Brown</b><br>Interactions: 18<br>Similarity: -0.125<extra></extra>",
         "line": {
          "color": "rgba(244, 165, 130, 0.7)",
          "width": 6
         },
         "mode": "lines",
         "showlegend": false,
         "type": "scatter",
         "x": [
          0.2561361615289968,
          -0.29233083356523126,
          null
         ],
         "y": [
          -1,
          0.9677886068772861,
          null
         ]
        },
        {
         "hovertemplate": "<b>Patrick Williams → William Murphy</b><br>Interactions: 21<br>Similarity: 0.256<extra></extra>",
         "line": {
          "color": "rgba(209, 229, 240, 0.7)",
          "width": 7
         },
         "mode": "lines",
         "showlegend": false,
         "type": "scatter",
         "x": [
          0.2561361615289968,
          0.3989395953966282,
          null
         ],
         "y": [
          -1,
          0.8806421641799811,
          null
         ]
        },
        {
         "hovertemplate": "<b>Patrick Williams → Heather Ward</b><br>Interactions: 5<br>Similarity: 0.567<extra></extra>",
         "line": {
          "color": "rgba(146, 197, 222, 0.7)",
          "width": 1.6666666666666667
         },
         "mode": "lines",
         "showlegend": false,
         "type": "scatter",
         "x": [
          0.2561361615289968,
          0.6859450045720663,
          null
         ],
         "y": [
          -1,
          0.6869475070736885,
          null
         ]
        },
        {
         "hovertemplate": "<b>Patrick Williams → Matthew Odom</b><br>Interactions: 46<br>Similarity: 0.615<extra></extra>",
         "line": {
          "color": "rgba(67, 147, 195, 0.7)",
          "width": 10
         },
         "mode": "lines",
         "showlegend": false,
         "type": "scatter",
         "x": [
          0.2561361615289968,
          0.9317906794991804,
          null
         ],
         "y": [
          -1,
          -0.24878282567207277,
          null
         ]
        },
        {
         "hovertemplate": "<b>Patrick Williams → Justin Love</b><br>Interactions: 16<br>Similarity: -0.141<extra></extra>",
         "line": {
          "color": "rgba(244, 165, 130, 0.7)",
          "width": 5.333333333333333
         },
         "mode": "lines",
         "showlegend": false,
         "type": "scatter",
         "x": [
          0.2561361615289968,
          0.941297126675412,
          null
         ],
         "y": [
          -1,
          0.4488265431389019,
          null
         ]
        },
        {
         "hovertemplate": "<b>Patrick Williams → Cole Hunter</b><br>Interactions: 11<br>Similarity: -0.048<extra></extra>",
         "line": {
          "color": "rgba(244, 165, 130, 0.7)",
          "width": 3.6666666666666665
         },
         "mode": "lines",
         "showlegend": false,
         "type": "scatter",
         "x": [
          0.2561361615289968,
          -0.6854988190417277,
          null
         ],
         "y": [
          -1,
          -0.6797312320517651,
          null
         ]
        },
        {
         "hovertemplate": "<b>Patrick Williams → William Obrien</b><br>Interactions: 27<br>Similarity: -0.048<extra></extra>",
         "line": {
          "color": "rgba(244, 165, 130, 0.7)",
          "width": 9
         },
         "mode": "lines",
         "showlegend": false,
         "type": "scatter",
         "x": [
          0.2561361615289968,
          0.8501807977005968,
          null
         ],
         "y": [
          -1,
          -0.5807629751799296,
          null
         ]
        },
        {
         "hovertemplate": "<b>Patrick Williams → Rebecca Hall</b><br>Interactions: 38<br>Similarity: 0.032<extra></extra>",
         "line": {
          "color": "rgba(253, 219, 199, 0.7)",
          "width": 10
         },
         "mode": "lines",
         "showlegend": false,
         "type": "scatter",
         "x": [
          0.2561361615289968,
          -0.09244796540966069,
          null
         ],
         "y": [
          -1,
          -0.9736932525652702,
          null
         ]
        },
        {
         "hovertemplate": "<b>Patrick Williams → Eric Austin</b><br>Interactions: 18<br>Similarity: 0.352<extra></extra>",
         "line": {
          "color": "rgba(209, 229, 240, 0.7)",
          "width": 6
         },
         "mode": "lines",
         "showlegend": false,
         "type": "scatter",
         "x": [
          0.2561361615289968,
          0.0679339182236547,
          null
         ],
         "y": [
          -1,
          0.9961658653082643,
          null
         ]
        },
        {
         "hovertemplate": "<b>Patrick Williams → Daniel Gordon</b><br>Interactions: 6<br>Similarity: -0.346<extra></extra>",
         "line": {
          "color": "rgba(214, 96, 77, 0.7)",
          "width": 2
         },
         "mode": "lines",
         "showlegend": false,
         "type": "scatter",
         "x": [
          0.2561361615289968,
          -0.9632478875329431,
          null
         ],
         "y": [
          -1,
          0.2760289180058474,
          null
         ]
        },
        {
         "hovertemplate": "<b>Patrick Williams → Jennifer Thomas</b><br>Interactions: 23<br>Similarity: 0.197<extra></extra>",
         "line": {
          "color": "rgba(209, 229, 240, 0.7)",
          "width": 7.666666666666667
         },
         "mode": "lines",
         "showlegend": false,
         "type": "scatter",
         "x": [
          0.2561361615289968,
          -0.8998730555186966,
          null
         ],
         "y": [
          -1,
          -0.41342708840603015,
          null
         ]
        },
        {
         "hovertemplate": "<b>Patrick Williams → Lynn Spencer</b><br>Interactions: 13<br>Similarity: -0.066<extra></extra>",
         "line": {
          "color": "rgba(244, 165, 130, 0.7)",
          "width": 4.333333333333333
         },
         "mode": "lines",
         "showlegend": false,
         "type": "scatter",
         "x": [
          0.2561361615289968,
          0.9849319565143412,
          null
         ],
         "y": [
          -1,
          0.09213560621422415,
          null
         ]
        },
        {
         "hovertemplate": "<b>Patrick Williams → Julie Francis</b><br>Interactions: 23<br>Similarity: -0.419<extra></extra>",
         "line": {
          "color": "rgba(178, 24, 43, 0.7)",
          "width": 7.666666666666667
         },
         "mode": "lines",
         "showlegend": false,
         "type": "scatter",
         "x": [
          0.2561361615289968,
          -0.5361147761514105,
          null
         ],
         "y": [
          -1,
          0.7536928474138247,
          null
         ]
        },
        {
         "hovertemplate": "<b>Patrick Williams → Mary Figueroa</b><br>Interactions: 25<br>Similarity: -0.011<extra></extra>",
         "line": {
          "color": "rgba(253, 219, 199, 0.7)",
          "width": 8.333333333333334
         },
         "mode": "lines",
         "showlegend": false,
         "type": "scatter",
         "x": [
          0.2561361615289968,
          -0.9638361606138051,
          null
         ],
         "y": [
          -1,
          -0.07324778549173401,
          null
         ]
        },
        {
         "hovertemplate": "<b>Patrick Williams → Jason Day</b><br>Interactions: 1<br>Similarity: -0.471<extra></extra>",
         "line": {
          "color": "rgba(178, 24, 43, 0.7)",
          "width": 1
         },
         "mode": "lines",
         "showlegend": false,
         "type": "scatter",
         "x": [
          0.2561361615289968,
          -0.8248788973556259,
          null
         ],
         "y": [
          -1,
          0.6182324532165933,
          null
         ]
        },
        {
         "hovertemplate": "<b>Patrick Williams → Jacqueline Clark</b><br>Interactions: 14<br>Similarity: 0.098<extra></extra>",
         "line": {
          "color": "rgba(253, 219, 199, 0.7)",
          "width": 4.666666666666667
         },
         "mode": "lines",
         "showlegend": false,
         "type": "scatter",
         "x": [
          0.2561361615289968,
          0.5826003125569416,
          null
         ],
         "y": [
          -1,
          -0.8331632910226803,
          null
         ]
        },
        {
         "hovertemplate": "<b>Patrick Williams → Patrick Williams</b><br>Interactions: 6<br>Similarity: 1.000<extra></extra>",
         "line": {
          "color": "rgba(33, 102, 172, 0.7)",
          "width": 2
         },
         "mode": "lines",
         "showlegend": false,
         "type": "scatter",
         "x": [
          0.2561361615289968,
          0.2561361615289968,
          null
         ],
         "y": [
          -1,
          -1,
          null
         ]
        },
        {
         "hovertemplate": "<b>Matthew Odom → Patrick Williams</b><br>Interactions: 44<br>Similarity: 0.615<extra></extra>",
         "line": {
          "color": "rgba(67, 147, 195, 0.7)",
          "width": 10
         },
         "mode": "lines",
         "showlegend": false,
         "type": "scatter",
         "x": [
          0.9317906794991804,
          0.2561361615289968,
          null
         ],
         "y": [
          -0.24878282567207277,
          -1,
          null
         ]
        },
        {
         "hovertemplate": "<b>Matthew Odom → Mary Figueroa</b><br>Interactions: 47<br>Similarity: -0.011<extra></extra>",
         "line": {
          "color": "rgba(253, 219, 199, 0.7)",
          "width": 10
         },
         "mode": "lines",
         "showlegend": false,
         "type": "scatter",
         "x": [
          0.9317906794991804,
          -0.9638361606138051,
          null
         ],
         "y": [
          -0.24878282567207277,
          -0.07324778549173401,
          null
         ]
        },
        {
         "hovertemplate": "<b>Matthew Odom → Rebecca Hall</b><br>Interactions: 46<br>Similarity: -0.014<extra></extra>",
         "line": {
          "color": "rgba(244, 165, 130, 0.7)",
          "width": 10
         },
         "mode": "lines",
         "showlegend": false,
         "type": "scatter",
         "x": [
          0.9317906794991804,
          -0.09244796540966069,
          null
         ],
         "y": [
          -0.24878282567207277,
          -0.9736932525652702,
          null
         ]
        },
        {
         "hovertemplate": "<b>Matthew Odom → George Brown</b><br>Interactions: 20<br>Similarity: 0.269<extra></extra>",
         "line": {
          "color": "rgba(209, 229, 240, 0.7)",
          "width": 6.666666666666667
         },
         "mode": "lines",
         "showlegend": false,
         "type": "scatter",
         "x": [
          0.9317906794991804,
          -0.29233083356523126,
          null
         ],
         "y": [
          -0.24878282567207277,
          0.9677886068772861,
          null
         ]
        },
        {
         "hovertemplate": "<b>Matthew Odom → Jennifer Thomas</b><br>Interactions: 36<br>Similarity: 0.025<extra></extra>",
         "line": {
          "color": "rgba(253, 219, 199, 0.7)",
          "width": 10
         },
         "mode": "lines",
         "showlegend": false,
         "type": "scatter",
         "x": [
          0.9317906794991804,
          -0.8998730555186966,
          null
         ],
         "y": [
          -0.24878282567207277,
          -0.41342708840603015,
          null
         ]
        },
        {
         "hovertemplate": "<b>Matthew Odom → Heather Ward</b><br>Interactions: 2<br>Similarity: 0.500<extra></extra>",
         "line": {
          "color": "rgba(146, 197, 222, 0.7)",
          "width": 1
         },
         "mode": "lines",
         "showlegend": false,
         "type": "scatter",
         "x": [
          0.9317906794991804,
          0.6859450045720663,
          null
         ],
         "y": [
          -0.24878282567207277,
          0.6869475070736885,
          null
         ]
        },
        {
         "hovertemplate": "<b>Matthew Odom → William Obrien</b><br>Interactions: 37<br>Similarity: -0.132<extra></extra>",
         "line": {
          "color": "rgba(244, 165, 130, 0.7)",
          "width": 10
         },
         "mode": "lines",
         "showlegend": false,
         "type": "scatter",
         "x": [
          0.9317906794991804,
          0.8501807977005968,
          null
         ],
         "y": [
          -0.24878282567207277,
          -0.5807629751799296,
          null
         ]
        },
        {
         "hovertemplate": "<b>Matthew Odom → Justin Love</b><br>Interactions: 28<br>Similarity: -0.429<extra></extra>",
         "line": {
          "color": "rgba(178, 24, 43, 0.7)",
          "width": 9.333333333333334
         },
         "mode": "lines",
         "showlegend": false,
         "type": "scatter",
         "x": [
          0.9317906794991804,
          0.941297126675412,
          null
         ],
         "y": [
          -0.24878282567207277,
          0.4488265431389019,
          null
         ]
        },
        {
         "hovertemplate": "<b>Matthew Odom → Julie Francis</b><br>Interactions: 37<br>Similarity: -0.250<extra></extra>",
         "line": {
          "color": "rgba(214, 96, 77, 0.7)",
          "width": 10
         },
         "mode": "lines",
         "showlegend": false,
         "type": "scatter",
         "x": [
          0.9317906794991804,
          -0.5361147761514105,
          null
         ],
         "y": [
          -0.24878282567207277,
          0.7536928474138247,
          null
         ]
        },
        {
         "hovertemplate": "<b>Matthew Odom → Cole Hunter</b><br>Interactions: 34<br>Similarity: -0.639<extra></extra>",
         "line": {
          "color": "rgba(103, 0, 31, 0.7)",
          "width": 10
         },
         "mode": "lines",
         "showlegend": false,
         "type": "scatter",
         "x": [
          0.9317906794991804,
          -0.6854988190417277,
          null
         ],
         "y": [
          -0.24878282567207277,
          -0.6797312320517651,
          null
         ]
        },
        {
         "hovertemplate": "<b>Matthew Odom → Eric Austin</b><br>Interactions: 19<br>Similarity: 0.298<extra></extra>",
         "line": {
          "color": "rgba(209, 229, 240, 0.7)",
          "width": 6.333333333333333
         },
         "mode": "lines",
         "showlegend": false,
         "type": "scatter",
         "x": [
          0.9317906794991804,
          0.0679339182236547,
          null
         ],
         "y": [
          -0.24878282567207277,
          0.9961658653082643,
          null
         ]
        },
        {
         "hovertemplate": "<b>Matthew Odom → William Murphy</b><br>Interactions: 37<br>Similarity: 0.320<extra></extra>",
         "line": {
          "color": "rgba(209, 229, 240, 0.7)",
          "width": 10
         },
         "mode": "lines",
         "showlegend": false,
         "type": "scatter",
         "x": [
          0.9317906794991804,
          0.3989395953966282,
          null
         ],
         "y": [
          -0.24878282567207277,
          0.8806421641799811,
          null
         ]
        },
        {
         "hovertemplate": "<b>Matthew Odom → Lynn Spencer</b><br>Interactions: 20<br>Similarity: 0.114<extra></extra>",
         "line": {
          "color": "rgba(253, 219, 199, 0.7)",
          "width": 6.666666666666667
         },
         "mode": "lines",
         "showlegend": false,
         "type": "scatter",
         "x": [
          0.9317906794991804,
          0.9849319565143412,
          null
         ],
         "y": [
          -0.24878282567207277,
          0.09213560621422415,
          null
         ]
        },
        {
         "hovertemplate": "<b>Matthew Odom → Jacqueline Clark</b><br>Interactions: 32<br>Similarity: 0.211<extra></extra>",
         "line": {
          "color": "rgba(209, 229, 240, 0.7)",
          "width": 10
         },
         "mode": "lines",
         "showlegend": false,
         "type": "scatter",
         "x": [
          0.9317906794991804,
          0.5826003125569416,
          null
         ],
         "y": [
          -0.24878282567207277,
          -0.8331632910226803,
          null
         ]
        },
        {
         "hovertemplate": "<b>Matthew Odom → Matthew Odom</b><br>Interactions: 15<br>Similarity: 1.000<extra></extra>",
         "line": {
          "color": "rgba(33, 102, 172, 0.7)",
          "width": 5
         },
         "mode": "lines",
         "showlegend": false,
         "type": "scatter",
         "x": [
          0.9317906794991804,
          0.9317906794991804,
          null
         ],
         "y": [
          -0.24878282567207277,
          -0.24878282567207277,
          null
         ]
        },
        {
         "hovertemplate": "<b>Matthew Odom → Daniel Gordon</b><br>Interactions: 3<br>Similarity: -0.523<extra></extra>",
         "line": {
          "color": "rgba(178, 24, 43, 0.7)",
          "width": 1
         },
         "mode": "lines",
         "showlegend": false,
         "type": "scatter",
         "x": [
          0.9317906794991804,
          -0.9632478875329431,
          null
         ],
         "y": [
          -0.24878282567207277,
          0.2760289180058474,
          null
         ]
        },
        {
         "hovertemplate": "<b>Matthew Odom → Jason Day</b><br>Interactions: 2<br>Similarity: -0.821<extra></extra>",
         "line": {
          "color": "rgba(103, 0, 31, 0.7)",
          "width": 1
         },
         "mode": "lines",
         "showlegend": false,
         "type": "scatter",
         "x": [
          0.9317906794991804,
          -0.8248788973556259,
          null
         ],
         "y": [
          -0.24878282567207277,
          0.6182324532165933,
          null
         ]
        },
        {
         "hovertemplate": "<b>Matthew Odom → Andrew Vang</b><br>Interactions: 8<br>Similarity: 0.008<extra></extra>",
         "line": {
          "color": "rgba(253, 219, 199, 0.7)",
          "width": 2.6666666666666665
         },
         "mode": "lines",
         "showlegend": false,
         "type": "scatter",
         "x": [
          0.9317906794991804,
          -0.44152715747871657,
          null
         ],
         "y": [
          -0.24878282567207277,
          -0.9176520610391299,
          null
         ]
        },
        {
         "hovertemplate": "<b>George Brown → Matthew Odom</b><br>Interactions: 52<br>Similarity: 0.269<extra></extra>",
         "line": {
          "color": "rgba(209, 229, 240, 0.7)",
          "width": 10
         },
         "mode": "lines",
         "showlegend": false,
         "type": "scatter",
         "x": [
          -0.29233083356523126,
          0.9317906794991804,
          null
         ],
         "y": [
          0.9677886068772861,
          -0.24878282567207277,
          null
         ]
        },
        {
         "hovertemplate": "<b>George Brown → Eric Austin</b><br>Interactions: 19<br>Similarity: 0.319<extra></extra>",
         "line": {
          "color": "rgba(209, 229, 240, 0.7)",
          "width": 6.333333333333333
         },
         "mode": "lines",
         "showlegend": false,
         "type": "scatter",
         "x": [
          -0.29233083356523126,
          0.0679339182236547,
          null
         ],
         "y": [
          0.9677886068772861,
          0.9961658653082643,
          null
         ]
        },
        {
         "hovertemplate": "<b>George Brown → William Murphy</b><br>Interactions: 71<br>Similarity: 0.268<extra></extra>",
         "line": {
          "color": "rgba(209, 229, 240, 0.7)",
          "width": 10
         },
         "mode": "lines",
         "showlegend": false,
         "type": "scatter",
         "x": [
          -0.29233083356523126,
          0.3989395953966282,
          null
         ],
         "y": [
          0.9677886068772861,
          0.8806421641799811,
          null
         ]
        },
        {
         "hovertemplate": "<b>George Brown → Rebecca Hall</b><br>Interactions: 110<br>Similarity: -0.295<extra></extra>",
         "line": {
          "color": "rgba(214, 96, 77, 0.7)",
          "width": 10
         },
         "mode": "lines",
         "showlegend": false,
         "type": "scatter",
         "x": [
          -0.29233083356523126,
          -0.09244796540966069,
          null
         ],
         "y": [
          0.9677886068772861,
          -0.9736932525652702,
          null
         ]
        },
        {
         "hovertemplate": "<b>George Brown → Andrew Vang</b><br>Interactions: 32<br>Similarity: 0.028<extra></extra>",
         "line": {
          "color": "rgba(253, 219, 199, 0.7)",
          "width": 10
         },
         "mode": "lines",
         "showlegend": false,
         "type": "scatter",
         "x": [
          -0.29233083356523126,
          -0.44152715747871657,
          null
         ],
         "y": [
          0.9677886068772861,
          -0.9176520610391299,
          null
         ]
        },
        {
         "hovertemplate": "<b>George Brown → William Obrien</b><br>Interactions: 41<br>Similarity: 0.016<extra></extra>",
         "line": {
          "color": "rgba(253, 219, 199, 0.7)",
          "width": 10
         },
         "mode": "lines",
         "showlegend": false,
         "type": "scatter",
         "x": [
          -0.29233083356523126,
          0.8501807977005968,
          null
         ],
         "y": [
          0.9677886068772861,
          -0.5807629751799296,
          null
         ]
        },
        {
         "hovertemplate": "<b>George Brown → Heather Ward</b><br>Interactions: 31<br>Similarity: 0.362<extra></extra>",
         "line": {
          "color": "rgba(209, 229, 240, 0.7)",
          "width": 10
         },
         "mode": "lines",
         "showlegend": false,
         "type": "scatter",
         "x": [
          -0.29233083356523126,
          0.6859450045720663,
          null
         ],
         "y": [
          0.9677886068772861,
          0.6869475070736885,
          null
         ]
        },
        {
         "hovertemplate": "<b>George Brown → Julie Francis</b><br>Interactions: 47<br>Similarity: -0.324<extra></extra>",
         "line": {
          "color": "rgba(214, 96, 77, 0.7)",
          "width": 10
         },
         "mode": "lines",
         "showlegend": false,
         "type": "scatter",
         "x": [
          -0.29233083356523126,
          -0.5361147761514105,
          null
         ],
         "y": [
          0.9677886068772861,
          0.7536928474138247,
          null
         ]
        },
        {
         "hovertemplate": "<b>George Brown → Cole Hunter</b><br>Interactions: 49<br>Similarity: -0.313<extra></extra>",
         "line": {
          "color": "rgba(214, 96, 77, 0.7)",
          "width": 10
         },
         "mode": "lines",
         "showlegend": false,
         "type": "scatter",
         "x": [
          -0.29233083356523126,
          -0.6854988190417277,
          null
         ],
         "y": [
          0.9677886068772861,
          -0.6797312320517651,
          null
         ]
        },
        {
         "hovertemplate": "<b>George Brown → Daniel Gordon</b><br>Interactions: 38<br>Similarity: -0.092<extra></extra>",
         "line": {
          "color": "rgba(244, 165, 130, 0.7)",
          "width": 10
         },
         "mode": "lines",
         "showlegend": false,
         "type": "scatter",
         "x": [
          -0.29233083356523126,
          -0.9632478875329431,
          null
         ],
         "y": [
          0.9677886068772861,
          0.2760289180058474,
          null
         ]
        },
        {
         "hovertemplate": "<b>George Brown → Mary Figueroa</b><br>Interactions: 46<br>Similarity: -0.388<extra></extra>",
         "line": {
          "color": "rgba(214, 96, 77, 0.7)",
          "width": 10
         },
         "mode": "lines",
         "showlegend": false,
         "type": "scatter",
         "x": [
          -0.29233083356523126,
          -0.9638361606138051,
          null
         ],
         "y": [
          0.9677886068772861,
          -0.07324778549173401,
          null
         ]
        },
        {
         "hovertemplate": "<b>George Brown → Patrick Williams</b><br>Interactions: 35<br>Similarity: -0.125<extra></extra>",
         "line": {
          "color": "rgba(244, 165, 130, 0.7)",
          "width": 10
         },
         "mode": "lines",
         "showlegend": false,
         "type": "scatter",
         "x": [
          -0.29233083356523126,
          0.2561361615289968,
          null
         ],
         "y": [
          0.9677886068772861,
          -1,
          null
         ]
        },
        {
         "hovertemplate": "<b>George Brown → Lynn Spencer</b><br>Interactions: 47<br>Similarity: 0.427<extra></extra>",
         "line": {
          "color": "rgba(146, 197, 222, 0.7)",
          "width": 10
         },
         "mode": "lines",
         "showlegend": false,
         "type": "scatter",
         "x": [
          -0.29233083356523126,
          0.9849319565143412,
          null
         ],
         "y": [
          0.9677886068772861,
          0.09213560621422415,
          null
         ]
        },
        {
         "hovertemplate": "<b>George Brown → Jennifer Thomas</b><br>Interactions: 40<br>Similarity: -0.790<extra></extra>",
         "line": {
          "color": "rgba(103, 0, 31, 0.7)",
          "width": 10
         },
         "mode": "lines",
         "showlegend": false,
         "type": "scatter",
         "x": [
          -0.29233083356523126,
          -0.8998730555186966,
          null
         ],
         "y": [
          0.9677886068772861,
          -0.41342708840603015,
          null
         ]
        },
        {
         "hovertemplate": "<b>George Brown → Jason Day</b><br>Interactions: 18<br>Similarity: -0.154<extra></extra>",
         "line": {
          "color": "rgba(244, 165, 130, 0.7)",
          "width": 6
         },
         "mode": "lines",
         "showlegend": false,
         "type": "scatter",
         "x": [
          -0.29233083356523126,
          -0.8248788973556259,
          null
         ],
         "y": [
          0.9677886068772861,
          0.6182324532165933,
          null
         ]
        },
        {
         "hovertemplate": "<b>George Brown → Justin Love</b><br>Interactions: 33<br>Similarity: -0.752<extra></extra>",
         "line": {
          "color": "rgba(103, 0, 31, 0.7)",
          "width": 10
         },
         "mode": "lines",
         "showlegend": false,
         "type": "scatter",
         "x": [
          -0.29233083356523126,
          0.941297126675412,
          null
         ],
         "y": [
          0.9677886068772861,
          0.4488265431389019,
          null
         ]
        },
        {
         "hovertemplate": "<b>George Brown → George Brown</b><br>Interactions: 6<br>Similarity: 1.000<extra></extra>",
         "line": {
          "color": "rgba(33, 102, 172, 0.7)",
          "width": 2
         },
         "mode": "lines",
         "showlegend": false,
         "type": "scatter",
         "x": [
          -0.29233083356523126,
          -0.29233083356523126,
          null
         ],
         "y": [
          0.9677886068772861,
          0.9677886068772861,
          null
         ]
        },
        {
         "hovertemplate": "<b>George Brown → Jacqueline Clark</b><br>Interactions: 32<br>Similarity: -0.074<extra></extra>",
         "line": {
          "color": "rgba(244, 165, 130, 0.7)",
          "width": 10
         },
         "mode": "lines",
         "showlegend": false,
         "type": "scatter",
         "x": [
          -0.29233083356523126,
          0.5826003125569416,
          null
         ],
         "y": [
          0.9677886068772861,
          -0.8331632910226803,
          null
         ]
        },
        {
         "hovertemplate": "<b>Justin Love → Rebecca Hall</b><br>Interactions: 80<br>Similarity: 0.351<extra></extra>",
         "line": {
          "color": "rgba(209, 229, 240, 0.7)",
          "width": 10
         },
         "mode": "lines",
         "showlegend": false,
         "type": "scatter",
         "x": [
          0.941297126675412,
          -0.09244796540966069,
          null
         ],
         "y": [
          0.4488265431389019,
          -0.9736932525652702,
          null
         ]
        },
        {
         "hovertemplate": "<b>Justin Love → Andrew Vang</b><br>Interactions: 25<br>Similarity: 0.169<extra></extra>",
         "line": {
          "color": "rgba(253, 219, 199, 0.7)",
          "width": 8.333333333333334
         },
         "mode": "lines",
         "showlegend": false,
         "type": "scatter",
         "x": [
          0.941297126675412,
          -0.44152715747871657,
          null
         ],
         "y": [
          0.4488265431389019,
          -0.9176520610391299,
          null
         ]
        },
        {
         "hovertemplate": "<b>Justin Love → Matthew Odom</b><br>Interactions: 2<br>Similarity: -0.429<extra></extra>",
         "line": {
          "color": "rgba(178, 24, 43, 0.7)",
          "width": 1
         },
         "mode": "lines",
         "showlegend": false,
         "type": "scatter",
         "x": [
          0.941297126675412,
          0.9317906794991804,
          null
         ],
         "y": [
          0.4488265431389019,
          -0.24878282567207277,
          null
         ]
        },
        {
         "hovertemplate": "<b>Justin Love → William Murphy</b><br>Interactions: 47<br>Similarity: -0.191<extra></extra>",
         "line": {
          "color": "rgba(244, 165, 130, 0.7)",
          "width": 10
         },
         "mode": "lines",
         "showlegend": false,
         "type": "scatter",
         "x": [
          0.941297126675412,
          0.3989395953966282,
          null
         ],
         "y": [
          0.4488265431389019,
          0.8806421641799811,
          null
         ]
        },
        {
         "hovertemplate": "<b>Justin Love → Mary Figueroa</b><br>Interactions: 39<br>Similarity: -0.064<extra></extra>",
         "line": {
          "color": "rgba(244, 165, 130, 0.7)",
          "width": 10
         },
         "mode": "lines",
         "showlegend": false,
         "type": "scatter",
         "x": [
          0.941297126675412,
          -0.9638361606138051,
          null
         ],
         "y": [
          0.4488265431389019,
          -0.07324778549173401,
          null
         ]
        },
        {
         "hovertemplate": "<b>Justin Love → Daniel Gordon</b><br>Interactions: 14<br>Similarity: -0.026<extra></extra>",
         "line": {
          "color": "rgba(244, 165, 130, 0.7)",
          "width": 4.666666666666667
         },
         "mode": "lines",
         "showlegend": false,
         "type": "scatter",
         "x": [
          0.941297126675412,
          -0.9632478875329431,
          null
         ],
         "y": [
          0.4488265431389019,
          0.2760289180058474,
          null
         ]
        },
        {
         "hovertemplate": "<b>Justin Love → Jacqueline Clark</b><br>Interactions: 47<br>Similarity: 0.265<extra></extra>",
         "line": {
          "color": "rgba(209, 229, 240, 0.7)",
          "width": 10
         },
         "mode": "lines",
         "showlegend": false,
         "type": "scatter",
         "x": [
          0.941297126675412,
          0.5826003125569416,
          null
         ],
         "y": [
          0.4488265431389019,
          -0.8331632910226803,
          null
         ]
        },
        {
         "hovertemplate": "<b>Justin Love → William Obrien</b><br>Interactions: 11<br>Similarity: 0.034<extra></extra>",
         "line": {
          "color": "rgba(253, 219, 199, 0.7)",
          "width": 3.6666666666666665
         },
         "mode": "lines",
         "showlegend": false,
         "type": "scatter",
         "x": [
          0.941297126675412,
          0.8501807977005968,
          null
         ],
         "y": [
          0.4488265431389019,
          -0.5807629751799296,
          null
         ]
        },
        {
         "hovertemplate": "<b>Justin Love → Julie Francis</b><br>Interactions: 13<br>Similarity: 0.300<extra></extra>",
         "line": {
          "color": "rgba(209, 229, 240, 0.7)",
          "width": 4.333333333333333
         },
         "mode": "lines",
         "showlegend": false,
         "type": "scatter",
         "x": [
          0.941297126675412,
          -0.5361147761514105,
          null
         ],
         "y": [
          0.4488265431389019,
          0.7536928474138247,
          null
         ]
        },
        {
         "hovertemplate": "<b>Justin Love → Justin Love</b><br>Interactions: 31<br>Similarity: 1.000<extra></extra>",
         "line": {
          "color": "rgba(33, 102, 172, 0.7)",
          "width": 10
         },
         "mode": "lines",
         "showlegend": false,
         "type": "scatter",
         "x": [
          0.941297126675412,
          0.941297126675412,
          null
         ],
         "y": [
          0.4488265431389019,
          0.4488265431389019,
          null
         ]
        },
        {
         "hovertemplate": "<b>Justin Love → Jennifer Thomas</b><br>Interactions: 25<br>Similarity: 0.593<extra></extra>",
         "line": {
          "color": "rgba(146, 197, 222, 0.7)",
          "width": 8.333333333333334
         },
         "mode": "lines",
         "showlegend": false,
         "type": "scatter",
         "x": [
          0.941297126675412,
          -0.8998730555186966,
          null
         ],
         "y": [
          0.4488265431389019,
          -0.41342708840603015,
          null
         ]
        },
        {
         "hovertemplate": "<b>Justin Love → Heather Ward</b><br>Interactions: 4<br>Similarity: -0.271<extra></extra>",
         "line": {
          "color": "rgba(214, 96, 77, 0.7)",
          "width": 1.3333333333333333
         },
         "mode": "lines",
         "showlegend": false,
         "type": "scatter",
         "x": [
          0.941297126675412,
          0.6859450045720663,
          null
         ],
         "y": [
          0.4488265431389019,
          0.6869475070736885,
          null
         ]
        },
        {
         "hovertemplate": "<b>Justin Love → Eric Austin</b><br>Interactions: 61<br>Similarity: -0.675<extra></extra>",
         "line": {
          "color": "rgba(103, 0, 31, 0.7)",
          "width": 10
         },
         "mode": "lines",
         "showlegend": false,
         "type": "scatter",
         "x": [
          0.941297126675412,
          0.0679339182236547,
          null
         ],
         "y": [
          0.4488265431389019,
          0.9961658653082643,
          null
         ]
        },
        {
         "hovertemplate": "<b>Justin Love → Patrick Williams</b><br>Interactions: 4<br>Similarity: -0.141<extra></extra>",
         "line": {
          "color": "rgba(244, 165, 130, 0.7)",
          "width": 1.3333333333333333
         },
         "mode": "lines",
         "showlegend": false,
         "type": "scatter",
         "x": [
          0.941297126675412,
          0.2561361615289968,
          null
         ],
         "y": [
          0.4488265431389019,
          -1,
          null
         ]
        },
        {
         "hovertemplate": "<b>Justin Love → Lynn Spencer</b><br>Interactions: 12<br>Similarity: -0.115<extra></extra>",
         "line": {
          "color": "rgba(244, 165, 130, 0.7)",
          "width": 4
         },
         "mode": "lines",
         "showlegend": false,
         "type": "scatter",
         "x": [
          0.941297126675412,
          0.9849319565143412,
          null
         ],
         "y": [
          0.4488265431389019,
          0.09213560621422415,
          null
         ]
        },
        {
         "hovertemplate": "<b>Justin Love → Cole Hunter</b><br>Interactions: 8<br>Similarity: 0.211<extra></extra>",
         "line": {
          "color": "rgba(209, 229, 240, 0.7)",
          "width": 2.6666666666666665
         },
         "mode": "lines",
         "showlegend": false,
         "type": "scatter",
         "x": [
          0.941297126675412,
          -0.6854988190417277,
          null
         ],
         "y": [
          0.4488265431389019,
          -0.6797312320517651,
          null
         ]
        },
        {
         "hovertemplate": "<b>Justin Love → George Brown</b><br>Interactions: 1<br>Similarity: -0.752<extra></extra>",
         "line": {
          "color": "rgba(103, 0, 31, 0.7)",
          "width": 1
         },
         "mode": "lines",
         "showlegend": false,
         "type": "scatter",
         "x": [
          0.941297126675412,
          -0.29233083356523126,
          null
         ],
         "y": [
          0.4488265431389019,
          0.9677886068772861,
          null
         ]
        },
        {
         "hovertemplate": "<b>Eric Austin</b><br>Type: voter<br>Incoming: 323<br>Outgoing: 290<extra></extra>",
         "marker": {
          "color": "#2166ac",
          "line": {
           "color": "white",
           "width": 2
          },
          "opacity": 0.25,
          "size": 36.15336658354114
         },
         "mode": "markers+text",
         "showlegend": false,
         "text": "Eric Austin",
         "textfont": {
          "color": "black",
          "family": "Arial Black",
          "size": 8
         },
         "textposition": "middle center",
         "type": "scatter",
         "x": [
          0.0679339182236547
         ],
         "y": [
          0.9961658653082643
         ]
        },
        {
         "hovertemplate": "<b>Lynn Spencer</b><br>Type: voter<br>Incoming: 407<br>Outgoing: 299<extra></extra>",
         "marker": {
          "color": "#2166ac",
          "line": {
           "color": "white",
           "width": 2
          },
          "opacity": 0.25,
          "size": 42.96134663341646
         },
         "mode": "markers+text",
         "showlegend": false,
         "text": "Lynn Spencer",
         "textfont": {
          "color": "black",
          "family": "Arial Black",
          "size": 8
         },
         "textposition": "middle center",
         "type": "scatter",
         "x": [
          0.9849319565143412
         ],
         "y": [
          0.09213560621422415
         ]
        },
        {
         "hovertemplate": "<b>Andrew Vang</b><br>Type: voter<br>Incoming: 126<br>Outgoing: 626<extra></extra>",
         "marker": {
          "color": "#2166ac",
          "line": {
           "color": "white",
           "width": 2
          },
          "opacity": 0.25,
          "size": 20.18703241895262
         },
         "mode": "markers+text",
         "showlegend": false,
         "text": "Andrew Vang",
         "textfont": {
          "color": "black",
          "family": "Arial Black",
          "size": 8
         },
         "textposition": "middle center",
         "type": "scatter",
         "x": [
          -0.44152715747871657
         ],
         "y": [
          -0.9176520610391299
         ]
        },
        {
         "hovertemplate": "<b>Daniel Gordon</b><br>Type: voter<br>Incoming: 113<br>Outgoing: 663<extra></extra>",
         "marker": {
          "color": "#2166ac",
          "line": {
           "color": "white",
           "width": 2
          },
          "opacity": 0.25,
          "size": 19.133416458852867
         },
         "mode": "markers+text",
         "showlegend": false,
         "text": "Daniel\nGordon",
         "textfont": {
          "color": "black",
          "family": "Arial Black",
          "size": 8
         },
         "textposition": "middle center",
         "type": "scatter",
         "x": [
          -0.9632478875329431
         ],
         "y": [
          0.2760289180058474
         ]
        },
        {
         "hovertemplate": "<b>Heather Ward</b><br>Type: voter<br>Incoming: 123<br>Outgoing: 246<extra></extra>",
         "marker": {
          "color": "#2166ac",
          "line": {
           "color": "white",
           "width": 2
          },
          "opacity": 0.25,
          "size": 19.943890274314214
         },
         "mode": "markers+text",
         "showlegend": false,
         "text": "Heather Ward",
         "textfont": {
          "color": "black",
          "family": "Arial Black",
          "size": 8
         },
         "textposition": "middle center",
         "type": "scatter",
         "x": [
          0.6859450045720663
         ],
         "y": [
          0.6869475070736885
         ]
        },
        {
         "hovertemplate": "<b>Jason Day</b><br>Type: voter<br>Incoming: 62<br>Outgoing: 236<extra></extra>",
         "marker": {
          "color": "#2166ac",
          "line": {
           "color": "white",
           "width": 2
          },
          "opacity": 0.25,
          "size": 15
         },
         "mode": "markers+text",
         "showlegend": false,
         "text": "Jason Day",
         "textfont": {
          "color": "black",
          "family": "Arial Black",
          "size": 8
         },
         "textposition": "middle center",
         "type": "scatter",
         "x": [
          -0.8248788973556259
         ],
         "y": [
          0.6182324532165933
         ]
        },
        {
         "hovertemplate": "<b>William Obrien</b><br>Type: voter<br>Incoming: 270<br>Outgoing: 205<extra></extra>",
         "marker": {
          "color": "#2166ac",
          "line": {
           "color": "white",
           "width": 2
          },
          "opacity": 0.25,
          "size": 31.85785536159601
         },
         "mode": "markers+text",
         "showlegend": false,
         "text": "William\nObrien",
         "textfont": {
          "color": "black",
          "family": "Arial Black",
          "size": 8
         },
         "textposition": "middle center",
         "type": "scatter",
         "x": [
          0.8501807977005968
         ],
         "y": [
          -0.5807629751799296
         ]
        },
        {
         "hovertemplate": "<b>Jennifer Thomas</b><br>Type: voter<br>Incoming: 444<br>Outgoing: 154<extra></extra>",
         "marker": {
          "color": "#2166ac",
          "line": {
           "color": "white",
           "width": 2
          },
          "opacity": 0.25,
          "size": 45.96009975062344
         },
         "mode": "markers+text",
         "showlegend": false,
         "text": "Jennifer\nThomas",
         "textfont": {
          "color": "black",
          "family": "Arial Black",
          "size": 8
         },
         "textposition": "middle center",
         "type": "scatter",
         "x": [
          -0.8998730555186966
         ],
         "y": [
          -0.41342708840603015
         ]
        },
        {
         "hovertemplate": "<b>Julie Francis</b><br>Type: voter<br>Incoming: 334<br>Outgoing: 257<extra></extra>",
         "marker": {
          "color": "#2166ac",
          "line": {
           "color": "white",
           "width": 2
          },
          "opacity": 0.25,
          "size": 37.044887780548635
         },
         "mode": "markers+text",
         "showlegend": false,
         "text": "Julie\nFrancis",
         "textfont": {
          "color": "black",
          "family": "Arial Black",
          "size": 8
         },
         "textposition": "middle center",
         "type": "scatter",
         "x": [
          -0.5361147761514105
         ],
         "y": [
          0.7536928474138247
         ]
        },
        {
         "hovertemplate": "<b>Rebecca Hall</b><br>Type: voter<br>Incoming: 864<br>Outgoing: 355<extra></extra>",
         "marker": {
          "color": "#2166ac",
          "line": {
           "color": "white",
           "width": 2
          },
          "opacity": 0.25,
          "size": 80
         },
         "mode": "markers+text",
         "showlegend": false,
         "text": "Rebecca Hall",
         "textfont": {
          "color": "black",
          "family": "Arial Black",
          "size": 8
         },
         "textposition": "middle center",
         "type": "scatter",
         "x": [
          -0.09244796540966069
         ],
         "y": [
          -0.9736932525652702
         ]
        },
        {
         "hovertemplate": "<b>Jacqueline Clark</b><br>Type: voter<br>Incoming: 196<br>Outgoing: 254<extra></extra>",
         "marker": {
          "color": "#2166ac",
          "line": {
           "color": "white",
           "width": 2
          },
          "opacity": 0.25,
          "size": 25.860349127182047
         },
         "mode": "markers+text",
         "showlegend": false,
         "text": "Jacqueline\nClark",
         "textfont": {
          "color": "black",
          "family": "Arial Black",
          "size": 8
         },
         "textposition": "middle center",
         "type": "scatter",
         "x": [
          0.5826003125569416
         ],
         "y": [
          -0.8331632910226803
         ]
        },
        {
         "hovertemplate": "<b>Cole Hunter</b><br>Type: voter<br>Incoming: 330<br>Outgoing: 239<extra></extra>",
         "marker": {
          "color": "#2166ac",
          "line": {
           "color": "white",
           "width": 2
          },
          "opacity": 0.25,
          "size": 36.720698254364095
         },
         "mode": "markers+text",
         "showlegend": false,
         "text": "Cole Hunter",
         "textfont": {
          "color": "black",
          "family": "Arial Black",
          "size": 8
         },
         "textposition": "middle center",
         "type": "scatter",
         "x": [
          -0.6854988190417277
         ],
         "y": [
          -0.6797312320517651
         ]
        },
        {
         "hovertemplate": "<b>William Murphy</b><br>Type: voter<br>Incoming: 651<br>Outgoing: 330<extra></extra>",
         "marker": {
          "color": "#2166ac",
          "line": {
           "color": "white",
           "width": 2
          },
          "opacity": 0.25,
          "size": 62.73690773067332
         },
         "mode": "markers+text",
         "showlegend": false,
         "text": "William\nMurphy",
         "textfont": {
          "color": "black",
          "family": "Arial Black",
          "size": 8
         },
         "textposition": "middle center",
         "type": "scatter",
         "x": [
          0.3989395953966282
         ],
         "y": [
          0.8806421641799811
         ]
        },
        {
         "hovertemplate": "<b>Mary Figueroa</b><br>Type: voter<br>Incoming: 496<br>Outgoing: 182<extra></extra>",
         "marker": {
          "color": "#2166ac",
          "line": {
           "color": "white",
           "width": 2
          },
          "opacity": 0.25,
          "size": 50.17456359102245
         },
         "mode": "markers+text",
         "showlegend": false,
         "text": "Mary\nFigueroa",
         "textfont": {
          "color": "black",
          "family": "Arial Black",
          "size": 8
         },
         "textposition": "middle center",
         "type": "scatter",
         "x": [
          -0.9638361606138051
         ],
         "y": [
          -0.07324778549173401
         ]
        },
        {
         "hovertemplate": "<b>Patrick Williams</b><br>Type: voter<br>Incoming: 197<br>Outgoing: 313<extra></extra>",
         "marker": {
          "color": "#2166ac",
          "line": {
           "color": "white",
           "width": 2
          },
          "opacity": 0.25,
          "size": 25.941396508728182
         },
         "mode": "markers+text",
         "showlegend": false,
         "text": "Patrick\nWilliams",
         "textfont": {
          "color": "black",
          "family": "Arial Black",
          "size": 8
         },
         "textposition": "middle center",
         "type": "scatter",
         "x": [
          0.2561361615289968
         ],
         "y": [
          -1
         ]
        },
        {
         "hovertemplate": "<b>Matthew Odom</b><br>Type: voter<br>Incoming: 303<br>Outgoing: 467<extra></extra>",
         "marker": {
          "color": "#2166ac",
          "line": {
           "color": "white",
           "width": 2
          },
          "opacity": 0.25,
          "size": 34.53241895261846
         },
         "mode": "markers+text",
         "showlegend": false,
         "text": "Matthew Odom",
         "textfont": {
          "color": "black",
          "family": "Arial Black",
          "size": 8
         },
         "textposition": "middle center",
         "type": "scatter",
         "x": [
          0.9317906794991804
         ],
         "y": [
          -0.24878282567207277
         ]
        },
        {
         "hovertemplate": "<b>George Brown</b><br>Type: candidate<br>Incoming: 439<br>Outgoing: 747<extra></extra>",
         "marker": {
          "color": "#b2182b",
          "line": {
           "color": "white",
           "width": 2
          },
          "opacity": 0.25,
          "size": 45.55486284289277
         },
         "mode": "markers+text",
         "showlegend": false,
         "text": "George Brown",
         "textfont": {
          "color": "black",
          "family": "Arial Black",
          "size": 8
         },
         "textposition": "middle center",
         "type": "scatter",
         "x": [
          -0.29233083356523126
         ],
         "y": [
          0.9677886068772861
         ]
        },
        {
         "hovertemplate": "<b>Justin Love</b><br>Type: candidate<br>Incoming: 609<br>Outgoing: 424<extra></extra>",
         "marker": {
          "color": "#b2182b",
          "line": {
           "color": "white",
           "width": 2
          },
          "opacity": 0.25,
          "size": 59.33291770573566
         },
         "mode": "markers+text",
         "showlegend": false,
         "text": "Justin Love",
         "textfont": {
          "color": "black",
          "family": "Arial Black",
          "size": 8
         },
         "textposition": "middle center",
         "type": "scatter",
         "x": [
          0.941297126675412
         ],
         "y": [
          0.4488265431389019
         ]
        },
        {
         "hoverinfo": "skip",
         "marker": {
          "color": [
           -0.8214865514055147,
           1.0000000000000002
          ],
          "colorbar": {
           "len": 0.7,
           "thickness": 15,
           "title": {
            "side": "right",
            "text": "Edge Similarity"
           },
           "x": 1.02
          },
          "colorscale": [
           [
            0,
            "#67001f"
           ],
           [
            0.1111111111111111,
            "#b2182b"
           ],
           [
            0.2222222222222222,
            "#d6604d"
           ],
           [
            0.3333333333333333,
            "#f4a582"
           ],
           [
            0.4444444444444444,
            "#fddbc7"
           ],
           [
            0.5555555555555556,
            "#d1e5f0"
           ],
           [
            0.6666666666666666,
            "#92c5de"
           ],
           [
            0.7777777777777778,
            "#4393c3"
           ],
           [
            0.8888888888888888,
            "#2166ac"
           ],
           [
            1,
            "#053061"
           ]
          ],
          "showscale": true,
          "size": 0
         },
         "mode": "markers",
         "showlegend": false,
         "type": "scatter",
         "x": [
          null
         ],
         "y": [
          null
         ]
        },
        {
         "marker": {
          "color": "#2166ac",
          "size": 14
         },
         "mode": "markers",
         "name": "Voters",
         "showlegend": true,
         "textfont": {
          "size": 18
         },
         "type": "scatter",
         "x": [
          null
         ],
         "y": [
          null
         ]
        },
        {
         "marker": {
          "color": "#b2182b",
          "size": 14
         },
         "mode": "markers",
         "name": "Candidates",
         "showlegend": true,
         "textfont": {
          "size": 18
         },
         "type": "scatter",
         "x": [
          null
         ],
         "y": [
          null
         ]
        }
       ],
       "layout": {
        "annotations": [
         {
          "font": {
           "size": 14
          },
          "showarrow": false,
          "text": "Node size = incoming interactions<br>Edge width = interaction count<br>Edge color = similarity (dark red=low, dark blue=high)<br>",
          "x": 0.005,
          "xanchor": "left",
          "xref": "paper",
          "y": -0.002,
          "yanchor": "bottom",
          "yref": "paper"
         }
        ],
        "height": 800,
        "hovermode": "closest",
        "margin": {
         "b": 20,
         "l": 5,
         "r": 50,
         "t": 40
        },
        "plot_bgcolor": "white",
        "showlegend": true,
        "template": {
         "data": {
          "bar": [
           {
            "error_x": {
             "color": "#2a3f5f"
            },
            "error_y": {
             "color": "#2a3f5f"
            },
            "marker": {
             "line": {
              "color": "#E5ECF6",
              "width": 0.5
             },
             "pattern": {
              "fillmode": "overlay",
              "size": 10,
              "solidity": 0.2
             }
            },
            "type": "bar"
           }
          ],
          "barpolar": [
           {
            "marker": {
             "line": {
              "color": "#E5ECF6",
              "width": 0.5
             },
             "pattern": {
              "fillmode": "overlay",
              "size": 10,
              "solidity": 0.2
             }
            },
            "type": "barpolar"
           }
          ],
          "carpet": [
           {
            "aaxis": {
             "endlinecolor": "#2a3f5f",
             "gridcolor": "white",
             "linecolor": "white",
             "minorgridcolor": "white",
             "startlinecolor": "#2a3f5f"
            },
            "baxis": {
             "endlinecolor": "#2a3f5f",
             "gridcolor": "white",
             "linecolor": "white",
             "minorgridcolor": "white",
             "startlinecolor": "#2a3f5f"
            },
            "type": "carpet"
           }
          ],
          "choropleth": [
           {
            "colorbar": {
             "outlinewidth": 0,
             "ticks": ""
            },
            "type": "choropleth"
           }
          ],
          "contour": [
           {
            "colorbar": {
             "outlinewidth": 0,
             "ticks": ""
            },
            "colorscale": [
             [
              0,
              "#0d0887"
             ],
             [
              0.1111111111111111,
              "#46039f"
             ],
             [
              0.2222222222222222,
              "#7201a8"
             ],
             [
              0.3333333333333333,
              "#9c179e"
             ],
             [
              0.4444444444444444,
              "#bd3786"
             ],
             [
              0.5555555555555556,
              "#d8576b"
             ],
             [
              0.6666666666666666,
              "#ed7953"
             ],
             [
              0.7777777777777778,
              "#fb9f3a"
             ],
             [
              0.8888888888888888,
              "#fdca26"
             ],
             [
              1,
              "#f0f921"
             ]
            ],
            "type": "contour"
           }
          ],
          "contourcarpet": [
           {
            "colorbar": {
             "outlinewidth": 0,
             "ticks": ""
            },
            "type": "contourcarpet"
           }
          ],
          "heatmap": [
           {
            "colorbar": {
             "outlinewidth": 0,
             "ticks": ""
            },
            "colorscale": [
             [
              0,
              "#0d0887"
             ],
             [
              0.1111111111111111,
              "#46039f"
             ],
             [
              0.2222222222222222,
              "#7201a8"
             ],
             [
              0.3333333333333333,
              "#9c179e"
             ],
             [
              0.4444444444444444,
              "#bd3786"
             ],
             [
              0.5555555555555556,
              "#d8576b"
             ],
             [
              0.6666666666666666,
              "#ed7953"
             ],
             [
              0.7777777777777778,
              "#fb9f3a"
             ],
             [
              0.8888888888888888,
              "#fdca26"
             ],
             [
              1,
              "#f0f921"
             ]
            ],
            "type": "heatmap"
           }
          ],
          "histogram": [
           {
            "marker": {
             "pattern": {
              "fillmode": "overlay",
              "size": 10,
              "solidity": 0.2
             }
            },
            "type": "histogram"
           }
          ],
          "histogram2d": [
           {
            "colorbar": {
             "outlinewidth": 0,
             "ticks": ""
            },
            "colorscale": [
             [
              0,
              "#0d0887"
             ],
             [
              0.1111111111111111,
              "#46039f"
             ],
             [
              0.2222222222222222,
              "#7201a8"
             ],
             [
              0.3333333333333333,
              "#9c179e"
             ],
             [
              0.4444444444444444,
              "#bd3786"
             ],
             [
              0.5555555555555556,
              "#d8576b"
             ],
             [
              0.6666666666666666,
              "#ed7953"
             ],
             [
              0.7777777777777778,
              "#fb9f3a"
             ],
             [
              0.8888888888888888,
              "#fdca26"
             ],
             [
              1,
              "#f0f921"
             ]
            ],
            "type": "histogram2d"
           }
          ],
          "histogram2dcontour": [
           {
            "colorbar": {
             "outlinewidth": 0,
             "ticks": ""
            },
            "colorscale": [
             [
              0,
              "#0d0887"
             ],
             [
              0.1111111111111111,
              "#46039f"
             ],
             [
              0.2222222222222222,
              "#7201a8"
             ],
             [
              0.3333333333333333,
              "#9c179e"
             ],
             [
              0.4444444444444444,
              "#bd3786"
             ],
             [
              0.5555555555555556,
              "#d8576b"
             ],
             [
              0.6666666666666666,
              "#ed7953"
             ],
             [
              0.7777777777777778,
              "#fb9f3a"
             ],
             [
              0.8888888888888888,
              "#fdca26"
             ],
             [
              1,
              "#f0f921"
             ]
            ],
            "type": "histogram2dcontour"
           }
          ],
          "mesh3d": [
           {
            "colorbar": {
             "outlinewidth": 0,
             "ticks": ""
            },
            "type": "mesh3d"
           }
          ],
          "parcoords": [
           {
            "line": {
             "colorbar": {
              "outlinewidth": 0,
              "ticks": ""
             }
            },
            "type": "parcoords"
           }
          ],
          "pie": [
           {
            "automargin": true,
            "type": "pie"
           }
          ],
          "scatter": [
           {
            "fillpattern": {
             "fillmode": "overlay",
             "size": 10,
             "solidity": 0.2
            },
            "type": "scatter"
           }
          ],
          "scatter3d": [
           {
            "line": {
             "colorbar": {
              "outlinewidth": 0,
              "ticks": ""
             }
            },
            "marker": {
             "colorbar": {
              "outlinewidth": 0,
              "ticks": ""
             }
            },
            "type": "scatter3d"
           }
          ],
          "scattercarpet": [
           {
            "marker": {
             "colorbar": {
              "outlinewidth": 0,
              "ticks": ""
             }
            },
            "type": "scattercarpet"
           }
          ],
          "scattergeo": [
           {
            "marker": {
             "colorbar": {
              "outlinewidth": 0,
              "ticks": ""
             }
            },
            "type": "scattergeo"
           }
          ],
          "scattergl": [
           {
            "marker": {
             "colorbar": {
              "outlinewidth": 0,
              "ticks": ""
             }
            },
            "type": "scattergl"
           }
          ],
          "scattermap": [
           {
            "marker": {
             "colorbar": {
              "outlinewidth": 0,
              "ticks": ""
             }
            },
            "type": "scattermap"
           }
          ],
          "scattermapbox": [
           {
            "marker": {
             "colorbar": {
              "outlinewidth": 0,
              "ticks": ""
             }
            },
            "type": "scattermapbox"
           }
          ],
          "scatterpolar": [
           {
            "marker": {
             "colorbar": {
              "outlinewidth": 0,
              "ticks": ""
             }
            },
            "type": "scatterpolar"
           }
          ],
          "scatterpolargl": [
           {
            "marker": {
             "colorbar": {
              "outlinewidth": 0,
              "ticks": ""
             }
            },
            "type": "scatterpolargl"
           }
          ],
          "scatterternary": [
           {
            "marker": {
             "colorbar": {
              "outlinewidth": 0,
              "ticks": ""
             }
            },
            "type": "scatterternary"
           }
          ],
          "surface": [
           {
            "colorbar": {
             "outlinewidth": 0,
             "ticks": ""
            },
            "colorscale": [
             [
              0,
              "#0d0887"
             ],
             [
              0.1111111111111111,
              "#46039f"
             ],
             [
              0.2222222222222222,
              "#7201a8"
             ],
             [
              0.3333333333333333,
              "#9c179e"
             ],
             [
              0.4444444444444444,
              "#bd3786"
             ],
             [
              0.5555555555555556,
              "#d8576b"
             ],
             [
              0.6666666666666666,
              "#ed7953"
             ],
             [
              0.7777777777777778,
              "#fb9f3a"
             ],
             [
              0.8888888888888888,
              "#fdca26"
             ],
             [
              1,
              "#f0f921"
             ]
            ],
            "type": "surface"
           }
          ],
          "table": [
           {
            "cells": {
             "fill": {
              "color": "#EBF0F8"
             },
             "line": {
              "color": "white"
             }
            },
            "header": {
             "fill": {
              "color": "#C8D4E3"
             },
             "line": {
              "color": "white"
             }
            },
            "type": "table"
           }
          ]
         },
         "layout": {
          "annotationdefaults": {
           "arrowcolor": "#2a3f5f",
           "arrowhead": 0,
           "arrowwidth": 1
          },
          "autotypenumbers": "strict",
          "coloraxis": {
           "colorbar": {
            "outlinewidth": 0,
            "ticks": ""
           }
          },
          "colorscale": {
           "diverging": [
            [
             0,
             "#8e0152"
            ],
            [
             0.1,
             "#c51b7d"
            ],
            [
             0.2,
             "#de77ae"
            ],
            [
             0.3,
             "#f1b6da"
            ],
            [
             0.4,
             "#fde0ef"
            ],
            [
             0.5,
             "#f7f7f7"
            ],
            [
             0.6,
             "#e6f5d0"
            ],
            [
             0.7,
             "#b8e186"
            ],
            [
             0.8,
             "#7fbc41"
            ],
            [
             0.9,
             "#4d9221"
            ],
            [
             1,
             "#276419"
            ]
           ],
           "sequential": [
            [
             0,
             "#0d0887"
            ],
            [
             0.1111111111111111,
             "#46039f"
            ],
            [
             0.2222222222222222,
             "#7201a8"
            ],
            [
             0.3333333333333333,
             "#9c179e"
            ],
            [
             0.4444444444444444,
             "#bd3786"
            ],
            [
             0.5555555555555556,
             "#d8576b"
            ],
            [
             0.6666666666666666,
             "#ed7953"
            ],
            [
             0.7777777777777778,
             "#fb9f3a"
            ],
            [
             0.8888888888888888,
             "#fdca26"
            ],
            [
             1,
             "#f0f921"
            ]
           ],
           "sequentialminus": [
            [
             0,
             "#0d0887"
            ],
            [
             0.1111111111111111,
             "#46039f"
            ],
            [
             0.2222222222222222,
             "#7201a8"
            ],
            [
             0.3333333333333333,
             "#9c179e"
            ],
            [
             0.4444444444444444,
             "#bd3786"
            ],
            [
             0.5555555555555556,
             "#d8576b"
            ],
            [
             0.6666666666666666,
             "#ed7953"
            ],
            [
             0.7777777777777778,
             "#fb9f3a"
            ],
            [
             0.8888888888888888,
             "#fdca26"
            ],
            [
             1,
             "#f0f921"
            ]
           ]
          },
          "colorway": [
           "#636efa",
           "#EF553B",
           "#00cc96",
           "#ab63fa",
           "#FFA15A",
           "#19d3f3",
           "#FF6692",
           "#B6E880",
           "#FF97FF",
           "#FECB52"
          ],
          "font": {
           "color": "#2a3f5f"
          },
          "geo": {
           "bgcolor": "white",
           "lakecolor": "white",
           "landcolor": "#E5ECF6",
           "showlakes": true,
           "showland": true,
           "subunitcolor": "white"
          },
          "hoverlabel": {
           "align": "left"
          },
          "hovermode": "closest",
          "mapbox": {
           "style": "light"
          },
          "paper_bgcolor": "white",
          "plot_bgcolor": "#E5ECF6",
          "polar": {
           "angularaxis": {
            "gridcolor": "white",
            "linecolor": "white",
            "ticks": ""
           },
           "bgcolor": "#E5ECF6",
           "radialaxis": {
            "gridcolor": "white",
            "linecolor": "white",
            "ticks": ""
           }
          },
          "scene": {
           "xaxis": {
            "backgroundcolor": "#E5ECF6",
            "gridcolor": "white",
            "gridwidth": 2,
            "linecolor": "white",
            "showbackground": true,
            "ticks": "",
            "zerolinecolor": "white"
           },
           "yaxis": {
            "backgroundcolor": "#E5ECF6",
            "gridcolor": "white",
            "gridwidth": 2,
            "linecolor": "white",
            "showbackground": true,
            "ticks": "",
            "zerolinecolor": "white"
           },
           "zaxis": {
            "backgroundcolor": "#E5ECF6",
            "gridcolor": "white",
            "gridwidth": 2,
            "linecolor": "white",
            "showbackground": true,
            "ticks": "",
            "zerolinecolor": "white"
           }
          },
          "shapedefaults": {
           "line": {
            "color": "#2a3f5f"
           }
          },
          "ternary": {
           "aaxis": {
            "gridcolor": "white",
            "linecolor": "white",
            "ticks": ""
           },
           "baxis": {
            "gridcolor": "white",
            "linecolor": "white",
            "ticks": ""
           },
           "bgcolor": "#E5ECF6",
           "caxis": {
            "gridcolor": "white",
            "linecolor": "white",
            "ticks": ""
           }
          },
          "title": {
           "x": 0.05
          },
          "xaxis": {
           "automargin": true,
           "gridcolor": "white",
           "linecolor": "white",
           "ticks": "",
           "title": {
            "standoff": 15
           },
           "zerolinecolor": "white",
           "zerolinewidth": 2
          },
          "yaxis": {
           "automargin": true,
           "gridcolor": "white",
           "linecolor": "white",
           "ticks": "",
           "title": {
            "standoff": 15
           },
           "zerolinecolor": "white",
           "zerolinewidth": 2
          }
         }
        },
        "title": {
         "font": {
          "size": 18
         },
         "text": "Simulation 1 - Combined Network (6287 interactions)",
         "x": 0.5
        },
        "width": 1600,
        "xaxis": {
         "showgrid": false,
         "showticklabels": false,
         "zeroline": false
        },
        "yaxis": {
         "showgrid": false,
         "showticklabels": false,
         "zeroline": false
        }
       }
      }
     },
     "metadata": {},
     "output_type": "display_data"
    }
   ],
   "source": [
    "import networkx as nx\n",
    "import plotly.graph_objects as go\n",
    "import plotly.express as px\n",
    "from collections import defaultdict, Counter\n",
    "import matplotlib.cm as cm\n",
    "import matplotlib.colors as mcolors\n",
    "\n",
    "\n",
    "def create_network_graph(sim_data, interaction_filter=None):\n",
    "    \"\"\"\n",
    "    Create network graph with optional interaction filtering.\n",
    "\n",
    "    Args:\n",
    "        sim_data: Simulation data\n",
    "        interaction_filter: 'REPLY', 'LIKE', or None for all interactions\n",
    "    \"\"\"\n",
    "    all_agents = get_all_agents(sim_data)\n",
    "    voters = get_voter_agents(sim_data)\n",
    "    ids_search_pool = initialize_id_searching_name(sim_data)\n",
    "    actions = get_all_actions_by_model(sim_data, ids_search_pool)\n",
    "\n",
    "    # Filter actions if specified\n",
    "    if interaction_filter:\n",
    "        actions = [\n",
    "            action for action in actions if action[\"action\"] == interaction_filter\n",
    "        ]\n",
    "\n",
    "    # Create directed graph\n",
    "    G = nx.DiGraph()\n",
    "    for agent_name, agent_data in all_agents.items():\n",
    "        agent_type = \"voter\" if agent_name in voters else \"candidate\"\n",
    "        G.add_node(agent_name, type=agent_type, data=agent_data)\n",
    "\n",
    "    # Count interactions and add edges\n",
    "    interaction_counts = defaultdict(int)\n",
    "    for action in actions:\n",
    "        from_agent = action[\"from\"]\n",
    "        to_agent = action[\"to\"]\n",
    "        if from_agent in all_agents and to_agent in all_agents:\n",
    "            interaction_counts[(from_agent, to_agent)] += 1\n",
    "\n",
    "    # Add edges with weights\n",
    "    for (from_agent, to_agent), count in interaction_counts.items():\n",
    "        G.add_edge(from_agent, to_agent, weight=count)\n",
    "\n",
    "    # Calculate interaction counts for node sizing\n",
    "    incoming_counts = defaultdict(int)\n",
    "    outgoing_counts = defaultdict(int)\n",
    "    for (from_agent, to_agent), count in interaction_counts.items():\n",
    "        incoming_counts[to_agent] += count\n",
    "        outgoing_counts[from_agent] += count\n",
    "\n",
    "    # Add counts to node attributes\n",
    "    for node in G.nodes():\n",
    "        G.nodes[node][\"incoming_count\"] = incoming_counts.get(node, 0)\n",
    "        G.nodes[node][\"outgoing_count\"] = outgoing_counts.get(node, 0)\n",
    "\n",
    "    return G, interaction_counts\n",
    "\n",
    "\n",
    "def get_master_layout(sim_data, seed=42):\n",
    "    \"\"\"Create a consistent layout based on all agents, to be used across all graphs.\"\"\"\n",
    "    all_agents = get_all_agents(sim_data)\n",
    "\n",
    "    # Create a graph with all agents for consistent positioning\n",
    "    master_graph = nx.Graph()\n",
    "    for agent_name in all_agents.keys():\n",
    "        master_graph.add_node(agent_name)\n",
    "\n",
    "    # Generate layout that will be consistent across all visualizations\n",
    "    return nx.spring_layout(master_graph, k=3, iterations=100, seed=seed)\n",
    "\n",
    "\n",
    "def create_edge_traces(G, pos, sim_data):\n",
    "    \"\"\"Create edge traces with similarity-based coloring.\"\"\"\n",
    "    color_palette = [\n",
    "        \"#67001f\",\n",
    "        \"#b2182b\",\n",
    "        \"#d6604d\",\n",
    "        \"#f4a582\",\n",
    "        \"#fddbc7\",\n",
    "        \"#d1e5f0\",\n",
    "        \"#92c5de\",\n",
    "        \"#4393c3\",\n",
    "        \"#2166ac\",\n",
    "        \"#053061\",\n",
    "    ]\n",
    "\n",
    "    all_agents = get_all_agents(sim_data)\n",
    "    edge_traces = []\n",
    "    similarities = []\n",
    "\n",
    "    # Calculate similarities for color scaling\n",
    "    for edge in G.edges(data=True):\n",
    "        from_agent, to_agent, edge_attr = edge\n",
    "        from_profile = all_agents.get(from_agent, {})\n",
    "        to_profile = all_agents.get(to_agent, {})\n",
    "        similarity = calculate_similarity(from_profile, to_profile)\n",
    "        similarities.append(similarity)\n",
    "\n",
    "    # Normalize similarities for color mapping\n",
    "    min_sim = min(similarities) if similarities else 0\n",
    "    max_sim = max(similarities) if similarities else 1\n",
    "    sim_range = max_sim - min_sim if max_sim > min_sim else 1\n",
    "\n",
    "    # Create edge traces\n",
    "    for i, (edge, similarity) in enumerate(zip(G.edges(data=True), similarities)):\n",
    "        from_agent, to_agent, edge_attr = edge\n",
    "        weight = edge_attr[\"weight\"]\n",
    "\n",
    "        x0, y0 = pos[from_agent]\n",
    "        x1, y1 = pos[to_agent]\n",
    "\n",
    "        # Map similarity to color\n",
    "        normalized_sim = (similarity - min_sim) / sim_range if sim_range > 0 else 0.5\n",
    "        color_index = int(normalized_sim * (len(color_palette) - 1))\n",
    "        color_index = max(0, min(len(color_palette) - 1, color_index))\n",
    "\n",
    "        hex_color = color_palette[color_index].lstrip(\"#\")\n",
    "        r, g, b = tuple(int(hex_color[i : i + 2], 16) for i in (0, 2, 4))\n",
    "        edge_color = f\"rgba({r}, {g}, {b}, 0.7)\"\n",
    "\n",
    "        # Scale line width based on interaction count\n",
    "        line_width = max(1, min(10, weight / 3))\n",
    "\n",
    "        edge_traces.append(\n",
    "            go.Scatter(\n",
    "                x=[x0, x1, None],\n",
    "                y=[y0, y1, None],\n",
    "                mode=\"lines\",\n",
    "                line=dict(width=line_width, color=edge_color),\n",
    "                hovertemplate=f\"<b>{from_agent} → {to_agent}</b><br>\"\n",
    "                f\"Interactions: {weight}<br>\"\n",
    "                f\"Similarity: {similarity:.3f}<extra></extra>\",\n",
    "                showlegend=False,\n",
    "            )\n",
    "        )\n",
    "\n",
    "    return edge_traces, (min_sim, max_sim)\n",
    "\n",
    "\n",
    "def create_node_traces(G, pos, all_agents):\n",
    "    \"\"\"Create node traces with size based on incoming interactions.\"\"\"\n",
    "    incoming_counts = [G.nodes[node].get(\"incoming_count\", 0) for node in G.nodes()]\n",
    "    min_incoming = min(incoming_counts) if incoming_counts else 0\n",
    "    max_incoming = max(incoming_counts) if incoming_counts else 0\n",
    "\n",
    "    node_traces = []\n",
    "\n",
    "    # Show all agents in the same positions, even if they don't have interactions in this specific graph\n",
    "    for agent_name in all_agents.keys():\n",
    "        x, y = pos[agent_name]\n",
    "\n",
    "        # Get interaction counts if the node exists in this graph, otherwise 0\n",
    "        if agent_name in G.nodes():\n",
    "            incoming_count = G.nodes[agent_name].get(\"incoming_count\", 0)\n",
    "            outgoing_count = G.nodes[agent_name].get(\"outgoing_count\", 0)\n",
    "            node_type = G.nodes[agent_name].get(\"type\", \"unknown\")\n",
    "        else:\n",
    "            incoming_count = 0\n",
    "            outgoing_count = 0\n",
    "            # Determine type from all_agents data\n",
    "            node_type = (\n",
    "                \"voter\" if agent_name in get_voter_agents(sim_data) else \"candidate\"\n",
    "            )\n",
    "\n",
    "        # Calculate node size based on incoming interactions\n",
    "        if max_incoming > min_incoming and max_incoming > 0:\n",
    "            size_range = 80 - 15\n",
    "            normalized_incoming = (incoming_count - min_incoming) / (\n",
    "                max_incoming - min_incoming\n",
    "            )\n",
    "            size = 15 + (normalized_incoming * size_range)\n",
    "        else:\n",
    "            size = (\n",
    "                30 if incoming_count > 0 else 15\n",
    "            )  # Smaller size for nodes with no interactions\n",
    "\n",
    "        # Format display name for long names\n",
    "        display_name = (\n",
    "            agent_name.replace(\" \", \"\\n\") if len(agent_name) > 12 else agent_name\n",
    "        )\n",
    "        node_color = \"#2166ac\" if node_type == \"voter\" else \"#b2182b\"\n",
    "\n",
    "        # Make nodes with no interactions more transparent\n",
    "        opacity = 0.25\n",
    "\n",
    "        node_traces.append(\n",
    "            go.Scatter(\n",
    "                x=[x],\n",
    "                y=[y],\n",
    "                mode=\"markers+text\",\n",
    "                marker=dict(\n",
    "                    size=size,\n",
    "                    color=node_color,\n",
    "                    line=dict(width=2, color=\"white\"),\n",
    "                    opacity=opacity,\n",
    "                ),\n",
    "                text=display_name,\n",
    "                textposition=\"middle center\",\n",
    "                textfont=dict(\n",
    "                    size=max(8, min(12, size / 10)),\n",
    "                    color=\"black\",\n",
    "                    family=\"Arial Black\",\n",
    "                ),\n",
    "                showlegend=False,\n",
    "                hovertemplate=f\"<b>{agent_name}</b><br>\"\n",
    "                f\"Type: {node_type}<br>\"\n",
    "                f\"Incoming: {incoming_count}<br>\"\n",
    "                f\"Outgoing: {outgoing_count}<extra></extra>\",\n",
    "            )\n",
    "        )\n",
    "\n",
    "    return node_traces\n",
    "\n",
    "\n",
    "def create_network_visualization(G, sim_data, title, master_pos):\n",
    "    \"\"\"Create interactive network visualization using consistent layout.\"\"\"\n",
    "    all_agents = get_all_agents(sim_data)\n",
    "\n",
    "    edge_traces, (min_sim, max_sim) = create_edge_traces(G, master_pos, sim_data)\n",
    "    node_traces = create_node_traces(G, master_pos, all_agents)\n",
    "\n",
    "    fig = go.Figure(data=edge_traces + node_traces)\n",
    "\n",
    "    # Add color scale for edge similarity\n",
    "    colorscale = [\n",
    "        [i / 9, color]\n",
    "        for i, color in enumerate(\n",
    "            [\n",
    "                \"#67001f\",\n",
    "                \"#b2182b\",\n",
    "                \"#d6604d\",\n",
    "                \"#f4a582\",\n",
    "                \"#fddbc7\",\n",
    "                \"#d1e5f0\",\n",
    "                \"#92c5de\",\n",
    "                \"#4393c3\",\n",
    "                \"#2166ac\",\n",
    "                \"#053061\",\n",
    "            ]\n",
    "        )\n",
    "    ]\n",
    "\n",
    "    fig.add_trace(\n",
    "        go.Scatter(\n",
    "            x=[None],\n",
    "            y=[None],\n",
    "            mode=\"markers\",\n",
    "            marker=dict(\n",
    "                size=0,\n",
    "                color=[min_sim, max_sim],\n",
    "                colorscale=colorscale,\n",
    "                showscale=True,\n",
    "                colorbar=dict(\n",
    "                    title=dict(text=\"Edge Similarity\", side=\"right\"),\n",
    "                    thickness=15,\n",
    "                    len=0.7,\n",
    "                    x=1.02,\n",
    "                ),\n",
    "            ),\n",
    "            showlegend=False,\n",
    "            hoverinfo=\"skip\",\n",
    "        )\n",
    "    )\n",
    "\n",
    "    # Add legend items\n",
    "    fig.add_trace(\n",
    "        go.Scatter(\n",
    "            x=[None],\n",
    "            y=[None],\n",
    "            mode=\"markers\",\n",
    "            marker=dict(size=14, color=\"#2166ac\"),\n",
    "            name=\"Voters\",\n",
    "            showlegend=True,\n",
    "            textfont=dict(size=18),\n",
    "        )\n",
    "    )\n",
    "    fig.add_trace(\n",
    "        go.Scatter(\n",
    "            x=[None],\n",
    "            y=[None],\n",
    "            mode=\"markers\",\n",
    "            marker=dict(size=14, color=\"#b2182b\"),\n",
    "            name=\"Candidates\",\n",
    "            showlegend=True,\n",
    "            textfont=dict(size=18),\n",
    "        )\n",
    "    )\n",
    "\n",
    "    # Calculate total interactions for title\n",
    "    total_interactions = sum(data[\"weight\"] for _, _, data in G.edges(data=True))\n",
    "\n",
    "    fig.update_layout(\n",
    "        title=dict(\n",
    "            text=f\"{title} ({total_interactions} interactions)\",\n",
    "            x=0.5,\n",
    "            font=dict(size=18),\n",
    "        ),\n",
    "        showlegend=True,\n",
    "        hovermode=\"closest\",\n",
    "        margin=dict(b=20, l=5, r=50, t=40),\n",
    "        annotations=[\n",
    "            dict(\n",
    "                text=\"Node size = incoming interactions<br>\"\n",
    "                \"Edge width = interaction count<br>\"\n",
    "                \"Edge color = similarity (dark red=low, dark blue=high)<br>\",\n",
    "                showarrow=False,\n",
    "                xref=\"paper\",\n",
    "                yref=\"paper\",\n",
    "                x=0.005,\n",
    "                y=-0.002,\n",
    "                xanchor=\"left\",\n",
    "                yanchor=\"bottom\",\n",
    "                font=dict(size=14),\n",
    "            )\n",
    "        ],\n",
    "        xaxis=dict(showgrid=False, zeroline=False, showticklabels=False),\n",
    "        yaxis=dict(showgrid=False, zeroline=False, showticklabels=False),\n",
    "        plot_bgcolor=\"white\",\n",
    "        width=1600,\n",
    "        height=800,\n",
    "    )\n",
    "\n",
    "    return fig\n",
    "\n",
    "\n",
    "def analyze_simulation_networks(sim_data, sim_index=0):\n",
    "    \"\"\"Create three separate network visualizations: REPLY only, LIKE only, and COMBINED.\"\"\"\n",
    "    print(f\"\\n{'='*60}\")\n",
    "    print(f\"SIMULATION {sim_index+1} - NETWORK ANALYSIS\")\n",
    "    print(f\"{'='*60}\")\n",
    "\n",
    "    # Create master layout that will be consistent across all graphs\n",
    "    master_pos = get_master_layout(sim_data, seed=42)\n",
    "    print(f\"Using consistent layout for {len(master_pos)} agents\")\n",
    "\n",
    "    network_types = [\n",
    "        (\"REPLY\", \"Reply Network\"),\n",
    "        (\"LIKE\", \"Like Network\"),\n",
    "        (None, \"Combined Network\"),\n",
    "    ]\n",
    "\n",
    "    results = {}\n",
    "\n",
    "    for filter_type, network_name in network_types:\n",
    "        print(f\"\\n{network_name}:\")\n",
    "\n",
    "        # Create network graph\n",
    "        G, interaction_counts = create_network_graph(sim_data, filter_type)\n",
    "\n",
    "        # Calculate network statistics\n",
    "        total_interactions = sum(interaction_counts.values())\n",
    "        stats = {\n",
    "            \"nodes\": G.number_of_nodes(),\n",
    "            \"edges\": G.number_of_edges(),\n",
    "            \"total_interactions\": total_interactions,\n",
    "            \"density\": nx.density(G),\n",
    "            \"is_connected\": nx.is_weakly_connected(G),\n",
    "        }\n",
    "\n",
    "        # Print statistics\n",
    "        print(f\"  Nodes: {stats['nodes']}, Edges: {stats['edges']}\")\n",
    "        print(f\"  Total interactions: {stats['total_interactions']}\")\n",
    "        print(f\"  Network density: {stats['density']:.3f}\")\n",
    "        print(f\"  Is connected: {stats['is_connected']}\")\n",
    "\n",
    "        # Create and show visualization using consistent layout\n",
    "        title = f\"Simulation {sim_index+1} - {network_name}\"\n",
    "        fig = create_network_visualization(G, sim_data, title, master_pos)\n",
    "        fig.show()\n",
    "\n",
    "        # Store results\n",
    "        results[filter_type or \"COMBINED\"] = {\n",
    "            \"graph\": G,\n",
    "            \"stats\": stats,\n",
    "            \"interactions\": interaction_counts,\n",
    "        }\n",
    "\n",
    "    return results\n",
    "\n",
    "\n",
    "# Create network visualizations\n",
    "print(\"Creating three separate network visualizations:\")\n",
    "print(\"1. REPLY interactions only\")\n",
    "print(\"2. LIKE interactions only\")\n",
    "print(\"3. COMBINED interactions (both replies and likes)\")\n",
    "\n",
    "sim_results = analyze_simulation_networks(sim_data, 0)"
   ]
  }
 ],
 "metadata": {
  "kernelspec": {
   "display_name": ".venv",
   "language": "python",
   "name": "python3"
  },
  "language_info": {
   "codemirror_mode": {
    "name": "ipython",
    "version": 3
   },
   "file_extension": ".py",
   "mimetype": "text/x-python",
   "name": "python",
   "nbconvert_exporter": "python",
   "pygments_lexer": "ipython3",
   "version": "3.12.2"
  }
 },
 "nbformat": 4,
 "nbformat_minor": 5
}
